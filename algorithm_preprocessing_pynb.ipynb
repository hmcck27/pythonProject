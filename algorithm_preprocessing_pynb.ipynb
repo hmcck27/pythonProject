{
  "nbformat": 4,
  "nbformat_minor": 0,
  "metadata": {
    "colab": {
      "name": "algorithm_preprocessing.pynb",
      "provenance": [],
      "collapsed_sections": [],
      "authorship_tag": "ABX9TyNImX6VlYeiXgjGkS6FLh5p",
      "include_colab_link": true
    },
    "kernelspec": {
      "name": "python3",
      "display_name": "Python 3"
    },
    "language_info": {
      "name": "python"
    }
  },
  "cells": [
    {
      "cell_type": "markdown",
      "metadata": {
        "id": "view-in-github",
        "colab_type": "text"
      },
      "source": [
        "<a href=\"https://colab.research.google.com/github/hmcck27/pythonProject/blob/jk/algorithm_preprocessing_pynb.ipynb\" target=\"_parent\"><img src=\"https://colab.research.google.com/assets/colab-badge.svg\" alt=\"Open In Colab\"/></a>"
      ]
    },
    {
      "cell_type": "markdown",
      "metadata": {
        "id": "EYb7YPo9RnxP"
      },
      "source": [
        "**This is the code for preprocessing corpus of Algorithm dataset**\n",
        "\n",
        "\n",
        "step for preprocessing\n",
        "1. csv 파일을 pandas dataframe으로 변환한다.\n",
        "2. description의 \\n, \\t을 제거\n",
        "3. 각 지문별 길이 파익해서 visualize\n",
        "4. 중복되는 문제 수 파악\n",
        "5. remove english 지문\n",
        "6. 우리가 정한 라벨 이외의 것들은 제거\n",
        "7. 문제들간에 여러 알고리즘을 갖는 문제들이 있는지 체크 -> 이 친구들은 어떻게 해야할지 따로 상의해봐야할듯\n",
        "7. 여러 버전의 전처리 데이터 셋을 만든다.\n",
        "\n",
        "version \n",
        "1. 영어 제거 버전\n",
        "2. 수식 제거 버전 -> 정규식을 이용해서 제거 ( 참고 자료 : [링크 텍스트](https://wikidocs.net/21703))\n",
        "3. 수식을 텍스트로 변환 -> 이건 다양하게 버전을 만들어야 ! 회의 때 어떤 수식이 있는지 조사해 오기\n",
        "\n"
      ]
    },
    {
      "cell_type": "markdown",
      "metadata": {
        "id": "amPt_6tSVDyq"
      },
      "source": [
        "**필요한 라이브러리 import**"
      ]
    },
    {
      "cell_type": "code",
      "metadata": {
        "id": "4VZlZ634VGiv"
      },
      "source": [
        "import pandas as pd\n",
        "import matplotlib.pyplot as plt\n",
        "import numpy as np"
      ],
      "execution_count": 2,
      "outputs": []
    },
    {
      "cell_type": "markdown",
      "metadata": {
        "id": "uOsIvRRbTJeb"
      },
      "source": [
        "**구글 드라이브 마운트**"
      ]
    },
    {
      "cell_type": "code",
      "metadata": {
        "colab": {
          "base_uri": "https://localhost:8080/"
        },
        "id": "znYyjlc3TBzY",
        "outputId": "f7db1154-78af-4041-9101-5d740eb96543"
      },
      "source": [
        "from google.colab import drive\n",
        "drive.mount(\"/gdrive\", force_remount=True)"
      ],
      "execution_count": 3,
      "outputs": [
        {
          "output_type": "stream",
          "text": [
            "Mounted at /gdrive\n"
          ],
          "name": "stdout"
        }
      ]
    },
    {
      "cell_type": "markdown",
      "metadata": {
        "id": "fW7D6C2sVKeU"
      },
      "source": [
        "**pandas를 이용한 csv를 데이터프레임으로 변환**"
      ]
    },
    {
      "cell_type": "code",
      "metadata": {
        "id": "M6Heh4EfTQO6"
      },
      "source": [
        "df = pd.read_csv('/gdrive/My Drive/50625/problem1_df.csv')"
      ],
      "execution_count": null,
      "outputs": []
    },
    {
      "cell_type": "code",
      "metadata": {
        "id": "equVpm_90ycL"
      },
      "source": [
        "pd.set_option('display.max_columns',None)\n",
        "pd.set_option('display.max_rows',None)"
      ],
      "execution_count": null,
      "outputs": []
    },
    {
      "cell_type": "markdown",
      "metadata": {
        "id": "NhF8_nCC1G0v"
      },
      "source": [
        "**description, input, output 에서 엔터,탭 제거**"
      ]
    },
    {
      "cell_type": "code",
      "metadata": {
        "id": "f5ZH1tWk1K7Y"
      },
      "source": [
        "for i in df.index :\n",
        "    df.loc[i,\"description\"] = df.loc[i,\"description\"].replace('\\n',\"\")\n",
        "    df.loc[i,\"description\"] = df.loc[i,\"description\"].replace('\\t',\"\")\n",
        "    df.loc[i,\"input\"] = str(df.loc[i,\"input\"]).replace('\\n',\"\")\n",
        "    df.loc[i,\"input\"] = str(df.loc[i,\"input\"]).replace('\\t',\"\")\n",
        "    df.loc[i,\"output\"] = str(df.loc[i,\"output\"]).replace('\\n',\"\")\n",
        "    df.loc[i,\"output\"] = str(df.loc[i,\"output\"]).replace('\\t',\"\")\n"
      ],
      "execution_count": null,
      "outputs": []
    },
    {
      "cell_type": "code",
      "metadata": {
        "colab": {
          "base_uri": "https://localhost:8080/",
          "height": 359
        },
        "id": "i-FJjJzT0iRT",
        "outputId": "af73464c-2e1a-4dfa-e928-592810faa73f"
      },
      "source": [
        "df[5000:5010]\n",
        "df[0:10]"
      ],
      "execution_count": null,
      "outputs": [
        {
          "output_type": "execute_result",
          "data": {
            "text/html": [
              "<div>\n",
              "<style scoped>\n",
              "    .dataframe tbody tr th:only-of-type {\n",
              "        vertical-align: middle;\n",
              "    }\n",
              "\n",
              "    .dataframe tbody tr th {\n",
              "        vertical-align: top;\n",
              "    }\n",
              "\n",
              "    .dataframe thead th {\n",
              "        text-align: right;\n",
              "    }\n",
              "</style>\n",
              "<table border=\"1\" class=\"dataframe\">\n",
              "  <thead>\n",
              "    <tr style=\"text-align: right;\">\n",
              "      <th></th>\n",
              "      <th>tag</th>\n",
              "      <th>id</th>\n",
              "      <th>title</th>\n",
              "      <th>description</th>\n",
              "      <th>input</th>\n",
              "      <th>output</th>\n",
              "    </tr>\n",
              "  </thead>\n",
              "  <tbody>\n",
              "    <tr>\n",
              "      <th>0</th>\n",
              "      <td>Mathematics</td>\n",
              "      <td>1000</td>\n",
              "      <td>A+B</td>\n",
              "      <td>두 정수 A와 B를 입력받은 다음, A+B를 출력하는 프로그램을 작성하시오.</td>\n",
              "      <td>첫째 줄에 A와 B가 주어진다. (0 &lt; A, B &lt; 10)</td>\n",
              "      <td>첫째 줄에 A+B를 출력한다.</td>\n",
              "    </tr>\n",
              "    <tr>\n",
              "      <th>1</th>\n",
              "      <td>Mathematics</td>\n",
              "      <td>1001</td>\n",
              "      <td>A-B</td>\n",
              "      <td>두 정수 A와 B를 입력받은 다음, A-B를 출력하는 프로그램을 작성하시오.</td>\n",
              "      <td>첫째 줄에 A와 B가 주어진다. (0 &lt; A, B &lt; 10)</td>\n",
              "      <td>첫째 줄에 A-B를 출력한다.</td>\n",
              "    </tr>\n",
              "    <tr>\n",
              "      <th>2</th>\n",
              "      <td>Mathematics</td>\n",
              "      <td>10998</td>\n",
              "      <td>A×B</td>\n",
              "      <td>두 정수 A와 B를 입력받은 다음, A×B를 출력하는 프로그램을 작성하시오.</td>\n",
              "      <td>첫째 줄에 A와 B가 주어진다. (0 &lt; A, B &lt; 10)</td>\n",
              "      <td>첫째 줄에 A×B를 출력한다.</td>\n",
              "    </tr>\n",
              "    <tr>\n",
              "      <th>3</th>\n",
              "      <td>Mathematics</td>\n",
              "      <td>10869</td>\n",
              "      <td>사칙연산</td>\n",
              "      <td>두 자연수 A와 B가 주어진다. 이때, A+B, A-B, A*B, A/B(몫), A...</td>\n",
              "      <td>두 자연수 A와 B가 주어진다. (1 ≤ A, B ≤ 10,000)</td>\n",
              "      <td>첫째 줄에 A+B, 둘째 줄에 A-B, 셋째 줄에 A*B, 넷째 줄에 A/B, 다섯...</td>\n",
              "    </tr>\n",
              "    <tr>\n",
              "      <th>4</th>\n",
              "      <td>Mathematics</td>\n",
              "      <td>1008</td>\n",
              "      <td>A/B</td>\n",
              "      <td>두 정수 A와 B를 입력받은 다음, A/B를 출력하는 프로그램을 작성하시오.</td>\n",
              "      <td>첫째 줄에 A와 B가 주어진다. (0 &lt; A, B &lt; 10)</td>\n",
              "      <td>첫째 줄에 A/B를 출력한다. 실제 정답과 출력값의 절대오차 또는 상대오차가 10-...</td>\n",
              "    </tr>\n",
              "    <tr>\n",
              "      <th>5</th>\n",
              "      <td>Mathematics</td>\n",
              "      <td>2739</td>\n",
              "      <td>구구단</td>\n",
              "      <td>N을 입력받은 뒤, 구구단 N단을 출력하는 프로그램을 작성하시오. 출력 형식에 맞춰...</td>\n",
              "      <td>첫째 줄에 N이 주어진다. N은 1보다 크거나 같고, 9보다 작거나 같다.</td>\n",
              "      <td>출력형식과 같게 N*1부터 N*9까지 출력한다.</td>\n",
              "    </tr>\n",
              "    <tr>\n",
              "      <th>6</th>\n",
              "      <td>Mathematics</td>\n",
              "      <td>10430</td>\n",
              "      <td>나머지</td>\n",
              "      <td>(A+B)%C는 ((A%C) + (B%C))%C 와 같을까?(A×B)%C는 ((A%...</td>\n",
              "      <td>첫째 줄에 A, B, C가 순서대로 주어진다. (2 ≤ A, B, C ≤ 10000)</td>\n",
              "      <td>첫째 줄에 (A+B)%C, 둘째 줄에 ((A%C) + (B%C))%C, 셋째 줄에 ...</td>\n",
              "    </tr>\n",
              "    <tr>\n",
              "      <th>7</th>\n",
              "      <td>Mathematics</td>\n",
              "      <td>8393</td>\n",
              "      <td>합</td>\n",
              "      <td>n이 주어졌을 때, 1부터 n까지 합을 구하는 프로그램을 작성하시오.</td>\n",
              "      <td>첫째 줄에 n (1 ≤ n ≤ 10,000)이 주어진다.</td>\n",
              "      <td>1부터 n까지 합을 출력한다.</td>\n",
              "    </tr>\n",
              "    <tr>\n",
              "      <th>8</th>\n",
              "      <td>Mathematics</td>\n",
              "      <td>1330</td>\n",
              "      <td>두 수 비교하기</td>\n",
              "      <td>두 정수 A와 B가 주어졌을 때, A와 B를 비교하는 프로그램을 작성하시오.</td>\n",
              "      <td>첫째 줄에 A와 B가 주어진다. A와 B는 공백 한 칸으로 구분되어져 있다.</td>\n",
              "      <td>첫째 줄에 다음 세 가지 중 하나를 출력한다.A가 B보다 큰 경우에는 '&gt;'를 출력...</td>\n",
              "    </tr>\n",
              "    <tr>\n",
              "      <th>9</th>\n",
              "      <td>Mathematics</td>\n",
              "      <td>10871</td>\n",
              "      <td>X보다 작은 수</td>\n",
              "      <td>정수 N개로 이루어진 수열 A와 정수 X가 주어진다. 이때, A에서 X보다 작은 수...</td>\n",
              "      <td>첫째 줄에 N과 X가 주어진다. (1 ≤ N, X ≤ 10,000)둘째 줄에 수열 ...</td>\n",
              "      <td>X보다 작은 수를 입력받은 순서대로 공백으로 구분해 출력한다. X보다 작은 수는 적...</td>\n",
              "    </tr>\n",
              "  </tbody>\n",
              "</table>\n",
              "</div>"
            ],
            "text/plain": [
              "           tag     id     title  \\\n",
              "0  Mathematics   1000       A+B   \n",
              "1  Mathematics   1001       A-B   \n",
              "2  Mathematics  10998       A×B   \n",
              "3  Mathematics  10869      사칙연산   \n",
              "4  Mathematics   1008       A/B   \n",
              "5  Mathematics   2739       구구단   \n",
              "6  Mathematics  10430       나머지   \n",
              "7  Mathematics   8393         합   \n",
              "8  Mathematics   1330  두 수 비교하기   \n",
              "9  Mathematics  10871  X보다 작은 수   \n",
              "\n",
              "                                         description  \\\n",
              "0         두 정수 A와 B를 입력받은 다음, A+B를 출력하는 프로그램을 작성하시오.   \n",
              "1         두 정수 A와 B를 입력받은 다음, A-B를 출력하는 프로그램을 작성하시오.   \n",
              "2         두 정수 A와 B를 입력받은 다음, A×B를 출력하는 프로그램을 작성하시오.   \n",
              "3  두 자연수 A와 B가 주어진다. 이때, A+B, A-B, A*B, A/B(몫), A...   \n",
              "4         두 정수 A와 B를 입력받은 다음, A/B를 출력하는 프로그램을 작성하시오.   \n",
              "5  N을 입력받은 뒤, 구구단 N단을 출력하는 프로그램을 작성하시오. 출력 형식에 맞춰...   \n",
              "6  (A+B)%C는 ((A%C) + (B%C))%C 와 같을까?(A×B)%C는 ((A%...   \n",
              "7             n이 주어졌을 때, 1부터 n까지 합을 구하는 프로그램을 작성하시오.   \n",
              "8         두 정수 A와 B가 주어졌을 때, A와 B를 비교하는 프로그램을 작성하시오.   \n",
              "9  정수 N개로 이루어진 수열 A와 정수 X가 주어진다. 이때, A에서 X보다 작은 수...   \n",
              "\n",
              "                                               input  \\\n",
              "0                  첫째 줄에 A와 B가 주어진다. (0 < A, B < 10)   \n",
              "1                  첫째 줄에 A와 B가 주어진다. (0 < A, B < 10)   \n",
              "2                  첫째 줄에 A와 B가 주어진다. (0 < A, B < 10)   \n",
              "3              두 자연수 A와 B가 주어진다. (1 ≤ A, B ≤ 10,000)   \n",
              "4                  첫째 줄에 A와 B가 주어진다. (0 < A, B < 10)   \n",
              "5          첫째 줄에 N이 주어진다. N은 1보다 크거나 같고, 9보다 작거나 같다.   \n",
              "6    첫째 줄에 A, B, C가 순서대로 주어진다. (2 ≤ A, B, C ≤ 10000)   \n",
              "7                    첫째 줄에 n (1 ≤ n ≤ 10,000)이 주어진다.   \n",
              "8         첫째 줄에 A와 B가 주어진다. A와 B는 공백 한 칸으로 구분되어져 있다.   \n",
              "9  첫째 줄에 N과 X가 주어진다. (1 ≤ N, X ≤ 10,000)둘째 줄에 수열 ...   \n",
              "\n",
              "                                              output  \n",
              "0                                   첫째 줄에 A+B를 출력한다.  \n",
              "1                                   첫째 줄에 A-B를 출력한다.  \n",
              "2                                   첫째 줄에 A×B를 출력한다.  \n",
              "3  첫째 줄에 A+B, 둘째 줄에 A-B, 셋째 줄에 A*B, 넷째 줄에 A/B, 다섯...  \n",
              "4  첫째 줄에 A/B를 출력한다. 실제 정답과 출력값의 절대오차 또는 상대오차가 10-...  \n",
              "5                         출력형식과 같게 N*1부터 N*9까지 출력한다.  \n",
              "6  첫째 줄에 (A+B)%C, 둘째 줄에 ((A%C) + (B%C))%C, 셋째 줄에 ...  \n",
              "7                                   1부터 n까지 합을 출력한다.  \n",
              "8  첫째 줄에 다음 세 가지 중 하나를 출력한다.A가 B보다 큰 경우에는 '>'를 출력...  \n",
              "9  X보다 작은 수를 입력받은 순서대로 공백으로 구분해 출력한다. X보다 작은 수는 적...  "
            ]
          },
          "metadata": {
            "tags": []
          },
          "execution_count": 99
        }
      ]
    },
    {
      "cell_type": "markdown",
      "metadata": {
        "id": "KQYxH3oc0OpU"
      },
      "source": [
        "**지문 길이 체크**\n",
        "\n",
        "- 여기서는 전체 지문의 길이를 체크한다.\n",
        "- 숫자가 많아서 지문이 길거나, 영어 지문 때문에 이렇게 길게 체크 되는듯.\n",
        "- 나중에 영어 지문 제외하고 다시 돌려보자"
      ]
    },
    {
      "cell_type": "code",
      "metadata": {
        "colab": {
          "base_uri": "https://localhost:8080/",
          "height": 279
        },
        "id": "cZw5noQf0RYc",
        "outputId": "9eab7cc7-1320-47b2-d372-3a867ce90680"
      },
      "source": [
        "X_data = list()\n",
        "len(df.index)\n",
        "for x in range(len(df.index)) :\n",
        "    X_data.append(len(df[\"description\"].iloc[x]))\n",
        "\n",
        "plt.hist([int(s/10)*10 for s in X_data], bins=50)\n",
        "plt.xlabel('length of samples')\n",
        "plt.ylabel('number of samples')\n",
        "plt.show()"
      ],
      "execution_count": null,
      "outputs": [
        {
          "output_type": "display_data",
          "data": {
            "image/png": "[encoded data removed]",
            "text/plain": [
              "<Figure size 432x288 with 1 Axes>"
            ]
          },
          "metadata": {
            "tags": [],
            "needs_background": "light"
          }
        }
      ]
    },
    {
      "cell_type": "markdown",
      "metadata": {
        "id": "quiVXd_xj7GX"
      },
      "source": [
        "**중복 지문 체크**\n",
        "\n",
        "약 14158개의 지문이 중복된다. 즉 순수하게 하나만 존재하는 지문은 약 7000개 정도"
      ]
    },
    {
      "cell_type": "code",
      "metadata": {
        "colab": {
          "base_uri": "https://localhost:8080/"
        },
        "id": "yPDe_29ylc0S",
        "outputId": "c7974ce4-c61e-4a37-e12c-99edbc06a209"
      },
      "source": [
        "df_temp = pd.DataFrame(df[\"id\"])\n",
        "dup_data = df_temp.duplicated([\"id\"])\n",
        "count = 0\n",
        "for i in dup_data :\n",
        "    if (i is True) :\n",
        "        count+=1\n",
        "print(count)\n",
        "\n"
      ],
      "execution_count": null,
      "outputs": [
        {
          "output_type": "stream",
          "text": [
            "14158\n"
          ],
          "name": "stdout"
        }
      ]
    },
    {
      "cell_type": "markdown",
      "metadata": {
        "id": "xpiXdbPwjsi6"
      },
      "source": [
        "**영어 지문 제거 코드**\n",
        "1. iterate하면서 description column이 영어로 이루어져 있는 항목 제거"
      ]
    },
    {
      "cell_type": "code",
      "metadata": {
        "colab": {
          "base_uri": "https://localhost:8080/"
        },
        "id": "ii2OyGJFjvh-",
        "outputId": "3447aaa5-2722-4158-ac23-b387236779b0"
      },
      "source": [
        "import re\n",
        "\n",
        "def check_korean(check_string) :\n",
        "    hanCount = len(re.findall(u'[\\u3130-\\u318F\\uAC00-\\uD7A3]+', check_string))\n",
        "    return hanCount > 0\n",
        "\n",
        "only_english_list = []\n",
        "\n",
        "for i in df.index :\n",
        "    if not check_korean(df.loc[i,\"description\"]) :\n",
        "        only_english_list.append(i)\n",
        "\n",
        "print(only_english_list)\n",
        "df.index\n",
        "df_drop_english = df.drop(only_english_list)\n",
        "df_drop_english.set_index('id', inplace=True)\n",
        "# df_drop_english.loc[255,\"description\"]"
      ],
      "execution_count": null,
      "outputs": [
        {
          "output_type": "stream",
          "text": [
            "[255, 274, 292, 306, 361, 372, 373, 377, 384, 410, 414, 423, 424, 433, 441, 443, 444, 487, 504, 505, 510, 519, 525, 526, 529, 545, 546, 548, 551, 560, 571, 587, 591, 593, 603, 613, 617, 620, 624, 626, 629, 637, 641, 643, 646, 647, 648, 655, 663, 675, 677, 687, 688, 690, 701, 707, 708, 712, 719, 720, 735, 743, 744, 749, 750, 751, 755, 765, 766, 767, 772, 781, 782, 788, 790, 792, 794, 799, 800, 815, 817, 820, 828, 830, 834, 841, 842, 845, 850, 851, 852, 853, 869, 873, 874, 880, 884, 893, 894, 899, 906, 907, 909, 912, 920, 922, 924, 925, 926, 935, 936, 937, 939, 940, 941, 942, 945, 948, 953, 954, 958, 964, 965, 966, 972, 973, 979, 980, 995, 997, 1006, 1008, 1009, 1010, 1012, 1013, 1018, 1019, 1020, 1024, 1025, 1028, 1031, 1035, 1036, 1038, 1043, 1055, 1057, 1060, 1064, 1066, 1067, 1069, 1070, 1072, 1073, 1074, 1076, 1081, 1082, 1087, 1088, 1093, 1097, 1098, 1103, 1105, 1107, 1114, 1119, 1124, 1125, 1127, 1129, 1132, 1135, 1136, 1138, 1140, 1141, 1145, 1149, 1153, 1157, 1158, 1159, 1160, 1166, 1167, 1168, 1180, 1181, 1182, 1183, 1185, 1186, 1188, 1190, 1193, 1196, 1197, 1207, 1209, 1210, 1215, 1216, 1218, 1222, 1223, 1227, 1230, 1233, 1239, 1243, 1244, 1251, 1254, 1256, 1257, 1258, 1259, 1261, 1262, 1263, 1264, 1265, 1266, 1270, 1271, 1272, 1273, 1274, 1277, 1278, 1279, 1282, 1284, 1285, 1286, 1288, 1291, 1292, 1295, 1296, 1297, 1300, 1302, 1304, 1308, 1309, 1312, 1316, 1317, 1319, 1323, 1325, 1328, 1329, 1332, 1334, 1338, 1339, 1340, 1344, 1348, 1350, 1351, 1352, 1353, 1356, 1358, 1359, 1361, 1363, 1368, 1369, 1372, 1373, 1375, 1378, 1381, 1389, 1391, 1392, 1394, 1400, 1402, 1403, 1405, 1408, 1410, 1412, 1413, 1414, 1417, 1419, 1422, 1423, 1424, 1425, 1428, 1429, 1430, 1431, 1435, 1436, 1437, 1440, 1446, 1447, 1448, 1449, 1450, 1453, 1455, 1457, 1458, 1460, 1461, 1464, 1465, 1469, 1470, 1472, 1473, 1474, 1478, 1479, 1481, 1482, 1483, 1484, 1485, 1486, 1487, 1493, 1494, 1495, 1499, 1500, 1501, 1503, 1506, 1508, 1511, 1512, 1513, 1514, 1518, 1522, 1523, 1524, 1525, 1526, 1527, 1528, 1529, 1530, 1531, 1536, 1540, 1544, 1545, 1555, 1556, 1557, 1558, 1561, 1562, 1564, 1565, 1566, 1574, 1575, 1576, 1577, 1578, 1580, 1583, 1586, 1587, 1590, 1593, 1594, 1595, 1598, 1599, 1605, 1606, 1608, 1609, 1611, 1612, 1613, 1614, 1615, 1616, 1617, 1618, 1620, 1622, 1625, 1630, 1632, 1633, 1634, 1635, 1636, 1637, 1638, 1639, 1640, 1641, 1642, 1647, 1648, 1649, 1650, 1651, 1652, 1656, 1657, 1658, 1659, 1660, 1666, 1669, 1670, 1671, 1673, 1675, 1677, 1678, 1684, 1685, 1686, 1687, 1688, 1689, 1690, 1691, 1696, 1697, 1698, 1699, 1701, 1702, 1704, 1705, 1706, 1708, 1709, 1711, 1712, 1717, 1719, 1720, 1721, 1722, 1723, 1727, 1728, 1734, 1735, 1736, 1737, 1738, 1739, 1740, 1742, 1743, 1744, 1745, 1749, 1752, 1755, 1756, 1757, 1758, 1759, 1762, 1763, 1764, 1765, 1766, 1767, 1768, 1775, 1777, 1778, 1779, 1781, 1782, 1783, 1784, 1785, 1786, 1787, 1788, 1789, 1790, 1793, 1794, 1795, 1796, 1797, 1799, 1800, 1801, 1802, 1803, 1804, 1807, 1808, 1811, 1813, 1815, 1816, 1817, 1824, 1826, 1828, 1829, 1831, 1832, 1833, 1834, 1835, 1836, 1838, 1839, 1840, 1841, 1843, 1844, 1847, 1848, 1849, 1850, 1851, 1852, 1853, 1854, 1855, 1856, 1857, 1858, 1861, 1864, 1865, 1866, 1867, 1868, 1871, 1872, 1875, 1877, 1878, 1879, 1880, 1881, 1882, 1883, 1884, 1885, 1886, 1887, 1888, 1889, 1890, 1893, 1895, 1896, 1897, 1898, 1899, 1900, 1901, 1903, 1904, 1907, 1909, 1910, 1913, 1914, 1915, 1916, 1918, 1919, 1920, 1922, 1924, 1925, 1926, 1927, 1928, 1929, 1931, 1932, 1934, 1935, 1936, 1937, 1939, 1940, 1941, 1942, 1943, 1944, 1945, 1946, 1947, 1948, 1949, 1950, 1951, 1952, 1953, 1954, 1955, 1957, 1958, 1959, 1961, 1962, 1963, 1964, 1965, 1966, 1967, 1969, 1970, 1972, 1973, 1974, 1975, 1976, 1977, 1978, 1980, 1981, 1982, 1983, 1984, 1985, 1986, 1987, 1988, 1989, 1993, 1994, 1995, 1996, 1997, 1998, 2000, 2001, 2003, 2004, 2005, 2006, 2008, 2009, 2011, 2012, 2013, 2014, 2015, 2016, 2017, 2018, 2020, 2021, 2022, 2023, 2024, 2025, 2026, 2027, 2029, 2030, 2031, 2033, 2034, 2035, 2037, 2038, 2039, 2040, 2041, 2043, 2044, 2045, 2046, 2049, 2050, 2051, 2052, 2053, 2054, 2056, 2057, 2058, 2059, 2060, 2061, 2062, 2063, 2064, 2065, 2066, 2067, 2068, 2069, 2070, 2071, 2073, 2074, 2075, 2077, 2078, 2079, 2080, 2081, 2083, 2084, 2085, 2086, 2087, 2088, 2090, 2091, 2093, 2094, 2095, 2097, 2098, 2099, 2100, 2101, 2102, 2103, 2104, 2105, 2106, 2107, 2108, 2109, 2110, 2111, 2112, 2113, 2114, 2115, 2116, 2117, 2118, 2119, 2122, 2123, 2124, 2125, 2126, 2127, 2128, 2129, 2130, 2131, 2132, 2133, 2134, 2135, 2138, 2140, 2141, 2142, 2143, 2144, 2145, 2147, 2148, 2151, 2152, 2153, 2154, 2155, 2156, 2157, 2158, 2161, 2162, 2163, 2164, 2165, 2166, 2167, 2168, 2169, 2170, 2171, 2172, 2174, 2176, 2177, 2178, 2179, 2180, 2181, 2182, 2183, 2184, 2185, 2186, 2187, 2188, 2189, 2190, 2191, 2192, 2193, 2194, 2195, 2196, 2198, 2199, 2200, 2201, 2202, 2203, 2204, 2205, 2206, 2207, 2208, 2209, 2210, 2211, 2212, 2213, 2214, 2215, 2216, 2217, 2218, 2219, 2220, 2221, 2222, 2223, 2224, 2225, 2226, 2227, 2228, 2229, 2230, 2231, 2233, 2234, 2235, 2236, 2237, 2238, 2239, 2240, 2241, 2242, 2245, 2246, 2247, 2248, 2249, 2250, 2251, 2252, 2253, 2254, 2255, 2256, 2257, 2258, 2259, 2260, 2261, 2262, 2263, 2264, 2265, 2266, 2267, 2268, 2269, 2270, 2271, 2272, 2273, 2274, 2275, 2276, 2277, 2278, 2279, 2280, 2281, 2546, 2557, 2599, 2611, 2636, 2675, 2683, 2704, 2707, 2717, 2727, 2730, 2741, 2748, 2750, 2763, 2768, 2769, 2776, 2788, 2797, 2799, 2801, 2814, 2823, 2835, 2839, 2844, 2863, 2870, 2873, 2877, 2885, 2887, 2895, 2899, 2901, 2902, 2905, 2913, 2914, 2916, 2921, 2922, 2924, 2928, 2930, 2936, 2944, 2945, 2950, 2952, 2960, 2965, 2968, 2970, 2979, 2982, 2983, 2986, 2989, 2992, 2999, 3003, 3004, 3005, 3013, 3014, 3019, 3021, 3027, 3028, 3029, 3031, 3040, 3041, 3043, 3044, 3045, 3046, 3048, 3049, 3050, 3058, 3059, 3061, 3062, 3064, 3066, 3071, 3072, 3076, 3081, 3084, 3087, 3095, 3096, 3100, 3101, 3102, 3103, 3105, 3106, 3111, 3113, 3114, 3116, 3119, 3120, 3122, 3123, 3128, 3130, 3131, 3133, 3134, 3135, 3137, 3140, 3141, 3146, 3147, 3149, 3151, 3153, 3154, 3156, 3162, 3163, 3164, 3166, 3168, 3175, 3177, 3179, 3183, 3188, 3189, 3190, 3191, 3194, 3199, 3202, 3207, 3208, 3210, 3212, 3215, 3217, 3219, 3220, 3221, 3224, 3225, 3229, 3233, 3234, 3235, 3237, 3239, 3241, 3242, 3246, 3249, 3253, 3254, 3264, 3266, 3268, 3269, 3270, 3271, 3272, 3273, 3274, 3276, 3277, 3279, 3281, 3283, 3286, 3287, 3288, 3289, 3292, 3293, 3298, 3299, 3300, 3301, 3302, 3303, 3304, 3305, 3307, 3308, 3309, 3310, 3316, 3317, 3318, 3319, 3320, 3325, 3326, 3327, 3329, 3337, 3338, 3339, 3340, 3341, 3342, 3343, 3345, 3346, 3350, 3352, 3355, 3356, 3357, 3358, 3361, 3365, 3366, 3370, 3371, 3372, 3373, 3375, 3376, 3389, 3390, 3392, 3394, 3395, 3396, 3397, 3399, 3401, 3403, 3405, 3406, 3411, 3412, 3413, 3414, 3415, 3416, 3417, 3419, 3420, 3421, 3422, 3426, 3427, 3428, 3430, 3432, 3433, 3434, 3435, 3436, 3438, 3440, 3441, 3443, 3444, 3446, 3447, 3449, 3451, 3453, 3454, 3457, 3459, 3460, 3461, 3462, 3463, 3464, 3466, 3467, 3468, 3471, 3473, 3474, 3482, 3484, 3485, 3488, 3491, 3492, 3493, 3494, 3495, 3496, 3498, 3499, 3500, 3502, 3503, 3504, 3506, 3507, 3509, 3510, 3511, 3512, 3519, 3521, 3522, 3524, 3526, 3527, 3528, 3530, 3531, 3532, 3533, 3534, 3535, 3537, 3538, 3539, 3540, 3541, 3542, 3543, 3544, 3545, 3546, 3547, 3548, 3550, 3552, 3559, 3561, 3562, 3563, 3566, 3567, 3569, 3570, 3572, 3573, 3575, 3577, 3579, 3580, 3581, 3582, 3583, 3584, 3585, 3586, 3589, 3590, 3591, 3593, 3594, 3595, 3598, 3599, 3601, 3602, 3603, 3604, 3608, 3609, 3610, 3611, 3612, 3614, 3616, 3617, 3618, 3620, 3621, 3622, 3623, 3624, 3625, 3626, 3627, 3632, 3634, 3635, 3636, 3638, 3640, 3643, 3644, 3646, 3647, 3648, 3649, 3650, 3652, 3653, 3654, 3657, 3658, 3659, 3660, 3661, 3662, 3663, 3664, 3667, 3668, 3669, 3670, 3671, 3672, 3673, 3674, 3675, 3676, 3677, 3678, 3679, 3680, 3681, 3682, 3683, 3684, 3685, 3686, 3687, 3688, 3691, 3693, 3695, 3696, 3698, 3699, 3700, 3703, 3704, 3705, 3708, 3709, 3710, 3713, 3714, 3715, 3716, 3717, 3718, 3719, 3721, 3722, 3723, 3724, 3726, 3727, 3728, 3729, 3730, 3731, 3732, 3735, 3736, 3737, 3738, 3739, 3740, 3741, 3742, 3743, 3744, 3745, 3746, 3747, 3748, 3752, 3753, 3758, 3760, 3761, 3762, 3763, 3764, 3766, 3767, 3768, 3769, 3770, 3772, 3773, 3774, 3775, 3776, 3777, 3778, 3779, 3780, 3781, 3782, 3783, 3784, 3785, 3786, 3787, 3788, 3791, 3792, 3793, 3798, 3799, 3800, 3801, 3802, 3803, 3804, 3805, 3806, 3807, 3808, 3811, 3812, 3814, 3816, 3817, 3818, 3819, 3820, 3821, 3822, 3823, 3824, 3825, 3826, 3827, 3828, 3831, 3832, 3833, 3834, 3835, 3836, 3837, 3838, 3839, 3841, 3842, 3843, 3844, 3845, 3846, 3847, 3848, 3849, 3850, 3851, 3852, 3853, 3854, 3855, 3857, 3858, 3859, 3860, 3861, 3862, 3863, 3864, 3865, 3866, 3867, 3868, 3869, 3870, 3871, 3872, 3873, 3874, 3875, 3876, 3877, 3878, 3879, 3880, 3881, 3882, 3884, 3886, 3887, 3888, 3889, 3890, 3891, 3892, 3893, 3894, 3897, 3899, 3900, 3901, 3902, 3903, 3904, 3905, 3906, 3907, 3908, 3909, 3910, 3911, 3912, 3913, 3914, 3915, 3916, 3917, 3918, 3919, 3920, 3921, 3922, 3923, 3924, 3925, 3927, 3928, 3929, 3930, 3931, 3932, 3933, 3934, 3935, 3936, 3937, 3938, 3939, 3940, 3941, 3942, 3943, 3944, 3945, 3946, 3947, 3948, 3949, 3950, 3951, 3952, 3953, 3954, 3955, 3956, 3957, 3958, 3959, 3960, 3961, 3962, 3963, 3964, 3965, 3966, 3967, 3968, 3969, 3970, 3971, 3973, 3974, 3975, 3976, 3977, 3978, 3979, 3980, 3981, 3982, 3983, 4345, 4356, 4403, 4420, 4423, 4481, 4488, 4494, 4502, 4505, 4506, 4514, 4515, 4526, 4540, 4550, 4555, 4559, 4566, 4567, 4568, 4575, 4578, 4579, 4580, 4592, 4598, 4602, 4607, 4610, 4612, 4614, 4616, 4620, 4626, 4627, 4636, 4637, 4639, 4646, 4647, 4651, 4653, 4655, 4657, 4669, 4680, 4692, 4695, 4699, 4703, 4705, 4706, 4707, 4708, 4711, 4713, 4718, 4725, 4731, 4733, 4741, 4745, 4747, 4749, 4753, 4754, 4759, 4761, 4768, 4769, 4771, 4774, 4777, 4778, 4781, 4782, 4785, 4792, 4800, 4802, 4810, 4815, 4816, 4817, 4818, 4820, 4824, 4825, 4827, 4829, 4830, 4834, 4839, 4842, 4849, 4851, 4852, 4855, 4859, 4866, 4871, 4872, 4876, 4880, 4882, 4887, 4894, 4895, 4900, 4902, 4905, 4907, 4912, 4913, 4917, 4920, 4922, 4929, 4933, 4934, 4936, 4937, 4939, 4949, 4954, 4956, 4957, 4961, 4962, 4964, 4965, 4967, 4969, 4975, 4978, 4979, 4983, 4988, 4989, 4990, 4991, 4992, 4997, 4998, 5005, 5006, 5008, 5009, 5010, 5011, 5012, 5017, 5019, 5021, 5022, 5023, 5024, 5026, 5028, 5029, 5031, 5032, 5033, 5034, 5039, 5041, 5042, 5043, 5044, 5047, 5048, 5051, 5053, 5055, 5056, 5058, 5059, 5060, 5065, 5067, 5069, 5070, 5075, 5079, 5081, 5082, 5083, 5085, 5086, 5088, 5089, 5091, 5092, 5094, 5095, 5096, 5097, 5098, 5100, 5101, 5102, 5103, 5104, 5105, 5106, 5110, 5113, 5114, 5119, 5120, 5121, 5122, 5123, 5124, 5127, 5131, 5132, 5133, 5134, 5135, 5136, 5137, 5138, 5139, 5140, 5143, 5145, 5146, 5147, 5148, 5149, 5150, 5151, 5154, 5156, 5162, 5163, 5164, 5165, 5166, 5168, 5169, 5173, 5174, 5175, 5176, 5177, 5178, 5179, 5180, 5181, 5184, 5186, 5188, 5189, 5190, 5193, 5194, 5195, 5196, 5198, 5199, 5200, 5201, 5202, 5203, 5204, 5207, 5210, 5211, 5213, 5214, 5215, 5217, 5218, 5220, 5221, 5223, 5227, 5228, 5230, 5231, 5232, 5233, 5234, 5235, 5237, 5239, 5240, 5242, 5243, 5245, 5246, 5247, 5248, 5250, 5252, 5253, 5254, 5256, 5257, 5260, 5263, 5264, 5265, 5266, 5267, 5268, 5269, 5270, 5274, 5275, 5276, 5277, 5278, 5279, 5280, 5282, 5283, 5284, 5285, 5287, 5289, 5290, 5291, 5294, 5295, 5296, 5297, 5298, 5301, 5302, 5303, 5305, 5313, 5314, 5315, 5316, 5317, 5318, 5319, 5320, 5322, 5324, 5329, 5330, 5331, 5333, 5334, 5336, 5338, 5339, 5340, 5341, 5342, 5343, 5344, 5345, 5346, 5347, 5348, 5349, 5350, 5351, 5352, 5353, 5354, 5355, 5356, 5358, 5363, 5364, 5365, 5366, 5367, 5368, 5370, 5372, 5373, 5374, 5375, 5376, 5378, 5379, 5383, 5384, 5385, 5386, 5387, 5388, 5389, 5390, 5391, 5392, 5393, 5394, 5395, 5396, 5399, 5400, 5402, 5403, 5404, 5405, 5406, 5408, 5409, 5410, 5411, 5414, 5415, 5416, 5417, 5418, 5419, 5420, 5421, 5422, 5423, 5424, 5425, 5426, 5428, 5429, 5430, 5431, 5432, 5433, 5435, 5439, 5440, 5441, 5442, 5443, 5444, 5445, 5446, 5449, 5450, 5452, 5453, 5456, 5459, 5460, 5461, 5462, 5463, 5464, 5465, 5466, 5467, 5468, 5469, 5470, 5471, 5472, 5473, 5474, 5476, 5477, 5480, 5481, 5482, 5484, 5485, 5486, 5487, 5488, 5489, 5490, 5491, 5492, 5495, 5497, 5498, 5499, 5501, 5502, 5507, 5508, 5509, 5510, 5511, 5512, 5513, 5514, 5515, 5516, 5517, 5518, 5519, 5520, 5521, 5522, 5523, 5524, 5525, 5526, 5527, 5528, 5529, 5530, 5531, 5533, 5534, 5535, 5537, 5538, 5539, 5542, 5543, 5544, 5546, 5547, 5548, 5549, 5552, 5554, 5555, 5556, 5557, 5558, 5559, 5560, 5561, 5562, 5564, 5565, 5566, 5567, 5568, 5569, 5570, 5571, 5572, 5574, 5575, 5576, 5577, 5578, 5579, 5580, 5581, 5582, 5583, 5584, 5585, 5586, 5587, 5589, 5590, 5592, 5593, 5594, 5595, 5596, 5597, 5598, 5599, 5600, 5601, 5602, 5603, 5604, 5606, 5607, 5608, 5609, 5610, 5612, 5613, 5614, 5615, 5616, 5617, 5618, 5619, 5620, 5621, 5622, 5839, 5886, 5910, 5911, 5952, 5953, 5960, 5962, 5969, 5973, 5978, 5984, 5987, 5989, 5999, 6000, 6002, 6016, 6021, 6024, 6030, 6049, 6066, 6070, 6077, 6088, 6090, 6091, 6096, 6102, 6103, 6105, 6107, 6116, 6119, 6120, 6121, 6122, 6126, 6128, 6129, 6136, 6139, 6142, 6144, 6145, 6146, 6147, 6149, 6151, 6155, 6157, 6159, 6165, 6168, 6170, 6171, 6173, 6179, 6183, 6184, 6185, 6187, 6188, 6192, 6194, 6197, 6202, 6204, 6206, 6207, 6211, 6215, 6216, 6219, 6226, 6227, 6232, 6233, 6234, 6235, 6238, 6240, 6245, 6248, 6252, 6256, 6257, 6258, 6260, 6261, 6262, 6263, 6264, 6265, 6271, 6275, 6278, 6279, 6280, 6285, 6287, 6289, 6292, 6293, 6294, 6296, 6297, 6299, 6302, 6305, 6308, 6309, 6312, 6313, 6314, 6315, 6325, 6328, 6330, 6338, 6339, 6344, 6345, 6351, 6352, 6355, 6356, 6358, 6365, 6366, 6367, 6368, 6369, 6370, 6371, 6375, 6377, 6378, 6385, 6386, 6388, 6389, 6392, 6393, 6394, 6397, 6400, 6401, 6402, 6403, 6406, 6407, 6408, 6412, 6413, 6416, 6419, 6422, 6423, 6424, 6425, 6426, 6428, 6429, 6432, 6433, 6434, 6435, 6436, 6437, 6438, 6439, 6440, 6441, 6442, 6449, 6451, 6454, 6455, 6456, 6460, 6461, 6464, 6465, 6468, 6471, 6472, 6473, 6474, 6476, 6477, 6478, 6482, 6484, 6485, 6486, 6488, 6493, 6494, 6495, 6497, 6498, 6499, 6500, 6501, 6503, 6505, 6506, 6507, 6508, 6509, 6511, 6513, 6515, 6516, 6517, 6518, 6519, 6520, 6521, 6522, 6523, 6524, 6529, 6530, 6531, 6532, 6533, 6536, 6538, 6542, 6547, 6548, 6549, 6550, 6551, 6552, 6553, 6554, 6555, 6557, 6558, 6564, 6565, 6566, 6567, 6568, 6569, 6570, 6571, 6572, 6574, 6575, 6577, 6578, 6579, 6584, 6585, 6587, 6588, 6589, 6590, 6591, 6592, 6594, 6597, 6599, 6600, 6601, 6602, 6603, 6610, 6611, 6612, 6614, 6615, 6616, 6617, 6619, 6620, 6621, 6622, 6623, 6624, 6625, 6631, 6632, 6633, 6634, 6635, 6636, 6637, 6638, 6639, 6642, 6643, 6644, 6647, 6648, 6649, 6650, 6651, 6652, 6653, 6656, 6657, 6658, 6659, 6660, 6661, 6662, 6663, 6664, 6665, 6666, 6667, 6670, 6672, 6673, 6674, 6675, 6676, 6677, 6683, 6684, 6685, 6686, 6687, 6688, 6689, 6690, 6691, 6694, 6695, 6696, 6702, 6704, 6705, 6706, 6707, 6708, 6709, 6710, 6711, 6712, 6714, 6715, 6716, 6718, 6719, 6722, 6723, 6724, 6725, 6728, 6729, 6735, 6736, 6737, 6740, 6741, 6742, 6743, 6744, 6745, 6747, 6748, 6749, 6750, 6752, 6753, 6756, 6760, 6761, 6762, 6763, 6764, 6765, 6766, 6767, 6768, 6769, 6770, 6772, 6773, 6774, 6775, 6776, 6778, 6781, 6783, 6784, 6785, 6786, 6787, 6789, 6791, 6792, 6793, 6794, 6797, 6798, 6799, 6800, 6801, 6802, 6803, 6804, 6805, 6806, 6807, 6808, 6809, 6810, 6811, 6812, 6815, 6817, 6819, 6823, 6824, 6825, 6826, 6827, 6829, 6833, 6836, 6837, 6838, 6839, 6840, 6841, 6842, 6843, 6844, 6845, 6846, 6847, 6848, 6849, 6850, 6852, 6853, 6855, 6856, 6857, 6859, 6860, 6861, 6862, 6865, 6866, 6867, 6868, 6869, 6870, 6871, 6872, 6875, 6877, 6878, 6880, 6881, 6882, 6884, 6887, 6888, 6890, 6891, 6892, 6893, 6895, 6896, 6897, 6898, 6899, 6900, 6901, 6902, 6903, 6904, 6905, 6906, 6907, 6908, 6910, 6911, 6912, 6913, 6914, 6916, 6917, 6919, 6922, 6923, 6924, 6925, 6926, 6927, 6928, 6929, 6930, 6931, 6932, 6933, 6934, 6935, 6936, 6937, 6940, 6941, 6942, 6943, 6944, 6945, 6946, 6947, 6952, 6953, 6956, 6957, 6958, 6959, 6960, 6961, 6962, 6963, 6964, 6965, 6967, 6968, 6969, 6970, 6971, 6972, 6973, 6974, 6977, 6978, 6979, 6980, 6982, 6983, 6984, 6985, 6986, 6987, 6988, 6989, 6990, 6991, 6992, 6993, 6994, 6996, 6997, 6998, 6999, 7000, 7002, 7003, 7005, 7006, 7007, 7008, 7009, 7010, 7012, 7013, 7014, 7018, 7019, 7020, 7021, 7022, 7023, 7024, 7025, 7026, 7027, 7028, 7029, 7030, 7031, 7032, 7033, 7034, 7038, 7039, 7040, 7041, 7042, 7043, 7044, 7046, 7047, 7048, 7050, 7051, 7053, 7054, 7055, 7056, 7057, 7058, 7059, 7060, 7061, 7062, 7063, 7064, 7065, 7067, 7068, 7069, 7071, 7072, 7073, 7074, 7077, 7078, 7079, 7080, 7081, 7082, 7083, 7084, 7085, 7086, 7087, 7088, 7089, 7090, 7091, 7092, 7093, 7094, 7095, 7096, 7097, 7098, 7099, 7100, 7101, 7102, 7103, 7104, 7105, 7106, 7107, 7108, 7109, 7110, 7111, 7112, 7113, 7114, 7115, 7116, 7117, 7118, 7119, 7120, 7121, 7122, 7123, 7124, 7125, 7126, 7127, 7128, 7129, 7130, 7131, 7132, 7133, 7134, 7135, 7137, 7138, 7139, 7140, 7141, 7142, 7143, 7144, 7145, 7146, 7147, 7148, 7149, 7150, 7151, 7305, 7339, 7361, 7366, 7388, 7390, 7392, 7422, 7424, 7433, 7434, 7439, 7441, 7442, 7456, 7459, 7465, 7472, 7478, 7489, 7492, 7494, 7495, 7507, 7508, 7510, 7514, 7515, 7518, 7524, 7526, 7531, 7533, 7534, 7541, 7544, 7545, 7558, 7562, 7563, 7565, 7566, 7571, 7573, 7574, 7576, 7579, 7581, 7585, 7605, 7608, 7609, 7613, 7614, 7615, 7617, 7629, 7633, 7634, 7636, 7639, 7640, 7641, 7651, 7655, 7656, 7663, 7665, 7669, 7674, 7677, 7686, 7690, 7692, 7695, 7696, 7705, 7706, 7708, 7714, 7717, 7719, 7725, 7728, 7730, 7733, 7736, 7737, 7738, 7741, 7742, 7743, 7745, 7748, 7752, 7756, 7761, 7763, 7764, 7766, 7768, 7769, 7771, 7775, 7776, 7779, 7782, 7784, 7785, 7786, 7787, 7788, 7789, 7790, 7792, 7796, 7797, 7802, 7803, 7804, 7810, 7815, 7818, 7820, 7821, 7822, 7824, 7827, 7828, 7829, 7830, 7831, 7835, 7836, 7837, 7838, 7839, 7840, 7842, 7844, 7845, 7846, 7848, 7850, 7851, 7852, 7853, 7860, 7861, 7864, 7865, 7868, 7869, 7872, 7873, 7874, 7875, 7878, 7880, 7882, 7883, 7884, 7886, 7887, 7888, 7890, 7894, 7895, 7896, 7897, 7899, 7901, 7902, 7903, 7904, 7911, 7913, 7914, 7915, 7916, 7918, 7922, 7923, 7924, 7929, 7930, 7931, 7932, 7933, 7934, 7936, 7937, 7938, 7939, 7941, 7944, 7945, 7949, 7950, 7952, 7953, 7955, 7956, 7957, 7959, 7960, 7963, 7964, 7965, 7966, 7968, 7969, 7970, 7971, 7972, 7973, 7976, 7978, 7980, 7982, 7983, 7984, 7986, 7987, 7988, 7989, 7992, 7993, 7995, 7996, 7998, 7999, 8002, 8003, 8004, 8005, 8007, 8009, 8010, 8011, 8012, 8014, 8016, 8017, 8023, 8024, 8025, 8026, 8027, 8028, 8030, 8031, 8034, 8035, 8036, 8037, 8038, 8039, 8041, 8044, 8045, 8049, 8050, 8052, 8053, 8054, 8055, 8056, 8057, 8058, 8059, 8060, 8061, 8062, 8063, 8064, 8066, 8068, 8069, 8070, 8072, 8075, 8077, 8078, 8079, 8080, 8086, 8088, 8089, 8090, 8091, 8092, 8093, 8094, 8096, 8097, 8099, 8100, 8101, 8102, 8103, 8105, 8107, 8109, 8110, 8111, 8112, 8113, 8114, 8115, 8116, 8117, 8118, 8121, 8124, 8125, 8126, 8127, 8130, 8134, 8135, 8136, 8138, 8139, 8140, 8142, 8143, 8145, 8146, 8147, 8148, 8149, 8151, 8152, 8153, 8154, 8157, 8158, 8160, 8161, 8163, 8164, 8168, 8169, 8170, 8171, 8172, 8173, 8174, 8175, 8178, 8181, 8182, 8183, 8185, 8186, 8189, 8190, 8191, 8192, 8193, 8194, 8199, 8201, 8203, 8204, 8206, 8207, 8208, 8209, 8212, 8213, 8214, 8215, 8216, 8217, 8218, 8219, 8220, 8221, 8222, 8224, 8228, 8229, 8230, 8231, 8233, 8234, 8236, 8237, 8238, 8239, 8240, 8243, 8245, 8246, 8247, 8248, 8250, 8251, 8252, 8253, 8254, 8256, 8257, 8258, 8259, 8261, 8262, 8263, 8264, 8265, 8267, 8268, 8269, 8270, 8271, 8273, 8274, 8276, 8277, 8278, 8279, 8281, 8284, 8285, 8286, 8287, 8288, 8289, 8291, 8292, 8293, 8296, 8298, 8299, 8301, 8302, 8303, 8304, 8306, 8307, 8308, 8310, 8311, 8312, 8313, 8314, 8315, 8316, 8319, 8320, 8321, 8323, 8324, 8325, 8326, 8328, 8329, 8330, 8331, 8332, 8334, 8335, 8336, 8337, 8338, 8340, 8341, 8342, 8344, 8345, 8346, 8347, 8348, 8349, 8350, 8351, 8354, 8355, 8357, 8358, 8359, 8360, 8361, 8362, 8363, 8364, 8365, 8366, 8367, 8368, 8369, 8372, 8373, 8377, 8378, 8379, 8380, 8381, 8382, 8383, 8384, 8385, 8386, 8387, 8388, 8390, 8392, 8393, 8395, 8396, 8397, 8398, 8399, 8400, 8401, 8402, 8403, 8406, 8407, 8408, 8409, 8410, 8414, 8415, 8416, 8417, 8418, 8419, 8420, 8421, 8422, 8425, 8427, 8428, 8429, 8430, 8431, 8432, 8434, 8435, 8436, 8438, 8439, 8440, 8441, 8442, 8443, 8444, 8445, 8448, 8449, 8450, 8451, 8452, 8453, 8454, 8455, 8456, 8457, 8458, 8459, 8460, 8461, 8462, 8464, 8465, 8467, 8468, 8469, 8470, 8471, 8472, 8473, 8474, 8475, 8476, 8477, 8478, 8480, 8481, 8483, 8484, 8485, 8486, 8487, 8488, 8489, 8490, 8492, 8493, 8494, 8495, 8496, 8497, 8498, 8499, 8500, 8501, 8502, 8503, 8504, 8505, 8506, 8507, 8508, 8509, 8510, 8511, 8512, 8513, 8514, 8515, 8516, 8517, 8518, 8519, 8520, 8521, 8522, 8523, 8524, 8525, 8526, 8527, 8528, 8529, 8530, 8531, 8532, 8533, 8534, 8535, 8537, 8538, 8540, 8541, 8542, 8543, 8544, 8545, 8547, 8548, 8549, 8550, 8551, 8552, 8553, 8554, 8555, 8556, 8617, 8657, 8666, 8692, 8712, 8717, 8720, 8721, 8723, 8729, 8744, 8749, 8750, 8755, 8763, 8764, 8767, 8770, 8775, 8777, 8784, 8785, 8787, 8795, 8799, 8803, 8806, 8810, 8813, 8817, 8827, 8834, 8838, 8844, 8845, 8851, 8852, 8853, 8858, 8859, 8861, 8862, 8863, 8866, 8867, 8869, 8872, 8874, 8878, 8879, 8880, 8882, 8883, 8885, 8887, 8888, 8889, 8890, 8898, 8899, 8900, 8901, 8911, 8913, 8915, 8919, 8924, 8925, 8926, 8927, 8933, 8934, 8938, 8939, 8940, 8944, 8948, 8949, 8951, 8956, 8957, 8958, 8961, 8963, 8967, 8968, 8969, 8972, 8973, 8974, 8975, 8976, 8977, 8979, 8982, 8984, 8985, 8986, 8988, 8989, 8994, 8995, 8996, 8997, 8998, 8999, 9000, 9001, 9002, 9003, 9004, 9005, 9006, 9007, 9008, 9011, 9012, 9014, 9015, 9016, 9017, 9018, 9020, 9021, 9023, 9026, 9029, 9030, 9031, 9032, 9033, 9034, 9035, 9039, 9040, 9041, 9042, 9043, 9044, 9045, 9046, 9051, 9052, 9053, 9054, 9055, 9056, 9057, 9058, 9060, 9061, 9062, 9065, 9066, 9067, 9068, 9069, 9074, 9075, 9076, 9077, 9079, 9080, 9085, 9086, 9087, 9088, 9089, 9090, 9091, 9092, 9093, 9098, 9099, 9100, 9101, 9103, 9104, 9105, 9106, 9110, 9111, 9112, 9113, 9114, 9115, 9116, 9117, 9118, 9121, 9122, 9125, 9126, 9127, 9128, 9129, 9130, 9131, 9132, 9135, 9136, 9138, 9140, 9142, 9144, 9145, 9146, 9147, 9149, 9151, 9153, 9154, 9155, 9156, 9157, 9158, 9159, 9160, 9161, 9164, 9165, 9166, 9167, 9168, 9169, 9170, 9171, 9172, 9173, 9174, 9175, 9176, 9177, 9178, 9179, 9181, 9184, 9185, 9186, 9187, 9188, 9189, 9190, 9191, 9192, 9193, 9194, 9195, 9196, 9197, 9198, 9199, 9200, 9201, 9202, 9205, 9206, 9207, 9208, 9209, 9210, 9211, 9212, 9213, 9215, 9216, 9218, 9219, 9220, 9221, 9222, 9224, 9225, 9226, 9227, 9228, 9229, 9230, 9231, 9232, 9234, 9235, 9237, 9238, 9239, 9240, 9241, 9242, 9245, 9246, 9248, 9249, 9250, 9251, 9252, 9253, 9254, 9255, 9256, 9259, 9261, 9262, 9263, 9264, 9265, 9266, 9267, 9268, 9269, 9273, 9274, 9277, 9278, 9279, 9280, 9281, 9282, 9284, 9286, 9287, 9288, 9289, 9290, 9291, 9292, 9293, 9294, 9295, 9296, 9297, 9298, 9299, 9300, 9301, 9302, 9303, 9305, 9306, 9307, 9308, 9309, 9310, 9311, 9312, 9313, 9314, 9315, 9316, 9317, 9318, 9319, 9320, 9321, 9322, 9323, 9324, 9325, 9326, 9327, 9328, 9329, 9330, 9331, 9332, 9333, 9334, 9335, 9336, 9337, 9338, 9339, 9340, 9341, 9342, 9343, 9344, 9345, 9346, 9347, 9348, 9349, 9350, 9351, 9352, 9472, 9528, 9534, 9536, 9538, 9556, 9558, 9571, 9572, 9584, 9593, 9595, 9596, 9603, 9610, 9613, 9621, 9630, 9632, 9636, 9642, 9643, 9647, 9651, 9656, 9659, 9662, 9667, 9671, 9678, 9681, 9686, 9688, 9691, 9694, 9697, 9698, 9701, 9704, 9705, 9706, 9708, 9709, 9711, 9713, 9714, 9718, 9719, 9721, 9724, 9725, 9726, 9727, 9729, 9740, 9741, 9743, 9745, 9746, 9748, 9749, 9752, 9756, 9757, 9758, 9759, 9760, 9764, 9767, 9768, 9770, 9772, 9773, 9775, 9776, 9778, 9779, 9780, 9781, 9783, 9784, 9787, 9793, 9795, 9796, 9797, 9798, 9799, 9801, 9802, 9804, 9805, 9806, 9810, 9814, 9815, 9819, 9820, 9821, 9825, 9827, 9828, 9829, 9831, 9832, 9833, 9834, 9837, 9840, 9841, 9842, 9846, 9850, 9851, 9853, 9854, 9855, 9856, 9857, 9859, 9861, 9863, 9866, 9869, 9870, 9871, 9872, 9873, 9874, 9876, 9877, 9878, 9879, 9881, 9882, 9883, 9884, 9885, 9886, 9890, 9892, 9894, 9895, 9897, 9898, 9899, 9900, 9901, 9902, 9903, 9904, 9906, 9907, 9910, 9912, 9914, 9917, 9923, 9924, 9925, 9926, 9928, 9929, 9930, 9931, 9932, 9933, 9937, 9938, 9940, 9941, 9944, 9945, 9946, 9949, 9950, 9951, 9952, 9953, 9954, 9955, 9956, 9957, 9959, 9960, 9961, 9962, 9963, 9964, 9970, 9971, 9972, 9973, 9974, 9975, 9977, 9980, 9981, 9982, 9983, 9984, 9985, 9986, 9987, 9988, 9989, 9990, 9991, 9992, 9993, 9994, 9995, 9996, 9997, 9998, 9999, 10002, 10004, 10006, 10007, 10008, 10009, 10010, 10011, 10012, 10013, 10014, 10015, 10016, 10017, 10018, 10019, 10020, 10021, 10022, 10024, 10025, 10026, 10029, 10031, 10032, 10033, 10034, 10036, 10037, 10038, 10039, 10040, 10041, 10042, 10043, 10044, 10045, 10046, 10049, 10050, 10051, 10053, 10054, 10055, 10056, 10057, 10058, 10059, 10060, 10063, 10064, 10065, 10066, 10067, 10068, 10070, 10071, 10072, 10073, 10074, 10075, 10076, 10077, 10078, 10079, 10080, 10081, 10082, 10083, 10084, 10085, 10086, 10088, 10089, 10090, 10091, 10092, 10093, 10094, 10095, 10097, 10098, 10099, 10100, 10102, 10103, 10104, 10105, 10106, 10107, 10108, 10109, 10110, 10111, 10113, 10115, 10116, 10117, 10118, 10119, 10120, 10122, 10123, 10124, 10125, 10126, 10127, 10280, 10309, 10343, 10344, 10348, 10355, 10360, 10361, 10363, 10378, 10381, 10383, 10387, 10408, 10410, 10413, 10421, 10423, 10428, 10429, 10430, 10435, 10436, 10437, 10441, 10442, 10445, 10447, 10449, 10451, 10453, 10456, 10460, 10463, 10464, 10466, 10468, 10471, 10473, 10475, 10476, 10482, 10487, 10491, 10492, 10495, 10500, 10503, 10504, 10505, 10506, 10509, 10512, 10514, 10515, 10518, 10519, 10521, 10522, 10523, 10525, 10526, 10530, 10531, 10532, 10533, 10536, 10541, 10545, 10547, 10551, 10552, 10553, 10554, 10555, 10557, 10558, 10561, 10562, 10568, 10571, 10573, 10574, 10575, 10578, 10582, 10583, 10584, 10585, 10586, 10588, 10589, 10592, 10593, 10595, 10596, 10598, 10601, 10602, 10603, 10604, 10606, 10612, 10613, 10614, 10616, 10617, 10618, 10620, 10621, 10623, 10624, 10625, 10626, 10627, 10630, 10631, 10632, 10635, 10636, 10637, 10638, 10639, 10642, 10643, 10644, 10645, 10646, 10648, 10649, 10650, 10653, 10654, 10656, 10657, 10658, 10659, 10661, 10662, 10666, 10667, 10669, 10670, 10671, 10672, 10674, 10675, 10676, 10677, 10678, 10679, 10680, 10682, 10683, 10686, 10687, 10688, 10689, 10692, 10693, 10694, 10695, 10696, 10698, 10699, 10700, 10701, 10702, 10704, 10708, 10709, 10710, 10711, 10712, 10713, 10714, 10715, 10718, 10719, 10723, 10724, 10725, 10726, 10728, 10729, 10730, 10732, 10733, 10734, 10735, 10736, 10737, 10738, 10739, 10742, 10743, 10744, 10745, 10746, 10747, 10750, 10751, 10752, 10753, 10754, 10755, 10756, 10757, 10758, 10759, 10760, 10762, 10765, 10768, 10769, 10770, 10772, 10774, 10775, 10776, 10777, 10779, 10780, 10781, 10783, 10784, 10785, 10786, 10788, 10790, 10791, 10792, 10793, 10794, 10796, 10797, 10798, 10799, 10800, 10801, 10803, 10805, 10806, 10807, 10808, 10809, 10810, 10812, 10813, 10815, 10816, 10817, 10818, 10819, 10820, 10821, 10822, 10824, 10825, 10827, 10828, 10831, 10832, 10833, 10834, 10835, 10836, 10837, 10838, 10839, 10840, 10842, 10843, 10844, 10845, 10846, 10847, 10848, 10849, 10850, 10851, 10852, 10853, 10854, 10857, 10858, 10859, 10860, 10861, 10862, 10863, 10864, 10865, 10866, 10867, 10868, 10869, 10870, 10871, 10872, 10873, 10874, 10875, 10876, 10877, 10878, 10879, 10880, 10881, 10882, 10883, 10885, 10886, 10887, 10888, 10889, 10890, 10999, 11047, 11056, 11072, 11079, 11081, 11084, 11085, 11090, 11102, 11107, 11113, 11116, 11119, 11120, 11125, 11130, 11136, 11138, 11140, 11145, 11148, 11150, 11154, 11156, 11158, 11161, 11162, 11167, 11170, 11173, 11175, 11176, 11178, 11185, 11198, 11204, 11208, 11209, 11210, 11211, 11216, 11217, 11218, 11223, 11227, 11229, 11230, 11231, 11233, 11236, 11237, 11238, 11239, 11241, 11242, 11243, 11245, 11247, 11249, 11250, 11255, 11256, 11258, 11262, 11263, 11264, 11265, 11266, 11271, 11273, 11276, 11278, 11282, 11283, 11284, 11287, 11288, 11292, 11293, 11297, 11298, 11300, 11302, 11305, 11307, 11309, 11311, 11312, 11313, 11314, 11315, 11316, 11318, 11320, 11323, 11324, 11326, 11327, 11328, 11332, 11333, 11334, 11335, 11336, 11338, 11339, 11340, 11341, 11342, 11343, 11345, 11347, 11348, 11349, 11350, 11351, 11352, 11354, 11355, 11356, 11358, 11359, 11360, 11367, 11368, 11371, 11372, 11373, 11374, 11375, 11377, 11378, 11379, 11380, 11381, 11384, 11385, 11387, 11388, 11389, 11391, 11392, 11393, 11394, 11395, 11396, 11397, 11399, 11400, 11401, 11402, 11403, 11404, 11405, 11406, 11407, 11408, 11409, 11411, 11412, 11413, 11414, 11418, 11419, 11420, 11421, 11425, 11427, 11428, 11429, 11430, 11431, 11432, 11433, 11435, 11436, 11437, 11438, 11439, 11440, 11441, 11442, 11443, 11444, 11446, 11447, 11448, 11449, 11450, 11451, 11452, 11453, 11454, 11455, 11457, 11458, 11459, 11460, 11461, 11462, 11463, 11464, 11465, 11466, 11467, 11468, 11469, 11470, 11471, 11473, 11474, 11475, 11476, 11477, 11478, 11479, 11480, 11481, 11482, 11483, 11485, 11486, 11487, 11488, 11489, 11490, 11491, 11492, 11493, 11494, 11495, 11496, 11497, 11498, 11499, 11500, 11501, 11502, 11503, 11504, 11505, 11506, 11507, 11508, 11509, 11510, 11511, 11512, 11513, 11514, 11515, 11516, 11555, 11582, 11603, 11606, 11614, 11621, 11623, 11627, 11628, 11629, 11640, 11641, 11644, 11645, 11647, 11656, 11659, 11660, 11661, 11671, 11674, 11675, 11676, 11681, 11683, 11684, 11693, 11695, 11700, 11702, 11708, 11710, 11714, 11716, 11722, 11724, 11726, 11727, 11729, 11730, 11731, 11733, 11737, 11744, 11748, 11749, 11750, 11754, 11756, 11757, 11758, 11762, 11766, 11768, 11770, 11773, 11774, 11775, 11777, 11778, 11779, 11782, 11784, 11785, 11788, 11789, 11791, 11792, 11794, 11795, 11799, 11800, 11803, 11805, 11807, 11809, 11810, 11815, 11816, 11817, 11818, 11819, 11820, 11821, 11827, 11828, 11829, 11831, 11832, 11833, 11834, 11835, 11838, 11840, 11841, 11842, 11843, 11844, 11845, 11847, 11849, 11850, 11856, 11857, 11859, 11860, 11862, 11864, 11867, 11868, 11870, 11871, 11872, 11873, 11874, 11876, 11878, 11879, 11882, 11883, 11884, 11887, 11888, 11889, 11892, 11893, 11895, 11898, 11899, 11900, 11902, 11903, 11904, 11905, 11907, 11909, 11910, 11911, 11913, 11914, 11915, 11917, 11918, 11919, 11920, 11923, 11926, 11928, 11929, 11930, 11933, 11934, 11936, 11938, 11939, 11940, 11943, 11944, 11945, 11946, 11947, 11948, 11949, 11950, 11951, 11952, 11953, 11954, 11955, 11957, 11958, 11960, 11961, 11963, 11964, 11965, 11966, 11969, 11970, 11971, 11973, 11974, 11975, 11977, 11978, 11979, 11981, 11983, 11985, 11988, 11989, 11990, 11991, 11994, 11996, 11997, 11998, 11999, 12000, 12002, 12003, 12004, 12005, 12006, 12008, 12009, 12010, 12012, 12013, 12014, 12016, 12017, 12019, 12021, 12022, 12023, 12024, 12025, 12026, 12027, 12028, 12029, 12030, 12031, 12032, 12035, 12036, 12037, 12038, 12039, 12040, 12041, 12043, 12044, 12045, 12046, 12047, 12048, 12050, 12051, 12052, 12053, 12057, 12058, 12060, 12062, 12063, 12064, 12066, 12067, 12068, 12069, 12070, 12071, 12072, 12073, 12074, 12075, 12076, 12077, 12079, 12081, 12082, 12083, 12084, 12085, 12087, 12088, 12089, 12090, 12091, 12092, 12093, 12094, 12095, 12096, 12097, 12098, 12099, 12100, 12101, 12102, 12103, 12104, 12105, 12106, 12107, 12108, 12109, 12110, 12111, 12112, 12113, 12114, 12115, 12116, 12168, 12190, 12196, 12200, 12203, 12211, 12212, 12220, 12223, 12239, 12249, 12251, 12255, 12257, 12262, 12268, 12271, 12273, 12274, 12275, 12278, 12285, 12286, 12288, 12291, 12292, 12303, 12305, 12308, 12317, 12318, 12319, 12321, 12323, 12324, 12325, 12326, 12327, 12328, 12330, 12334, 12340, 12341, 12343, 12345, 12348, 12349, 12350, 12352, 12354, 12358, 12359, 12360, 12363, 12365, 12366, 12367, 12370, 12371, 12374, 12375, 12376, 12378, 12381, 12382, 12385, 12386, 12387, 12392, 12394, 12397, 12398, 12400, 12402, 12403, 12405, 12406, 12409, 12410, 12411, 12413, 12415, 12416, 12418, 12419, 12420, 12422, 12423, 12425, 12426, 12428, 12430, 12433, 12434, 12435, 12436, 12438, 12440, 12441, 12442, 12444, 12446, 12447, 12448, 12449, 12451, 12453, 12454, 12455, 12460, 12465, 12469, 12470, 12471, 12473, 12475, 12476, 12477, 12478, 12480, 12482, 12484, 12485, 12486, 12487, 12488, 12489, 12490, 12491, 12494, 12495, 12496, 12497, 12498, 12499, 12500, 12501, 12502, 12503, 12506, 12507, 12508, 12509, 12511, 12512, 12515, 12518, 12522, 12523, 12524, 12525, 12526, 12527, 12528, 12530, 12531, 12532, 12533, 12535, 12536, 12537, 12538, 12539, 12540, 12541, 12543, 12544, 12546, 12547, 12549, 12550, 12551, 12552, 12553, 12554, 12555, 12556, 12557, 12558, 12561, 12562, 12564, 12565, 12567, 12568, 12569, 12570, 12571, 12572, 12573, 12574, 12575, 12576, 12577, 12578, 12579, 12580, 12581, 12582, 12583, 12584, 12585, 12586, 12589, 12590, 12591, 12592, 12594, 12598, 12599, 12600, 12601, 12602, 12604, 12605, 12607, 12608, 12609, 12610, 12611, 12614, 12615, 12616, 12617, 12618, 12619, 12620, 12622, 12623, 12624, 12625, 12626, 12629, 12630, 12631, 12632, 12633, 12635, 12637, 12638, 12639, 12640, 12641, 12642, 12643, 12644, 12645, 12646, 12647, 12648, 12649, 12650, 12651, 12652, 12653, 12654, 12655, 12656, 12657, 12658, 12659, 12660, 12661, 12662, 12664, 12665, 12666, 12667, 12669, 12670, 12671, 12672, 12673, 12674, 12761, 12785, 12792, 12797, 12803, 12832, 12836, 12845, 12851, 12854, 12857, 12863, 12864, 12866, 12867, 12869, 12870, 12875, 12880, 12882, 12883, 12886, 12889, 12891, 12893, 12897, 12899, 12903, 12904, 12906, 12910, 12924, 12925, 12928, 12930, 12935, 12938, 12939, 12942, 12946, 12947, 12949, 12951, 12952, 12953, 12954, 12957, 12959, 12962, 12963, 12967, 12969, 12971, 12972, 12973, 12974, 12975, 12979, 12981, 12983, 12984, 12987, 12992, 12993, 12994, 12995, 12996, 13001, 13002, 13004, 13005, 13006, 13008, 13009, 13010, 13011, 13012, 13013, 13015, 13016, 13017, 13019, 13022, 13024, 13025, 13026, 13027, 13029, 13035, 13036, 13037, 13039, 13040, 13042, 13043, 13045, 13047, 13048, 13049, 13051, 13052, 13053, 13054, 13056, 13057, 13059, 13061, 13062, 13064, 13065, 13066, 13068, 13069, 13070, 13071, 13075, 13076, 13077, 13078, 13079, 13080, 13083, 13084, 13085, 13086, 13087, 13091, 13092, 13093, 13094, 13095, 13098, 13099, 13100, 13101, 13102, 13103, 13104, 13105, 13106, 13107, 13109, 13110, 13111, 13112, 13113, 13115, 13116, 13117, 13118, 13119, 13120, 13121, 13122, 13123, 13124, 13125, 13126, 13127, 13128, 13129, 13131, 13133, 13134, 13135, 13136, 13137, 13139, 13140, 13141, 13142, 13143, 13144, 13145, 13146, 13147, 13148, 13149, 13150, 13151, 13152, 13153, 13154, 13155, 13156, 13157, 13158, 13159, 13160, 13161, 13163, 13164, 13165, 13166, 13167, 13168, 13170, 13171, 13172, 13173, 13175, 13176, 13177, 13178, 13179, 13180, 13181, 13182, 13183, 13185, 13186, 13187, 13188, 13189, 13190, 13191, 13192, 13193, 13194, 13195, 13196, 13197, 13198, 13199, 13200, 13201, 13202, 13204, 13205, 13206, 13207, 13208, 13209, 13210, 13211, 13212, 13213, 13214, 13215, 13216, 13217, 13218, 13219, 13220, 13221, 13222, 13296, 13314, 13315, 13320, 13322, 13325, 13330, 13331, 13334, 13335, 13339, 13349, 13353, 13359, 13377, 13381, 13383, 13385, 13386, 13387, 13393, 13396, 13397, 13401, 13405, 13408, 13409, 13412, 13415, 13418, 13420, 13426, 13430, 13432, 13434, 13440, 13444, 13445, 13446, 13447, 13448, 13449, 13454, 13455, 13457, 13459, 13460, 13461, 13462, 13466, 13470, 13473, 13474, 13475, 13478, 13480, 13481, 13482, 13483, 13485, 13486, 13487, 13488, 13491, 13492, 13498, 13499, 13500, 13501, 13503, 13505, 13507, 13509, 13513, 13514, 13515, 13516, 13519, 13523, 13524, 13525, 13526, 13527, 13528, 13530, 13533, 13534, 13537, 13539, 13541, 13542, 13543, 13548, 13549, 13551, 13552, 13553, 13556, 13557, 13558, 13559, 13560, 13561, 13562, 13563, 13565, 13566, 13567, 13568, 13569, 13572, 13573, 13574, 13575, 13578, 13580, 13581, 13582, 13583, 13584, 13586, 13587, 13589, 13590, 13591, 13592, 13595, 13598, 13599, 13600, 13601, 13604, 13605, 13606, 13608, 13609, 13610, 13612, 13613, 13615, 13616, 13617, 13618, 13619, 13620, 13621, 13624, 13627, 13629, 13631, 13632, 13633, 13634, 13636, 13637, 13638, 13640, 13641, 13644, 13647, 13649, 13650, 13651, 13652, 13653, 13654, 13655, 13656, 13657, 13658, 13660, 13661, 13663, 13664, 13665, 13666, 13667, 13668, 13669, 13670, 13671, 13672, 13673, 13674, 13675, 13677, 13678, 13679, 13680, 13681, 13682, 13684, 13685, 13686, 13687, 13689, 13690, 13691, 13692, 13693, 13694, 13695, 13697, 13699, 13700, 13701, 13702, 13703, 13704, 13705, 13706, 13707, 13708, 13709, 13710, 13711, 13712, 13713, 13715, 13716, 13717, 13718, 13719, 13720, 13721, 13722, 13723, 13724, 13725, 13726, 13727, 13728, 13729, 13730, 13731, 13732, 13733, 13734, 13735, 13736, 13737, 13738, 13739, 13740, 13741, 13742, 13743, 13744, 13745, 13746, 13748, 13749, 13750, 13751, 13752, 13753, 13754, 13755, 13793, 13799, 13817, 13818, 13823, 13834, 13837, 13840, 13841, 13844, 13845, 13848, 13849, 13855, 13857, 13862, 13863, 13864, 13867, 13871, 13876, 13878, 13880, 13881, 13883, 13885, 13891, 13892, 13894, 13895, 13896, 13897, 13899, 13900, 13905, 13909, 13911, 13912, 13913, 13914, 13917, 13919, 13922, 13923, 13924, 13927, 13928, 13931, 13932, 13933, 13936, 13937, 13938, 13939, 13941, 13943, 13944, 13946, 13947, 13949, 13952, 13954, 13955, 13956, 13960, 13962, 13963, 13966, 13967, 13969, 13970, 13976, 13979, 13985, 13986, 13988, 13989, 13990, 13991, 13993, 13994, 13995, 13999, 14003, 14005, 14007, 14008, 14012, 14014, 14015, 14016, 14017, 14018, 14019, 14020, 14022, 14023, 14024, 14029, 14030, 14032, 14033, 14035, 14036, 14038, 14040, 14042, 14052, 14053, 14055, 14056, 14057, 14058, 14059, 14060, 14062, 14063, 14064, 14065, 14070, 14071, 14072, 14073, 14075, 14077, 14078, 14079, 14082, 14083, 14084, 14085, 14086, 14087, 14088, 14090, 14091, 14092, 14093, 14094, 14095, 14098, 14100, 14101, 14104, 14105, 14106, 14109, 14110, 14115, 14117, 14118, 14119, 14120, 14121, 14122, 14123, 14124, 14126, 14127, 14128, 14129, 14133, 14134, 14137, 14138, 14139, 14140, 14141, 14142, 14143, 14144, 14145, 14146, 14147, 14148, 14149, 14150, 14151, 14152, 14156, 14158, 14159, 14160, 14161, 14162, 14164, 14165, 14166, 14167, 14170, 14172, 14173, 14174, 14175, 14176, 14178, 14180, 14181, 14182, 14183, 14185, 14186, 14187, 14188, 14189, 14190, 14191, 14195, 14196, 14198, 14199, 14201, 14202, 14203, 14207, 14208, 14209, 14210, 14211, 14212, 14213, 14214, 14215, 14216, 14217, 14218, 14219, 14220, 14221, 14222, 14223, 14224, 14225, 14226, 14227, 14228, 14230, 14231, 14232, 14233, 14234, 14235, 14236, 14237, 14238, 14239, 14240, 14241, 14242, 14244, 14245, 14246, 14247, 14248, 14249, 14250, 14251, 14252, 14253, 14254, 14255, 14256, 14257, 14258, 14259, 14260, 14337, 14367, 14385, 14407, 14409, 14420, 14421, 14432, 14436, 14437, 14439, 14442, 14449, 14450, 14451, 14458, 14459, 14462, 14463, 14464, 14467, 14469, 14471, 14475, 14479, 14480, 14482, 14483, 14484, 14485, 14490, 14493, 14496, 14498, 14499, 14501, 14503, 14508, 14511, 14513, 14514, 14516, 14519, 14522, 14523, 14528, 14529, 14530, 14533, 14539, 14540, 14544, 14550, 14552, 14558, 14559, 14560, 14563, 14567, 14568, 14571, 14572, 14574, 14575, 14576, 14578, 14579, 14580, 14582, 14584, 14585, 14586, 14590, 14599, 14602, 14603, 14605, 14606, 14607, 14609, 14611, 14612, 14613, 14614, 14615, 14616, 14617, 14618, 14619, 14623, 14626, 14627, 14628, 14629, 14630, 14631, 14633, 14634, 14635, 14636, 14637, 14638, 14640, 14642, 14643, 14644, 14645, 14646, 14647, 14648, 14649, 14650, 14651, 14652, 14655, 14656, 14657, 14659, 14660, 14663, 14664, 14665, 14666, 14667, 14669, 14670, 14671, 14673, 14674, 14675, 14677, 14678, 14679, 14681, 14683, 14685, 14686, 14687, 14688, 14689, 14690, 14691, 14692, 14693, 14694, 14695, 14696, 14697, 14700, 14702, 14703, 14704, 14705, 14706, 14707, 14708, 14709, 14710, 14711, 14712, 14713, 14714, 14715, 14716, 14717, 14718, 14719, 14720, 14721, 14722, 14724, 14725, 14726, 14727, 14728, 14729, 14730, 14731, 14732, 14846, 14866, 14886, 14887, 14889, 14897, 14898, 14918, 14920, 14925, 14926, 14928, 14931, 14932, 14933, 14937, 14940, 14941, 14944, 14946, 14948, 14952, 14958, 14959, 14963, 14964, 14966, 14968, 14969, 14971, 14972, 14974, 14975, 14978, 14979, 14980, 14986, 14989, 14990, 14991, 14992, 14994, 14998, 15000, 15002, 15003, 15005, 15006, 15008, 15010, 15011, 15012, 15014, 15019, 15020, 15021, 15022, 15023, 15024, 15025, 15026, 15028, 15029, 15030, 15032, 15033, 15034, 15035, 15037, 15038, 15040, 15041, 15042, 15043, 15044, 15045, 15046, 15047, 15049, 15050, 15051, 15052, 15053, 15055, 15056, 15058, 15059, 15060, 15061, 15065, 15066, 15068, 15071, 15074, 15075, 15076, 15077, 15078, 15079, 15081, 15082, 15085, 15087, 15088, 15089, 15090, 15091, 15093, 15094, 15096, 15098, 15099, 15100, 15101, 15102, 15103, 15104, 15106, 15109, 15110, 15111, 15112, 15113, 15114, 15115, 15116, 15117, 15118, 15119, 15121, 15122, 15123, 15124, 15125, 15126, 15127, 15128, 15129, 15130, 15131, 15132, 15133, 15135, 15136, 15179, 15200, 15202, 15206, 15209, 15214, 15218, 15220, 15221, 15225, 15233, 15234, 15236, 15237, 15238, 15240, 15243, 15245, 15248, 15249, 15250, 15252, 15256, 15258, 15260, 15261, 15262, 15263, 15264, 15265, 15266, 15267, 15270, 15271, 15272, 15273, 15279, 15281, 15283, 15287, 15288, 15293, 15295, 15298, 15299, 15300, 15301, 15302, 15303, 15304, 15305, 15306, 15307, 15309, 15310, 15311, 15312, 15313, 15314, 15316, 15317, 15318, 15319, 15320, 15323, 15324, 15327, 15329, 15330, 15331, 15332, 15335, 15336, 15337, 15338, 15339, 15342, 15343, 15344, 15347, 15349, 15350, 15351, 15353, 15357, 15358, 15359, 15361, 15362, 15363, 15364, 15365, 15366, 15368, 15369, 15370, 15372, 15373, 15374, 15375, 15376, 15377, 15379, 15380, 15381, 15382, 15383, 15384, 15386, 15387, 15388, 15389, 15390, 15391, 15392, 15393, 15394, 15395, 15396, 15397, 15398, 15399, 15400, 15401, 15402, 15403, 15404, 15405, 15406, 15407, 15408, 15409, 15410, 15411, 15412, 15414, 15415, 15416, 15417, 15418, 15419, 15420, 15421, 15422, 15423, 15424, 15425, 15426, 15427, 15535, 15542, 15550, 15555, 15575, 15586, 15588, 15589, 15592, 15597, 15598, 15610, 15614, 15617, 15618, 15621, 15623, 15626, 15628, 15629, 15631, 15632, 15636, 15637, 15638, 15640, 15641, 15642, 15643, 15644, 15645, 15646, 15647, 15649, 15651, 15654, 15655, 15657, 15658, 15660, 15662, 15664, 15665, 15668, 15669, 15670, 15672, 15673, 15674, 15675, 15676, 15678, 15679, 15680, 15681, 15683, 15684, 15685, 15686, 15687, 15688, 15689, 15691, 15692, 15693, 15694, 15696, 15697, 15698, 15699, 15700, 15701, 15702, 15703, 15704, 15705, 15728, 15740, 15746, 15757, 15763, 15767, 15770, 15771, 15778, 15779, 15788, 15792, 15806, 15809, 15811, 15815, 15820, 15821, 15825, 15826, 15828, 15829, 15830, 15837, 15840, 15841, 15848, 15849, 15851, 15855, 15856, 15857, 15860, 15863, 15864, 15866, 15867, 15869, 15870, 15871, 15873, 15874, 15877, 15879, 15881, 15882, 15883, 15885, 15886, 15888, 15890, 15891, 15895, 15897, 15900, 15901, 15903, 15904, 15905, 15906, 15909, 15910, 15911, 15912, 15913, 15915, 15916, 15917, 15919, 15920, 15921, 15924, 15925, 15926, 15928, 15929, 15930, 15931, 15932, 15933, 15934, 15935, 15936, 15937, 15939, 15940, 15941, 15943, 15944, 15945, 15946, 15947, 15948, 15950, 15951, 15952, 15954, 15956, 15957, 15958, 15959, 15960, 15961, 15962, 15963, 15964, 15965, 15966, 15968, 15969, 15970, 15971, 15972, 15973, 15974, 15975, 15976, 15977, 15978, 16040, 16054, 16058, 16059, 16061, 16065, 16075, 16079, 16080, 16083, 16085, 16089, 16090, 16093, 16099, 16101, 16105, 16107, 16110, 16112, 16113, 16114, 16116, 16118, 16119, 16120, 16123, 16127, 16129, 16130, 16131, 16133, 16134, 16135, 16136, 16137, 16138, 16140, 16141, 16143, 16144, 16145, 16148, 16149, 16150, 16153, 16154, 16156, 16157, 16158, 16161, 16163, 16164, 16165, 16168, 16170, 16171, 16172, 16173, 16174, 16175, 16177, 16178, 16179, 16182, 16183, 16185, 16186, 16188, 16189, 16190, 16191, 16192, 16193, 16194, 16195, 16196, 16197, 16198, 16199, 16202, 16204, 16207, 16208, 16209, 16210, 16211, 16213, 16214, 16216, 16217, 16218, 16220, 16222, 16223, 16224, 16225, 16227, 16228, 16229, 16230, 16231, 16232, 16234, 16235, 16238, 16239, 16240, 16241, 16242, 16243, 16244, 16245, 16246, 16311, 16315, 16317, 16321, 16323, 16325, 16329, 16330, 16333, 16335, 16339, 16340, 16344, 16347, 16349, 16352, 16354, 16355, 16356, 16360, 16361, 16369, 16370, 16375, 16379, 16380, 16381, 16382, 16385, 16387, 16388, 16392, 16393, 16397, 16399, 16403, 16404, 16405, 16406, 16407, 16408, 16409, 16411, 16412, 16413, 16414, 16416, 16419, 16424, 16425, 16426, 16428, 16429, 16431, 16432, 16433, 16435, 16436, 16437, 16440, 16441, 16442, 16443, 16446, 16448, 16449, 16450, 16451, 16452, 16453, 16454, 16456, 16457, 16458, 16461, 16462, 16463, 16464, 16465, 16466, 16467, 16468, 16469, 16470, 16472, 16473, 16474, 16475, 16476, 16477, 16478, 16480, 16481, 16482, 16483, 16484, 16486, 16487, 16488, 16489, 16490, 16491, 16492, 16493, 16494, 16495, 16576, 16577, 16582, 16591, 16592, 16594, 16600, 16601, 16602, 16608, 16617, 16619, 16622, 16628, 16631, 16632, 16634, 16638, 16641, 16642, 16644, 16645, 16646, 16648, 16650, 16651, 16652, 16653, 16654, 16655, 16656, 16657, 16658, 16659, 16661, 16662, 16663, 16664, 16666, 16667, 16668, 16669, 16670, 16671, 16674, 16676, 16677, 16678, 16680, 16681, 16683, 16684, 16685, 16686, 16687, 16688, 16692, 16693, 16694, 16695, 16699, 16700, 16701, 16702, 16703, 16704, 16706, 16707, 16708, 16709, 16710, 16711, 16712, 16713, 16714, 16717, 16718, 16719, 16721, 16723, 16724, 16725, 16726, 16727, 16728, 16729, 16730, 16731, 16732, 16733, 16734, 16735, 16736, 16737, 16738, 16739, 16740, 16741, 16785, 16800, 16812, 16821, 16822, 16832, 16833, 16834, 16836, 16837, 16841, 16845, 16846, 16849, 16850, 16852, 16855, 16856, 16863, 16864, 16865, 16869, 16870, 16872, 16873, 16875, 16876, 16877, 16879, 16880, 16882, 16883, 16884, 16886, 16888, 16889, 16892, 16893, 16894, 16895, 16898, 16899, 16900, 16902, 16905, 16907, 16909, 16911, 16912, 16913, 16915, 16916, 16917, 16918, 16919, 16920, 16922, 16923, 16924, 16925, 16928, 16929, 16930, 16931, 16932, 16933, 16934, 16935, 16937, 16939, 16940, 16941, 16942, 16943, 16944, 16945, 16946, 16947, 16948, 16949, 16950, 16951, 16952, 16953, 16954, 16955, 16956, 16958, 16959, 16960, 16961, 16962, 16963, 16965, 16966, 16967, 16968, 16969, 16970, 16971, 16972, 16973, 16974, 16976, 16977, 16978, 16979, 16980, 16981, 16982, 16983, 16984, 17012, 17020, 17030, 17036, 17037, 17041, 17043, 17045, 17048, 17051, 17054, 17055, 17057, 17059, 17064, 17069, 17073, 17077, 17080, 17085, 17086, 17088, 17089, 17090, 17091, 17092, 17093, 17094, 17095, 17096, 17097, 17098, 17099, 17100, 17102, 17103, 17105, 17106, 17108, 17109, 17111, 17112, 17114, 17116, 17119, 17121, 17122, 17123, 17126, 17127, 17128, 17129, 17130, 17131, 17132, 17133, 17134, 17135, 17136, 17139, 17140, 17141, 17142, 17144, 17147, 17148, 17149, 17150, 17152, 17154, 17155, 17156, 17157, 17158, 17160, 17161, 17162, 17163, 17165, 17166, 17167, 17168, 17169, 17170, 17171, 17172, 17173, 17174, 17176, 17177, 17179, 17181, 17182, 17183, 17184, 17185, 17186, 17187, 17189, 17190, 17191, 17192, 17193, 17194, 17195, 17196, 17197, 17198, 17199, 17200, 17201, 17274, 17285, 17293, 17295, 17298, 17300, 17301, 17302, 17303, 17307, 17310, 17311, 17312, 17313, 17315, 17316, 17319, 17321, 17325, 17327, 17328, 17329, 17330, 17332, 17339, 17341, 17342, 17346, 17347, 17349, 17350, 17351, 17352, 17356, 17358, 17360, 17362, 17363, 17364, 17365, 17369, 17370, 17372, 17373, 17375, 17376, 17377, 17379, 17380, 17381, 17384, 17385, 17386, 17388, 17389, 17390, 17391, 17394, 17395, 17396, 17397, 17399, 17401, 17402, 17403, 17404, 17405, 17407, 17408, 17409, 17410, 17411, 17427, 17434, 17449, 17450, 17455, 17465, 17467, 17470, 17473, 17480, 17481, 17485, 17486, 17492, 17496, 17500, 17502, 17503, 17506, 17507, 17508, 17509, 17510, 17512, 17519, 17522, 17523, 17524, 17527, 17530, 17532, 17536, 17537, 17538, 17541, 17542, 17544, 17545, 17546, 17551, 17552, 17553, 17556, 17557, 17558, 17560, 17561, 17562, 17563, 17564, 17567, 17568, 17569, 17574, 17577, 17578, 17579, 17580, 17581, 17582, 17583, 17584, 17585, 17587, 17589, 17592, 17594, 17595, 17596, 17597, 17599, 17600, 17602, 17603, 17604, 17605, 17606, 17607, 17608, 17609, 17610, 17611, 17612, 17614, 17615, 17617, 17618, 17619, 17620, 17636, 17646, 17653, 17663, 17676, 17678, 17679, 17680, 17682, 17688, 17692, 17695, 17699, 17702, 17705, 17708, 17712, 17713, 17714, 17715, 17716, 17717, 17719, 17722, 17723, 17726, 17727, 17729, 17730, 17735, 17736, 17738, 17739, 17740, 17741, 17742, 17743, 17746, 17747, 17749, 17752, 17753, 17755, 17757, 17758, 17759, 17760, 17761, 17762, 17763, 17765, 17767, 17768, 17770, 17771, 17773, 17774, 17777, 17778, 17779, 17780, 17782, 17783, 17785, 17786, 17787, 17788, 17789, 17791, 17792, 17793, 17795, 17796, 17799, 17800, 17801, 17802, 17803, 17804, 17805, 17806, 17807, 17808, 17809, 17810, 17811, 17812, 17813, 17814, 17815, 17816, 17817, 17818, 17819, 17830, 17849, 17850, 17854, 17856, 17858, 17859, 17863, 17867, 17870, 17874, 17875, 17876, 17877, 17880, 17881, 17882, 17883, 17885, 17886, 17887, 17891, 17893, 17894, 17895, 17896, 17897, 17898, 17903, 17904, 17905, 17907, 17908, 17909, 17912, 17913, 17914, 17915, 17916, 17917, 17918, 17919, 17920, 17921, 17923, 17924, 17925, 17926, 17928, 17929, 17930, 17931, 17932, 17933, 17934, 17936, 17937, 17938, 17939, 17941, 17942, 17943, 17945, 17946, 17947, 17948, 17949, 17951, 17952, 17953, 17954, 17957, 17958, 17959, 17960, 17961, 17962, 17963, 17964, 17965, 17966, 17967, 17968, 17969, 17970, 17971, 17972, 17976, 17977, 17978, 17979, 17980, 17981, 17983, 17984, 17985, 17986, 17987, 17988, 17989, 17991, 17993, 17994, 17995, 17996, 17998, 18000, 18001, 18002, 18003, 18004, 18005, 18006, 18007, 18008, 18009, 18010, 18011, 18012, 18013, 18014, 18015, 18016, 18036, 18038, 18039, 18044, 18045, 18054, 18057, 18062, 18063, 18065, 18066, 18067, 18070, 18071, 18072, 18073, 18074, 18075, 18082, 18083, 18084, 18085, 18086, 18088, 18091, 18092, 18093, 18097, 18098, 18099, 18100, 18101, 18102, 18103, 18108, 18110, 18111, 18113, 18114, 18117, 18118, 18119, 18122, 18124, 18125, 18127, 18129, 18130, 18133, 18134, 18135, 18136, 18137, 18138, 18140, 18141, 18144, 18145, 18146, 18147, 18148, 18149, 18150, 18153, 18154, 18157, 18158, 18159, 18161, 18163, 18164, 18165, 18166, 18167, 18168, 18172, 18173, 18174, 18175, 18176, 18177, 18178, 18179, 18180, 18181, 18182, 18183, 18184, 18185, 18186, 18187, 18188, 18189, 18190, 18191, 18235, 18242, 18244, 18245, 18248, 18252, 18255, 18258, 18259, 18260, 18261, 18262, 18267, 18268, 18269, 18271, 18273, 18274, 18277, 18278, 18282, 18283, 18284, 18285, 18286, 18287, 18288, 18289, 18290, 18291, 18292, 18293, 18294, 18295, 18296, 18297, 18299, 18302, 18303, 18306, 18307, 18308, 18309, 18310, 18312, 18313, 18314, 18315, 18316, 18320, 18321, 18323, 18324, 18325, 18326, 18328, 18329, 18330, 18331, 18332, 18333, 18334, 18335, 18337, 18338, 18339, 18340, 18341, 18342, 18343, 18345, 18375, 18376, 18377, 18385, 18386, 18388, 18397, 18402, 18404, 18406, 18410, 18417, 18418, 18420, 18422, 18423, 18424, 18426, 18427, 18428, 18429, 18430, 18432, 18433, 18435, 18437, 18439, 18441, 18444, 18446, 18448, 18449, 18453, 18454, 18455, 18458, 18459, 18460, 18461, 18462, 18463, 18464, 18465, 18466, 18467, 18469, 18470, 18472, 18473, 18475, 18476, 18478, 18479, 18480, 18483, 18484, 18485, 18486, 18487, 18488, 18489, 18491, 18492, 18493, 18494, 18495, 18496, 18498, 18510, 18512, 18524, 18529, 18532, 18533, 18534, 18538, 18539, 18543, 18544, 18546, 18547, 18549, 18552, 18555, 18558, 18559, 18561, 18562, 18564, 18567, 18568, 18572, 18574, 18577, 18579, 18580, 18582, 18584, 18585, 18587, 18589, 18590, 18591, 18593, 18595, 18596, 18597, 18598, 18600, 18601, 18602, 18605, 18606, 18607, 18609, 18611, 18612, 18613, 18614, 18616, 18618, 18619, 18620, 18621, 18622, 18623, 18624, 18625, 18626, 18632, 18633, 18634, 18635, 18636, 18637, 18638, 18639, 18641, 18642, 18643, 18644, 18645, 18646, 18647, 18648, 18649, 18650, 18676, 18689, 18692, 18699, 18704, 18711, 18714, 18716, 18717, 18720, 18724, 18727, 18728, 18730, 18731, 18735, 18736, 18737, 18739, 18740, 18741, 18743, 18744, 18748, 18749, 18750, 18753, 18755, 18756, 18760, 18761, 18762, 18765, 18767, 18769, 18770, 18771, 18772, 18773, 18774, 18775, 18776, 18778, 18779, 18780, 18781, 18782, 18783, 18784, 18786, 18787, 18788, 18789, 18790, 18791, 18792, 18793, 18794, 18795, 18796, 18797, 18798, 18802, 18816, 18821, 18822, 18823, 18832, 18837, 18838, 18844, 18846, 18849, 18856, 18858, 18862, 18868, 18869, 18871, 18874, 18875, 18876, 18877, 18878, 18879, 18881, 18885, 18887, 18890, 18892, 18893, 18895, 18896, 18898, 18900, 18901, 18902, 18904, 18905, 18906, 18907, 18908, 18909, 18910, 18914, 18915, 18917, 18918, 18919, 18920, 18921, 18922, 18923, 18924, 18925, 18926, 18927, 18928, 18929, 18930, 18931, 18932, 18933, 18934, 18935, 18936, 18938, 18939, 18940, 18941, 18942, 18943, 18952, 18968, 18971, 18972, 18976, 18978, 18982, 18992, 18994, 18998, 18999, 19000, 19001, 19002, 19003, 19004, 19008, 19009, 19011, 19014, 19016, 19017, 19020, 19021, 19022, 19027, 19030, 19031, 19032, 19033, 19034, 19035, 19036, 19037, 19038, 19039, 19041, 19042, 19044, 19046, 19047, 19048, 19049, 19050, 19051, 19053, 19055, 19056, 19057, 19058, 19059, 19060, 19062, 19063, 19064, 19065, 19066, 19067, 19068, 19069, 19070, 19072, 19073, 19075, 19076, 19077, 19078, 19079, 19081, 19082, 19083, 19084, 19085, 19086, 19101, 19107, 19111, 19113, 19114, 19118, 19128, 19132, 19134, 19137, 19139, 19141, 19142, 19144, 19145, 19146, 19147, 19149, 19150, 19151, 19152, 19156, 19157, 19159, 19160, 19161, 19163, 19164, 19167, 19169, 19170, 19172, 19173, 19177, 19179, 19181, 19182, 19183, 19184, 19185, 19186, 19187, 19189, 19191, 19192, 19194, 19195, 19198, 19199, 19200, 19203, 19204, 19205, 19206, 19207, 19208, 19209, 19210, 19213, 19214, 19216, 19217, 19218, 19219, 19220, 19221, 19245, 19249, 19256, 19262, 19266, 19269, 19273, 19274, 19275, 19278, 19279, 19288, 19289, 19294, 19295, 19296, 19297, 19299, 19300, 19303, 19307, 19309, 19310, 19311, 19312, 19313, 19315, 19316, 19317, 19322, 19323, 19324, 19326, 19327, 19328, 19329, 19330, 19331, 19333, 19334, 19335, 19336, 19337, 19338, 19339, 19340, 19341, 19343, 19344, 19345, 19346, 19347, 19348, 19349, 19350, 19351, 19352, 19353, 19354, 19355, 19356, 19379, 19391, 19395, 19398, 19401, 19402, 19404, 19408, 19409, 19413, 19415, 19417, 19419, 19420, 19422, 19423, 19425, 19426, 19428, 19431, 19432, 19435, 19436, 19438, 19440, 19441, 19442, 19443, 19444, 19445, 19446, 19447, 19450, 19451, 19452, 19453, 19454, 19455, 19456, 19459, 19460, 19461, 19462, 19463, 19464, 19465, 19466, 19467, 19468, 19469, 19470, 19471, 19472, 19473, 19474, 19475, 19476, 19477, 19479, 19480, 19481, 19482, 19483, 19484, 19504, 19510, 19513, 19516, 19517, 19519, 19522, 19524, 19529, 19530, 19531, 19533, 19534, 19535, 19536, 19539, 19543, 19544, 19553, 19554, 19555, 19556, 19557, 19558, 19559, 19561, 19564, 19567, 19568, 19569, 19570, 19571, 19572, 19573, 19574, 19576, 19577, 19578, 19579, 19580, 19581, 19582, 19583, 19584, 19589, 19590, 19591, 19592, 19593, 19594, 19595, 19596, 19597, 19598, 19599, 19600, 19601, 19602, 19603, 19604, 19605, 19606, 19667, 19672, 19673, 19677, 19680, 19683, 19685, 19687, 19689, 19690, 19691, 19693, 19695, 19697, 19698, 19699, 19700, 19703, 19704, 19708, 19710, 19711, 19712, 19713, 19714, 19716, 19717, 19719, 19720, 19721, 19723, 19724, 19753, 19754, 19776, 19778, 19783, 19785, 19791, 19792, 19794, 19796, 19797, 19798, 19802, 19803, 19807, 19809, 19810, 19814, 19816, 19818, 19819, 19820, 19821, 19823, 19824, 19825, 19826, 19827, 19828, 19829, 19831, 19832, 19833, 19834, 19835, 19836, 19837, 19838, 19839, 19840, 19841, 19858, 19860, 19879, 19883, 19884, 19894, 19895, 19896, 19907, 19909, 19910, 19913, 19919, 19921, 19922, 19923, 19930, 19933, 19934, 19935, 19936, 19937, 19938, 19939, 19940, 19941, 19942, 19943, 19944, 19945, 19946, 19947, 19949, 19950, 19952, 19953, 19954, 19955, 19956, 19969, 19977, 19978, 19980, 19983, 19991, 19992, 19998, 20001, 20004, 20005, 20008, 20009, 20010, 20011, 20013, 20015, 20016, 20017, 20019, 20021, 20025, 20026, 20028, 20031, 20032, 20033, 20034, 20035, 20036, 20039, 20040, 20042, 20047, 20048, 20049, 20050, 20051, 20052, 20053, 20054, 20056, 20057, 20058, 20059, 20060, 20061, 20062, 20063, 20064, 20066, 20067, 20095, 20105, 20106, 20108, 20112, 20117, 20118, 20122, 20123, 20128, 20129, 20130, 20132, 20133, 20134, 20136, 20137, 20138, 20141, 20142, 20143, 20144, 20145, 20146, 20147, 20148, 20150, 20151, 20153, 20155, 20156, 20157, 20158, 20160, 20161, 20162, 20163, 20164, 20165, 20166, 20167, 20168, 20191, 20192, 20193, 20199, 20203, 20204, 20205, 20206, 20211, 20213, 20215, 20216, 20218, 20219, 20221, 20223, 20224, 20226, 20228, 20229, 20230, 20231, 20232, 20233, 20236, 20237, 20239, 20241, 20242, 20243, 20244, 20246, 20247, 20248, 20249, 20250, 20252, 20253, 20254, 20255, 20256, 20257, 20259, 20260, 20261, 20262, 20263, 20283, 20300, 20303, 20304, 20307, 20308, 20310, 20311, 20312, 20314, 20318, 20322, 20327, 20328, 20330, 20332, 20334, 20337, 20339, 20340, 20342, 20343, 20344, 20345, 20346, 20347, 20348, 20349, 20350, 20351, 20352, 20353, 20354, 20356, 20357, 20379, 20383, 20385, 20387, 20396, 20397, 20398, 20401, 20402, 20403, 20404, 20405, 20406, 20408, 20409, 20410, 20413, 20414, 20415, 20416, 20418, 20419, 20420, 20421, 20422, 20423, 20424, 20425, 20426, 20427, 20429, 20431, 20432, 20433, 20434, 20435, 20436, 20437, 20438, 20439, 20440, 20441, 20444, 20445, 20446, 20447, 20463, 20466, 20468, 20473, 20474, 20475, 20478, 20479, 20483, 20485, 20488, 20489, 20491, 20492, 20494, 20495, 20498, 20500, 20501, 20502, 20503, 20505, 20508, 20511, 20512, 20513, 20514, 20515, 20516, 20517, 20518, 20519, 20520, 20521, 20522, 20523, 20524, 20525, 20526, 20527, 20528, 20529, 20530, 20531, 20532, 20533, 20564, 20572, 20574, 20576, 20579, 20580, 20582, 20584, 20589, 20590, 20593, 20597, 20600, 20603, 20604, 20607, 20608, 20609, 20610, 20611, 20612, 20613, 20614, 20615, 20616, 20617, 20618, 20666, 20669, 20671, 20672, 20673, 20675, 20676, 20677, 20679, 20681, 20683, 20684, 20685, 20686, 20689, 20690, 20693, 20695, 20696, 20697, 20698, 20700, 20701, 20717, 20725, 20737, 20739, 20740, 20746, 20747, 20748, 20749, 20750, 20752, 20754, 20755, 20757, 20759, 20760, 20763, 20764, 20765, 20770, 20771, 20772, 20773, 20774, 20775, 20776, 20777, 20779, 20780, 20781, 20782, 20783, 20805, 20807, 20808, 20809, 20823, 20825, 20826, 20828, 20829, 20834, 20836, 20837, 20838, 20839, 20842, 20845, 20846, 20847, 20848, 20849, 20850, 20851, 20852, 20854, 20855, 20856, 20857, 20859, 20860, 20861, 20862, 20863, 20864, 20892, 20898, 20899, 20900, 20904, 20905, 20908, 20909, 20910, 20911, 20912, 20913, 20916, 20918, 20919, 20921, 20922, 20923, 20926, 20927, 20928, 20929, 20931, 20932, 20933, 20936, 20937, 20938, 20939, 20940, 20954, 20960, 20963, 20966, 20968, 20970, 20972, 20974, 20975, 20978, 20979, 20980, 20982, 20984, 20985, 20986, 20989, 20990, 20991, 20992, 20993, 20994, 20997, 21000, 21003, 21004, 21006, 21007, 21008, 21009, 21010, 21011, 21012, 21013, 21014, 21016, 21018, 21024, 21025, 21027, 21033, 21034, 21046, 21047, 21048, 21050, 21051, 21054, 21057, 21059, 21061, 21067, 21068, 21070, 21071, 21072, 21073, 21074, 21075, 21076, 21077, 21079, 21080, 21081, 21083, 21084, 21085, 21086, 21087, 21091, 21108, 21109, 21112, 21114, 21115, 21117, 21118, 21119, 21120, 21123, 21124, 21130, 21131, 21134, 21136, 21138, 21141, 21142, 21143, 21145, 21146, 21147, 21150, 21152, 21153, 21154, 21155, 21156, 21157, 21158, 21161, 21167, 21175, 21177, 21178, 21179, 21181, 21185, 21187, 21188, 21189, 21191, 21193, 21194, 21195, 21196, 21199, 21201, 21202, 21203, 21205, 21207, 21208, 21209, 21210, 21211, 21212, 21214, 21215, 21217, 21218, 21219, 21223, 21225, 21226, 21227, 21228, 21229, 21249, 21253, 21256, 21261, 21262, 21263, 21264, 21265, 21266, 21268, 21269, 21271, 21272, 21275, 21276, 21277, 21278, 21279, 21280, 21281, 21282, 21283, 21284, 21285, 21286, 21287, 21288, 21289, 21291, 21293, 21294, 21300, 21302, 21310, 21314, 21315, 21317, 21325, 21334, 21335, 21337, 21338, 21339, 21340, 21341, 21342, 21345, 21346, 21348, 21350, 21351, 21352, 21353, 21354, 21355, 21356, 21357, 21365, 21373, 21379, 21380, 21382, 21384, 21387, 21391, 21392, 21395, 21400, 21403, 21404, 21405, 21406, 21407, 21408, 21409, 21410, 21412, 21413, 21419, 21424, 21426, 21427, 21429, 21430, 21431, 21433, 21435, 21436, 21442, 21444, 21445, 21447, 21448, 21449, 21450, 21451, 21452, 21455, 21456, 21457, 21459, 21460, 21461, 21462, 21463, 21464, 21465, 21466, 21467, 21487, 21488, 21494, 21497, 21498, 21499, 21500, 21501, 21503, 21505, 21506, 21508, 21509, 21511, 21515, 21516, 21517, 21519, 21542, 21545, 21546, 21547, 21548, 21549, 21550, 21551, 21552, 21553, 21555, 21557, 21558, 21559, 21560, 21561, 21563, 21566, 21567, 21568, 21569, 21570, 21571, 21581, 21582, 21585, 21586, 21588, 21590, 21592, 21593, 21595, 21596, 21600, 21603, 21604, 21605, 21606, 21609, 21612, 21613, 21614, 21615, 21616, 21617, 21618, 21620, 21621, 21622, 21633, 21636, 21641, 21643, 21646, 21647, 21648, 21649, 21652, 21654, 21655, 21656, 21657, 21659, 21660, 21662, 21663, 21666, 21667, 21668, 21669, 21670, 21671, 21672, 21686, 21687, 21689, 21691, 21692, 21695, 21696, 21697, 21698, 21700, 21702, 21706, 21707, 21708, 21709, 21710, 21712, 21716, 21717, 21718, 21719, 21720, 21721, 21727, 21729, 21731, 21732, 21733, 21734, 21735, 21736, 21737, 21738, 21740, 21741, 21745, 21746, 21747, 21749, 21751, 21753, 21754, 21756, 21757, 21758, 21759, 21760, 21761, 21763, 21764, 21765, 21766, 21767, 21768, 21769, 21770, 21780, 21789, 21792, 21793, 21795, 21796, 21797, 21798, 21799, 21800, 21802, 21803, 21804, 21806, 21809, 21810, 21811, 21813, 21816, 21817, 21818, 21825, 21829, 21830, 21831, 21832, 21834, 21836, 21838, 21840, 21841, 21842, 21846, 21847, 21849, 21850, 21851, 21852, 21853, 21854, 21855, 21856, 21857, 21858, 21859, 21861, 21862, 21863, 21864, 21883, 21884, 21887, 21890, 21891, 21894, 21895, 21897, 21899, 21900, 21901, 21902, 21903, 21904, 21905, 21906, 21907, 21908, 21909, 21910, 21919, 21931, 21938, 21940, 21941, 21942, 21946, 21947, 21948, 21949, 21950, 21952, 21953, 21954, 21955, 21980, 21981, 21983, 21984, 21985, 21989, 21992, 21995, 21996, 21997, 22016, 22017, 22020, 22021, 22023, 22024, 22025, 22027, 22028, 22029, 22030, 22031, 22032, 22034, 22035, 22036, 22037, 22038, 22039, 22051, 22052, 22055, 22058, 22059, 22062, 22063, 22065, 22068, 22069, 22070, 22072, 22074, 22075, 22076, 22078, 22079, 22080, 22081, 22089, 22098, 22099, 22102, 22103, 22108, 22109, 22111, 22112, 22116, 22117, 22118, 22119, 22120, 22122, 22127, 22128, 22130, 22132, 22135, 22139, 22142, 22143, 22144, 22145, 22146, 22149, 22151, 22152, 22153, 22154, 22156, 22157, 22158, 22159, 22160, 22161, 22162, 22163, 22170, 22171, 22172, 22175, 22179, 22181, 22182, 22183, 22184, 22187, 22188, 22189, 22191, 22192, 22193, 22195, 22196, 22197, 22198, 22200, 22203, 22208, 22209, 22210, 22213, 22215, 22216, 22220, 22221, 22222, 22223, 22226, 22227, 22229, 22230, 22231, 22233, 22234, 22235, 22236, 22237, 22238, 22239, 22241, 22242, 22251, 22252, 22253, 22256, 22259, 22260, 22262, 22265, 22266, 22268, 22269, 22270, 22271, 22275, 22277, 22278, 22279, 22293, 22297, 22299, 22301, 22302, 22303, 22304, 22305, 22308, 22309, 22311, 22312, 22313, 22321, 22327, 22334, 22335, 22341, 22342, 22346, 22347, 22348, 22349, 22350, 22360, 22370, 22371, 22373, 22374, 22377, 22380, 22383, 22384, 22385, 22386, 22392, 22393, 22397, 22399, 22400, 22401, 22402, 22404, 22406, 22407, 22408, 22409, 22410, 22411, 22412, 22413, 22414, 22415, 22416, 22417, 22418, 22419, 22420, 22421, 22426, 22427, 22430, 22431, 22432, 22434, 22437, 22438, 22440, 22441, 22442, 22444, 22445, 22446, 22447, 22448, 22449, 22450, 22452, 22453, 22454, 22455, 22456, 22460, 22465, 22467, 22468, 22470, 22471, 22472, 22473, 22474, 22477, 22478, 22480, 22481, 22483, 22484, 22485, 22487, 22488, 22498, 22499, 22500, 22503, 22504, 22505, 22508, 22509, 22510, 22511, 22512, 22515, 22516, 22517, 22518, 22519, 22520, 22521, 22530, 22531, 22535, 22541, 22542, 22544, 22545, 22547, 22549, 22550, 22551, 22552, 22553, 22554, 22555, 22561, 22564, 22567, 22569, 22572, 22573, 22576, 22579, 22580, 22582, 22583, 22584, 22585, 22586, 22591, 22599, 22601, 22603, 22604, 22606, 22607, 22608, 22609, 22611, 22615, 22616, 22617, 22620, 22624, 22625, 22626, 22627, 22628, 22631, 22632, 22633, 22634, 22636, 22637, 22638, 22639, 22640, 22641, 22643, 22644, 22645, 22646, 22647, 22648, 22656, 22657, 22658, 22659, 22660, 22663, 22665, 22667, 22668, 22669, 22671, 22672, 22673, 22674, 22676, 22677, 22685, 22687, 22688, 22689, 22692, 22693, 22694, 22695, 22698, 22699, 22700, 22701, 22702, 22703, 22704, 22705, 22706, 22727, 22728, 22729, 22730, 22731, 22732, 22733, 22744, 22745, 22746, 22748, 22750, 22751, 22753, 22754, 22755, 22756, 22757, 22758, 22760, 22765, 22767, 22771, 22772, 22775, 22776, 22778, 22782, 22783, 22784, 22785, 22786, 22787, 22795, 22797, 22800, 22801, 22802, 22803, 22805, 22806, 22807, 22809, 22811, 22812, 22813, 22818, 22821, 22822, 22827, 22833, 22834, 22835, 22837, 22838, 22839, 22849, 22850, 22857, 22858, 22860, 22861, 22862, 22867, 22869, 22871, 22875, 22878, 22880, 22881, 22882, 22883, 22887, 22889, 22890, 22892, 22894, 22896, 22898, 22899, 22900, 22901, 22902, 22903, 22904, 22912, 22913, 22916, 22918, 22920, 22922, 22923, 22924, 22927, 22932, 22934, 22935, 22937, 22941, 22942, 22943, 22951, 22953, 22961, 22963, 22965, 22966, 22967, 22970, 22975, 22976, 22977, 22978, 22979, 22980, 22981, 22982, 22989, 22991, 22992, 22993, 22994, 22996, 22997, 22998, 22999, 23000, 23007, 23009, 23010, 23011, 23013, 23015, 23016, 23017, 23018, 23023, 23025, 23028, 23030, 23031, 23032, 23034, 23035, 23042, 23043, 23044, 23045, 23047, 23049, 23051, 23052, 23057, 23062, 23063, 23064, 23066, 23067, 23068, 23069, 23077, 23078, 23079, 23080, 23083, 23085, 23090, 23091, 23092, 23095, 23096, 23097, 23098, 23100, 23101, 23104, 23106, 23107, 23108, 23109, 23110, 23111, 23112, 23113, 23115, 23116, 23117, 23120, 23121, 23122, 23123, 23125, 23128, 23129, 23131, 23132, 23133, 23145, 23146, 23147, 23148, 23149, 23151, 23152, 23158, 23159, 23161, 23162, 23163, 23170, 23173, 23175, 23176, 23177, 23180, 23185, 23187, 23188, 23191, 23194, 23197, 23198, 23200, 23201, 23203, 23204, 23205, 23211, 23212, 23214, 23216, 23217, 23218, 23224, 23225, 23228, 23229, 23230, 23231, 23235, 23236, 23238, 23239, 23240, 23241, 23242, 23243, 23244, 23249, 23254, 23256, 23257, 23260, 23264, 23266, 23267, 23268, 23269, 23270, 23279, 23280, 23281, 23282, 23288, 23289, 23290, 23291, 23292, 23293, 23294, 23299, 23300, 23301, 23303, 23304, 23305, 23306, 23310, 23313, 23314, 23316, 23317, 23318, 23320, 23321, 23324, 23325, 23326, 23327, 23328, 23329, 23330, 23331, 23332, 23333, 23334, 23335, 23336, 23337, 23338, 23343, 23344, 23345, 23346, 23347, 23349, 23351, 23352, 23355, 23357, 23360, 23364, 23365, 23366, 23369, 23372, 23373, 23374, 23375, 23378, 23379, 23380, 23381, 23382, 23383, 23384, 23385, 23386, 23388, 23389, 23390, 23392, 23396, 23397, 23398, 23400, 23402, 23404, 23405, 23406, 23407, 23408, 23413, 23414, 23415, 23416, 23417, 23418, 23420, 23421, 23423, 23425, 23428, 23429, 23430, 23434, 23436, 23437, 23441, 23442, 23450, 23455, 23457, 23463, 23464, 23465, 23466, 23467, 23469, 23470, 23471, 23473, 23475, 23477, 23480, 23481, 23482, 23483, 23487, 23488, 23492, 23493, 23494, 23497, 23498, 23507, 23508, 23509, 23510, 23511, 23512, 23513, 23518, 23522, 23523, 23526, 23527, 23529, 23530, 23533, 23534, 23535, 23537, 23539, 23540, 23541, 23542, 23547, 23550, 23552, 23559, 23561]\n"
          ],
          "name": "stdout"
        }
      ]
    },
    {
      "cell_type": "code",
      "metadata": {
        "colab": {
          "base_uri": "https://localhost:8080/"
        },
        "id": "XmnKJrz1D2Rx",
        "outputId": "fdf628b2-0275-4f79-bca5-14889f9c93ec"
      },
      "source": [
        "df_drop_english.index"
      ],
      "execution_count": null,
      "outputs": [
        {
          "output_type": "execute_result",
          "data": {
            "text/plain": [
              "Int64Index([ 1000,  1001, 10998, 10869,  1008,  2739, 10430,  8393,  1330,\n",
              "            10871,\n",
              "            ...\n",
              "            18831, 19552, 16994,  3763, 19998,  3763, 19998, 20846, 14436,\n",
              "            17936],\n",
              "           dtype='int64', name='id', length=13296)"
            ]
          },
          "metadata": {
            "tags": []
          },
          "execution_count": 62
        }
      ]
    },
    {
      "cell_type": "code",
      "metadata": {
        "id": "5n4v1I568F1F"
      },
      "source": [
        "df_drop_english.to_csv('/gdrive/My Drive/50625/problem_drop_english.csv')"
      ],
      "execution_count": null,
      "outputs": []
    },
    {
      "cell_type": "markdown",
      "metadata": {
        "id": "prwd1zOC_8Tq"
      },
      "source": [
        "**외국어 지문만 있는 dataset 생성**\n",
        "1. iterate하면서, 외국어로만 이루어져 있는 지문만 남긴다."
      ]
    },
    {
      "cell_type": "code",
      "metadata": {
        "id": "vqaguaA0-zI7"
      },
      "source": [
        "only_english_list = []\n",
        "\n",
        "for i in df.index :\n",
        "    if check_korean(df.loc[i,\"description\"]) :\n",
        "        only_english_list.append(i)\n",
        "\n",
        "df_only_english = df.drop(only_english_list)\n",
        "df_only_english.set_index('id', inplace=True)\n",
        "\n",
        "df_only_english.to_csv('/gdrive/My Drive/50625/problem_only_english.csv')"
      ],
      "execution_count": null,
      "outputs": []
    },
    {
      "cell_type": "markdown",
      "metadata": {
        "id": "rWULfmI-AfYe"
      },
      "source": [
        "**외국어 지문 제외한 df_drop_english에서 다시 지문 길이 세기**"
      ]
    },
    {
      "cell_type": "code",
      "metadata": {
        "colab": {
          "base_uri": "https://localhost:8080/"
        },
        "id": "C444SQLCBOTd",
        "outputId": "c6131878-36ae-4870-b655-d285ec9cda25"
      },
      "source": [
        "df_drop_english.index"
      ],
      "execution_count": null,
      "outputs": [
        {
          "output_type": "execute_result",
          "data": {
            "text/plain": [
              "Int64Index([ 1000,  1001, 10998, 10869,  1008,  2739, 10430,  8393,  1330,\n",
              "            10871,\n",
              "            ...\n",
              "            18831, 19552, 16994,  3763, 19998,  3763, 19998, 20846, 14436,\n",
              "            17936],\n",
              "           dtype='int64', name='id', length=13296)"
            ]
          },
          "metadata": {
            "tags": []
          },
          "execution_count": 74
        }
      ]
    },
    {
      "cell_type": "code",
      "metadata": {
        "colab": {
          "base_uri": "https://localhost:8080/",
          "height": 313
        },
        "id": "mOE-e79t_mjU",
        "outputId": "0425a74b-73d6-4716-ff5c-639ad707da30"
      },
      "source": [
        "X_data = list()\n",
        "for x in range(len(df_drop_english.index)) :\n",
        "    X_data.append(len(df_drop_english[\"description\"].iloc[x]))\n",
        "\n",
        "\n",
        "plt.hist([int(s/10)*10 for s in X_data], bins=300)\n",
        "plt.xlim(0,4000)\n",
        "plt.xlabel('length of samples')\n",
        "plt.ylabel('number of samples')\n",
        "plt.show()\n",
        "\n",
        "np_length_list = np.array(X_data)\n",
        "\n",
        "\n",
        "print('average length : ', np.mean(np_length_list))\n",
        "print('median length : ', np.median(np_length_list))"
      ],
      "execution_count": null,
      "outputs": [
        {
          "output_type": "display_data",
          "data": {
            "image/png": "[encoded data removed]",
            "text/plain": [
              "<Figure size 432x288 with 1 Axes>"
            ]
          },
          "metadata": {
            "tags": [],
            "needs_background": "light"
          }
        },
        {
          "output_type": "stream",
          "text": [
            "average length :  485.81580926594467\n",
            "median length :  417.0\n"
          ],
          "name": "stdout"
        }
      ]
    },
    {
      "cell_type": "markdown",
      "metadata": {
        "id": "unMXav5GLL0A"
      },
      "source": [
        "**총 몇개의 알고리즘이 있는지 체크**\n",
        "\n",
        "1. 총 167개의 알고리즘이 있다.\n",
        "2. 이중에서 우리가 찾는 알고리즘이 있는지 ?\n",
        "3. 겹치는 알고리즘 선별해서 추이를 파악해야 될듯"
      ]
    },
    {
      "cell_type": "code",
      "metadata": {
        "id": "S6gTdT9vLOTK"
      },
      "source": [
        "temp = list(df_drop_english[\"tag\"])\n",
        "algo_dict = dict()\n",
        "for tmp in temp :\n",
        "    if tmp in algo_dict :\n",
        "        algo_dict[tmp] += 1\n",
        "    else :\n",
        "        algo_dict[tmp] = list()\n",
        "        algo_dict[tmp].append()\n",
        "\n",
        "print(\"(알고리즘 이름,\",\"문제 개수)\")\n",
        "for item in algo_dict.items() :\n",
        "    print(item)\n",
        "\n",
        "print(len(set(temp)))\n",
        "\n",
        "# mathmatic"
      ],
      "execution_count": null,
      "outputs": []
    },
    {
      "cell_type": "markdown",
      "metadata": {
        "id": "b6pdbTtPLEYs"
      },
      "source": [
        "**우리가 정한 라벨 이외의 알고리즘 문제들을 제거**\n",
        "\n",
        "1. bruteforcing\n",
        "2. 구현\n",
        "3. greedy\n",
        "4. binary search\n",
        "5. DFS\n",
        "6. BFS\n",
        "7. dijkstra\n",
        "8. mathmatics - 애매한 문제 → 너무 포괄적 \n",
        "9. string\n",
        "10. dynamic programming\n",
        "11. divide and conquer"
      ]
    },
    {
      "cell_type": "code",
      "metadata": {
        "id": "WXD5UBX6ANTA"
      },
      "source": [
        "df_drop_english = pd.read_csv('/gdrive/My Drive/50625/problem_drop_english.csv')\n"
      ],
      "execution_count": 7,
      "outputs": []
    },
    {
      "cell_type": "code",
      "metadata": {
        "colab": {
          "base_uri": "https://localhost:8080/"
        },
        "id": "RHEvAWiIptUV",
        "outputId": "07084ef3-9c65-45ec-c979-aea7d66cb72f"
      },
      "source": [
        "def check_label(temp) :\n",
        "    if temp in label_list :\n",
        "        return True\n",
        "\n",
        "drop_list = list()\n",
        "not_drop_list = list()\n",
        "for i in range(len(df_drop_english.index)) :  \n",
        "    temp = df_drop_english[\"tag\"].iloc[i]\n",
        "    if not check_label(temp) :\n",
        "        drop_list.append(i)\n",
        "    else :\n",
        "        not_drop_list.append(i)\n",
        "\n",
        "drop_list = [df_drop_english.index[i] for i in drop_list]\n",
        "print(len(set(drop_list)))\n",
        "print(len(drop_list))\n",
        "print(len(not_drop_list))\n",
        "df_drop_non_related_tag = df_drop_english.drop(drop_list)"
      ],
      "execution_count": 13,
      "outputs": [
        {
          "output_type": "stream",
          "text": [
            "7650\n",
            "7650\n",
            "5646\n"
          ],
          "name": "stdout"
        }
      ]
    },
    {
      "cell_type": "code",
      "metadata": {
        "colab": {
          "base_uri": "https://localhost:8080/"
        },
        "id": "6mekxdz9w1eR",
        "outputId": "d2469bcb-4f4f-41e3-c7d4-f2b096572922"
      },
      "source": [
        "len(df_drop_non_related_tag.index)"
      ],
      "execution_count": 14,
      "outputs": [
        {
          "output_type": "execute_result",
          "data": {
            "text/plain": [
              "5646"
            ]
          },
          "metadata": {
            "tags": []
          },
          "execution_count": 14
        }
      ]
    },
    {
      "cell_type": "code",
      "metadata": {
        "id": "-cRlfHPzq4vM",
        "colab": {
          "base_uri": "https://localhost:8080/",
          "height": 164
        },
        "outputId": "0e2437ca-b945-40ae-f09e-322dd17e95ca"
      },
      "source": [
        "df_drop_non_related_tag.to_csv('/gdrive/My Drive/50625/problem_complete.csv')"
      ],
      "execution_count": 72,
      "outputs": [
        {
          "output_type": "error",
          "ename": "NameError",
          "evalue": "ignored",
          "traceback": [
            "\u001b[0;31m---------------------------------------------------------------------------\u001b[0m",
            "\u001b[0;31mNameError\u001b[0m                                 Traceback (most recent call last)",
            "\u001b[0;32m<ipython-input-72-8c4b85c520e9>\u001b[0m in \u001b[0;36m<module>\u001b[0;34m()\u001b[0m\n\u001b[0;32m----> 1\u001b[0;31m \u001b[0mdf_drop_non_related_tag\u001b[0m\u001b[0;34m.\u001b[0m\u001b[0mto_csv\u001b[0m\u001b[0;34m(\u001b[0m\u001b[0;34m'/gdrive/My Drive/50625/problem_complete.csv'\u001b[0m\u001b[0;34m)\u001b[0m\u001b[0;34m\u001b[0m\u001b[0;34m\u001b[0m\u001b[0m\n\u001b[0m",
            "\u001b[0;31mNameError\u001b[0m: name 'df_drop_non_related_tag' is not defined"
          ]
        }
      ]
    },
    {
      "cell_type": "markdown",
      "metadata": {
        "id": "X6R4z1g7BrZY"
      },
      "source": [
        " **이제 겹치는 알고리즘 전체 추이 파악하기 !** \n",
        " 1. 알고리즘이 겹치는 문제가 얼마나 있는지 체크\n",
        " 2. 문제별로 알고리즘이 어떻게 겹치는지 visualization ?\n",
        " \n",
        "\n",
        "겹치는 알고리즘 처리\n",
        " 1. 가장 많이 출제되는 알고리즘을 남기고 마이너한 알고리즘은 버리기\n",
        " 2. 문제 수를 균등하게 맞추는게 좋을 수도 있으니까, 마이너한 알고리즘을 남기기"
      ]
    },
    {
      "cell_type": "markdown",
      "metadata": {
        "id": "DFBGFMPCD0mG"
      },
      "source": [
        "고유한 문제들이 몇개가 있는지 체크"
      ]
    },
    {
      "cell_type": "code",
      "metadata": {
        "colab": {
          "base_uri": "https://localhost:8080/"
        },
        "id": "W38-_dMaD4cs",
        "outputId": "40813d7b-4eb7-46ee-abb8-04f9f9ef66c2"
      },
      "source": [
        "df = df_drop_non_related_tag\n",
        "id_list = df[\"id\"]\n",
        "print(len(set(id_list)))"
      ],
      "execution_count": 19,
      "outputs": [
        {
          "output_type": "stream",
          "text": [
            "4313\n"
          ],
          "name": "stdout"
        }
      ]
    },
    {
      "cell_type": "code",
      "metadata": {
        "id": "DCr8c_msZSco"
      },
      "source": [
        "df = pd.read_csv('/gdrive/My Drive/50625/problem_complete.csv')"
      ],
      "execution_count": null,
      "outputs": []
    },
    {
      "cell_type": "markdown",
      "metadata": {
        "id": "7wMRoduwZk4f"
      },
      "source": [
        "데이터 변형 \n",
        "태그들의 형태가 이쁘지가 않다.\n",
        "space대신에 _를 삽입하고\n",
        "다익스트라의 경우에는 뒤에 's를 없엔다.\n",
        "추가로 -는 _로 수정한다."
      ]
    },
    {
      "cell_type": "code",
      "metadata": {
        "id": "d5nkUT5lZfjQ"
      },
      "source": [
        "for i in range(len(df.index)) :\n",
        "    \n",
        "    df[\"tag\"].iloc[i] = df[\"tag\"].iloc[i].replace(\" \",\"_\")\n",
        "    df[\"tag\"].iloc[i] = df[\"tag\"].iloc[i].replace(\"'\",\"\")\n",
        "    df[\"tag\"].iloc[i] = df[\"tag\"].iloc[i].replace(\"-\",\"_\")\n",
        "    tag = df[\"tag\"].iloc[i]\n",
        "    print(tag)\n",
        "\n"
      ],
      "execution_count": null,
      "outputs": []
    },
    {
      "cell_type": "markdown",
      "metadata": {
        "id": "GVVX5Y0NZmqh"
      },
      "source": [
        "algo_dict에는 각 알고리즘마다 문제수를 갖고있는 dict\n",
        "problem_dict는 각 문제마다 알고리즘을 몇개 갖는지 "
      ]
    },
    {
      "cell_type": "code",
      "metadata": {
        "id": "_sxO-rs2tyCZ"
      },
      "source": [
        "algo_dict = dict()\n",
        "for i in range(len(df.index)) :\n",
        "    if df[\"tag\"].iloc[i] in algo_dict :\n",
        "        algo_dict[df[\"tag\"].iloc[i]] += 1\n",
        "    else :\n",
        "        algo_dict[df[\"tag\"].iloc[i]] =  1\n",
        "\n",
        "algo_dict\n",
        "\n",
        "problem_dict = dict()\n",
        "for i in range(len(df.index)) :\n",
        "    if df[\"id\"].iloc[i] not in problem_dict :\n",
        "        problem_dict[df[\"id\"].iloc[i]] = list()        \n",
        "\n",
        "for i in range(len(df.index)) :\n",
        "    problem_dict[df[\"id\"].iloc[i]].append(df[\"tag\"].iloc[i])\n",
        "  \n",
        "\n",
        "problem_dict "
      ],
      "execution_count": null,
      "outputs": []
    },
    {
      "cell_type": "code",
      "metadata": {
        "colab": {
          "base_uri": "https://localhost:8080/"
        },
        "id": "IJzuzMYK5tdQ",
        "outputId": "f71efbb6-bce6-42c2-e5f5-ab23b025380c"
      },
      "source": [
        "print(len(algo_dict))\n",
        "print(len(problem_dict))\n",
        "print(len(df.index))"
      ],
      "execution_count": 108,
      "outputs": [
        {
          "output_type": "stream",
          "text": [
            "11\n",
            "4313\n",
            "5646\n"
          ],
          "name": "stdout"
        }
      ]
    },
    {
      "cell_type": "markdown",
      "metadata": {
        "id": "GK5bFVHL6MWZ"
      },
      "source": [
        "여기서 총 문제의 수는 4313개이고,\n",
        "\n",
        "알고리즘을 여러개 갖고 있는 문제들도 있다.\n",
        "\n",
        "따라서 여기서 하나의 알고리즘만을 남겨야 하는데, 이걸 처리해보자\n",
        "\n",
        "1. 가장 많이 쓰인 알고리즘을 남길 수도 있고,\n",
        "2. 균등하게 분배가 되도록 남길 수도 있다.\n",
        "\n"
      ]
    },
    {
      "cell_type": "markdown",
      "metadata": {
        "id": "tYqT7ThI6hm7"
      },
      "source": [
        "1. 가장 많이 쓰인 알고리즘 순서대로 남기기 코드\n",
        "\n",
        "algo_dict는 거의 정렬이 되어 있는 상태이다.\n",
        "이를 활용해서 많이 쓰인 순서대로 적용해보면 될듯."
      ]
    },
    {
      "cell_type": "code",
      "metadata": {
        "colab": {
          "base_uri": "https://localhost:8080/"
        },
        "id": "Ev0JrKx26khA",
        "outputId": "c2182991-a6de-43a5-d4df-fbdcd65f6c48"
      },
      "source": [
        "print(algo_dict)\n",
        "print(problem_dict)"
      ],
      "execution_count": 109,
      "outputs": [
        {
          "output_type": "stream",
          "text": [
            "{'Mathematics': 1377, 'Dynamic programming': 1022, 'Implementation': 1058, 'Greedy': 412, 'String': 452, 'Bruteforcing': 373, 'Binary search': 275, 'Breadth-first search': 260, 'Depth-first search': 154, \"Dijkstra's\": 143, 'Divide and conquer': 120}\n",
            "{1000: ['Mathematics', 'Implementation'], 1001: ['Mathematics', 'Implementation'], 10998: ['Mathematics', 'Implementation'], 10869: ['Mathematics', 'Implementation'], 1008: ['Mathematics', 'Implementation'], 2739: ['Mathematics', 'Implementation'], 10430: ['Mathematics', 'Implementation'], 8393: ['Mathematics', 'Implementation'], 1330: ['Mathematics', 'Implementation'], 10871: ['Mathematics', 'Implementation'], 10950: ['Mathematics', 'Implementation'], 2753: ['Mathematics', 'Implementation'], 1110: ['Mathematics', 'Implementation', 'String'], 2588: ['Mathematics'], 10952: ['Mathematics', 'Implementation'], 2884: ['Mathematics'], 2577: ['Mathematics', 'String'], 11720: ['Mathematics', 'String'], 11021: ['Mathematics', 'Implementation'], 2839: ['Mathematics', 'Dynamic programming', 'Greedy'], 11022: ['Mathematics', 'Implementation'], 10951: ['Mathematics', 'Implementation'], 15552: ['Mathematics', 'Implementation'], 1546: ['Mathematics'], 10818: ['Mathematics', 'Implementation'], 2558: ['Mathematics', 'Implementation'], 4344: ['Mathematics'], 4673: ['Mathematics', 'Implementation'], 3052: ['Mathematics'], 10872: ['Mathematics', 'Implementation'], 10039: ['Mathematics'], 1978: ['Mathematics'], 2292: ['Mathematics'], 15596: ['Mathematics', 'Implementation'], 1712: ['Mathematics'], 1929: ['Mathematics'], 10250: ['Mathematics', 'Implementation'], 1193: ['Mathematics', 'Implementation'], 10870: ['Mathematics', 'Dynamic programming'], 2869: ['Mathematics'], 2609: ['Mathematics'], 2748: ['Mathematics', 'Dynamic programming'], 1085: ['Mathematics'], 5543: ['Mathematics'], 2775: ['Mathematics'], 1002: ['Mathematics'], 2581: ['Mathematics'], 2747: ['Mathematics', 'Implementation'], 9461: ['Mathematics', 'Dynamic programming'], 10953: ['Mathematics', 'String'], 1934: ['Mathematics'], 1010: ['Mathematics', 'Dynamic programming'], 4948: ['Mathematics'], 1011: ['Mathematics'], 2475: ['Mathematics', 'Implementation'], 2163: ['Mathematics'], 4153: ['Mathematics'], 6603: ['Mathematics'], 11653: ['Mathematics'], 11050: ['Mathematics', 'Implementation'], 2455: ['Mathematics', 'Implementation'], 1476: ['Mathematics', 'Implementation'], 1037: ['Mathematics'], 3046: ['Mathematics', 'Implementation'], 9020: ['Mathematics'], 13458: ['Mathematics'], 3053: ['Mathematics'], 1541: ['Mathematics', 'Greedy', 'String'], 1759: ['Mathematics', 'Bruteforcing'], 1676: ['Mathematics'], 1094: ['Mathematics'], 1699: ['Mathematics', 'Dynamic programming'], 2217: ['Mathematics', 'Greedy'], 10757: ['Mathematics', 'Implementation'], 11051: ['Mathematics', 'Dynamic programming'], 1009: ['Mathematics', 'Implementation'], 2525: ['Mathematics'], 1629: ['Mathematics'], 2576: ['Mathematics', 'Implementation'], 6588: ['Mathematics'], 2914: ['Mathematics', 'Implementation'], 1977: ['Mathematics', 'Implementation'], 6064: ['Mathematics'], 5565: ['Mathematics', 'Implementation'], 5086: ['Mathematics', 'Implementation'], 10610: ['Mathematics', 'String'], 2953: ['Mathematics', 'Implementation'], 10886: ['Mathematics', 'Implementation'], 2960: ['Mathematics', 'Implementation'], 1550: ['Mathematics', 'Implementation'], 2875: ['Mathematics', 'Implementation'], 9613: ['Mathematics'], 1212: ['Mathematics', 'Implementation', 'String'], 1057: ['Mathematics', 'Bruteforcing'], 2010: ['Mathematics', 'Implementation'], 2480: ['Mathematics'], 10156: ['Mathematics'], 2420: ['Mathematics', 'Implementation'], 2845: ['Mathematics', 'Implementation'], 10162: ['Mathematics', 'Implementation', 'Greedy'], 1373: ['Mathematics', 'String'], 2004: ['Mathematics'], 2530: ['Mathematics'], 10972: ['Mathematics'], 9655: ['Mathematics', 'Dynamic programming'], 1789: ['Mathematics'], 1292: ['Mathematics', 'Implementation'], 1735: ['Mathematics'], 2749: ['Mathematics'], 6359: ['Mathematics', 'Implementation'], 3036: ['Mathematics'], 1644: ['Mathematics'], 2501: ['Mathematics'], 1748: ['Mathematics', 'Implementation'], 10833: ['Mathematics'], 1075: ['Mathematics'], 5554: ['Mathematics', 'Implementation'], 2740: ['Mathematics', 'Implementation'], 2506: ['Mathematics', 'Implementation'], 5063: ['Mathematics'], 5532: ['Mathematics'], 3003: ['Mathematics', 'Implementation'], 2745: ['Mathematics', 'Implementation', 'String'], 10448: ['Mathematics', 'Bruteforcing'], 15953: ['Mathematics', 'Implementation'], 1963: ['Mathematics', 'Breadth-first search'], 2965: ['Mathematics'], 2587: ['Mathematics', 'Implementation'], 4101: ['Mathematics', 'Implementation'], 2864: ['Mathematics'], 9375: ['Mathematics', 'String'], 1049: ['Mathematics'], 9085: ['Mathematics', 'Implementation'], 10973: ['Mathematics'], 5522: ['Mathematics'], 1016: ['Mathematics'], 2460: ['Mathematics', 'Implementation'], 2407: ['Mathematics', 'Dynamic programming'], 1850: ['Mathematics'], 4796: ['Mathematics', 'Greedy'], 15894: ['Mathematics'], 10707: ['Mathematics'], 10164: ['Mathematics', 'Dynamic programming'], 5596: ['Mathematics', 'Implementation'], 2476: ['Mathematics'], 16394: ['Mathematics'], 2935: ['Mathematics', 'String'], 2592: ['Mathematics'], 13300: ['Mathematics', 'Implementation'], 9325: ['Mathematics'], 11401: ['Mathematics'], 15969: ['Mathematics', 'Implementation'], 5988: ['Mathematics'], 10830: ['Mathematics', 'Divide and conquer'], 3460: ['Mathematics'], 16430: ['Mathematics'], 2754: ['Mathematics', 'Implementation', 'String'], 15740: ['Mathematics'], 10984: ['Mathematics', 'Implementation'], 1271: ['Mathematics'], 14918: ['Mathematics', 'Implementation'], 15964: ['Mathematics', 'Implementation'], 13241: ['Mathematics'], 2981: ['Mathematics'], 1072: ['Mathematics', 'Binary search'], 10214: ['Mathematics', 'Implementation'], 4504: ['Mathematics'], 1964: ['Mathematics'], 11382: ['Mathematics'], 9506: ['Mathematics'], 1267: ['Mathematics'], 1297: ['Mathematics'], 11576: ['Mathematics', 'Implementation'], 10569: ['Mathematics'], 12790: ['Mathematics', 'Implementation'], 3034: ['Mathematics'], 1024: ['Mathematics'], 2338: ['Mathematics'], 1834: ['Mathematics'], 10103: ['Mathematics', 'Implementation'], 5218: ['Mathematics', 'String'], 5717: ['Mathematics'], 3058: ['Mathematics', 'Implementation'], 2355: ['Mathematics'], 1225: ['Mathematics', 'Implementation', 'String'], 5032: ['Mathematics'], 10822: ['Mathematics', 'Implementation', 'String'], 10157: ['Mathematics', 'Implementation'], 2903: ['Mathematics'], 18108: ['Mathematics'], 2738: ['Mathematics', 'Implementation'], 1256: ['Mathematics', 'Dynamic programming'], 2089: ['Mathematics'], 2959: ['Mathematics'], 11816: ['Mathematics', 'Implementation', 'String'], 9610: ['Mathematics', 'Implementation'], 11966: ['Mathematics'], 15727: ['Mathematics'], 10158: ['Mathematics'], 10539: ['Mathematics'], 2921: ['Mathematics'], 1747: ['Mathematics', 'String', 'Bruteforcing'], 14652: ['Mathematics'], 2720: ['Mathematics', 'Greedy'], 8320: ['Mathematics', 'Implementation'], 10178: ['Mathematics'], 2502: ['Mathematics', 'Dynamic programming'], 1722: ['Mathematics'], 5575: ['Mathematics', 'Implementation'], 5355: ['Mathematics', 'Implementation'], 2702: ['Mathematics'], 7572: ['Mathematics', 'Implementation'], 1408: ['Mathematics'], 5361: ['Mathematics'], 2783: ['Mathematics', 'Implementation'], 1019: ['Mathematics'], 11006: ['Mathematics'], 17362: ['Mathematics'], 13277: ['Mathematics'], 5618: ['Mathematics'], 1592: ['Mathematics', 'Implementation'], 2621: ['Mathematics', 'Implementation'], 2014: ['Mathematics'], 14490: ['Mathematics', 'String'], 1252: ['Mathematics', 'Implementation'], 11023: ['Mathematics', 'Implementation'], 9550: ['Mathematics'], 1526: ['Mathematics'], 17256: ['Mathematics', 'Implementation'], 2858: ['Mathematics', 'Bruteforcing'], 16673: ['Mathematics'], 3062: ['Mathematics', 'Implementation'], 1328: ['Mathematics', 'Dynamic programming'], 2436: ['Mathematics'], 14916: ['Mathematics', 'Dynamic programming'], 5347: ['Mathematics'], 1350: ['Mathematics'], 11944: ['Mathematics', 'String'], 11444: ['Mathematics'], 10409: ['Mathematics', 'Implementation'], 2312: ['Mathematics'], 3004: ['Mathematics'], 6378: ['Mathematics', 'Implementation'], 2998: ['Mathematics', 'Implementation'], 17496: ['Mathematics'], 5054: ['Mathematics'], 5533: ['Mathematics', 'Implementation'], 2863: ['Mathematics', 'Implementation'], 10179: ['Mathematics', 'Implementation'], 2153: ['Mathematics', 'String'], 8741: ['Mathematics', 'Implementation'], 2985: ['Mathematics', 'Implementation'], 15954: ['Mathematics', 'Bruteforcing'], 5073: ['Mathematics'], 14489: ['Mathematics', 'Implementation'], 2997: ['Mathematics', 'Implementation'], 16486: ['Mathematics'], 15353: ['Mathematics', 'String'], 1188: ['Mathematics'], 1551: ['Mathematics', 'Implementation'], 3049: ['Mathematics'], 2485: ['Mathematics'], 10474: ['Mathematics'], 4880: ['Mathematics'], 10253: ['Mathematics', 'Implementation'], 1041: ['Mathematics', 'Greedy'], 2484: ['Mathematics', 'Implementation'], 1788: ['Mathematics', 'Dynamic programming'], 14924: ['Mathematics'], 1598: ['Mathematics'], 15873: ['Mathematics'], 16395: ['Mathematics', 'Dynamic programming'], 4299: ['Mathematics'], 13900: ['Mathematics'], 10837: ['Mathematics'], 1356: ['Mathematics', 'Implementation', 'String'], 16431: ['Mathematics', 'Implementation'], 10166: ['Mathematics'], 6591: ['Mathematics'], 15667: ['Mathematics'], 1007: ['Mathematics', 'Bruteforcing'], 1059: ['Mathematics', 'Bruteforcing'], 10823: ['Mathematics', 'String'], 4766: ['Mathematics'], 17087: ['Mathematics'], 2399: ['Mathematics'], 5613: ['Mathematics'], 1837: ['Mathematics'], 15780: ['Mathematics'], 2033: ['Mathematics', 'Implementation'], 10834: ['Mathematics', 'Implementation'], 6376: ['Mathematics'], 14928: ['Mathematics'], 13866: ['Mathematics', 'Implementation'], 11502: ['Mathematics', 'Bruteforcing'], 1017: ['Mathematics'], 10422: ['Mathematics', 'Dynamic programming'], 11689: ['Mathematics'], 17173: ['Mathematics'], 10419: ['Mathematics', 'Implementation'], 16561: ['Mathematics'], 5724: ['Mathematics'], 17103: ['Mathematics'], 1790: ['Mathematics', 'Implementation'], 14470: ['Mathematics', 'Implementation'], 11024: ['Mathematics', 'Implementation', 'String'], 19532: ['Mathematics', 'Bruteforcing'], 9094: ['Mathematics', 'Bruteforcing'], 2755: ['Mathematics', 'Implementation'], 1952: ['Mathematics', 'Implementation'], 9546: ['Mathematics'], 7510: ['Mathematics'], 4375: ['Mathematics', 'Bruteforcing'], 3029: ['Mathematics', 'Implementation', 'String'], 2417: ['Mathematics', 'Binary search'], 1284: ['Mathematics', 'Implementation'], 1027: ['Mathematics'], 6502: ['Mathematics', 'Implementation'], 13420: ['Mathematics', 'String'], 2948: ['Mathematics', 'Implementation'], 16917: ['Mathematics', 'Implementation'], 1755: ['Mathematics'], 8974: ['Mathematics'], 2824: ['Mathematics', 'Implementation'], 12833: ['Mathematics'], 2018: ['Mathematics'], 20492: ['Mathematics'], 1731: ['Mathematics'], 11179: ['Mathematics'], 14491: ['Mathematics', 'Implementation'], 2991: ['Mathematics'], 1201: ['Mathematics', 'Greedy'], 4892: ['Mathematics', 'Implementation'], 16922: ['Mathematics', 'Implementation'], 2527: ['Mathematics'], 15633: ['Mathematics'], 6131: ['Mathematics'], 2942: ['Mathematics'], 13136: ['Mathematics'], 15726: ['Mathematics'], 14726: ['Mathematics', 'Implementation'], 16968: ['Mathematics'], 2608: ['Mathematics', 'Implementation', 'String'], 3474: ['Mathematics'], 15965: ['Mathematics'], 1402: ['Mathematics'], 1312: ['Mathematics'], 2986: ['Mathematics'], 8394: ['Mathematics', 'Dynamic programming'], 12756: ['Mathematics'], 1342: ['Mathematics', 'Bruteforcing'], 1947: ['Mathematics', 'Dynamic programming'], 1111: ['Mathematics', 'Implementation', 'Bruteforcing'], 1484: ['Mathematics'], 9501: ['Mathematics', 'Implementation'], 2622: ['Mathematics'], 18247: ['Mathematics'], 11134: ['Mathematics'], 1500: ['Mathematics'], 14730: ['Mathematics'], 2022: ['Mathematics', 'Binary search'], 14568: ['Mathematics'], 16204: ['Mathematics', 'Implementation'], 5691: ['Mathematics'], 18310: ['Mathematics', 'Greedy'], 15792: ['Mathematics', 'Implementation'], 9661: ['Mathematics'], 1247: ['Mathematics'], 15973: ['Mathematics', 'Implementation'], 7571: ['Mathematics'], 13416: ['Mathematics', 'Implementation'], 3955: ['Mathematics'], 11070: ['Mathematics', 'Implementation'], 13311: ['Mathematics'], 2725: ['Mathematics'], 15700: ['Mathematics'], 11812: ['Mathematics'], 2721: ['Mathematics', 'Implementation'], 3896: ['Mathematics', 'Binary search'], 16283: ['Mathematics'], 15921: ['Mathematics'], 1124: ['Mathematics'], 5692: ['Mathematics'], 10599: ['Mathematics', 'Implementation'], 15624: ['Mathematics', 'Dynamic programming'], 1670: ['Mathematics', 'Dynamic programming'], 19939: ['Mathematics', 'Greedy'], 15917: ['Mathematics', 'Implementation'], 17269: ['Mathematics', 'Implementation'], 1864: ['Mathematics', 'Implementation'], 1344: ['Mathematics', 'Dynamic programming'], 11320: ['Mathematics'], 9469: ['Mathematics'], 14650: ['Mathematics', 'Dynamic programming', 'String', 'Bruteforcing'], 6322: ['Mathematics'], 1456: ['Mathematics'], 2904: ['Mathematics'], 9366: ['Mathematics', 'Implementation'], 2877: ['Mathematics', 'Implementation'], 14264: ['Mathematics'], 17174: ['Mathematics'], 1740: ['Mathematics'], 11947: ['Mathematics'], 14864: ['Mathematics'], 13251: ['Mathematics'], 11921: ['Mathematics', 'Implementation'], 2553: ['Mathematics'], 2916: ['Mathematics'], 13171: ['Mathematics'], 10597: ['Mathematics'], 15719: ['Mathematics', 'Implementation', 'String'], 2729: ['Mathematics', 'Implementation'], 2168: ['Mathematics'], 4388: ['Mathematics'], 16504: ['Mathematics', 'Implementation'], 3060: ['Mathematics'], 7770: ['Mathematics'], 1289: ['Mathematics', 'Dynamic programming'], 9471: ['Mathematics'], 1448: ['Mathematics'], 20499: ['Mathematics'], 18512: ['Mathematics', 'Bruteforcing'], 14614: ['Mathematics'], 11109: ['Mathematics'], 16938: ['Mathematics', 'Bruteforcing'], 15734: ['Mathematics', 'Implementation'], 4084: ['Mathematics', 'Implementation'], 11402: ['Mathematics', 'Dynamic programming'], 2547: ['Mathematics'], 5623: ['Mathematics'], 14915: ['Mathematics'], 1493: ['Mathematics', 'Greedy', 'Divide and conquer'], 7523: ['Mathematics'], 8111: ['Mathematics', 'Breadth-first search'], 8895: ['Mathematics', 'Dynamic programming'], 14563: ['Mathematics'], 16503: ['Mathematics', 'Implementation'], 19698: ['Mathematics'], 14723: ['Mathematics', 'Implementation'], 16480: ['Mathematics'], 13909: ['Mathematics'], 17520: ['Mathematics'], 1153: ['Mathematics'], 4706: ['Mathematics'], 2896: ['Mathematics'], 17206: ['Mathematics'], 2028: ['Mathematics'], 15489: ['Mathematics', 'Dynamic programming'], 1557: ['Mathematics', 'Binary search'], 14606: ['Mathematics', 'Dynamic programming'], 14651: ['Mathematics', 'Dynamic programming'], 2790: ['Mathematics'], 9437: ['Mathematics'], 16936: ['Mathematics', 'Bruteforcing'], 15897: ['Mathematics'], 16479: ['Mathematics'], 14476: ['Mathematics'], 12782: ['Mathematics', 'Greedy'], 11778: ['Mathematics'], 13560: ['Mathematics', 'Greedy'], 16282: ['Mathematics'], 1067: ['Mathematics'], 14579: ['Mathematics'], 16483: ['Mathematics'], 14913: ['Mathematics'], 1234: ['Mathematics', 'Dynamic programming'], 17284: ['Mathematics', 'Implementation'], 1975: ['Mathematics'], 17356: ['Mathematics'], 3671: ['Mathematics', 'Bruteforcing'], 17203: ['Mathematics'], 2086: ['Mathematics'], 9421: ['Mathematics'], 1459: ['Mathematics'], 3135: ['Mathematics', 'Greedy'], 4355: ['Mathematics'], 16208: ['Mathematics'], 2487: ['Mathematics'], 15818: ['Mathematics'], 2590: ['Mathematics', 'Implementation'], 19539: ['Mathematics', 'Greedy'], 12850: ['Mathematics'], 3226: ['Mathematics', 'Implementation'], 14710: ['Mathematics'], 1322: ['Mathematics'], 14914: ['Mathematics'], 7489: ['Mathematics'], 9527: ['Mathematics'], 16943: ['Mathematics', 'Bruteforcing'], 1081: ['Mathematics'], 7894: ['Mathematics'], 12970: ['Mathematics', 'Implementation'], 4998: ['Mathematics'], 11312: ['Mathematics'], 20500: ['Mathematics', 'Dynamic programming'], 8932: ['Mathematics'], 13977: ['Mathematics'], 14241: ['Mathematics'], 1564: ['Mathematics'], 17450: ['Mathematics'], 12796: ['Mathematics'], 1669: ['Mathematics'], 19535: ['Mathematics'], 1990: ['Mathematics', 'String'], 9417: ['Mathematics', 'Bruteforcing'], 15803: ['Mathematics'], 3908: ['Mathematics', 'Dynamic programming'], 10275: ['Mathematics', 'Implementation'], 14492: ['Mathematics'], 2052: ['Mathematics'], 15976: ['Mathematics', 'Binary search'], 16478: ['Mathematics'], 20529: ['Mathematics', 'Bruteforcing'], 10220: ['Mathematics'], 14565: ['Mathematics'], 5376: ['Mathematics'], 9518: ['Mathematics', 'Implementation', 'Bruteforcing'], 16563: ['Mathematics'], 15923: ['Mathematics'], 17427: ['Mathematics'], 14786: ['Mathematics', 'Binary search'], 4134: ['Mathematics'], 11561: ['Mathematics', 'Binary search'], 17213: ['Mathematics', 'Dynamic programming'], 17827: ['Mathematics', 'Implementation'], 17247: ['Mathematics'], 14731: ['Mathematics'], 1242: ['Mathematics'], 17466: ['Mathematics'], 16206: ['Mathematics', 'Greedy'], 2528: ['Mathematics', 'Implementation', 'Greedy'], 11025: ['Mathematics', 'Dynamic programming'], 16428: ['Mathematics'], 17211: ['Mathematics'], 18110: ['Mathematics', 'Implementation'], 15711: ['Mathematics'], 6443: ['Mathematics'], 17425: ['Mathematics'], 1036: ['Mathematics', 'Greedy'], 1533: ['Mathematics', 'Dynamic programming'], 1089: ['Mathematics', 'Implementation', 'String'], 4149: ['Mathematics'], 14607: ['Mathematics'], 15736: ['Mathematics'], 9359: ['Mathematics'], 13706: ['Mathematics', 'Binary search'], 15824: ['Mathematics'], 19572: ['Mathematics'], 3944: ['Mathematics'], 14625: ['Mathematics', 'Implementation'], 1222: ['Mathematics'], 1612: ['Mathematics'], 12755: ['Mathematics', 'Bruteforcing'], 12792: ['Mathematics'], 1816: ['Mathematics'], 2551: ['Mathematics'], 14715: ['Mathematics'], 11443: ['Mathematics'], 2381: ['Mathematics'], 1413: ['Mathematics', 'Dynamic programming'], 11442: ['Mathematics'], 16481: ['Mathematics'], 5615: ['Mathematics'], 19940: ['Mathematics', 'Greedy', 'Breadth-first search'], 2830: ['Mathematics'], 13116: ['Mathematics'], 14551: ['Mathematics'], 15791: ['Mathematics'], 11880: ['Mathematics'], 19946: ['Mathematics', 'Implementation'], 2136: ['Mathematics', 'Implementation'], 8901: ['Mathematics', 'Implementation', 'Bruteforcing'], 10434: ['Mathematics', 'Implementation'], 11440: ['Mathematics'], 12728: ['Mathematics'], 1407: ['Mathematics'], 13250: ['Mathematics', 'Dynamic programming'], 17945: ['Mathematics'], 19945: ['Mathematics', 'Implementation'], 1415: ['Mathematics', 'Dynamic programming'], 2676: ['Mathematics'], 15995: ['Mathematics'], 2765: ['Mathematics'], 14215: ['Mathematics'], 2057: ['Mathematics'], 13140: ['Mathematics', 'Bruteforcing'], 1033: ['Mathematics'], 4619: ['Mathematics'], 6219: ['Mathematics'], 11815: ['Mathematics'], 13170: ['Mathematics', 'Greedy'], 2038: ['Mathematics', 'Dynamic programming'], 16484: ['Mathematics'], 16134: ['Mathematics'], 2226: ['Mathematics', 'Dynamic programming'], 2464: ['Mathematics'], 10978: ['Mathematics', 'Dynamic programming'], 4902: ['Mathematics', 'Implementation', 'Bruteforcing', 'Depth-first search'], 17252: ['Mathematics', 'Bruteforcing'], 5556: ['Mathematics', 'Implementation'], 14561: ['Mathematics'], 3101: ['Mathematics', 'Implementation'], 18917: ['Mathematics', 'Implementation'], 14431: ['Mathematics', \"Dijkstra's\"], 14289: ['Mathematics'], 17944: ['Mathematics', 'Implementation'], 5636: ['Mathematics', 'String'], 1942: ['Mathematics', 'Implementation', 'String'], 15576: ['Mathematics', 'String'], 13129: ['Mathematics', 'Implementation'], 2514: ['Mathematics', 'Implementation'], 17946: ['Mathematics'], 20186: ['Mathematics'], 1434: ['Mathematics', 'Implementation', 'Greedy'], 2097: ['Mathematics'], 14429: ['Mathematics'], 9753: ['Mathematics', 'Binary search'], 15720: ['Mathematics'], 1951: ['Mathematics'], 8907: ['Mathematics'], 14919: ['Mathematics', 'String', 'Binary search'], 17392: ['Mathematics', 'Greedy'], 1891: ['Mathematics'], 16490: ['Mathematics'], 11687: ['Mathematics', 'Binary search'], 2405: ['Mathematics', 'Greedy'], 17253: ['Mathematics'], 15998: ['Mathematics'], 17950: ['Mathematics'], 17268: ['Mathematics', 'Dynamic programming'], 17394: ['Mathematics', 'Breadth-first search'], 13412: ['Mathematics'], 2099: ['Mathematics'], 11439: ['Mathematics'], 13172: ['Mathematics'], 15979: ['Mathematics'], 2862: ['Mathematics', 'Dynamic programming'], 10262: ['Mathematics', 'Implementation'], 14583: ['Mathematics'], 12021: ['Mathematics'], 2777: ['Mathematics', 'Greedy'], 7482: ['Mathematics'], 10802: ['Mathematics', 'Dynamic programming'], 17451: ['Mathematics', 'Binary search'], 1359: ['Mathematics', 'Bruteforcing'], 10464: ['Mathematics'], 1418: ['Mathematics'], 18291: ['Mathematics'], 16400: ['Mathematics', 'Dynamic programming'], 16464: ['Mathematics', 'Bruteforcing'], 2819: ['Mathematics', 'Binary search'], 13430: ['Mathematics'], 15999: ['Mathematics'], 16489: ['Mathematics'], 7789: ['Mathematics'], 19575: ['Mathematics', 'Implementation'], 13199: ['Mathematics'], 16488: ['Mathematics'], 7806: ['Mathematics'], 9711: ['Mathematics', 'Dynamic programming'], 1767: ['Mathematics', 'Dynamic programming'], 9493: ['Mathematics'], 14557: ['Mathematics'], 9693: ['Mathematics'], 1334: ['Mathematics'], 12025: ['Mathematics'], 12925: ['Mathematics'], 3948: ['Mathematics', 'Dynamic programming'], 7481: ['Mathematics'], 13705: ['Mathematics', 'Binary search'], 16565: ['Mathematics', 'Dynamic programming'], 14440: ['Mathematics'], 14556: ['Mathematics', 'Dynamic programming'], 20363: ['Mathematics', 'Greedy'], 13976: ['Mathematics', 'Dynamic programming'], 15735: ['Mathematics'], 3000: ['Mathematics'], 15996: ['Mathematics'], 11571: ['Mathematics', 'Implementation'], 13877: ['Mathematics'], 16495: ['Mathematics'], 20309: ['Mathematics'], 17272: ['Mathematics', 'Dynamic programming'], 20302: ['Mathematics'], 8916: ['Mathematics'], 11867: ['Mathematics', 'Dynamic programming'], 15701: ['Mathematics'], 2090: ['Mathematics'], 5043: ['Mathematics'], 16482: ['Mathematics'], 17214: ['Mathematics', 'String'], 5051: ['Mathematics'], 17504: ['Mathematics', 'Implementation'], 3013: ['Mathematics'], 9521: ['Mathematics', 'Dynamic programming'], 15311: ['Mathematics'], 17499: ['Mathematics'], 13206: ['Mathematics'], 14219: ['Mathematics'], 20004: ['Mathematics'], 1214: ['Mathematics', 'Bruteforcing'], 1711: ['Mathematics', 'Bruteforcing'], 1437: ['Mathematics', 'Dynamic programming', 'Greedy'], 1630: ['Mathematics'], 4913: ['Mathematics'], 13707: ['Mathematics', 'Dynamic programming'], 14736: ['Mathematics'], 15888: ['Mathematics'], 16969: ['Mathematics'], 17401: ['Mathematics'], 20494: ['Mathematics', 'String'], 12858: ['Mathematics'], 2599: ['Mathematics', 'Implementation', 'Bruteforcing', 'Depth-first search'], 2756: ['Mathematics', 'Implementation'], 2757: ['Mathematics', 'Implementation', 'String'], 10504: ['Mathematics', 'Binary search'], 14578: ['Mathematics', 'Dynamic programming'], 18122: ['Mathematics', 'Dynamic programming'], 5874: ['Mathematics'], 6504: ['Mathematics'], 3895: ['Mathematics', 'Dynamic programming'], 16680: ['Mathematics'], 20531: ['Mathematics', 'Dynamic programming'], 12911: ['Mathematics', 'Dynamic programming'], 14622: ['Mathematics', 'Implementation'], 6571: ['Mathematics'], 17358: ['Mathematics'], 16487: ['Mathematics'], 1492: ['Mathematics', 'Dynamic programming'], 6463: ['Mathematics'], 15712: ['Mathematics'], 2541: ['Mathematics'], 1198: ['Mathematics', 'Bruteforcing'], 2737: ['Mathematics'], 4233: ['Mathematics'], 7869: ['Mathematics'], 20154: ['Mathematics', 'String'], 15560: ['Mathematics', 'Dynamic programming'], 3946: ['Mathematics', 'Dynamic programming'], 5710: ['Mathematics', 'Implementation', 'Binary search'], 17134: ['Mathematics'], 17374: ['Mathematics'], 20152: ['Mathematics', 'Dynamic programming'], 11690: ['Mathematics'], 21312: ['Mathematics', 'Implementation'], 3063: ['Mathematics'], 9006: ['Mathematics', 'Binary search'], 15717: ['Mathematics'], 10885: ['Mathematics'], 17395: ['Mathematics', 'Greedy'], 5000: ['Mathematics'], 15812: ['Mathematics'], 19544: ['Mathematics'], 12783: ['Mathematics', 'Dynamic programming'], 20206: ['Mathematics'], 2408: ['Mathematics'], 14471: ['Mathematics'], 1393: ['Mathematics', 'Bruteforcing'], 17207: ['Mathematics'], 18187: ['Mathematics'], 2373: ['Mathematics', 'Dynamic programming'], 10859: ['Mathematics'], 19563: ['Mathematics'], 1179: ['Mathematics', 'Dynamic programming'], 4342: ['Mathematics'], 13912: ['Mathematics'], 17104: ['Mathematics'], 2814: ['Mathematics', 'Binary search'], 13270: ['Mathematics'], 13926: ['Mathematics'], 18821: ['Mathematics'], 20003: ['Mathematics'], 11896: ['Mathematics'], 18234: ['Mathematics', 'Greedy'], 20041: ['Mathematics', 'Greedy'], 15896: ['Mathematics'], 16467: ['Mathematics'], 21275: ['Mathematics', 'Implementation', 'Bruteforcing'], 1497: ['Mathematics', 'Bruteforcing'], 1821: ['Mathematics'], 4884: ['Mathematics'], 9937: ['Mathematics'], 17205: ['Mathematics'], 1323: ['Mathematics'], 2575: ['Mathematics'], 14445: ['Mathematics'], 16440: ['Mathematics'], 2247: ['Mathematics'], 14860: ['Mathematics'], 5485: ['Mathematics'], 9213: ['Mathematics'], 9735: ['Mathematics'], 19566: ['Mathematics'], 4030: ['Mathematics', 'Binary search'], 19699: ['Mathematics', 'Bruteforcing'], 20946: ['Mathematics', 'Greedy'], 11385: ['Mathematics'], 14488: ['Mathematics'], 20943: ['Mathematics'], 15945: ['Mathematics'], 20312: ['Mathematics', 'Dynamic programming'], 1112: ['Mathematics', 'Implementation'], 17075: ['Mathematics', 'Dynamic programming'], 19577: ['Mathematics'], 1241: ['Mathematics'], 1684: ['Mathematics'], 13258: ['Mathematics', 'Dynamic programming'], 17840: ['Mathematics', 'Dynamic programming'], 19576: ['Mathematics', 'Dynamic programming'], 9267: ['Mathematics'], 16971: ['Mathematics'], 9204: ['Mathematics', 'Implementation'], 18120: ['Mathematics'], 1353: ['Mathematics'], 11895: ['Mathematics'], 12353: ['Mathematics', 'Implementation'], 16679: ['Mathematics', 'Dynamic programming'], 20116: ['Mathematics'], 6884: ['Mathematics'], 15710: ['Mathematics'], 15981: ['Mathematics'], 20532: ['Mathematics', 'Depth-first search'], 1424: ['Mathematics', 'Implementation'], 1565: ['Mathematics'], 3981: ['Mathematics'], 4312: ['Mathematics'], 2731: ['Mathematics'], 1521: ['Mathematics', 'Dynamic programming'], 11414: ['Mathematics'], 16723: ['Mathematics'], 1117: ['Mathematics', 'Implementation'], 15902: ['Mathematics', 'Dynamic programming'], 15907: ['Mathematics'], 12968: ['Mathematics'], 12971: ['Mathematics', 'Bruteforcing'], 21313: ['Mathematics', 'Implementation', 'Greedy'], 1792: ['Mathematics'], 2793: ['Mathematics'], 9080: ['Mathematics'], 17830: ['Mathematics'], 1215: ['Mathematics'], 1930: ['Mathematics', 'Implementation'], 8944: ['Mathematics'], 10895: ['Mathematics'], 12916: ['Mathematics'], 14922: ['Mathematics'], 18795: ['Mathematics'], 1490: ['Mathematics', 'Implementation', 'Bruteforcing'], 17449: ['Mathematics', 'Greedy'], 13137: ['Mathematics', 'Dynamic programming', 'Greedy'], 13202: ['Mathematics'], 16233: ['Mathematics'], 17843: ['Mathematics'], 13204: ['Mathematics', 'Bruteforcing', 'Binary search'], 14905: ['Mathematics'], 15948: ['Mathematics'], 16193: ['Mathematics', 'Greedy'], 20157: ['Mathematics'], 20438: ['Mathematics'], 4328: ['Mathematics'], 6609: ['Mathematics', 'Implementation'], 9942: ['Mathematics', 'Dynamic programming'], 13279: ['Mathematics', 'Divide and conquer'], 14931: ['Mathematics', 'Bruteforcing'], 17454: ['Mathematics'], 4848: ['Mathematics', 'String'], 11735: ['Mathematics'], 1095: ['Mathematics'], 14571: ['Mathematics'], 17301: ['Mathematics'], 20188: ['Mathematics', 'Dynamic programming', 'Depth-first search'], 1494: ['Mathematics'], 7347: ['Mathematics'], 10327: ['Mathematics'], 13201: ['Mathematics', 'Dynamic programming'], 15718: ['Mathematics'], 1341: ['Mathematics', 'Implementation'], 15328: ['Mathematics'], 19847: ['Mathematics', 'Dynamic programming'], 1128: ['Mathematics', 'Dynamic programming'], 2272: ['Mathematics'], 11693: ['Mathematics'], 12934: ['Mathematics', 'Greedy'], 20305: ['Mathematics', 'Dynamic programming'], 20953: ['Mathematics'], 14941: ['Mathematics'], 16122: ['Mathematics'], 17357: ['Mathematics', 'Bruteforcing'], 18117: ['Mathematics'], 3783: ['Mathematics', 'Binary search'], 3845: ['Mathematics'], 4994: ['Mathematics', 'Breadth-first search'], 13575: ['Mathematics'], 15883: ['Mathematics', 'Bruteforcing'], 19587: ['Mathematics', 'Dynamic programming'], 2270: ['Mathematics'], 3164: ['Mathematics'], 6757: ['Mathematics'], 13294: ['Mathematics'], 16685: ['Mathematics'], 1646: ['Mathematics', 'Implementation'], 3964: ['Mathematics'], 9537: ['Mathematics'], 13255: ['Mathematics', 'Dynamic programming'], 15318: ['Mathematics'], 17938: ['Mathematics', 'Implementation'], 4320: ['Mathematics'], 11387: ['Mathematics', 'Implementation'], 16130: ['Mathematics', 'Implementation'], 20153: ['Mathematics'], 1183: ['Mathematics'], 16210: ['Mathematics'], 4005: ['Mathematics'], 9272: ['Mathematics'], 20548: ['Mathematics', 'Bruteforcing'], 20506: ['Mathematics', 'Dynamic programming'], 9254: ['Mathematics'], 17355: ['Mathematics'], 20131: ['Mathematics'], 20505: ['Mathematics'], 2685: ['Mathematics'], 5619: ['Mathematics', 'Implementation'], 17943: ['Mathematics'], 20412: ['Mathematics'], 2142: ['Mathematics', 'Bruteforcing'], 2936: ['Mathematics', 'Implementation'], 16129: ['Mathematics', 'Implementation'], 18867: ['Mathematics', 'Bruteforcing'], 1979: ['Mathematics', 'Binary search'], 3566: ['Mathematics'], 10244: ['Mathematics'], 11082: ['Mathematics', 'String'], 14257: ['Mathematics'], 20444: ['Mathematics', 'Binary search'], 1555: ['Mathematics', 'Dynamic programming', 'Bruteforcing'], 2963: ['Mathematics'], 12735: ['Mathematics', 'Dynamic programming'], 16136: ['Mathematics'], 13709: ['Mathematics'], 17433: ['Mathematics'], 9341: ['Mathematics', 'Dynamic programming'], 12910: ['Mathematics'], 15570: ['Mathematics', 'Dynamic programming'], 17162: ['Mathematics'], 18373: ['Mathematics'], 1078: ['Mathematics', 'Bruteforcing'], 1665: ['Mathematics', 'Implementation'], 3827: ['Mathematics'], 4782: ['Mathematics'], 11296: ['Mathematics', 'Implementation'], 11661: ['Mathematics'], 11688: ['Mathematics'], 14881: ['Mathematics'], 1399: ['Mathematics'], 13246: ['Mathematics'], 16237: ['Mathematics'], 18184: ['Mathematics'], 2924: ['Mathematics'], 10246: ['Mathematics', 'Bruteforcing'], 13182: ['Mathematics'], 14573: ['Mathematics', 'Dynamic programming'], 21314: ['Mathematics', 'Implementation', 'Greedy'], 3110: ['Mathematics'], 3651: ['Mathematics', 'Binary search'], 7512: ['Mathematics'], 10541: ['Mathematics', 'Implementation'], 10589: ['Mathematics'], 13247: ['Mathematics'], 13854: ['Mathematics', 'Divide and conquer'], 14859: ['Mathematics'], 2500: ['Mathematics'], 3621: ['Mathematics'], 4357: ['Mathematics'], 15488: ['Mathematics'], 17354: ['Mathematics'], 19568: ['Mathematics'], 19953: ['Mathematics'], 5389: ['Mathematics', 'Bruteforcing'], 13949: ['Mathematics', 'Breadth-first search'], 16214: ['Mathematics'], 17084: ['Mathematics'], 1419: ['Mathematics'], 1606: ['Mathematics'], 1728: ['Mathematics', 'Implementation', 'Bruteforcing', 'Binary search'], 13003: ['Mathematics', 'Dynamic programming'], 13143: ['Mathematics', 'Greedy'], 13174: ['Mathematics'], 13716: ['Mathematics', 'Dynamic programming'], 13728: ['Mathematics'], 1122: ['Mathematics', 'Breadth-first search'], 13183: ['Mathematics'], 20938: ['Mathematics', 'Dynamic programming'], 1206: ['Mathematics', 'Bruteforcing'], 1649: ['Mathematics', 'Dynamic programming'], 8989: ['Mathematics'], 11584: ['Mathematics'], 13532: ['Mathematics'], 15911: ['Mathematics'], 16894: ['Mathematics'], 1187: ['Mathematics', 'Divide and conquer'], 1369: ['Mathematics', 'Dynamic programming'], 1404: ['Mathematics', 'Bruteforcing'], 3071: ['Mathematics', 'Implementation'], 3343: ['Mathematics'], 3844: ['Mathematics'], 9326: ['Mathematics'], 12797: ['Mathematics', 'Dynamic programming'], 13165: ['Mathematics'], 14176: ['Mathematics', 'Divide and conquer'], 14854: ['Mathematics'], 18127: ['Mathematics'], 2595: ['Mathematics', 'Breadth-first search'], 3007: ['Mathematics'], 7737: ['Mathematics'], 11691: ['Mathematics'], 12897: ['Mathematics'], 12967: ['Mathematics'], 14608: ['Mathematics', 'Implementation'], 16403: ['Mathematics', 'Dynamic programming'], 17633: ['Mathematics'], 1200: ['Mathematics', 'Dynamic programming', 'Binary search'], 20443: ['Mathematics', 'Dynamic programming'], 20932: ['Mathematics', 'Dynamic programming'], 1257: ['Mathematics', 'Dynamic programming', \"Dijkstra's\"], 2727: ['Mathematics'], 3807: ['Mathematics'], 11917: ['Mathematics', 'Implementation'], 12878: ['Mathematics'], 13723: ['Mathematics'], 10074: ['Mathematics'], 10223: ['Mathematics', 'Greedy'], 11692: ['Mathematics'], 12516: ['Mathematics'], 13139: ['Mathematics', 'Breadth-first search'], 14672: ['Mathematics'], 2554: ['Mathematics'], 3699: ['Mathematics'], 10350: ['Mathematics'], 14949: ['Mathematics', 'Dynamic programming'], 1160: ['Mathematics'], 1529: ['Mathematics', 'Dynamic programming'], 3142: ['Mathematics'], 15309: ['Mathematics'], 15503: ['Mathematics'], 17467: ['Mathematics'], 18287: ['Mathematics', 'Dynamic programming'], 3989: ['Mathematics'], 12515: ['Mathematics'], 14555: ['Mathematics'], 15715: ['Mathematics'], 3031: ['Mathematics', 'Bruteforcing'], 3752: ['Mathematics'], 13018: ['Mathematics'], 14559: ['Mathematics', 'Dynamic programming'], 15825: ['Mathematics'], 2392: ['Mathematics', 'Dynamic programming'], 12972: ['Mathematics'], 13253: ['Mathematics'], 14882: ['Mathematics'], 17118: ['Mathematics'], 17372: ['Mathematics', 'Dynamic programming'], 1177: ['Mathematics'], 1540: ['Mathematics'], 3990: ['Mathematics', 'Divide and conquer'], 11574: ['Mathematics', 'Dynamic programming'], 13727: ['Mathematics', 'Dynamic programming'], 15679: ['Mathematics'], 15879: ['Mathematics'], 17137: ['Mathematics', 'Dynamic programming'], 18194: ['Mathematics'], 18286: ['Mathematics', 'Dynamic programming'], 1742: ['Mathematics', 'Dynamic programming'], 7772: ['Mathematics', 'Dynamic programming'], 9239: ['Mathematics'], 12020: ['Mathematics'], 13010: ['Mathematics', 'Binary search'], 16128: ['Mathematics', 'Divide and conquer'], 2431: ['Mathematics', 'Greedy', 'Binary search'], 3360: ['Mathematics'], 3501: ['Mathematics', 'Greedy'], 7516: ['Mathematics'], 8322: ['Mathematics', 'Implementation'], 9334: ['Mathematics'], 10222: ['Mathematics'], 14878: ['Mathematics'], 15315: ['Mathematics', 'Dynamic programming'], 16224: ['Mathematics'], 16921: ['Mathematics'], 18289: ['Mathematics', 'Dynamic programming'], 1345: ['Mathematics'], 2076: ['Mathematics', 'Implementation'], 3159: ['Mathematics', 'Dynamic programming'], 4881: ['Mathematics'], 9497: ['Mathematics'], 9614: ['Mathematics'], 10477: ['Mathematics', 'Bruteforcing'], 14256: ['Mathematics'], 14856: ['Mathematics'], 17257: ['Mathematics'], 17634: ['Mathematics'], 18348: ['Mathematics'], 19567: ['Mathematics'], 19849: ['Mathematics'], 20189: ['Mathematics', 'Implementation', 'Greedy'], 1862: ['Mathematics'], 9765: ['Mathematics', 'Bruteforcing'], 10562: ['Mathematics'], 13132: ['Mathematics', 'Dynamic programming', 'Bruteforcing'], 15827: ['Mathematics', 'Implementation'], 17236: ['Mathematics', 'Binary search'], 17368: ['Mathematics'], 17415: ['Mathematics'], 19533: ['Mathematics'], 19569: ['Mathematics', 'Dynamic programming'], 3307: ['Mathematics'], 4839: ['Mathematics', 'Implementation'], 9206: ['Mathematics'], 10985: ['Mathematics'], 11912: ['Mathematics', 'Greedy'], 16154: ['Mathematics'], 18197: ['Mathematics'], 18226: ['Mathematics'], 20296: ['Mathematics'], 2055: ['Mathematics'], 2709: ['Mathematics'], 10908: ['Mathematics'], 10915: ['Mathematics'], 13558: ['Mathematics'], 14398: ['Mathematics'], 14707: ['Mathematics'], 18380: ['Mathematics', 'Implementation', 'String'], 19853: ['Mathematics'], 1754: ['Mathematics', 'Dynamic programming'], 3959: ['Mathematics'], 4461: ['Mathematics', 'Binary search'], 7345: ['Mathematics'], 7936: ['Mathematics'], 12902: ['Mathematics'], 13318: ['Mathematics'], 14232: ['Mathematics'], 17360: ['Mathematics'], 20669: ['Mathematics'], 5025: ['Mathematics'], 5696: ['Mathematics'], 11388: ['Mathematics', 'Greedy'], 13173: ['Mathematics', 'Dynamic programming'], 13180: ['Mathematics'], 16896: ['Mathematics'], 18225: ['Mathematics', 'Implementation'], 18347: ['Mathematics'], 20121: ['Mathematics'], 2813: ['Mathematics'], 13186: ['Mathematics'], 13439: ['Mathematics'], 15682: ['Mathematics'], 17123: ['Mathematics'], 17275: ['Mathematics'], 1364: ['Mathematics'], 2007: ['Mathematics'], 2682: ['Mathematics'], 8880: ['Mathematics'], 11030: ['Mathematics'], 12859: ['Mathematics', 'Dynamic programming'], 14252: ['Mathematics'], 15306: ['Mathematics'], 16123: ['Mathematics'], 18776: ['Mathematics'], 18936: ['Mathematics'], 18939: ['Mathematics'], 19648: ['Mathematics', 'Dynamic programming'], 4862: ['Mathematics'], 4924: ['Mathematics'], 12742: ['Mathematics'], 13185: ['Mathematics'], 13435: ['Mathematics'], 13725: ['Mathematics', 'Dynamic programming'], 14708: ['Mathematics', 'Bruteforcing'], 14862: ['Mathematics'], 15310: ['Mathematics', 'Divide and conquer'], 16709: ['Mathematics'], 17079: ['Mathematics', 'Greedy'], 17105: ['Mathematics'], 18791: ['Mathematics', 'Implementation'], 18792: ['Mathematics'], 20957: ['Mathematics', 'Dynamic programming'], 1196: ['Mathematics'], 1290: ['Mathematics', 'Implementation', 'Greedy', 'Bruteforcing'], 1746: ['Mathematics', 'Dynamic programming'], 2723: ['Mathematics'], 2978: ['Mathematics', 'Dynamic programming', 'Greedy'], 3614: ['Mathematics'], 13127: ['Mathematics'], 13138: ['Mathematics'], 14265: ['Mathematics'], 18381: ['Mathematics'], 20133: ['Mathematics'], 20653: ['Mathematics'], 1147: ['Mathematics'], 1409: ['Mathematics', 'Bruteforcing'], 1858: ['Mathematics', 'Greedy'], 2678: ['Mathematics', 'Implementation'], 10731: ['Mathematics', 'Dynamic programming'], 10916: ['Mathematics'], 11397: ['Mathematics'], 13120: ['Mathematics', 'Dynamic programming'], 13271: ['Mathematics'], 14847: ['Mathematics'], 14933: ['Mathematics'], 15983: ['Mathematics', \"Dijkstra's\"], 15994: ['Mathematics'], 18159: ['Mathematics'], 18168: ['Mathematics', 'Divide and conquer'], 19954: ['Mathematics', 'Greedy'], 20134: ['Mathematics'], 20952: ['Mathematics', 'Binary search'], 1338: ['Mathematics'], 1643: ['Mathematics'], 10428: ['Mathematics', 'Dynamic programming'], 13573: ['Mathematics'], 16904: ['Mathematics', 'Divide and conquer'], 19592: ['Mathematics'], 20557: ['Mathematics'], 20954: ['Mathematics'], 1104: ['Mathematics', 'String'], 1227: ['Mathematics', 'Breadth-first search'], 2925: ['Mathematics'], 3586: ['Mathematics', 'Implementation', 'String'], 4995: ['Mathematics'], 10721: ['Mathematics'], 10730: ['Mathematics', 'Dynamic programming'], 13278: ['Mathematics'], 13729: ['Mathematics'], 16644: ['Mathematics'], 17441: ['Mathematics'], 17468: ['Mathematics'], 20306: ['Mathematics'], 20552: ['Mathematics', 'Dynamic programming'], 1140: ['Mathematics'], 1892: ['Mathematics'], 3565: ['Mathematics', 'Dynamic programming'], 5627: ['Mathematics'], 7558: ['Mathematics'], 12944: ['Mathematics'], 13758: ['Mathematics', 'Divide and conquer'], 14884: ['Mathematics', 'Dynamic programming'], 16135: ['Mathematics'], 16140: ['Mathematics'], 17378: ['Mathematics'], 17405: ['Mathematics'], 17431: ['Mathematics'], 20940: ['Mathematics'], 1278: ['Mathematics'], 2882: ['Mathematics'], 2974: ['Mathematics', 'Dynamic programming'], 7775: ['Mathematics'], 9556: ['Mathematics'], 10894: ['Mathematics'], 13542: ['Mathematics'], 14558: ['Mathematics'], 14861: ['Mathematics'], 16164: ['Mathematics'], 16855: ['Mathematics'], 17646: ['Mathematics'], 19562: ['Mathematics'], 19574: ['Mathematics', 'Binary search'], 19702: ['Mathematics'], 20958: ['Mathematics', 'Greedy'], 2060: ['Mathematics', 'Dynamic programming'], 2968: ['Mathematics'], 3113: ['Mathematics', 'Greedy'], 3881: ['Mathematics', 'Binary search'], 10287: ['Mathematics'], 12955: ['Mathematics'], 13178: ['Mathematics', 'Dynamic programming'], 13533: ['Mathematics'], 14741: ['Mathematics'], 14895: ['Mathematics'], 15826: ['Mathematics'], 16141: ['Mathematics'], 19549: ['Mathematics'], 19552: ['Mathematics'], 21322: ['Mathematics', 'Implementation'], 1125: ['Mathematics', 'Greedy'], 1829: ['Mathematics', 'Implementation'], 2122: ['Mathematics'], 2351: ['Mathematics', 'Greedy'], 3203: ['Mathematics', 'Implementation', 'String'], 5178: ['Mathematics', 'String'], 11398: ['Mathematics'], 15716: ['Mathematics', 'Implementation', 'Binary search'], 17376: ['Mathematics', 'Dynamic programming', 'Depth-first search'], 18183: ['Mathematics', 'Dynamic programming'], 19595: ['Mathematics', 'Dynamic programming'], 19601: ['Mathematics'], 1211: ['Mathematics', 'Dynamic programming'], 2761: ['Mathematics'], 4379: ['Mathematics'], 7784: ['Mathematics', 'Breadth-first search'], 10896: ['Mathematics', 'Dynamic programming'], 10909: ['Mathematics'], 12870: ['Mathematics', 'Dynamic programming'], 13175: ['Mathematics'], 13177: ['Mathematics'], 15314: ['Mathematics'], 16642: ['Mathematics'], 16941: ['Mathematics', 'Dynamic programming'], 18162: ['Mathematics'], 19570: ['Mathematics', 'Divide and conquer'], 1123: ['Mathematics'], 6279: ['Mathematics'], 6286: ['Mathematics'], 13179: ['Mathematics', 'Dynamic programming'], 13187: ['Mathematics'], 13756: ['Mathematics', 'Dynamic programming'], 14227: ['Mathematics'], 16640: ['Mathematics', 'Breadth-first search'], 16641: ['Mathematics'], 17379: ['Mathematics', 'Implementation'], 17438: ['Mathematics'], 18346: ['Mathematics'], 1957: ['Mathematics'], 3769: ['Mathematics', 'Greedy'], 4092: ['Mathematics'], 10912: ['Mathematics'], 12748: ['Mathematics'], 13184: ['Mathematics'], 13428: ['Mathematics'], 14853: ['Mathematics'], 14858: ['Mathematics'], 16645: ['Mathematics'], 17417: ['Mathematics'], 18345: ['Mathematics', 'Dynamic programming'], 18802: ['Mathematics', 'Dynamic programming'], 20307: ['Mathematics'], 1910: ['Mathematics'], 13714: ['Mathematics'], 14883: ['Mathematics', 'Dynamic programming'], 18163: ['Mathematics'], 18354: ['Mathematics'], 18864: ['Mathematics'], 20539: ['Mathematics'], 1554: ['Mathematics'], 4798: ['Mathematics'], 9021: ['Mathematics'], 13574: ['Mathematics'], 17445: ['Mathematics'], 18350: ['Mathematics'], 18806: ['Mathematics', 'String'], 20672: ['Mathematics', 'Dynamic programming'], 1632: ['Mathematics', 'Implementation'], 9477: ['Mathematics'], 13337: ['Mathematics', 'Dynamic programming'], 14850: ['Mathematics'], 14885: ['Mathematics', 'Dynamic programming'], 18166: ['Mathematics', 'Implementation', 'String'], 18918: ['Mathematics'], 20000: ['Mathematics', 'Implementation', 'String', 'Breadth-first search', 'Divide and conquer'], 1335: ['Mathematics'], 7053: ['Mathematics'], 7623: ['Mathematics'], 13724: ['Mathematics'], 18767: ['Mathematics', 'Implementation'], 18793: ['Mathematics', 'Implementation'], 1936: ['Mathematics'], 2334: ['Mathematics'], 4463: ['Mathematics', 'Implementation'], 11392: ['Mathematics', 'Implementation'], 13572: ['Mathematics'], 13712: ['Mathematics'], 16646: ['Mathematics'], 17239: ['Mathematics'], 18831: ['Mathematics', 'Dynamic programming', 'Implementation', 'String', 'Breadth-first search', 'Depth-first search'], 18893: ['Mathematics', 'Dynamic programming'], 2113: ['Mathematics'], 20658: ['Mathematics', 'Divide and conquer'], 1386: ['Mathematics', 'Divide and conquer'], 1770: ['Mathematics'], 1463: ['Dynamic programming'], 9095: ['Dynamic programming'], 1003: ['Dynamic programming'], 11726: ['Dynamic programming'], 1149: ['Dynamic programming'], 2579: ['Dynamic programming'], 1932: ['Dynamic programming'], 2156: ['Dynamic programming'], 11053: ['Dynamic programming'], 2193: ['Dynamic programming'], 1912: ['Dynamic programming'], 10844: ['Dynamic programming'], 11727: ['Dynamic programming'], 14501: ['Dynamic programming', 'Bruteforcing'], 11052: ['Dynamic programming'], 9465: ['Dynamic programming'], 11057: ['Dynamic programming'], 2293: ['Dynamic programming'], 1904: ['Dynamic programming'], 9251: ['Dynamic programming'], 11054: ['Dynamic programming'], 11055: ['Dynamic programming'], 11722: ['Dynamic programming'], 2133: ['Dynamic programming'], 11048: ['Dynamic programming'], 12865: ['Dynamic programming'], 2294: ['Dynamic programming'], 1520: ['Dynamic programming'], 2225: ['Dynamic programming'], 1890: ['Dynamic programming'], 1309: ['Dynamic programming'], 1005: ['Dynamic programming'], 2565: ['Dynamic programming'], 1937: ['Dynamic programming', 'Depth-first search'], 1915: ['Dynamic programming'], 11066: ['Dynamic programming'], 1965: ['Dynamic programming'], 2096: ['Dynamic programming'], 10942: ['Dynamic programming', 'String'], 9252: ['Dynamic programming'], 11049: ['Dynamic programming'], 17070: ['Dynamic programming'], 2011: ['Dynamic programming'], 11660: ['Dynamic programming'], 2098: ['Dynamic programming'], 5557: ['Dynamic programming'], 14002: ['Dynamic programming'], 1516: ['Dynamic programming'], 2631: ['Dynamic programming'], 1495: ['Dynamic programming'], 9507: ['Dynamic programming'], 9656: ['Dynamic programming'], 9184: ['Dynamic programming'], 15988: ['Dynamic programming'], 11060: ['Dynamic programming'], 14226: ['Dynamic programming', 'Breadth-first search'], 2302: ['Dynamic programming'], 7579: ['Dynamic programming'], 9625: ['Dynamic programming', 'Implementation'], 9084: ['Dynamic programming'], 5582: ['Dynamic programming'], 10826: ['Dynamic programming'], 13301: ['Dynamic programming'], 16194: ['Dynamic programming'], 15990: ['Dynamic programming'], 2169: ['Dynamic programming'], 2056: ['Dynamic programming'], 2240: ['Dynamic programming'], 2533: ['Dynamic programming'], 13398: ['Dynamic programming'], 2491: ['Dynamic programming'], 2629: ['Dynamic programming'], 1509: ['Dynamic programming'], 4811: ['Dynamic programming'], 12852: ['Dynamic programming'], 1562: ['Dynamic programming'], 2670: ['Dynamic programming', 'Bruteforcing'], 10835: ['Dynamic programming'], 2618: ['Dynamic programming'], 1958: ['Dynamic programming', 'String'], 9657: ['Dynamic programming'], 11062: ['Dynamic programming'], 2688: ['Dynamic programming'], 15486: ['Dynamic programming'], 17626: ['Dynamic programming', 'Bruteforcing'], 2482: ['Dynamic programming'], 10211: ['Dynamic programming', 'Bruteforcing'], 1102: ['Dynamic programming'], 2602: ['Dynamic programming'], 2624: ['Dynamic programming'], 17404: ['Dynamic programming'], 2616: ['Dynamic programming'], 11058: ['Dynamic programming'], 1535: ['Dynamic programming', 'Bruteforcing'], 1793: ['Dynamic programming'], 1103: ['Dynamic programming', 'Depth-first search'], 9658: ['Dynamic programming'], 1351: ['Dynamic programming'], 2698: ['Dynamic programming'], 2666: ['Dynamic programming', 'Bruteforcing'], 10217: ['Dynamic programming', \"Dijkstra's\"], 2342: ['Dynamic programming'], 13302: ['Dynamic programming'], 7570: ['Dynamic programming'], 2228: ['Dynamic programming'], 1563: ['Dynamic programming'], 2662: ['Dynamic programming'], 13699: ['Dynamic programming'], 17069: ['Dynamic programming'], 2213: ['Dynamic programming'], 1949: ['Dynamic programming'], 4883: ['Dynamic programming'], 15989: ['Dynamic programming'], 2449: ['Dynamic programming'], 1660: ['Dynamic programming'], 1126: ['Dynamic programming'], 14495: ['Dynamic programming'], 1695: ['Dynamic programming'], 2410: ['Dynamic programming'], 1014: ['Dynamic programming'], 1720: ['Dynamic programming'], 2718: ['Dynamic programming'], 2643: ['Dynamic programming'], 2229: ['Dynamic programming'], 14852: ['Dynamic programming'], 4781: ['Dynamic programming'], 1006: ['Dynamic programming'], 13325: ['Dynamic programming'], 14728: ['Dynamic programming'], 11568: ['Dynamic programming'], 2515: ['Dynamic programming'], 12869: ['Dynamic programming'], 2591: ['Dynamic programming'], 15681: ['Dynamic programming', 'Depth-first search'], 14494: ['Dynamic programming'], 2186: ['Dynamic programming'], 2157: ['Dynamic programming'], 2306: ['Dynamic programming'], 1086: ['Dynamic programming'], 5904: ['Dynamic programming', 'Divide and conquer'], 12849: ['Dynamic programming'], 14430: ['Dynamic programming'], 17175: ['Dynamic programming'], 1648: ['Dynamic programming'], 14863: ['Dynamic programming'], 2655: ['Dynamic programming'], 1693: ['Dynamic programming'], 2613: ['Dynamic programming', 'Greedy', 'Binary search'], 4013: ['Dynamic programming'], 18353: ['Dynamic programming'], 1028: ['Dynamic programming'], 5721: ['Dynamic programming'], 1029: ['Dynamic programming'], 2300: ['Dynamic programming'], 2560: ['Dynamic programming'], 5569: ['Dynamic programming'], 5573: ['Dynamic programming'], 2879: ['Dynamic programming', 'Greedy'], 1727: ['Dynamic programming'], 2248: ['Dynamic programming'], 12026: ['Dynamic programming'], 1135: ['Dynamic programming', 'Greedy'], 2281: ['Dynamic programming'], 5624: ['Dynamic programming', 'Implementation'], 15483: ['Dynamic programming'], 13308: ['Dynamic programming', \"Dijkstra's\"], 2780: ['Dynamic programming'], 17090: ['Dynamic programming', 'Depth-first search'], 1315: ['Dynamic programming', 'Greedy'], 2315: ['Dynamic programming'], 2159: ['Dynamic programming'], 10251: ['Dynamic programming'], 1577: ['Dynamic programming'], 1633: ['Dynamic programming'], 10803: ['Dynamic programming'], 1514: ['Dynamic programming'], 16500: ['Dynamic programming', 'String'], 14567: ['Dynamic programming'], 1106: ['Dynamic programming'], 3933: ['Dynamic programming', 'Bruteforcing'], 8984: ['Dynamic programming'], 2152: ['Dynamic programming'], 5626: ['Dynamic programming'], 12996: ['Dynamic programming'], 5502: ['Dynamic programming'], 1398: ['Dynamic programming', 'Greedy'], 4008: ['Dynamic programming'], 14925: ['Dynamic programming'], 12969: ['Dynamic programming'], 2494: ['Dynamic programming'], 17212: ['Dynamic programming'], 3067: ['Dynamic programming'], 2550: ['Dynamic programming', 'Binary search'], 14238: ['Dynamic programming', 'Depth-first search'], 16287: ['Dynamic programming'], 10937: ['Dynamic programming'], 3114: ['Dynamic programming'], 1866: ['Dynamic programming'], 1023: ['Dynamic programming'], 2216: ['Dynamic programming'], 2201: ['Dynamic programming'], 10160: ['Dynamic programming'], 4243: ['Dynamic programming'], 14699: ['Dynamic programming'], 1082: ['Dynamic programming', 'Greedy', 'String'], 13263: ['Dynamic programming'], 2673: ['Dynamic programming'], 1513: ['Dynamic programming'], 3056: ['Dynamic programming'], 10265: ['Dynamic programming', 'Depth-first search'], 1657: ['Dynamic programming'], 1146: ['Dynamic programming'], 17391: ['Dynamic programming', 'Breadth-first search'], 1757: ['Dynamic programming'], 17271: ['Dynamic programming'], 15966: ['Dynamic programming'], 15992: ['Dynamic programming'], 2172: ['Dynamic programming'], 1983: ['Dynamic programming'], 17265: ['Dynamic programming', 'Breadth-first search'], 3687: ['Dynamic programming'], 4095: ['Dynamic programming'], 12920: ['Dynamic programming'], 3012: ['Dynamic programming'], 9177: ['Dynamic programming', 'String', 'Breadth-first search'], 12785: ['Dynamic programming'], 15678: ['Dynamic programming'], 12872: ['Dynamic programming'], 15991: ['Dynamic programming'], 2266: ['Dynamic programming'], 2419: ['Dynamic programming'], 11570: ['Dynamic programming'], 16957: ['Dynamic programming'], 2079: ['Dynamic programming', 'String'], 2291: ['Dynamic programming'], 14517: ['Dynamic programming'], 17528: ['Dynamic programming'], 13974: ['Dynamic programming'], 1099: ['Dynamic programming'], 5015: ['Dynamic programming', 'String'], 6988: ['Dynamic programming'], 2647: ['Dynamic programming'], 1020: ['Dynamic programming'], 9520: ['Dynamic programming'], 14722: ['Dynamic programming'], 4198: ['Dynamic programming'], 10272: ['Dynamic programming'], 15993: ['Dynamic programming'], 16195: ['Dynamic programming'], 2450: ['Dynamic programming', 'Implementation', 'Bruteforcing'], 2758: ['Dynamic programming'], 17088: ['Dynamic programming'], 13703: ['Dynamic programming'], 2208: ['Dynamic programming'], 14505: ['Dynamic programming'], 2600: ['Dynamic programming'], 10805: ['Dynamic programming'], 14585: ['Dynamic programming'], 9764: ['Dynamic programming'], 19947: ['Dynamic programming', 'Bruteforcing'], 1994: ['Dynamic programming', 'Binary search'], 4172: ['Dynamic programming', 'Implementation'], 17130: ['Dynamic programming'], 10714: ['Dynamic programming'], 3372: ['Dynamic programming'], 2305: ['Dynamic programming'], 1750: ['Dynamic programming'], 10653: ['Dynamic programming'], 2507: ['Dynamic programming'], 16991: ['Dynamic programming'], 5546: ['Dynamic programming'], 10982: ['Dynamic programming'], 6171: ['Dynamic programming'], 2611: ['Dynamic programming'], 7812: ['Dynamic programming', 'Depth-first search'], 13392: ['Dynamic programming'], 17845: ['Dynamic programming'], 2253: ['Dynamic programming'], 2411: ['Dynamic programming'], 2518: ['Dynamic programming'], 2854: ['Dynamic programming'], 5527: ['Dynamic programming', 'Implementation'], 8872: ['Dynamic programming', 'Depth-first search'], 11001: ['Dynamic programming', 'Divide and conquer'], 16568: ['Dynamic programming'], 2806: ['Dynamic programming', 'Greedy'], 16432: ['Dynamic programming', 'Greedy', 'Depth-first search'], 1184: ['Dynamic programming', 'Bruteforcing'], 13323: ['Dynamic programming'], 17613: ['Dynamic programming', 'Divide and conquer'], 12786: ['Dynamic programming'], 1301: ['Dynamic programming'], 2092: ['Dynamic programming'], 2572: ['Dynamic programming'], 1053: ['Dynamic programming'], 17218: ['Dynamic programming'], 18249: ['Dynamic programming'], 1354: ['Dynamic programming'], 2876: ['Dynamic programming'], 17216: ['Dynamic programming'], 13902: ['Dynamic programming'], 17623: ['Dynamic programming'], 17953: ['Dynamic programming'], 13261: ['Dynamic programming', 'Divide and conquer'], 1040: ['Dynamic programming'], 17831: ['Dynamic programming'], 2184: ['Dynamic programming'], 1737: ['Dynamic programming'], 10067: ['Dynamic programming'], 17485: ['Dynamic programming'], 7476: ['Dynamic programming'], 17367: ['Dynamic programming'], 8913: ['Dynamic programming'], 13910: ['Dynamic programming'], 15977: ['Dynamic programming', 'Divide and conquer'], 1480: ['Dynamic programming'], 2176: ['Dynamic programming', \"Dijkstra's\"], 1796: ['Dynamic programming', 'Bruteforcing'], 11560: ['Dynamic programming', 'Implementation'], 11985: ['Dynamic programming'], 2091: ['Dynamic programming', 'Greedy', 'Bruteforcing'], 12795: ['Dynamic programming'], 1528: ['Dynamic programming'], 2401: ['Dynamic programming', 'String'], 17291: ['Dynamic programming', 'Implementation'], 9662: ['Dynamic programming'], 12995: ['Dynamic programming'], 1209: ['Dynamic programming'], 15938: ['Dynamic programming'], 2008: ['Dynamic programming'], 2612: ['Dynamic programming'], 2451: ['Dynamic programming'], 3037: ['Dynamic programming'], 4097: ['Dynamic programming', 'Implementation'], 14677: ['Dynamic programming', 'Breadth-first search'], 14846: ['Dynamic programming'], 16456: ['Dynamic programming'], 12008: ['Dynamic programming'], 14869: ['Dynamic programming'], 15724: ['Dynamic programming'], 17297: ['Dynamic programming', 'Divide and conquer'], 12013: ['Dynamic programming'], 2287: ['Dynamic programming'], 13324: ['Dynamic programming'], 17365: ['Dynamic programming', 'String'], 14462: ['Dynamic programming'], 17208: ['Dynamic programming'], 16639: ['Dynamic programming', 'String'], 2066: ['Dynamic programming'], 9029: ['Dynamic programming'], 6989: ['Dynamic programming'], 14870: ['Dynamic programming'], 18244: ['Dynamic programming'], 2499: ['Dynamic programming'], 2651: ['Dynamic programming'], 5463: ['Dynamic programming'], 13330: ['Dynamic programming'], 3057: ['Dynamic programming'], 8902: ['Dynamic programming'], 18427: ['Dynamic programming'], 12888: ['Dynamic programming'], 2237: ['Dynamic programming'], 2453: ['Dynamic programming', 'Depth-first search'], 12019: ['Dynamic programming'], 1666: ['Dynamic programming'], 9936: ['Dynamic programming'], 10273: ['Dynamic programming'], 2829: ['Dynamic programming'], 10129: ['Dynamic programming'], 6569: ['Dynamic programming'], 1943: ['Dynamic programming'], 14619: ['Dynamic programming'], 17255: ['Dynamic programming', 'String', 'Bruteforcing'], 17498: ['Dynamic programming'], 1311: ['Dynamic programming'], 1587: ['Dynamic programming'], 1970: ['Dynamic programming'], 14945: ['Dynamic programming'], 15770: ['Dynamic programming'], 20413: ['Dynamic programming', 'Implementation', 'Greedy'], 1884: ['Dynamic programming', \"Dijkstra's\"], 10564: ['Dynamic programming'], 1226: ['Dynamic programming', 'Greedy'], 2320: ['Dynamic programming'], 13260: ['Dynamic programming'], 1857: ['Dynamic programming', 'Breadth-first search', \"Dijkstra's\"], 10476: ['Dynamic programming'], 10573: ['Dynamic programming'], 15924: ['Dynamic programming'], 11881: ['Dynamic programming'], 12758: ['Dynamic programming'], 13262: ['Dynamic programming', 'Divide and conquer'], 15669: ['Dynamic programming'], 2543: ['Dynamic programming'], 15673: ['Dynamic programming'], 16877: ['Dynamic programming'], 12766: ['Dynamic programming', \"Dijkstra's\", 'Divide and conquer'], 13448: ['Dynamic programming', 'Greedy'], 1801: ['Dynamic programming', 'Divide and conquer'], 15822: ['Dynamic programming'], 19622: ['Dynamic programming'], 2197: ['Dynamic programming'], 2418: ['Dynamic programming'], 10759: ['Dynamic programming'], 3044: ['Dynamic programming', 'Depth-first search'], 20047: ['Dynamic programming'], 2586: ['Dynamic programming', 'Greedy'], 4384: ['Dynamic programming'], 12736: ['Dynamic programming'], 19943: ['Dynamic programming'], 2073: ['Dynamic programming'], 9327: ['Dynamic programming'], 1763: ['Dynamic programming', 'Greedy'], 1749: ['Dynamic programming'], 14553: ['Dynamic programming'], 5535: ['Dynamic programming'], 11583: ['Dynamic programming'], 20167: ['Dynamic programming', 'Bruteforcing'], 20544: ['Dynamic programming'], 1751: ['Dynamic programming'], 11333: ['Dynamic programming'], 10919: ['Dynamic programming', 'Greedy'], 19553: ['Dynamic programming'], 7976: ['Dynamic programming'], 12928: ['Dynamic programming'], 20162: ['Dynamic programming'], 7620: ['Dynamic programming'], 9457: ['Dynamic programming'], 12762: ['Dynamic programming'], 15912: ['Dynamic programming'], 18118: ['Dynamic programming'], 14451: ['Dynamic programming', 'Breadth-first search'], 14700: ['Dynamic programming'], 16399: ['Dynamic programming'], 17351: ['Dynamic programming'], 17397: ['Dynamic programming'], 15487: ['Dynamic programming'], 17624: ['Dynamic programming'], 3319: ['Dynamic programming'], 11056: ['Dynamic programming'], 12930: ['Dynamic programming', \"Dijkstra's\"], 20303: ['Dynamic programming'], 1048: ['Dynamic programming'], 2337: ['Dynamic programming'], 4348: ['Dynamic programming'], 10649: ['Dynamic programming'], 14240: ['Dynamic programming'], 16117: ['Dynamic programming'], 1176: ['Dynamic programming'], 17180: ['Dynamic programming'], 18790: ['Dynamic programming'], 10846: ['Dynamic programming'], 14610: ['Dynamic programming', 'Implementation', 'Greedy'], 16468: ['Dynamic programming'], 5069: ['Dynamic programming'], 16121: ['Dynamic programming', 'Divide and conquer'], 19623: ['Dynamic programming'], 13555: ['Dynamic programming'], 14586: ['Dynamic programming'], 2939: ['Dynamic programming'], 3976: ['Dynamic programming', 'Greedy'], 5528: ['Dynamic programming'], 15321: ['Dynamic programming'], 17841: ['Dynamic programming'], 1121: ['Dynamic programming'], 5561: ['Dynamic programming'], 14459: ['Dynamic programming', 'Binary search'], 20925: ['Dynamic programming'], 13906: ['Dynamic programming'], 20181: ['Dynamic programming', 'Binary search'], 16572: ['Dynamic programming'], 18439: ['Dynamic programming', 'String'], 1691: ['Dynamic programming', 'Greedy'], 3133: ['Dynamic programming', 'Binary search'], 16169: ['Dynamic programming'], 18438: ['Dynamic programming', 'Divide and conquer'], 14389: ['Dynamic programming'], 15569: ['Dynamic programming'], 20542: ['Dynamic programming'], 5813: ['Dynamic programming'], 16119: ['Dynamic programming'], 1056: ['Dynamic programming', \"Dijkstra's\"], 2256: ['Dynamic programming'], 2695: ['Dynamic programming'], 5466: ['Dynamic programming'], 17455: ['Dynamic programming'], 18858: ['Dynamic programming'], 1836: ['Dynamic programming'], 3405: ['Dynamic programming'], 10710: ['Dynamic programming'], 15647: ['Dynamic programming'], 1131: ['Dynamic programming'], 1230: ['Dynamic programming'], 3429: ['Dynamic programming'], 13002: ['Dynamic programming'], 1988: ['Dynamic programming'], 5550: ['Dynamic programming'], 2994: ['Dynamic programming'], 6101: ['Dynamic programming'], 10841: ['Dynamic programming'], 19645: ['Dynamic programming'], 20414: ['Dynamic programming'], 1623: ['Dynamic programming'], 1772: ['Dynamic programming'], 2803: ['Dynamic programming'], 7981: ['Dynamic programming', 'Depth-first search'], 14590: ['Dynamic programming'], 17234: ['Dynamic programming', 'Breadth-first search'], 20415: ['Dynamic programming'], 2584: ['Dynamic programming'], 4206: ['Dynamic programming', 'String'], 14180: ['Dynamic programming'], 19545: ['Dynamic programming'], 1410: ['Dynamic programming'], 2313: ['Dynamic programming'], 10076: ['Dynamic programming', 'Divide and conquer'], 15485: ['Dynamic programming'], 15571: ['Dynamic programming'], 16876: ['Dynamic programming'], 2989: ['Dynamic programming'], 14907: ['Dynamic programming', 'Depth-first search'], 15908: ['Dynamic programming', 'Binary search'], 16157: ['Dynamic programming'], 16473: ['Dynamic programming'], 16474: ['Dynamic programming'], 12932: ['Dynamic programming'], 1243: ['Dynamic programming'], 1462: ['Dynamic programming'], 1955: ['Dynamic programming', 'Bruteforcing'], 2728: ['Dynamic programming'], 10777: ['Dynamic programming'], 12861: ['Dynamic programming'], 12887: ['Dynamic programming'], 15574: ['Dynamic programming'], 16132: ['Dynamic programming'], 1814: ['Dynamic programming'], 1823: ['Dynamic programming'], 12864: ['Dynamic programming'], 14587: ['Dynamic programming'], 15572: ['Dynamic programming'], 1416: ['Dynamic programming'], 3086: ['Dynamic programming'], 12950: ['Dynamic programming'], 20293: ['Dynamic programming', 'Binary search'], 1390: ['Dynamic programming', 'Implementation'], 2995: ['Dynamic programming'], 3032: ['Dynamic programming'], 9992: ['Dynamic programming', 'Implementation'], 11897: ['Dynamic programming'], 16854: ['Dynamic programming'], 17232: ['Dynamic programming'], 1659: ['Dynamic programming', 'Greedy'], 2899: ['Dynamic programming'], 15910: ['Dynamic programming'], 1519: ['Dynamic programming'], 3321: ['Dynamic programming', 'Greedy'], 11941: ['Dynamic programming'], 12876: ['Dynamic programming', 'Divide and conquer'], 17428: ['Dynamic programming'], 1054: ['Dynamic programming', 'String'], 1679: ['Dynamic programming', 'Breadth-first search'], 5905: ['Dynamic programming', 'String'], 11573: ['Dynamic programming'], 14177: ['Dynamic programming', 'Divide and conquer'], 17422: ['Dynamic programming'], 2976: ['Dynamic programming', \"Dijkstra's\"], 4009: ['Dynamic programming'], 15490: ['Dynamic programming'], 15713: ['Dynamic programming', \"Dijkstra's\"], 16888: ['Dynamic programming'], 17258: ['Dynamic programming'], 17409: ['Dynamic programming'], 2466: ['Dynamic programming', 'Binary search'], 2795: ['Dynamic programming'], 11883: ['Dynamic programming', 'Breadth-first search'], 15731: ['Dynamic programming'], 20120: ['Dynamic programming'], 20667: ['Dynamic programming'], 2474: ['Dynamic programming', 'Greedy'], 2984: ['Dynamic programming', 'Greedy'], 3001: ['Dynamic programming'], 5681: ['Dynamic programming'], 13710: ['Dynamic programming'], 20666: ['Dynamic programming', 'Greedy', \"Dijkstra's\"], 1042: ['Dynamic programming'], 1805: ['Dynamic programming'], 1856: ['Dynamic programming'], 5042: ['Dynamic programming'], 9203: ['Dynamic programming', 'Greedy', 'String'], 10257: ['Dynamic programming', 'Bruteforcing'], 15807: ['Dynamic programming'], 18892: ['Dynamic programming'], 1144: ['Dynamic programming'], 1624: ['Dynamic programming', 'Greedy'], 7346: ['Dynamic programming'], 9646: ['Dynamic programming', 'Depth-first search'], 10513: ['Dynamic programming'], 17369: ['Dynamic programming', 'Implementation'], 18288: ['Dynamic programming'], 1852: ['Dynamic programming'], 1868: ['Dynamic programming', 'Greedy'], 3257: ['Dynamic programming'], 5814: ['Dynamic programming'], 10716: ['Dynamic programming', 'Binary search'], 11753: ['Dynamic programming', 'Implementation', 'String'], 12430: ['Dynamic programming', 'Greedy'], 16725: ['Dynamic programming'], 18292: ['Dynamic programming'], 10563: ['Dynamic programming'], 10719: ['Dynamic programming'], 12960: ['Dynamic programming'], 13556: ['Dynamic programming'], 1603: ['Dynamic programming'], 2192: ['Dynamic programming'], 2296: ['Dynamic programming'], 3026: ['Dynamic programming'], 17099: ['Dynamic programming', 'Greedy'], 2969: ['Dynamic programming'], 4001: ['Dynamic programming', 'Binary search'], 12105: ['Dynamic programming', 'String'], 14739: ['Dynamic programming'], 14743: ['Dynamic programming', 'Binary search'], 16881: ['Dynamic programming'], 1139: ['Dynamic programming'], 5923: ['Dynamic programming'], 6116: ['Dynamic programming'], 10068: ['Dynamic programming'], 12754: ['Dynamic programming', 'Greedy'], 16286: ['Dynamic programming', 'Binary search'], 18015: ['Dynamic programming'], 1324: ['Dynamic programming'], 10215: ['Dynamic programming', 'Implementation', 'Bruteforcing'], 12106: ['Dynamic programming', 'String'], 17493: ['Dynamic programming', 'Greedy'], 18440: ['Dynamic programming', 'Divide and conquer'], 21317: ['Dynamic programming', 'Bruteforcing'], 2379: ['Dynamic programming', 'Depth-first search'], 3409: ['Dynamic programming', 'String'], 5531: ['Dynamic programming', 'Divide and conquer'], 9545: ['Dynamic programming', 'Depth-first search'], 13252: ['Dynamic programming', 'Greedy'], 14390: ['Dynamic programming'], 16684: ['Dynamic programming', 'Implementation'], 18189: ['Dynamic programming'], 1066: ['Dynamic programming'], 1582: ['Dynamic programming'], 4213: ['Dynamic programming'], 6531: ['Dynamic programming', 'String'], 15974: ['Dynamic programming'], 20555: ['Dynamic programming'], 1204: ['Dynamic programming'], 1752: ['Dynamic programming'], 2196: ['Dynamic programming'], 6132: ['Dynamic programming'], 8874: ['Dynamic programming'], 13176: ['Dynamic programming'], 17240: ['Dynamic programming', 'Greedy', 'Bruteforcing'], 17675: ['Dynamic programming'], 1265: ['Dynamic programming'], 1804: ['Dynamic programming'], 2625: ['Dynamic programming', 'Breadth-first search'], 3345: ['Dynamic programming'], 11808: ['Dynamic programming'], 12874: ['Dynamic programming'], 17489: ['Dynamic programming', 'Depth-first search'], 19618: ['Dynamic programming', 'Greedy'], 20367: ['Dynamic programming'], 1785: ['Dynamic programming'], 2888: ['Dynamic programming'], 10168: ['Dynamic programming'], 12103: ['Dynamic programming'], 15505: ['Dynamic programming'], 2944: ['Dynamic programming', 'Implementation'], 8884: ['Dynamic programming'], 15648: ['Dynamic programming'], 17506: ['Dynamic programming'], 17677: ['Dynamic programming', 'Divide and conquer'], 20054: ['Dynamic programming'], 20560: ['Dynamic programming'], 9629: ['Dynamic programming'], 10468: ['Dynamic programming'], 12983: ['Dynamic programming', 'Depth-first search'], 15958: ['Dynamic programming'], 17227: ['Dynamic programming'], 17439: ['Dynamic programming', 'Binary search'], 1061: ['Dynamic programming'], 1627: ['Dynamic programming'], 12909: ['Dynamic programming'], 14946: ['Dynamic programming'], 18838: ['Dynamic programming'], 1442: ['Dynamic programming'], 1628: ['Dynamic programming'], 1982: ['Dynamic programming'], 3102: ['Dynamic programming'], 3828: ['Dynamic programming'], 5444: ['Dynamic programming'], 6000: ['Dynamic programming'], 9368: ['Dynamic programming'], 10007: ['Dynamic programming'], 15507: ['Dynamic programming', 'String'], 17083: ['Dynamic programming', 'Breadth-first search'], 18441: ['Dynamic programming', 'String'], 19547: ['Dynamic programming'], 1573: ['Dynamic programming'], 2850: ['Dynamic programming'], 14181: ['Dynamic programming'], 15313: ['Dynamic programming'], 20439: ['Dynamic programming'], 2218: ['Dynamic programming'], 2906: ['Dynamic programming'], 17243: ['Dynamic programming'], 1129: ['Dynamic programming', 'Greedy'], 1839: ['Dynamic programming', 'Binary search', 'Depth-first search'], 2031: ['Dynamic programming', 'Binary search'], 2341: ['Dynamic programming'], 5572: ['Dynamic programming'], 11309: ['Dynamic programming'], 13433: ['Dynamic programming', 'Bruteforcing'], 14705: ['Dynamic programming', 'Breadth-first search'], 15771: ['Dynamic programming'], 18443: ['Dynamic programming'], 19649: ['Dynamic programming'], 19850: ['Dynamic programming'], 1098: ['Dynamic programming'], 1180: ['Dynamic programming'], 1692: ['Dynamic programming'], 3014: ['Dynamic programming'], 12978: ['Dynamic programming'], 20934: ['Dynamic programming'], 3998: ['Dynamic programming'], 4205: ['Dynamic programming'], 8169: ['Dynamic programming', 'Greedy'], 13130: ['Dynamic programming'], 17456: ['Dynamic programming'], 17941: ['Dynamic programming'], 18863: ['Dynamic programming', 'Depth-first search'], 5477: ['Dynamic programming', 'Depth-first search'], 10053: ['Dynamic programming'], 12975: ['Dynamic programming'], 17139: ['Dynamic programming', 'Divide and conquer'], 18444: ['Dynamic programming', 'Divide and conquer'], 18799: ['Dynamic programming', 'String', 'Binary search'], 19642: ['Dynamic programming', 'String'], 20445: ['Dynamic programming'], 1482: ['Dynamic programming', 'Greedy'], 2112: ['Dynamic programming'], 3128: ['Dynamic programming'], 5548: ['Dynamic programming'], 5559: ['Dynamic programming'], 7613: ['Dynamic programming'], 11667: ['Dynamic programming'], 15305: ['Dynamic programming'], 16138: ['Dynamic programming', 'Divide and conquer'], 16686: ['Dynamic programming'], 17279: ['Dynamic programming'], 20161: ['Dynamic programming', 'Implementation', \"Dijkstra's\"], 20951: ['Dynamic programming'], 2779: ['Dynamic programming'], 3685: ['Dynamic programming', 'Greedy'], 9486: ['Dynamic programming'], 10561: ['Dynamic programming'], 10954: ['Dynamic programming', 'Implementation'], 16002: ['Dynamic programming'], 18132: ['Dynamic programming'], 20498: ['Dynamic programming', 'Depth-first search'], 13438: ['Dynamic programming', 'String'], 15320: ['Dynamic programming'], 15484: ['Dynamic programming'], 17495: ['Dynamic programming', 'String'], 20122: ['Dynamic programming'], 2329: ['Dynamic programming'], 4015: ['Dynamic programming'], 15943: ['Dynamic programming'], 16216: ['Dynamic programming'], 17443: ['Dynamic programming'], 18942: ['Dynamic programming', 'Divide and conquer'], 1155: ['Dynamic programming'], 1314: ['Dynamic programming', \"Dijkstra's\"], 1609: ['Dynamic programming'], 4800: ['Dynamic programming', 'Bruteforcing'], 6289: ['Dynamic programming'], 10729: ['Dynamic programming'], 11953: ['Dynamic programming'], 13027: ['Dynamic programming', 'Greedy'], 16859: ['Dynamic programming', 'Greedy'], 17948: ['Dynamic programming'], 18121: ['Dynamic programming', 'String'], 18860: ['Dynamic programming', 'Implementation', 'Greedy'], 20536: ['Dynamic programming', \"Dijkstra's\"], 1293: ['Dynamic programming', 'Greedy', 'Depth-first search'], 2326: ['Dynamic programming'], 2794: ['Dynamic programming'], 3244: ['Dynamic programming'], 7984: ['Dynamic programming'], 12108: ['Dynamic programming'], 13006: ['Dynamic programming'], 14179: ['Dynamic programming', 'Divide and conquer'], 16231: ['Dynamic programming'], 18803: ['Dynamic programming'], 19854: ['Dynamic programming', 'Divide and conquer'], 20547: ['Dynamic programming', 'String', \"Dijkstra's\"], 21291: ['Dynamic programming'], 21321: ['Dynamic programming'], 2764: ['Dynamic programming'], 5580: ['Dynamic programming'], 8192: ['Dynamic programming'], 14275: ['Dynamic programming'], 16717: ['Dynamic programming'], 18342: ['Dynamic programming', 'Binary search', 'Divide and conquer'], 20558: ['Dynamic programming'], 21320: ['Dynamic programming'], 5979: ['Dynamic programming'], 17231: ['Dynamic programming'], 19551: ['Dynamic programming', 'Implementation', 'Divide and conquer'], 13181: ['Dynamic programming'], 17491: ['Dynamic programming'], 18794: ['Dynamic programming', 'Depth-first search', \"Dijkstra's\", 'Divide and conquer'], 1134: ['Dynamic programming', 'Implementation', 'Bruteforcing'], 1137: ['Dynamic programming'], 1346: ['Dynamic programming'], 2273: ['Dynamic programming', 'Depth-first search'], 7727: ['Dynamic programming', 'Divide and conquer'], 13029: ['Dynamic programming'], 13988: ['Dynamic programming'], 16223: ['Dynamic programming'], 17380: ['Dynamic programming', 'Binary search'], 18378: ['Dynamic programming', 'Implementation'], 18445: ['Dynamic programming', 'Binary search', 'Divide and conquer'], 1993: ['Dynamic programming'], 2782: ['Dynamic programming', 'Breadth-first search'], 16687: ['Dynamic programming'], 16708: ['Dynamic programming', 'Bruteforcing'], 16893: ['Dynamic programming'], 17494: ['Dynamic programming'], 18862: ['Dynamic programming'], 19530: ['Dynamic programming'], 19573: ['Dynamic programming'], 1336: ['Dynamic programming'], 4457: ['Dynamic programming'], 10726: ['Dynamic programming'], 17366: ['Dynamic programming'], 17385: ['Dynamic programming'], 20369: ['Dynamic programming'], 20426: ['Dynamic programming', 'Implementation'], 20427: ['Dynamic programming', 'Implementation'], 1136: ['Dynamic programming'], 1171: ['Dynamic programming'], 1832: ['Dynamic programming'], 2946: ['Dynamic programming', 'Implementation'], 5004: ['Dynamic programming'], 12890: ['Dynamic programming', 'Greedy'], 16898: ['Dynamic programming'], 20655: ['Dynamic programming', 'Divide and conquer'], 2058: ['Dynamic programming'], 2432: ['Dynamic programming'], 4044: ['Dynamic programming', 'Bruteforcing'], 4210: ['Dynamic programming'], 17463: ['Dynamic programming', 'Implementation', 'Breadth-first search', 'Depth-first search', 'Divide and conquer'], 17824: ['Dynamic programming'], 1163: ['Dynamic programming', 'Implementation'], 3169: ['Dynamic programming'], 12426: ['Dynamic programming', 'Implementation'], 19244: ['Dynamic programming'], 16222: ['Dynamic programming'], 16883: ['Dynamic programming'], 18770: ['Dynamic programming', 'Depth-first search'], 12433: ['Dynamic programming', 'Implementation'], 18934: ['Dynamic programming'], 2557: ['Implementation'], 10718: ['Implementation'], 2438: ['Implementation', 'String'], 9498: ['Implementation'], 2741: ['Implementation'], 10172: ['Implementation'], 2742: ['Implementation'], 2439: ['Implementation'], 10171: ['Implementation'], 10817: ['Implementation'], 11654: ['Implementation'], 8958: ['Implementation', 'String'], 7287: ['Implementation'], 2440: ['Implementation'], 2562: ['Implementation'], 1152: ['Implementation', 'String'], 10809: ['Implementation', 'String'], 2441: ['Implementation'], 14681: ['Implementation'], 2750: ['Implementation'], 2675: ['Implementation'], 1157: ['Implementation', 'String'], 2908: ['Implementation'], 1924: ['Implementation'], 11718: ['Implementation', 'String'], 11721: ['Implementation', 'String'], 11719: ['Implementation', 'String'], 2920: ['Implementation'], 5622: ['Implementation'], 1316: ['Implementation', 'String'], 2941: ['Implementation', 'String'], 2446: ['Implementation'], 2442: ['Implementation'], 7568: ['Implementation', 'Bruteforcing'], 2523: ['Implementation'], 2445: ['Implementation'], 10773: ['Implementation', 'String'], 2444: ['Implementation'], 1966: ['Implementation'], 2443: ['Implementation'], 1475: ['Implementation'], 2490: ['Implementation'], 3009: ['Implementation'], 10808: ['Implementation', 'String'], 2743: ['Implementation', 'String'], 14503: ['Implementation'], 10996: ['Implementation'], 14500: ['Implementation', 'Bruteforcing'], 15686: ['Implementation', 'Bruteforcing'], 2108: ['Implementation'], 2522: ['Implementation'], 3190: ['Implementation'], 1100: ['Implementation', 'String'], 14499: ['Implementation'], 10797: ['Implementation'], 2167: ['Implementation'], 5338: ['Implementation'], 13460: ['Implementation', 'Breadth-first search'], 1032: ['Implementation', 'String'], 10991: ['Implementation'], 14891: ['Implementation'], 12100: ['Implementation', 'Bruteforcing'], 16236: ['Implementation', 'Breadth-first search'], 10992: ['Implementation'], 11942: ['Implementation'], 10699: ['Implementation'], 15683: ['Implementation', 'Bruteforcing'], 5337: ['Implementation'], 16234: ['Implementation', 'Breadth-first search'], 2563: ['Implementation'], 14890: ['Implementation'], 10798: ['Implementation', 'String'], 10988: ['Implementation', 'String'], 1076: ['Implementation'], 2573: ['Implementation', 'Breadth-first search', 'Depth-first search'], 9653: ['Implementation'], 5430: ['Implementation', 'String'], 10824: ['Implementation'], 15685: ['Implementation'], 2504: ['Implementation'], 10820: ['Implementation', 'String'], 11286: ['Implementation'], 17144: ['Implementation'], 9654: ['Implementation'], 5339: ['Implementation'], 1259: ['Implementation', 'String'], 10170: ['Implementation'], 10926: ['Implementation'], 1547: ['Implementation'], 7567: ['Implementation'], 5597: ['Implementation'], 15684: ['Implementation', 'Bruteforcing'], 15802: ['Implementation'], 2636: ['Implementation', 'Breadth-first search'], 10987: ['Implementation', 'String'], 16235: ['Implementation'], 11005: ['Implementation'], 10990: ['Implementation'], 1357: ['Implementation', 'String'], 11365: ['Implementation', 'String'], 10101: ['Implementation'], 10995: ['Implementation'], 10807: ['Implementation'], 14645: ['Implementation'], 3085: ['Implementation', 'Bruteforcing'], 1652: ['Implementation', 'String'], 2556: ['Implementation'], 2566: ['Implementation'], 11559: ['Implementation', 'Breadth-first search'], 2605: ['Implementation'], 9316: ['Implementation'], 17143: ['Implementation'], 17135: ['Implementation', 'Bruteforcing', 'Breadth-first search'], 3047: ['Implementation'], 5598: ['Implementation', 'String'], 2846: ['Implementation'], 15962: ['Implementation'], 5567: ['Implementation', 'Breadth-first search'], 2161: ['Implementation'], 2331: ['Implementation'], 2669: ['Implementation'], 15680: ['Implementation'], 2638: ['Implementation', 'Breadth-first search', 'Depth-first search'], 2851: ['Implementation', 'Bruteforcing'], 2789: ['Implementation', 'String'], 17140: ['Implementation'], 1051: ['Implementation', 'Bruteforcing'], 1138: ['Implementation'], 1453: ['Implementation'], 15733: ['Implementation'], 9086: ['Implementation', 'String'], 11943: ['Implementation'], 1783: ['Implementation', 'Greedy'], 17413: ['Implementation', 'String'], 1913: ['Implementation'], 2578: ['Implementation'], 10801: ['Implementation'], 2693: ['Implementation'], 2711: ['Implementation', 'String'], 10804: ['Implementation'], 1919: ['Implementation', 'String'], 10163: ['Implementation'], 4458: ['Implementation', 'String'], 5576: ['Implementation'], 17406: ['Implementation', 'Bruteforcing'], 2947: ['Implementation'], 15963: ['Implementation'], 1568: ['Implementation'], 17822: ['Implementation'], 17472: ['Implementation', 'Bruteforcing', 'Breadth-first search', 'Depth-first search'], 17779: ['Implementation', 'Bruteforcing'], 2857: ['Implementation', 'String'], 1244: ['Implementation'], 1213: ['Implementation', 'String'], 2511: ['Implementation'], 5373: ['Implementation'], 11945: ['Implementation'], 2526: ['Implementation'], 17281: ['Implementation', 'Bruteforcing'], 16170: ['Implementation'], 17295: ['Implementation'], 9295: ['Implementation'], 6679: ['Implementation'], 2979: ['Implementation'], 10768: ['Implementation'], 10813: ['Implementation'], 10093: ['Implementation'], 17837: ['Implementation'], 17608: ['Implementation'], 1371: ['Implementation', 'String'], 2810: ['Implementation', 'Greedy', 'String'], 13752: ['Implementation'], 2804: ['Implementation'], 11948: ['Implementation'], 1063: ['Implementation'], 1236: ['Implementation'], 5354: ['Implementation'], 15658: ['Implementation', 'String', 'Bruteforcing'], 9328: ['Implementation', 'Breadth-first search'], 17825: ['Implementation', 'Bruteforcing'], 1022: ['Implementation'], 9076: ['Implementation'], 3059: ['Implementation', 'String'], 5635: ['Implementation'], 18111: ['Implementation', 'Bruteforcing'], 1773: ['Implementation'], 14696: ['Implementation'], 14581: ['Implementation'], 2477: ['Implementation'], 1713: ['Implementation'], 14656: ['Implementation'], 19236: ['Implementation'], 10810: ['Implementation'], 11586: ['Implementation', 'String'], 11098: ['Implementation', 'String'], 2774: ['Implementation'], 10994: ['Implementation'], 2174: ['Implementation'], 2615: ['Implementation', 'Bruteforcing'], 2456: ['Implementation'], 19238: ['Implementation', 'Breadth-first search'], 3028: ['Implementation', 'String'], 9517: ['Implementation'], 4307: ['Implementation'], 2564: ['Implementation'], 5523: ['Implementation'], 10829: ['Implementation'], 9455: ['Implementation'], 2607: ['Implementation', 'Bruteforcing'], 17388: ['Implementation'], 6321: ['Implementation'], 3985: ['Implementation'], 3943: ['Implementation'], 13335: ['Implementation'], 1673: ['Implementation'], 10800: ['Implementation'], 14719: ['Implementation'], 10811: ['Implementation'], 2966: ['Implementation', 'Bruteforcing'], 6996: ['Implementation', 'String'], 2567: ['Implementation'], 1871: ['Implementation', 'String'], 10219: ['Implementation'], 13459: ['Implementation', 'Breadth-first search'], 4493: ['Implementation'], 2933: ['Implementation', 'Breadth-first search'], 19237: ['Implementation'], 4470: ['Implementation', 'String'], 18406: ['Implementation', 'String'], 14920: ['Implementation'], 20055: ['Implementation'], 13304: ['Implementation'], 14720: ['Implementation'], 1173: ['Implementation'], 2303: ['Implementation', 'Bruteforcing'], 15781: ['Implementation'], 2954: ['Implementation', 'String'], 5612: ['Implementation'], 2999: ['Implementation'], 5176: ['Implementation'], 2909: ['Implementation'], 13015: ['Implementation'], 14624: ['Implementation'], 17609: ['Implementation', 'Greedy', 'String'], 3023: ['Implementation', 'String'], 5893: ['Implementation'], 17614: ['Implementation'], 1268: ['Implementation'], 17389: ['Implementation'], 3035: ['Implementation', 'String'], 14467: ['Implementation'], 16926: ['Implementation'], 16918: ['Implementation', 'Breadth-first search'], 10709: ['Implementation'], 14582: ['Implementation'], 9934: ['Implementation'], 16985: ['Implementation', 'Bruteforcing', 'Breadth-first search'], 5217: ['Implementation'], 11328: ['Implementation', 'String'], 11283: ['Implementation'], 17363: ['Implementation'], 4690: ['Implementation', 'Bruteforcing'], 14487: ['Implementation'], 18405: ['Implementation', 'Breadth-first search'], 4435: ['Implementation'], 12904: ['Implementation', 'Greedy', 'String'], 1331: ['Implementation'], 14935: ['Implementation'], 1769: ['Implementation', 'String'], 1233: ['Implementation'], 2873: ['Implementation', 'Greedy'], 2116: ['Implementation', 'Bruteforcing'], 12778: ['Implementation'], 2659: ['Implementation'], 8911: ['Implementation'], 15947: ['Implementation'], 13698: ['Implementation'], 20056: ['Implementation'], 18808: ['Implementation', 'Bruteforcing'], 3048: ['Implementation', 'String'], 10997: ['Implementation', 'String'], 5026: ['Implementation'], 8949: ['Implementation', 'String'], 14909: ['Implementation'], 2931: ['Implementation'], 14910: ['Implementation'], 10864: ['Implementation'], 17249: ['Implementation', 'String'], 19944: ['Implementation'], 5363: ['Implementation', 'String'], 2910: ['Implementation'], 5212: ['Implementation'], 15820: ['Implementation'], 16433: ['Implementation'], 17618: ['Implementation'], 4659: ['Implementation', 'String'], 15662: ['Implementation'], 6986: ['Implementation'], 4597: ['Implementation'], 2596: ['Implementation', 'String'], 20057: ['Implementation'], 4592: ['Implementation'], 2799: ['Implementation'], 1756: ['Implementation', 'Binary search'], 10836: ['Implementation'], 2980: ['Implementation'], 10993: ['Implementation', 'String'], 16935: ['Implementation'], 3054: ['Implementation'], 14647: ['Implementation'], 15653: ['Implementation', 'Breadth-first search'], 14623: ['Implementation'], 16396: ['Implementation'], 17294: ['Implementation'], 2002: ['Implementation', 'String'], 5566: ['Implementation'], 18809: ['Implementation', 'Bruteforcing', 'Breadth-first search'], 7490: ['Implementation', 'Bruteforcing'], 17826: ['Implementation'], 15784: ['Implementation'], 1672: ['Implementation'], 10708: ['Implementation'], 16674: ['Implementation'], 11504: ['Implementation'], 11637: ['Implementation'], 16199: ['Implementation'], 1052: ['Implementation', 'Greedy'], 2290: ['Implementation'], 4564: ['Implementation'], 2684: ['Implementation', 'String'], 11282: ['Implementation'], 13419: ['Implementation'], 11067: ['Implementation'], 17072: ['Implementation'], 9047: ['Implementation', 'String'], 9946: ['Implementation', 'String'], 3041: ['Implementation'], 10040: ['Implementation'], 16434: ['Implementation', 'Binary search'], 11648: ['Implementation'], 3019: ['Implementation'], 14912: ['Implementation', 'Bruteforcing'], 1296: ['Implementation'], 3425: ['Implementation'], 16675: ['Implementation'], 4447: ['Implementation', 'String'], 18883: ['Implementation'], 12871: ['Implementation', 'String'], 4613: ['Implementation'], 9207: ['Implementation', 'Bruteforcing'], 2840: ['Implementation'], 10875: ['Implementation'], 1392: ['Implementation'], 20058: ['Implementation'], 3987: ['Implementation'], 15814: ['Implementation', 'String'], 17293: ['Implementation'], 15351: ['Implementation', 'String'], 2145: ['Implementation'], 2712: ['Implementation', 'String'], 14646: ['Implementation'], 17201: ['Implementation', 'String'], 3111: ['Implementation', 'String'], 19235: ['Implementation'], 10205: ['Implementation'], 1333: ['Implementation'], 17952: ['Implementation'], 17780: ['Implementation'], 10865: ['Implementation'], 1113: ['Implementation', 'Breadth-first search'], 20540: ['Implementation', 'String'], 16986: ['Implementation', 'Bruteforcing'], 13118: ['Implementation'], 2505: ['Implementation'], 1531: ['Implementation'], 8981: ['Implementation'], 17127: ['Implementation', 'Bruteforcing'], 15786: ['Implementation'], 8982: ['Implementation'], 2469: ['Implementation', 'String'], 16137: ['Implementation', 'Breadth-first search'], 18238: ['Implementation', 'Greedy'], 15787: ['Implementation'], 16937: ['Implementation', 'Bruteforcing'], 20001: ['Implementation'], 14648: ['Implementation'], 11800: ['Implementation'], 14709: ['Implementation'], 9944: ['Implementation'], 14592: ['Implementation'], 4539: ['Implementation'], 13901: ['Implementation'], 2204: ['Implementation', 'String'], 20299: ['Implementation'], 10570: ['Implementation'], 8896: ['Implementation'], 6246: ['Implementation'], 9037: ['Implementation'], 1681: ['Implementation'], 17502: ['Implementation'], 11971: ['Implementation'], 1235: ['Implementation'], 12840: ['Implementation'], 11580: ['Implementation'], 14584: ['Implementation'], 17204: ['Implementation'], 20361: ['Implementation'], 16462: ['Implementation'], 14569: ['Implementation'], 4108: ['Implementation'], 15898: ['Implementation', 'Bruteforcing'], 16927: ['Implementation'], 5698: ['Implementation', 'String'], 9081: ['Implementation'], 2641: ['Implementation'], 10655: ['Implementation'], 16924: ['Implementation', 'Bruteforcing'], 10935: ['Implementation'], 15739: ['Implementation'], 2571: ['Implementation'], 4574: ['Implementation'], 1972: ['Implementation', 'String'], 17838: ['Implementation', 'String'], 14649: ['Implementation'], 3181: ['Implementation', 'String'], 9626: ['Implementation'], 11094: ['Implementation'], 10936: ['Implementation'], 1703: ['Implementation'], 16638: ['Implementation', 'Bruteforcing'], 17210: ['Implementation'], 15644: ['Implementation', 'Breadth-first search'], 2154: ['Implementation', 'String'], 12836: ['Implementation'], 18245: ['Implementation', 'String'], 20205: ['Implementation'], 16939: ['Implementation'], 15886: ['Implementation', 'String'], 10940: ['Implementation'], 14594: ['Implementation'], 16505: ['Implementation'], 4378: ['Implementation'], 17829: ['Implementation', 'Divide and conquer'], 3077: ['Implementation'], 2461: ['Implementation', 'Greedy'], 20061: ['Implementation'], 15997: ['Implementation', 'Bruteforcing'], 10941: ['Implementation'], 2072: ['Implementation'], 12919: ['Implementation', 'Bruteforcing'], 16113: ['Implementation'], 14717: ['Implementation'], 14732: ['Implementation'], 11949: ['Implementation'], 14626: ['Implementation'], 16509: ['Implementation', 'Breadth-first search'], 20124: ['Implementation', 'String'], 7682: ['Implementation'], 17106: ['Implementation', 'Bruteforcing'], 15874: ['Implementation', 'String'], 19583: ['Implementation', 'String'], 10939: ['Implementation'], 13322: ['Implementation'], 10938: ['Implementation'], 1813: ['Implementation', 'Bruteforcing'], 10426: ['Implementation'], 2784: ['Implementation'], 12094: ['Implementation', 'Bruteforcing'], 16114: ['Implementation'], 20053: ['Implementation'], 5544: ['Implementation'], 14865: ['Implementation'], 3107: ['Implementation', 'String'], 18500: ['Implementation', 'Breadth-first search'], 14654: ['Implementation'], 9291: ['Implementation'], 9339: ['Implementation'], 5648: ['Implementation'], 16719: ['Implementation'], 5883: ['Implementation', 'Bruteforcing'], 10838: ['Implementation', 'Depth-first search'], 12764: ['Implementation'], 17128: ['Implementation'], 16931: ['Implementation'], 4577: ['Implementation'], 17085: ['Implementation', 'Bruteforcing'], 2061: ['Implementation'], 9358: ['Implementation'], 13133: ['Implementation'], 20291: ['Implementation', 'String'], 2597: ['Implementation'], 18242: ['Implementation'], 20113: ['Implementation'], 1421: ['Implementation', 'Bruteforcing'], 8972: ['Implementation'], 15722: ['Implementation'], 9733: ['Implementation'], 16506: ['Implementation'], 17487: ['Implementation'], 3024: ['Implementation', 'Bruteforcing'], 3038: ['Implementation'], 12842: ['Implementation'], 16173: ['Implementation'], 2516: ['Implementation'], 19541: ['Implementation', 'Greedy'], 3495: ['Implementation'], 17225: ['Implementation'], 5766: ['Implementation'], 18312: ['Implementation', 'Bruteforcing'], 1091: ['Implementation'], 2653: ['Implementation'], 15721: ['Implementation', 'Bruteforcing'], 1730: ['Implementation'], 3678: ['Implementation'], 3709: ['Implementation', 'Depth-first search'], 10703: ['Implementation'], 20362: ['Implementation', 'String'], 15920: ['Implementation'], 2658: ['Implementation'], 1283: ['Implementation', 'String'], 1524: ['Implementation'], 4900: ['Implementation'], 1380: ['Implementation'], 15779: ['Implementation', 'Bruteforcing'], 19843: ['Implementation'], 20125: ['Implementation', 'String'], 14601: ['Implementation', 'Divide and conquer'], 19638: ['Implementation'], 18856: ['Implementation'], 11908: ['Implementation'], 12793: ['Implementation'], 15671: ['Implementation'], 3991: ['Implementation'], 15788: ['Implementation'], 13119: ['Implementation'], 12933: ['Implementation', 'String'], 19591: ['Implementation', 'String'], 14711: ['Implementation', 'String'], 1362: ['Implementation'], 2929: ['Implementation', 'String'], 14658: ['Implementation', 'Bruteforcing'], 5600: ['Implementation'], 13022: ['Implementation', 'String'], 16955: ['Implementation'], 17296: ['Implementation'], 20165: ['Implementation'], 17270: ['Implementation', \"Dijkstra's\"], 20164: ['Implementation'], 2478: ['Implementation', 'Greedy'], 16569: ['Implementation', 'Breadth-first search'], 20493: ['Implementation'], 15629: ['Implementation'], 16455: ['Implementation'], 1340: ['Implementation', 'String'], 4821: ['Implementation'], 15949: ['Implementation'], 19640: ['Implementation'], 20546: ['Implementation'], 1308: ['Implementation'], 17949: ['Implementation', 'String'], 15595: ['Implementation'], 4583: ['Implementation', 'String'], 2704: ['Implementation'], 4335: ['Implementation'], 14713: ['Implementation', 'String'], 2064: ['Implementation'], 17349: ['Implementation'], 20301: ['Implementation'], 1360: ['Implementation'], 2424: ['Implementation', 'Breadth-first search'], 10431: ['Implementation'], 11565: ['Implementation'], 1925: ['Implementation'], 16925: ['Implementation', 'String'], 19844: ['Implementation', 'String'], 2817: ['Implementation'], 2082: ['Implementation'], 4396: ['Implementation', 'String'], 15687: ['Implementation'], 3025: ['Implementation'], 20207: ['Implementation'], 1980: ['Implementation'], 16161: ['Implementation'], 3098: ['Implementation'], 5577: ['Implementation'], 8611: ['Implementation'], 17215: ['Implementation'], 1400: ['Implementation', \"Dijkstra's\"], 5587: ['Implementation'], 13352: ['Implementation'], 11747: ['Implementation'], 17114: ['Implementation', 'Breadth-first search'], 20155: ['Implementation'], 15980: ['Implementation'], 20436: ['Implementation'], 18311: ['Implementation'], 2650: ['Implementation'], 15956: ['Implementation', 'String'], 19948: ['Implementation', 'String'], 6568: ['Implementation'], 9242: ['Implementation', 'String'], 17287: ['Implementation'], 20187: ['Implementation'], 3154: ['Implementation', 'Bruteforcing'], 11140: ['Implementation', 'String'], 17122: ['Implementation'], 17488: ['Implementation'], 2044: ['Implementation'], 1291: ['Implementation'], 2680: ['Implementation'], 2733: ['Implementation', 'String'], 3954: ['Implementation'], 7696: ['Implementation', 'Bruteforcing'], 16722: ['Implementation'], 15778: ['Implementation'], 1917: ['Implementation'], 14552: ['Implementation', 'Bruteforcing'], 9547: ['Implementation'], 19636: ['Implementation'], 2459: ['Implementation'], 2642: ['Implementation', 'Bruteforcing'], 3186: ['Implementation'], 2115: ['Implementation', 'String'], 2376: ['Implementation', 'Greedy'], 3448: ['Implementation'], 16465: ['Implementation'], 20923: ['Implementation'], 17081: ['Implementation'], 20005: ['Implementation', 'Breadth-first search'], 1653: ['Implementation', 'Bruteforcing'], 20006: ['Implementation'], 15772: ['Implementation'], 3863: ['Implementation'], 16116: ['Implementation'], 16961: ['Implementation'], 1195: ['Implementation'], 2811: ['Implementation', 'Bruteforcing'], 9319: ['Implementation'], 20947: ['Implementation'], 16196: ['Implementation'], 16989: ['Implementation'], 18891: ['Implementation'], 3010: ['Implementation'], 2886: ['Implementation', 'Greedy'], 13421: ['Implementation', 'Bruteforcing'], 1055: ['Implementation'], 12739: ['Implementation'], 19537: ['Implementation', \"Dijkstra's\"], 1795: ['Implementation', 'Breadth-first search'], 13273: ['Implementation'], 16159: ['Implementation'], 2195: ['Implementation', 'Greedy', 'String'], 18884: ['Implementation', 'String'], 1287: ['Implementation'], 1515: ['Implementation', 'String'], 2045: ['Implementation'], 2310: ['Implementation', 'Depth-first search'], 3258: ['Implementation', 'Bruteforcing'], 5529: ['Implementation', 'Breadth-first search', \"Dijkstra's\"], 16712: ['Implementation'], 20665: ['Implementation'], 9369: ['Implementation'], 10072: ['Implementation'], 15901: ['Implementation'], 20926: ['Implementation', \"Dijkstra's\"], 14632: ['Implementation'], 3045: ['Implementation', 'Greedy', 'Binary search'], 19536: ['Implementation'], 20502: ['Implementation'], 1307: ['Implementation'], 2520: ['Implementation'], 14843: ['Implementation'], 18109: ['Implementation', 'String'], 1894: ['Implementation'], 2598: ['Implementation', 'Bruteforcing'], 15806: ['Implementation'], 2713: ['Implementation'], 20292: ['Implementation', 'Greedy'], 17480: ['Implementation', 'Bruteforcing'], 6051: ['Implementation'], 17276: ['Implementation'], 21277: ['Implementation', 'Bruteforcing'], 1566: ['Implementation', 'Bruteforcing'], 2561: ['Implementation'], 13519: ['Implementation'], 20422: ['Implementation', 'String'], 2967: ['Implementation', 'Bruteforcing'], 20210: ['Implementation', 'String'], 2540: ['Implementation'], 5179: ['Implementation'], 10923: ['Implementation'], 1723: ['Implementation', 'Bruteforcing', 'Binary search'], 1084: ['Implementation', 'Greedy'], 20130: ['Implementation', 'Breadth-first search'], 17500: ['Implementation', 'Bruteforcing'], 17621: ['Implementation'], 4219: ['Implementation'], 16218: ['Implementation'], 20541: ['Implementation', 'String'], 1680: ['Implementation'], 2955: ['Implementation'], 4587: ['Implementation'], 17377: ['Implementation', 'String'], 19534: ['Implementation', 'String', 'Bruteforcing'], 3192: ['Implementation'], 4836: ['Implementation', 'String'], 10756: ['Implementation', 'Binary search'], 3885: ['Implementation'], 2730: ['Implementation', 'String'], 14435: ['Implementation', 'Binary search'], 17092: ['Implementation'], 3030: ['Implementation', 'String'], 4970: ['Implementation', 'String', 'Bruteforcing'], 5819: ['Implementation'], 2664: ['Implementation'], 4531: ['Implementation'], 2173: ['Implementation', 'Bruteforcing'], 2633: ['Implementation', 'Breadth-first search'], 3217: ['Implementation'], 5811: ['Implementation'], 14737: ['Implementation'], 4211: ['Implementation', 'Binary search'], 17470: ['Implementation'], 20327: ['Implementation'], 21315: ['Implementation', 'Bruteforcing'], 2652: ['Implementation'], 9983: ['Implementation'], 16151: ['Implementation'], 20423: ['Implementation', 'String'], 2029: ['Implementation'], 3995: ['Implementation'], 4419: ['Implementation'], 6300: ['Implementation', 'String'], 13200: ['Implementation', 'Bruteforcing'], 1580: ['Implementation', 'Breadth-first search'], 9276: ['Implementation'], 13327: ['Implementation', \"Dijkstra's\"], 20424: ['Implementation', 'String'], 1116: ['Implementation', 'Greedy'], 6990: ['Implementation'], 18160: ['Implementation', 'Bruteforcing'], 20936: ['Implementation', 'String'], 18765: ['Implementation'], 16131: ['Implementation'], 20123: ['Implementation', 'Divide and conquer'], 2054: ['Implementation', 'String'], 9167: ['Implementation', 'String'], 1553: ['Implementation'], 16458: ['Implementation', 'Breadth-first search'], 1218: ['Implementation'], 2430: ['Implementation'], 2538: ['Implementation'], 2620: ['Implementation', 'Breadth-first search', 'Depth-first search'], 2677: ['Implementation'], 2708: ['Implementation'], 3017: ['Implementation', 'Greedy'], 16133: ['Implementation', 'String'], 20416: ['Implementation'], 20417: ['Implementation'], 1385: ['Implementation', 'Breadth-first search'], 3421: ['Implementation'], 9057: ['Implementation'], 1617: ['Implementation'], 2619: ['Implementation', 'Binary search', 'Breadth-first search', 'Depth-first search'], 20418: ['Implementation'], 1853: ['Implementation'], 14631: ['Implementation', 'Breadth-first search'], 1207: ['Implementation', 'Bruteforcing'], 1631: ['Implementation'], 1997: ['Implementation'], 1694: ['Implementation'], 4600: ['Implementation'], 19955: ['Implementation', 'Breadth-first search'], 13267: ['Implementation', 'Divide and conquer'], 20939: ['Implementation'], 1118: ['Implementation'], 2489: ['Implementation'], 2956: ['Implementation', 'Greedy'], 14262: ['Implementation'], 16856: ['Implementation', 'Binary search'], 18161: ['Implementation', 'Bruteforcing'], 2017: ['Implementation'], 18935: ['Implementation', 'String'], 2686: ['Implementation'], 4797: ['Implementation', 'String'], 17229: ['Implementation'], 21298: ['Implementation'], 2032: ['Implementation'], 2071: ['Implementation'], 17416: ['Implementation'], 20184: ['Implementation'], 4399: ['Implementation'], 6268: ['Implementation'], 7607: ['Implementation', 'String'], 2724: ['Implementation', 'String'], 9266: ['Implementation', 'Breadth-first search'], 11399: ['Greedy'], 11047: ['Greedy'], 1931: ['Greedy'], 5585: ['Greedy'], 1946: ['Greedy'], 1339: ['Greedy', 'Bruteforcing'], 13305: ['Greedy'], 1715: ['Greedy'], 1080: ['Greedy'], 1744: ['Greedy'], 2437: ['Greedy'], 1449: ['Greedy'], 1439: ['Greedy'], 1202: ['Greedy'], 2847: ['Greedy'], 1700: ['Greedy'], 16953: ['Greedy', 'Breadth-first search'], 10775: ['Greedy'], 3109: ['Greedy', 'Depth-first search'], 11000: ['Greedy'], 2812: ['Greedy'], 15903: ['Greedy'], 11497: ['Greedy'], 15904: ['Greedy', 'String'], 2212: ['Greedy'], 9576: ['Greedy'], 14659: ['Greedy'], 8980: ['Greedy'], 13904: ['Greedy'], 2828: ['Greedy'], 1092: ['Greedy'], 9009: ['Greedy'], 1343: ['Greedy'], 11501: ['Greedy'], 2457: ['Greedy'], 1781: ['Greedy'], 1758: ['Greedy'], 2109: ['Greedy'], 2138: ['Greedy'], 13413: ['Greedy'], 1461: ['Greedy'], 11508: ['Greedy'], 16435: ['Greedy'], 10165: ['Greedy'], 4889: ['Greedy', 'String'], 17224: ['Greedy'], 1105: ['Greedy'], 19941: ['Greedy'], 13417: ['Greedy', 'String'], 11509: ['Greedy'], 16120: ['Greedy'], 1826: ['Greedy'], 12018: ['Greedy'], 5545: ['Greedy'], 1285: ['Greedy', 'Bruteforcing'], 13164: ['Greedy'], 17521: ['Greedy', 'Bruteforcing'], 17615: ['Greedy'], 20044: ['Greedy'], 2262: ['Greedy'], 2872: ['Greedy'], 15922: ['Greedy'], 16288: ['Greedy'], 2865: ['Greedy'], 4716: ['Greedy'], 17619: ['Greedy'], 17262: ['Greedy'], 2513: ['Greedy'], 11034: ['Greedy'], 1417: ['Greedy'], 16112: ['Greedy'], 1083: ['Greedy'], 1114: ['Greedy', 'Binary search'], 2141: ['Greedy'], 16678: ['Greedy'], 2569: ['Greedy'], 2220: ['Greedy'], 1132: ['Greedy'], 14939: ['Greedy', 'Bruteforcing'], 1422: ['Greedy', 'String'], 14698: ['Greedy'], 2878: ['Greedy'], 1689: ['Greedy'], 2891: ['Greedy'], 17371: ['Greedy'], 15729: ['Greedy'], 16496: ['Greedy', 'String'], 2258: ['Greedy'], 1071: ['Greedy'], 17828: ['Greedy'], 12845: ['Greedy'], 12931: ['Greedy'], 14464: ['Greedy'], 13975: ['Greedy'], 9440: ['Greedy'], 11256: ['Greedy'], 14927: ['Greedy', 'Bruteforcing'], 1374: ['Greedy'], 7983: ['Greedy'], 1263: ['Greedy'], 2785: ['Greedy'], 1150: ['Greedy'], 20921: ['Greedy'], 5002: ['Greedy'], 3061: ['Greedy'], 11577: ['Greedy'], 18230: ['Greedy'], 15553: ['Greedy'], 20937: ['Greedy'], 18185: ['Greedy'], 16162: ['Greedy'], 19582: ['Greedy'], 14572: ['Greedy'], 20115: ['Greedy'], 14908: ['Greedy'], 17305: ['Greedy'], 1817: ['Greedy'], 2923: ['Greedy'], 20300: ['Greedy'], 2831: ['Greedy'], 19639: ['Greedy'], 18186: ['Greedy'], 3042: ['Greedy', 'Bruteforcing'], 20310: ['Greedy', 'String'], 20365: ['Greedy', 'String'], 12927: ['Greedy'], 6068: ['Greedy', 'Binary search'], 19590: ['Greedy'], 2413: ['Greedy'], 3090: ['Greedy', 'Binary search'], 17497: ['Greedy'], 10715: ['Greedy', \"Dijkstra's\"], 3430: ['Greedy'], 17383: ['Greedy', 'Binary search'], 19598: ['Greedy'], 2911: ['Greedy'], 14247: ['Greedy'], 15942: ['Greedy', 'Depth-first search'], 2285: ['Greedy'], 7507: ['Greedy'], 19644: ['Greedy'], 8987: ['Greedy', 'Divide and conquer'], 8875: ['Greedy', 'Binary search'], 2374: ['Greedy', 'Divide and conquer'], 1045: ['Greedy'], 5530: ['Greedy', 'Binary search'], 17939: ['Greedy'], 11877: ['Greedy'], 2454: ['Greedy'], 14943: ['Greedy'], 1960: ['Greedy'], 16209: ['Greedy'], 1464: ['Greedy', 'String'], 6137: ['Greedy'], 20117: ['Greedy'], 20928: ['Greedy'], 17420: ['Greedy'], 17954: ['Greedy'], 5896: ['Greedy'], 10892: ['Greedy'], 11666: ['Greedy'], 17505: ['Greedy'], 1294: ['Greedy', 'String'], 3366: ['Greedy'], 3663: ['Greedy'], 14400: ['Greedy'], 12915: ['Greedy', 'Binary search'], 1851: ['Greedy'], 9329: ['Greedy', 'Bruteforcing'], 3043: ['Greedy'], 14222: ['Greedy'], 1352: ['Greedy'], 17842: ['Greedy'], 1047: ['Greedy', 'Bruteforcing'], 2871: ['Greedy'], 3806: ['Greedy'], 19580: ['Greedy'], 1489: ['Greedy'], 5461: ['Greedy'], 16225: ['Greedy'], 11920: ['Greedy'], 15773: ['Greedy'], 2322: ['Greedy'], 3088: ['Greedy'], 1898: ['Greedy'], 7977: ['Greedy'], 17364: ['Greedy'], 17617: ['Greedy'], 2498: ['Greedy'], 1088: ['Greedy'], 20543: ['Greedy'], 1467: ['Greedy'], 1736: ['Greedy'], 19565: ['Greedy'], 1455: ['Greedy'], 1797: ['Greedy'], 2180: ['Greedy'], 17082: ['Greedy'], 13146: ['Greedy'], 1379: ['Greedy'], 20533: ['Greedy', 'Binary search'], 17501: ['Greedy', 'Depth-first search'], 3119: ['Greedy'], 18859: ['Greedy'], 10075: ['Greedy'], 5735: ['Greedy', 'String'], 19950: ['Greedy'], 16207: ['Greedy'], 1545: ['Greedy'], 10427: ['Greedy'], 12982: ['Greedy', 'Bruteforcing'], 19848: ['Greedy'], 3165: ['Greedy'], 19857: ['Greedy', 'Binary search'], 2385: ['Greedy', 'String'], 17971: ['Greedy'], 19588: ['Greedy'], 20553: ['Greedy'], 12854: ['Greedy'], 16238: ['Greedy'], 10060: ['Greedy'], 6143: ['Greedy', 'String'], 10899: ['Greedy'], 13019: ['Greedy'], 4055: ['Greedy'], 12429: ['Greedy'], 12945: ['Greedy', 'Binary search'], 17947: ['Greedy'], 1885: ['Greedy', 'Binary search'], 2205: ['Greedy'], 1474: ['Greedy', 'Bruteforcing'], 4003: ['Greedy'], 10975: ['Greedy'], 9238: ['Greedy'], 2797: ['Greedy'], 7040: ['Greedy'], 13339: ['Greedy'], 15703: ['Greedy'], 1101: ['Greedy', 'Bruteforcing'], 2275: ['Greedy'], 4012: ['Greedy'], 20442: ['Greedy'], 17280: ['Greedy'], 3661: ['Greedy'], 13884: ['Greedy'], 16858: ['Greedy'], 19550: ['Greedy'], 19700: ['Greedy'], 1186: ['Greedy'], 15986: ['Greedy', 'Binary search'], 1161: ['Greedy'], 17221: ['Greedy'], 17261: ['Greedy'], 20654: ['Greedy', 'Binary search'], 2330: ['Greedy'], 15493: ['Greedy'], 16220: ['Greedy'], 16906: ['Greedy', 'Depth-first search'], 3167: ['Greedy'], 14706: ['Greedy'], 12966: ['Greedy'], 2215: ['Greedy'], 20136: ['Greedy'], 21319: ['Greedy'], 2388: ['Greedy'], 19241: ['Greedy'], 20194: ['Greedy'], 2375: ['Greedy'], 11882: ['Greedy'], 19597: ['Greedy', 'String'], 2070: ['Greedy', 'String'], 18236: ['Greedy'], 18237: ['Greedy'], 1505: ['Greedy', 'Bruteforcing'], 2123: ['Greedy'], 20035: ['Greedy'], 17674: ['Greedy', 'Divide and conquer'], 20368: ['Greedy', 'Breadth-first search', 'Depth-first search'], 13121: ['Greedy'], 20370: ['Greedy'], 1156: ['Greedy'], 1426: ['Greedy'], 18768: ['Greedy'], 1169: ['Greedy'], 14269: ['Greedy'], 18796: ['Greedy'], 19089: ['Greedy'], 21323: ['Greedy'], 12456: ['Greedy'], 1518: ['Greedy'], 9541: ['Greedy', 'Binary search'], 1164: ['Greedy'], 1825: ['Greedy'], 4014: ['Greedy'], 12416: ['Greedy', 'Binary search'], 18932: ['Greedy', 'Depth-first search', 'Divide and conquer'], 19594: ['Greedy'], 5460: ['Greedy', 'Binary search'], 9012: ['String'], 1427: ['String'], 1181: ['String'], 2902: ['String'], 1764: ['String'], 4949: ['String'], 11656: ['String'], 11655: ['String'], 1120: ['String', 'Bruteforcing'], 1620: ['String'], 5052: ['String'], 1159: ['String'], 9093: ['String'], 9935: ['String'], 1786: ['String'], 2744: ['String'], 4999: ['String'], 7785: ['String'], 1062: ['String', 'Bruteforcing'], 1543: ['String', 'Bruteforcing'], 10821: ['String'], 5586: ['String'], 15829: ['String'], 10102: ['String'], 5525: ['String'], 2495: ['String'], 9933: ['String'], 1013: ['String'], 14425: ['String'], 1264: ['String'], 1305: ['String'], 10769: ['String'], 1701: ['String'], 12813: ['String'], 4358: ['String'], 3449: ['String'], 13163: ['String'], 5789: ['String'], 1718: ['String'], 5524: ['String'], 9243: ['String'], 5704: ['String'], 5555: ['String', 'Bruteforcing'], 3076: ['String'], 2671: ['String'], 5656: ['String'], 8595: ['String'], 3613: ['String'], 10173: ['String'], 11575: ['String'], 4354: ['String'], 1251: ['String', 'Bruteforcing'], 5670: ['String'], 9536: ['String'], 16916: ['String'], 10174: ['String'], 2386: ['String', 'Bruteforcing'], 14405: ['String'], 20528: ['String'], 11383: ['String'], 12780: ['String'], 11478: ['String'], 15813: ['String'], 14725: ['String'], 3568: ['String'], 9322: ['String'], 1849: ['String', 'Binary search'], 3033: ['String'], 9248: ['String'], 7600: ['String'], 11091: ['String'], 2992: ['String', 'Bruteforcing'], 9202: ['String', 'Bruteforcing', 'Depth-first search'], 2852: ['String'], 11585: ['String'], 9250: ['String'], 17350: ['String'], 4740: ['String'], 16171: ['String'], 14468: ['String'], 17176: ['String'], 10266: ['String'], 16172: ['String'], 1855: ['String'], 10840: ['String', 'Binary search'], 2800: ['String'], 1605: ['String'], 1327: ['String', 'Bruteforcing', 'Breadth-first search'], 15927: ['String'], 10256: ['String'], 17094: ['String'], 1777: ['String'], 5211: ['String'], 13505: ['String'], 7575: ['String'], 13275: ['String'], 14444: ['String'], 9249: ['String'], 9046: ['String'], 11479: ['String'], 2697: ['String'], 3005: ['String'], 2866: ['String', 'Binary search'], 19942: ['String', 'Bruteforcing'], 4779: ['String', 'Divide and conquer'], 20944: ['String'], 13264: ['String'], 20920: ['String'], 1787: ['String'], 20112: ['String'], 1893: ['String', 'Bruteforcing'], 9253: ['String'], 1411: ['String', 'Bruteforcing'], 3447: ['String'], 12174: ['String'], 5446: ['String'], 4446: ['String'], 9342: ['String'], 13506: ['String'], 1706: ['String'], 3080: ['String'], 6581: ['String'], 11046: ['String'], 20114: ['String'], 5177: ['String'], 12104: ['String'], 15707: ['String'], 16903: ['String'], 2922: ['String', 'Bruteforcing'], 19564: ['String'], 1097: ['String', 'Bruteforcing'], 13504: ['String'], 16402: ['String'], 3172: ['String'], 5534: ['String'], 1414: ['String'], 13576: ['String'], 6550: ['String'], 20166: ['String', 'Depth-first search'], 10413: ['String'], 13713: ['String', 'Binary search'], 16163: ['String'], 3356: ['String'], 1802: ['String', 'Divide and conquer'], 16570: ['String'], 10538: ['String'], 20191: ['String', 'Binary search'], 16901: ['String', 'Divide and conquer'], 1622: ['String'], 2809: ['String'], 20437: ['String'], 9229: ['String'], 16900: ['String'], 10096: ['String'], 5812: ['String'], 16994: ['String'], 1050: ['String'], 19585: ['String'], 3300: ['String'], 4096: ['String', 'Bruteforcing'], 2183: ['String'], 3779: ['String'], 16934: ['String'], 3865: ['String', 'Breadth-first search'], 17228: ['String', 'Depth-first search'], 1501: ['String'], 20129: ['String'], 2990: ['String', 'Binary search'], 1498: ['String'], 3691: ['String', 'Binary search'], 16229: ['String'], 15776: ['String'], 10066: ['String'], 17091: ['String'], 3826: ['String', 'Bruteforcing'], 16890: ['String'], 1148: ['String'], 6580: ['String', 'Divide and conquer'], 3518: ['String'], 6444: ['String', 'Depth-first search'], 4828: ['String'], 17844: ['String', 'Binary search'], 18241: ['String'], 16902: ['String'], 16228: ['String'], 13276: ['String'], 5044: ['String'], 9548: ['String'], 17233: ['String'], 6503: ['String'], 2020: ['String'], 14417: ['String'], 16908: ['String'], 12889: ['String'], 12898: ['String'], 13012: ['String'], 16907: ['String'], 4752: ['String'], 12917: ['String'], 16914: ['String', 'Binary search'], 1165: ['String'], 6594: ['String'], 6613: ['String'], 13432: ['String', 'Binary search'], 15893: ['String'], 2815: ['String'], 10901: ['String', 'Divide and conquer'], 15642: ['String'], 20009: ['String'], 15492: ['String'], 2214: ['String'], 3129: ['String'], 4817: ['String'], 19531: ['String'], 1901: ['String', 'Bruteforcing'], 2690: ['String'], 12857: ['String'], 13272: ['String'], 16913: ['String'], 21162: ['String'], 10027: ['String'], 20298: ['String'], 17937: ['String'], 18167: ['String'], 18349: ['String'], 4822: ['String'], 14272: ['String'], 20846: ['String'], 14436: ['String'], 1065: ['Bruteforcing'], 2798: ['Bruteforcing'], 2231: ['Bruteforcing'], 2309: ['Bruteforcing'], 1018: ['Bruteforcing'], 9663: ['Bruteforcing'], 14888: ['Bruteforcing'], 14502: ['Bruteforcing', 'Breadth-first search'], 14889: ['Bruteforcing'], 1436: ['Bruteforcing'], 2468: ['Bruteforcing', 'Breadth-first search', 'Depth-first search'], 1182: ['Bruteforcing'], 10819: ['Bruteforcing'], 1107: ['Bruteforcing'], 10974: ['Bruteforcing'], 2589: ['Bruteforcing', 'Breadth-first search'], 2529: ['Bruteforcing'], 17142: ['Bruteforcing', 'Breadth-first search'], 3040: ['Bruteforcing'], 2503: ['Bruteforcing'], 1038: ['Bruteforcing'], 17136: ['Bruteforcing'], 15641: ['Bruteforcing', 'Binary search'], 14697: ['Bruteforcing'], 17471: ['Bruteforcing', 'Breadth-first search', 'Depth-first search'], 16637: ['Bruteforcing'], 2210: ['Bruteforcing', 'Depth-first search'], 1969: ['Bruteforcing'], 1405: ['Bruteforcing', 'Depth-first search'], 1145: ['Bruteforcing'], 1254: ['Bruteforcing'], 1941: ['Bruteforcing'], 4641: ['Bruteforcing'], 2304: ['Bruteforcing'], 2422: ['Bruteforcing'], 1058: ['Bruteforcing', 'Depth-first search'], 1668: ['Bruteforcing'], 14225: ['Bruteforcing'], 2961: ['Bruteforcing'], 17141: ['Bruteforcing', 'Breadth-first search'], 15661: ['Bruteforcing'], 15970: ['Bruteforcing'], 2635: ['Bruteforcing'], 14620: ['Bruteforcing'], 6987: ['Bruteforcing'], 14391: ['Bruteforcing'], 5568: ['Bruteforcing'], 9996: ['Bruteforcing'], 16987: ['Bruteforcing'], 13410: ['Bruteforcing'], 2548: ['Bruteforcing'], 11170: ['Bruteforcing'], 2160: ['Bruteforcing'], 16988: ['Bruteforcing', 'Breadth-first search', 'Depth-first search'], 3980: ['Bruteforcing'], 3758: ['Bruteforcing'], 1527: ['Bruteforcing'], 18428: ['Bruteforcing'], 1034: ['Bruteforcing'], 7573: ['Bruteforcing'], 17086: ['Bruteforcing', 'Breadth-first search'], 12101: ['Bruteforcing'], 1451: ['Bruteforcing'], 2435: ['Bruteforcing'], 17610: ['Bruteforcing'], 8892: ['Bruteforcing'], 10252: ['Bruteforcing'], 18119: ['Bruteforcing'], 18429: ['Bruteforcing'], 11277: ['Bruteforcing'], 16932: ['Bruteforcing', 'Breadth-first search', 'Depth-first search'], 1174: ['Bruteforcing'], 5671: ['Bruteforcing'], 11278: ['Bruteforcing'], 10472: ['Bruteforcing', 'Breadth-first search'], 13908: ['Bruteforcing'], 1025: ['Bruteforcing'], 9997: ['Bruteforcing', 'Depth-first search'], 1189: ['Bruteforcing'], 5913: ['Bruteforcing'], 18868: ['Bruteforcing'], 1079: ['Bruteforcing'], 17370: ['Bruteforcing', 'Depth-first search'], 2492: ['Bruteforcing'], 1035: ['Bruteforcing'], 14613: ['Bruteforcing'], 11578: ['Bruteforcing'], 1895: ['Bruteforcing'], 16945: ['Bruteforcing'], 16439: ['Bruteforcing'], 5588: ['Bruteforcing'], 11950: ['Bruteforcing'], 11563: ['Bruteforcing'], 2344: ['Bruteforcing'], 20410: ['Bruteforcing'], 14718: ['Bruteforcing'], 13141: ['Bruteforcing'], 18511: ['Bruteforcing'], 1239: ['Bruteforcing'], 9196: ['Bruteforcing'], 14721: ['Bruteforcing'], 1639: ['Bruteforcing'], 3182: ['Bruteforcing'], 1440: ['Bruteforcing'], 16463: ['Bruteforcing'], 16951: ['Bruteforcing'], 19949: ['Bruteforcing'], 21278: ['Bruteforcing', 'Breadth-first search'], 15728: ['Bruteforcing'], 18233: ['Bruteforcing'], 20208: ['Bruteforcing'], 19621: ['Bruteforcing', 'Depth-first search'], 15811: ['Bruteforcing'], 18188: ['Bruteforcing', 'Breadth-first search'], 16571: ['Bruteforcing'], 7868: ['Bruteforcing'], 16508: ['Bruteforcing'], 17307: ['Bruteforcing'], 1581: ['Bruteforcing'], 17484: ['Bruteforcing'], 9079: ['Bruteforcing'], 14629: ['Bruteforcing'], 9077: ['Bruteforcing'], 1590: ['Bruteforcing', 'Binary search'], 20168: ['Bruteforcing', \"Dijkstra's\"], 1443: ['Bruteforcing'], 16166: ['Bruteforcing'], 3711: ['Bruteforcing'], 5884: ['Bruteforcing'], 10728: ['Bruteforcing'], 16491: ['Bruteforcing'], 3684: ['Bruteforcing'], 9335: ['Bruteforcing'], 13249: ['Bruteforcing'], 1503: ['Bruteforcing'], 2137: ['Bruteforcing'], 9763: ['Bruteforcing'], 1093: ['Bruteforcing'], 13134: ['Bruteforcing'], 3011: ['Bruteforcing'], 20411: ['Bruteforcing'], 2937: ['Bruteforcing'], 1090: ['Bruteforcing'], 17492: ['Bruteforcing'], 1522: ['Bruteforcing'], 18442: ['Bruteforcing'], 1430: ['Bruteforcing', 'Breadth-first search'], 1704: ['Bruteforcing'], 1487: ['Bruteforcing'], 20497: ['Bruteforcing', 'Breadth-first search', 'Depth-first search'], 2187: ['Bruteforcing'], 16457: ['Bruteforcing'], 3097: ['Bruteforcing'], 20927: ['Bruteforcing'], 1469: ['Bruteforcing'], 14714: ['Bruteforcing', 'Breadth-first search'], 1985: ['Bruteforcing'], 17226: ['Bruteforcing'], 1523: ['Bruteforcing'], 1954: ['Bruteforcing'], 1096: ['Bruteforcing'], 1548: ['Bruteforcing'], 15672: ['Bruteforcing'], 15566: ['Bruteforcing'], 15270: ['Bruteforcing'], 16716: ['Bruteforcing'], 20950: ['Bruteforcing'], 1318: ['Bruteforcing'], 10421: ['Bruteforcing'], 2190: ['Bruteforcing'], 3131: ['Bruteforcing'], 1332: ['Bruteforcing'], 15632: ['Bruteforcing'], 2369: ['Bruteforcing'], 10475: ['Bruteforcing'], 12102: ['Bruteforcing'], 3363: ['Bruteforcing'], 1827: ['Bruteforcing'], 1729: ['Bruteforcing'], 3051: ['Bruteforcing'], 9813: ['Bruteforcing'], 10733: ['Bruteforcing'], 5640: ['Bruteforcing'], 19643: ['Bruteforcing'], 12747: ['Bruteforcing'], 14604: ['Bruteforcing'], 10224: ['Bruteforcing'], 4888: ['Bruteforcing'], 1920: ['Binary search'], 2805: ['Binary search'], 1654: ['Binary search'], 10815: ['Binary search'], 10816: ['Binary search'], 2110: ['Binary search'], 2512: ['Binary search'], 12015: ['Binary search'], 1300: ['Binary search'], 7453: ['Binary search'], 2470: ['Binary search'], 2352: ['Binary search'], 1939: ['Binary search'], 12738: ['Binary search'], 3020: ['Binary search'], 14003: ['Binary search'], 2143: ['Binary search'], 2467: ['Binary search'], 2343: ['Binary search'], 2776: ['Binary search'], 8983: ['Binary search'], 1208: ['Binary search'], 2473: ['Binary search'], 2243: ['Binary search'], 3079: ['Binary search'], 1365: ['Binary search'], 6236: ['Binary search'], 7469: ['Binary search'], 3649: ['Binary search'], 1561: ['Binary search'], 3745: ['Binary search'], 2842: ['Binary search', 'Breadth-first search', 'Depth-first search'], 1981: ['Binary search', 'Breadth-first search'], 7795: ['Binary search'], 2792: ['Binary search'], 1477: ['Binary search'], 2632: ['Binary search'], 1572: ['Binary search'], 1253: ['Binary search'], 13397: ['Binary search'], 2585: ['Binary search', 'Breadth-first search'], 16401: ['Binary search'], 14465: ['Binary search'], 1450: ['Binary search'], 1321: ['Binary search'], 9007: ['Binary search'], 15732: ['Binary search'], 13702: ['Binary search'], 2539: ['Binary search'], 1348: ['Binary search', 'Breadth-first search'], 2532: ['Binary search'], 17266: ['Binary search'], 1396: ['Binary search'], 13711: ['Binary search'], 14627: ['Binary search'], 1166: ['Binary search'], 15810: ['Binary search'], 2412: ['Binary search', 'Breadth-first search'], 2481: ['Binary search', 'Breadth-first search'], 2295: ['Binary search'], 6209: ['Binary search'], 2917: ['Binary search', 'Breadth-first search', \"Dijkstra's\"], 2428: ['Binary search'], 1800: ['Binary search', \"Dijkstra's\"], 13423: ['Binary search'], 20551: ['Binary search'], 16564: ['Binary search'], 17245: ['Binary search'], 8217: ['Binary search'], 12014: ['Binary search'], 9460: ['Binary search'], 19637: ['Binary search'], 1637: ['Binary search'], 17951: ['Binary search'], 17393: ['Binary search'], 17503: ['Binary search'], 2365: ['Binary search'], 10425: ['Binary search'], 13166: ['Binary search'], 5465: ['Binary search'], 14948: ['Binary search', 'Breadth-first search'], 16510: ['Binary search'], 18114: ['Binary search'], 1508: ['Binary search'], 5542: ['Binary search', \"Dijkstra's\"], 15573: ['Binary search'], 15957: ['Binary search'], 3066: ['Binary search'], 14575: ['Binary search'], 17179: ['Binary search'], 5821: ['Binary search'], 12757: ['Binary search'], 18113: ['Binary search'], 19845: ['Binary search'], 9998: ['Binary search'], 3050: ['Binary search'], 11663: ['Binary search'], 10227: ['Binary search'], 17411: ['Binary search'], 12921: ['Binary search'], 17124: ['Binary search'], 2977: ['Binary search'], 13209: ['Binary search'], 2130: ['Binary search'], 15823: ['Binary search'], 1762: ['Binary search'], 2855: ['Binary search'], 14434: ['Binary search'], 2802: ['Binary search'], 17373: ['Binary search'], 20183: ['Binary search', \"Dijkstra's\"], 16960: ['Binary search'], 2881: ['Binary search'], 20182: ['Binary search', \"Dijkstra's\"], 1376: ['Binary search', 'Depth-first search'], 12926: ['Binary search'], 16213: ['Binary search'], 20495: ['Binary search'], 2126: ['Binary search'], 13208: ['Binary search'], 14701: ['Binary search'], 16977: ['Binary search'], 3008: ['Binary search'], 1745: ['Binary search'], 1909: ['Binary search'], 3997: ['Binary search'], 15317: ['Binary search'], 2679: ['Binary search'], 15968: ['Binary search'], 10454: ['Binary search'], 17942: ['Binary search'], 2102: ['Binary search'], 5551: ['Binary search', \"Dijkstra's\"], 17078: ['Binary search'], 10605: ['Binary search'], 14609: ['Binary search'], 12880: ['Binary search'], 20933: ['Binary search'], 20929: ['Binary search', 'Divide and conquer'], 16976: ['Binary search'], 2962: ['Binary search'], 13927: ['Binary search'], 17423: ['Binary search'], 18944: ['Binary search'], 20193: ['Binary search'], 9024: ['Binary search'], 15704: ['Binary search', \"Dijkstra's\"], 2121: ['Binary search'], 3611: ['Binary search'], 2426: ['Binary search'], 17238: ['Binary search'], 8925: ['Binary search'], 18195: ['Binary search'], 3323: ['Binary search'], 18191: ['Binary search'], 20945: ['Binary search'], 12991: ['Binary search'], 19599: ['Binary search'], 19619: ['Binary search'], 19548: ['Binary search'], 20671: ['Binary search'], 4454: ['Binary search'], 5476: ['Binary search'], 9374: ['Binary search'], 17097: ['Binary search'], 16710: ['Binary search', 'Breadth-first search'], 17823: ['Binary search'], 1841: ['Binary search', \"Dijkstra's\"], 12801: ['Binary search'], 20211: ['Binary search'], 16160: ['Binary search'], 18128: ['Binary search', 'Breadth-first search'], 20030: ['Binary search'], 14735: ['Binary search'], 14845: ['Binary search'], 4160: ['Binary search'], 17361: ['Binary search'], 19600: ['Binary search'], 20935: ['Binary search'], 11834: ['Binary search'], 18190: ['Binary search'], 2264: ['Binary search'], 14407: ['Binary search'], 1260: ['Breadth-first search', 'Depth-first search'], 2178: ['Breadth-first search'], 2667: ['Breadth-first search', 'Depth-first search'], 2606: ['Breadth-first search', 'Depth-first search'], 7576: ['Breadth-first search'], 1697: ['Breadth-first search'], 1012: ['Breadth-first search', 'Depth-first search'], 11724: ['Breadth-first search', 'Depth-first search'], 4963: ['Breadth-first search', 'Depth-first search'], 7569: ['Breadth-first search'], 2583: ['Breadth-first search', 'Depth-first search'], 10026: ['Breadth-first search', 'Depth-first search'], 7562: ['Breadth-first search'], 2206: ['Breadth-first search'], 2644: ['Breadth-first search', 'Depth-first search'], 11725: ['Breadth-first search', 'Depth-first search'], 1707: ['Breadth-first search'], 3055: ['Breadth-first search'], 1389: ['Breadth-first search'], 5014: ['Breadth-first search'], 2146: ['Breadth-first search'], 9019: ['Breadth-first search'], 13549: ['Breadth-first search', \"Dijkstra's\"], 9205: ['Breadth-first search'], 1600: ['Breadth-first search'], 1325: ['Breadth-first search', 'Depth-first search'], 13913: ['Breadth-first search'], 5427: ['Breadth-first search'], 2251: ['Breadth-first search'], 12851: ['Breadth-first search'], 1525: ['Breadth-first search'], 6593: ['Breadth-first search'], 1926: ['Breadth-first search', 'Depth-first search'], 3184: ['Breadth-first search'], 2665: ['Breadth-first search', \"Dijkstra's\"], 4179: ['Breadth-first search'], 1743: ['Breadth-first search', 'Depth-first search'], 1726: ['Breadth-first search'], 1194: ['Breadth-first search'], 14442: ['Breadth-first search'], 2660: ['Breadth-first search'], 2234: ['Breadth-first search'], 1938: ['Breadth-first search'], 6118: ['Breadth-first search'], 18352: ['Breadth-first search', \"Dijkstra's\"], 6087: ['Breadth-first search'], 3197: ['Breadth-first search'], 16197: ['Breadth-first search'], 16948: ['Breadth-first search'], 16928: ['Breadth-first search'], 4991: ['Breadth-first search'], 16954: ['Breadth-first search'], 1039: ['Breadth-first search'], 16946: ['Breadth-first search', 'Depth-first search'], 5214: ['Breadth-first search'], 13565: ['Breadth-first search', 'Depth-first search'], 12886: ['Breadth-first search'], 3187: ['Breadth-first search', 'Depth-first search'], 12761: ['Breadth-first search'], 15971: ['Breadth-first search', 'Depth-first search'], 17836: ['Breadth-first search'], 14716: ['Breadth-first search', 'Depth-first search'], 2151: ['Breadth-first search'], 14867: ['Breadth-first search'], 16956: ['Breadth-first search'], 14868: ['Breadth-first search'], 1303: ['Breadth-first search', 'Depth-first search'], 16933: ['Breadth-first search'], 16947: ['Breadth-first search', 'Depth-first search'], 17071: ['Breadth-first search'], 16397: ['Breadth-first search'], 14395: ['Breadth-first search'], 15558: ['Breadth-first search'], 10711: ['Breadth-first search'], 14923: ['Breadth-first search'], 16973: ['Breadth-first search'], 9376: ['Breadth-first search', \"Dijkstra's\"], 2479: ['Breadth-first search'], 14496: ['Breadth-first search', \"Dijkstra's\"], 1944: ['Breadth-first search'], 17244: ['Breadth-first search'], 16940: ['Breadth-first search'], 14940: ['Breadth-first search'], 5213: ['Breadth-first search'], 2194: ['Breadth-first search'], 19538: ['Breadth-first search'], 1240: ['Breadth-first search', 'Depth-first search'], 16920: ['Breadth-first search'], 11123: ['Breadth-first search', 'Depth-first search'], 1175: ['Breadth-first search'], 17129: ['Breadth-first search'], 2536: ['Breadth-first search'], 17616: ['Breadth-first search', 'Depth-first search'], 16174: ['Breadth-first search'], 12906: ['Breadth-first search'], 14497: ['Breadth-first search'], 15972: ['Breadth-first search', \"Dijkstra's\"], 2593: ['Breadth-first search'], 16959: ['Breadth-first search'], 5022: ['Breadth-first search'], 17267: ['Breadth-first search'], 2001: ['Breadth-first search'], 2452: ['Breadth-first search'], 18232: ['Breadth-first search'], 14615: ['Breadth-first search', 'Depth-first search'], 16441: ['Breadth-first search'], 18235: ['Breadth-first search'], 18243: ['Breadth-first search'], 11952: ['Breadth-first search', \"Dijkstra's\"], 4217: ['Breadth-first search'], 19952: ['Breadth-first search'], 8112: ['Breadth-first search'], 2423: ['Breadth-first search'], 18513: ['Breadth-first search'], 16469: ['Breadth-first search'], 16930: ['Breadth-first search'], 2132: ['Breadth-first search', 'Depth-first search'], 2021: ['Breadth-first search'], 18404: ['Breadth-first search'], 8452: ['Breadth-first search'], 11451: ['Breadth-first search'], 18224: ['Breadth-first search'], 20304: ['Breadth-first search'], 11567: ['Breadth-first search'], 14248: ['Breadth-first search'], 17834: ['Breadth-first search'], 18112: ['Breadth-first search'], 9505: ['Breadth-first search', \"Dijkstra's\"], 2645: ['Breadth-first search', \"Dijkstra's\"], 3697: ['Breadth-first search'], 20119: ['Breadth-first search'], 17209: ['Breadth-first search', 'Depth-first search'], 15730: ['Breadth-first search'], 1109: ['Breadth-first search', 'Depth-first search'], 10917: ['Breadth-first search'], 16952: ['Breadth-first search'], 20209: ['Breadth-first search'], 11084: ['Breadth-first search'], 5547: ['Breadth-first search', 'Depth-first search'], 20419: ['Breadth-first search'], 1473: ['Breadth-first search'], 1686: ['Breadth-first search'], 16965: ['Breadth-first search'], 20420: ['Breadth-first search'], 12744: ['Breadth-first search'], 18170: ['Breadth-first search'], 20158: ['Breadth-first search'], 13502: ['Breadth-first search', 'Depth-first search'], 2074: ['Breadth-first search'], 10789: ['Breadth-first search'], 16143: ['Breadth-first search'], 9347: ['Breadth-first search', \"Dijkstra's\"], 10883: ['Breadth-first search'], 3526: ['Breadth-first search'], 1601: ['Breadth-first search'], 1584: ['Breadth-first search'], 15984: ['Breadth-first search'], 20496: ['Breadth-first search'], 17077: ['Breadth-first search', 'Depth-first search'], 14744: ['Breadth-first search'], 2663: ['Breadth-first search'], 1130: ['Breadth-first search'], 1987: ['Depth-first search'], 9466: ['Depth-first search'], 1967: ['Depth-first search'], 1167: ['Depth-first search'], 1068: ['Depth-first search'], 2458: ['Depth-first search'], 2668: ['Depth-first search'], 13023: ['Depth-first search'], 2023: ['Depth-first search'], 10216: ['Depth-first search'], 2617: ['Depth-first search'], 16929: ['Depth-first search'], 1199: ['Depth-first search'], 15900: ['Depth-first search'], 4803: ['Depth-first search'], 16437: ['Depth-first search'], 14267: ['Depth-first search'], 16964: ['Depth-first search'], 16724: ['Depth-first search'], 17073: ['Depth-first search'], 15559: ['Depth-first search'], 14942: ['Depth-first search'], 14268: ['Depth-first search'], 2233: ['Depth-first search'], 19542: ['Depth-first search'], 14866: ['Depth-first search'], 20530: ['Depth-first search'], 12763: ['Depth-first search', \"Dijkstra's\"], 14288: ['Depth-first search'], 13016: ['Depth-first search'], 10429: ['Depth-first search'], 18251: ['Depth-first search'], 14574: ['Depth-first search'], 17220: ['Depth-first search'], 7574: ['Depth-first search'], 14657: ['Depth-first search'], 20924: ['Depth-first search'], 20010: ['Depth-first search'], 17260: ['Depth-first search'], 12946: ['Depth-first search'], 19641: ['Depth-first search'], 15491: ['Depth-first search'], 14591: ['Depth-first search'], 1170: ['Depth-first search'], 1733: ['Depth-first search'], 7827: ['Depth-first search'], 2889: ['Depth-first search'], 19240: ['Depth-first search'], 13516: ['Depth-first search'], 2111: ['Depth-first search'], 4315: ['Depth-first search'], 2105: ['Depth-first search', \"Dijkstra's\"], 3910: ['Depth-first search', \"Dijkstra's\"], 16217: ['Depth-first search'], 17414: ['Depth-first search'], 20534: ['Depth-first search'], 20425: ['Depth-first search'], 20503: ['Depth-first search', 'Divide and conquer'], 17507: ['Depth-first search'], 19596: ['Depth-first search'], 1753: [\"Dijkstra's\"], 1916: [\"Dijkstra's\"], 1261: [\"Dijkstra's\"], 1238: [\"Dijkstra's\"], 1504: [\"Dijkstra's\"], 4485: [\"Dijkstra's\"], 11779: [\"Dijkstra's\"], 9370: [\"Dijkstra's\"], 10282: [\"Dijkstra's\"], 1854: [\"Dijkstra's\"], 2211: [\"Dijkstra's\"], 5719: [\"Dijkstra's\"], 14938: [\"Dijkstra's\"], 1719: [\"Dijkstra's\"], 1162: [\"Dijkstra's\"], 1446: [\"Dijkstra's\"], 1486: [\"Dijkstra's\"], 16681: [\"Dijkstra's\"], 16118: [\"Dijkstra's\"], 1445: [\"Dijkstra's\"], 13911: [\"Dijkstra's\"], 2307: [\"Dijkstra's\"], 10473: [\"Dijkstra's\"], 13907: [\"Dijkstra's\"], 13424: [\"Dijkstra's\"], 17396: [\"Dijkstra's\"], 18223: [\"Dijkstra's\"], 5972: [\"Dijkstra's\"], 20046: [\"Dijkstra's\"], 2472: [\"Dijkstra's\"], 14554: [\"Dijkstra's\"], 2982: [\"Dijkstra's\"], 14461: [\"Dijkstra's\"], 17835: [\"Dijkstra's\"], 1848: [\"Dijkstra's\", 'Divide and conquer'], 2398: [\"Dijkstra's\"], 11781: [\"Dijkstra's\"], 2325: [\"Dijkstra's\"], 14284: [\"Dijkstra's\"], 17940: [\"Dijkstra's\"], 14618: [\"Dijkstra's\"], 11909: [\"Dijkstra's\"], 9694: [\"Dijkstra's\"], 14630: [\"Dijkstra's\"], 15906: [\"Dijkstra's\"], 2276: [\"Dijkstra's\"], 10776: [\"Dijkstra's\"], 5822: [\"Dijkstra's\"], 15709: [\"Dijkstra's\"], 20128: [\"Dijkstra's\"], 10847: [\"Dijkstra's\"], 9446: [\"Dijkstra's\"], 14611: [\"Dijkstra's\"], 15808: [\"Dijkstra's\"], 20007: [\"Dijkstra's\"], 5250: [\"Dijkstra's\"], 16156: [\"Dijkstra's\"], 15944: [\"Dijkstra's\"], 20160: [\"Dijkstra's\"], 16211: [\"Dijkstra's\"], 2958: [\"Dijkstra's\"], 12752: [\"Dijkstra's\"], 12913: [\"Dijkstra's\"], 15775: [\"Dijkstra's\"], 16475: [\"Dijkstra's\"], 1277: [\"Dijkstra's\"], 17833: [\"Dijkstra's\"], 14285: [\"Dijkstra's\"], 20313: [\"Dijkstra's\"], 18193: [\"Dijkstra's\"], 18253: [\"Dijkstra's\", 'Divide and conquer'], 2125: [\"Dijkstra's\"], 7143: [\"Dijkstra's\"], 16707: [\"Dijkstra's\"], 16227: [\"Dijkstra's\"], 17096: [\"Dijkstra's\"], 1667: [\"Dijkstra's\"], 19701: [\"Dijkstra's\"], 20421: [\"Dijkstra's\"], 20668: [\"Dijkstra's\"], 11569: [\"Dijkstra's\"], 20549: [\"Dijkstra's\"], 1220: [\"Dijkstra's\"], 17242: [\"Dijkstra's\"], 11900: [\"Dijkstra's\"], 14704: [\"Dijkstra's\"], 1255: [\"Dijkstra's\"], 13145: [\"Dijkstra's\"], 2158: [\"Dijkstra's\"], 19650: [\"Dijkstra's\"], 1702: [\"Dijkstra's\"], 17781: [\"Dijkstra's\"], 19855: [\"Dijkstra's\"], 3598: [\"Dijkstra's\"], 4212: [\"Dijkstra's\"], 2447: ['Divide and conquer'], 1992: ['Divide and conquer'], 1780: ['Divide and conquer'], 1074: ['Divide and conquer'], 2630: ['Divide and conquer'], 6549: ['Divide and conquer'], 2263: ['Divide and conquer'], 1725: ['Divide and conquer'], 2261: ['Divide and conquer'], 1517: ['Divide and conquer'], 4256: ['Divide and conquer'], 2104: ['Divide and conquer'], 5620: ['Divide and conquer'], 12846: ['Divide and conquer'], 2339: ['Divide and conquer'], 1030: ['Divide and conquer'], 14727: ['Divide and conquer'], 5820: ['Divide and conquer'], 11873: ['Divide and conquer'], 18222: ['Divide and conquer'], 13514: ['Divide and conquer'], 16438: ['Divide and conquer'], 1989: ['Divide and conquer'], 14600: ['Divide and conquer'], 16911: ['Divide and conquer'], 8985: ['Divide and conquer'], 2574: ['Divide and conquer'], 16912: ['Divide and conquer'], 15564: ['Divide and conquer'], 13307: ['Divide and conquer'], 6181: ['Divide and conquer'], 13513: ['Divide and conquer'], 1588: ['Divide and conquer'], 17421: ['Divide and conquer'], 20297: ['Divide and conquer'], 15316: ['Divide and conquer'], 17668: ['Divide and conquer'], 17424: ['Divide and conquer'], 10724: ['Divide and conquer'], 12894: ['Divide and conquer'], 15946: ['Divide and conquer'], 13203: ['Divide and conquer'], 14560: ['Divide and conquer'], 18372: ['Divide and conquer'], 10014: ['Divide and conquer'], 12023: ['Divide and conquer'], 10842: ['Divide and conquer'], 17161: ['Divide and conquer'], 17348: ['Divide and conquer'], 17636: ['Divide and conquer'], 13431: ['Divide and conquer'], 16885: ['Divide and conquer'], 18827: ['Divide and conquer'], 4645: ['Divide and conquer'], 18801: ['Divide and conquer'], 17465: ['Divide and conquer'], 19620: ['Divide and conquer']}\n"
          ],
          "name": "stdout"
        }
      ]
    },
    {
      "cell_type": "markdown",
      "metadata": {
        "id": "UaIybR5VZ0JS"
      },
      "source": [
        "가장 많은 알고리즘을 갖는 문제는 뭐인지, 그 문제의 알고리즘은 몇개인지 체크"
      ]
    },
    {
      "cell_type": "code",
      "metadata": {
        "colab": {
          "base_uri": "https://localhost:8080/"
        },
        "id": "Ed-A-ugu652J",
        "outputId": "e2c5499c-6e9a-4d38-bb55-8361a384ee1f"
      },
      "source": [
        "maxCount = 0\n",
        "id = 0\n",
        "for i in problem_dict :\n",
        "    if maxCount < len(problem_dict[i]) :\n",
        "        maxCount = len(problem_dict[i])\n",
        "        id = i\n",
        "print(maxCount)\n",
        "print(problem_dict[id])\n",
        "print(id)"
      ],
      "execution_count": 95,
      "outputs": [
        {
          "output_type": "stream",
          "text": [
            "6\n",
            "['Mathematics', 'Dynamic programming', 'Implementation', 'String', 'Breadth-first search', 'Depth-first search']\n",
            "18831\n"
          ],
          "name": "stdout"
        }
      ]
    },
    {
      "cell_type": "markdown",
      "metadata": {
        "id": "jMMCyE0yZ6XC"
      },
      "source": [
        "알고리즘을 드랍하는 함수들\n",
        "1. drop_algo_1은 가장 많이 쓰인 알고리즘을 남기는 함수\n",
        "2. drop_algo_2는 가장 적게 쓰인 알고리즘을 남기는 함수"
      ]
    },
    {
      "cell_type": "code",
      "metadata": {
        "id": "zDLTY9HdLhci"
      },
      "source": [
        "def drop_algo_1(algo_list) :\n",
        "    # print(algo_list)\n",
        "    algo_list_number = list()\n",
        "    for i in algo_list :\n",
        "        algo_list_number.append(algo_dict[i])\n",
        "    maxNumber = max(algo_list_number)\n",
        "    maxIndex = algo_list_number.index(maxNumber)\n",
        "    maxAlgo = algo_list[maxIndex]\n",
        "    # print(maxNumber, maxIndex, maxAlgo)\n",
        "    \n",
        "    return algo_list[maxIndex:maxIndex+1]\n",
        "\n",
        "def drop_algo_2(algo_list) :\n",
        "    algo_list_number = list()\n",
        "    for i in algo_list :\n",
        "        algo_list_number.append(algo_dict[i])\n",
        "    minNumber = min(algo_list_number)\n",
        "    minIndex = algo_list_number.index(minNumber)\n",
        "    minAlgo = algo_list[minIndex]\n",
        "\n",
        "    return algo_list[minIndex:minIndex+1]"
      ],
      "execution_count": 110,
      "outputs": []
    },
    {
      "cell_type": "code",
      "metadata": {
        "colab": {
          "base_uri": "https://localhost:8080/"
        },
        "id": "L6CqQneKM_FM",
        "outputId": "53e3233c-92be-4eb5-c6d5-b005d0c02fb8"
      },
      "source": [
        "print(drop_algo_1(problem_dict[id]))\n",
        "print(drop_algo_2(problem_dict[id]))"
      ],
      "execution_count": 97,
      "outputs": [
        {
          "output_type": "stream",
          "text": [
            "['Depth-first search']\n"
          ],
          "name": "stdout"
        }
      ]
    },
    {
      "cell_type": "code",
      "metadata": {
        "colab": {
          "base_uri": "https://localhost:8080/"
        },
        "id": "Vp0rYBPD6117",
        "outputId": "4a78dca1-3f42-4309-a67f-faa866fa6046"
      },
      "source": [
        "\n",
        "# drop_algo_1\n",
        "for problem in problem_dict :\n",
        "    problem_dict[problem] = drop_algo_2(problem_dict[problem])\n",
        "\n",
        "# drop_algo_2\n",
        "for problem in problem_dict :\n",
        "    problem_dict[problem] = drop_algo_2(problem_dict[problem])\n",
        "\n",
        "'''\n",
        "  위의 두 반복문 중 하나만 선택해서 돌리셈 !\n",
        "\n",
        "'''\n",
        "\n",
        "print(len(df.index))\n",
        "\n",
        "delete_index_list = list()\n",
        "\n",
        "for i in range(len(df.index)) :\n",
        "    id = df[\"id\"].iloc[i]\n",
        "    tag = df[\"tag\"].iloc[i]\n",
        "    \n",
        "    if problem_dict[id][0] != tag :\n",
        "        delete_index_list.append(i)        \n",
        "\n",
        "df = df.drop(index=delete_index_list)\n",
        "\n",
        "\n"
      ],
      "execution_count": 121,
      "outputs": [
        {
          "output_type": "stream",
          "text": [
            "5646\n",
            "[0, 1, 2, 3, 4, 5, 6, 7, 8, 9, 10, 11, 12, 14, 16, 17, 18, 19, 20, 21, 22, 24, 25, 27, 29, 33, 36, 37, 38, 41, 47, 48, 49, 51, 54, 59, 60, 61, 63, 67, 68, 71, 72, 73, 74, 75, 78, 80, 81, 83, 84, 85, 86, 87, 88, 89, 90, 92, 93, 94, 97, 98, 99, 100, 104, 106, 109, 113, 116, 117, 118, 121, 122, 123, 124, 125, 127, 128, 130, 132, 136, 137, 139, 142, 143, 146, 148, 151, 153, 156, 158, 160, 161, 164, 165, 172, 174, 179, 180, 182, 184, 186, 187, 190, 191, 194, 195, 201, 203, 204, 206, 208, 209, 211, 214, 220, 221, 223, 224, 225, 228, 229, 231, 232, 234, 237, 239, 242, 243, 246, 247, 248, 249, 250, 251, 252, 254, 255, 257, 259, 264, 265, 266, 267, 271, 275, 276, 280, 281, 282, 289, 290, 293, 294, 296, 299, 303, 304, 305, 306, 307, 308, 309, 312, 313, 314, 315, 317, 318, 319, 320, 323, 329, 331, 332, 333, 340, 342, 348, 350, 351, 352, 354, 360, 362, 364, 365, 368, 370, 372, 377, 378, 383, 384, 385, 386, 387, 388, 389, 390, 393, 397, 398, 405, 410, 411, 414, 417, 421, 424, 425, 426, 427, 431, 433, 434, 436, 438, 447, 448, 449, 450, 453, 457, 459, 465, 466, 469, 474, 479, 480, 482, 488, 491, 494, 503, 504, 506, 507, 510, 512, 516, 520, 522, 523, 524, 529, 530, 531, 534, 538, 539, 540, 545, 549, 552, 559, 563, 569, 570, 571, 572, 576, 578, 579, 585, 590, 591, 594, 596, 597, 598, 599, 601, 602, 603, 605, 606, 607, 608, 609, 610, 613, 616, 620, 621, 624, 625, 629, 630, 636, 637, 640, 642, 643, 644, 648, 649, 650, 655, 659, 660, 667, 669, 670, 672, 673, 674, 678, 682, 685, 690, 692, 694, 700, 701, 702, 705, 710, 712, 713, 714, 715, 716, 717, 720, 722, 723, 724, 728, 732, 736, 737, 738, 739, 742, 744, 746, 749, 753, 757, 760, 763, 767, 773, 774, 777, 778, 793, 794, 795, 800, 801, 802, 806, 807, 808, 811, 815, 816, 821, 822, 827, 830, 831, 834, 835, 841, 847, 848, 849, 853, 856, 860, 861, 862, 863, 865, 870, 874, 876, 878, 879, 882, 883, 887, 889, 891, 893, 894, 900, 903, 905, 907, 908, 914, 915, 921, 924, 925, 926, 927, 928, 931, 933, 934, 936, 940, 942, 945, 946, 949, 958, 960, 961, 963, 965, 968, 977, 978, 983, 984, 985, 987, 989, 991, 992, 993, 999, 1000, 1001, 1002, 1006, 1008, 1011, 1017, 1018, 1020, 1021, 1022, 1023, 1026, 1030, 1033, 1038, 1040, 1045, 1050, 1053, 1055, 1060, 1063, 1064, 1065, 1068, 1070, 1071, 1072, 1075, 1076, 1077, 1079, 1081, 1085, 1088, 1090, 1091, 1095, 1103, 1105, 1107, 1108, 1109, 1113, 1115, 1118, 1130, 1132, 1134, 1144, 1145, 1148, 1162, 1169, 1175, 1176, 1178, 1180, 1182, 1184, 1186, 1187, 1189, 1198, 1199, 1200, 1201, 1204, 1208, 1211, 1212, 1214, 1217, 1219, 1223, 1224, 1226, 1229, 1236, 1239, 1243, 1244, 1253, 1264, 1266, 1267, 1269, 1270, 1273, 1281, 1282, 1283, 1285, 1286, 1287, 1289, 1290, 1291, 1292, 1294, 1297, 1298, 1300, 1305, 1307, 1311, 1313, 1315, 1317, 1321, 1331, 1332, 1336, 1347, 1348, 1349, 1351, 1353, 1354, 1356, 1361, 1362, 1365, 1366, 1371, 1372, 1374, 1375, 1377, 1394, 1417, 1422, 1442, 1465, 1468, 1475, 1477, 1484, 1487, 1492, 1493, 1529, 1535, 1546, 1547, 1558, 1562, 1566, 1569, 1574, 1582, 1586, 1592, 1600, 1601, 1613, 1618, 1621, 1629, 1634, 1645, 1651, 1662, 1677, 1678, 1692, 1700, 1701, 1703, 1704, 1706, 1708, 1725, 1742, 1745, 1747, 1750, 1753, 1762, 1767, 1773, 1777, 1782, 1804, 1817, 1824, 1825, 1827, 1830, 1836, 1841, 1842, 1843, 1850, 1856, 1862, 1868, 1873, 1884, 1893, 1902, 1906, 1910, 1914, 1916, 1923, 1928, 1930, 1932, 1933, 1935, 1942, 1968, 1970, 1973, 1978, 1983, 1984, 1988, 1993, 2010, 2018, 2023, 2025, 2027, 2028, 2029, 2031, 2033, 2036, 2040, 2042, 2048, 2049, 2053, 2060, 2061, 2066, 2068, 2074, 2077, 2078, 2079, 2083, 2090, 2095, 2097, 2098, 2100, 2106, 2108, 2112, 2113, 2114, 2116, 2117, 2118, 2119, 2120, 2121, 2122, 2129, 2140, 2145, 2152, 2154, 2168, 2175, 2178, 2182, 2195, 2196, 2197, 2208, 2209, 2210, 2215, 2216, 2229, 2234, 2236, 2240, 2241, 2242, 2243, 2246, 2249, 2256, 2259, 2262, 2270, 2272, 2275, 2283, 2286, 2289, 2293, 2295, 2297, 2298, 2299, 2300, 2308, 2311, 2312, 2322, 2327, 2329, 2337, 2338, 2341, 2342, 2348, 2350, 2352, 2354, 2376, 2378, 2382, 2386, 2394, 2395, 2407, 2420, 2429, 2434, 2435, 2441, 2444, 2446, 2447, 2450, 2452, 2457, 2461, 2473, 2474, 2477, 2478, 2483, 2489, 2490, 2496, 2497, 2507, 2510, 2513, 2514, 2515, 2517, 2520, 2526, 2527, 2532, 2541, 2547, 2548, 2549, 2556, 2557, 2564, 2565, 2568, 2573, 2575, 2578, 2583, 2584, 2585, 2587, 2593, 2594, 2597, 2600, 2601, 2607, 2611, 2613, 2615, 2620, 2623, 2624, 2625, 2627, 2630, 2635, 2636, 2651, 2652, 2662, 2663, 2664, 2667, 2670, 2683, 2684, 2691, 2693, 2697, 2706, 2721, 2722, 2724, 2726, 2728, 2730, 2732, 2733, 2739, 2742, 2751, 2752, 2758, 2763, 2765, 2770, 2771, 2773, 2778, 2782, 2784, 2787, 2790, 2791, 2802, 2803, 2804, 2805, 2807, 2811, 2813, 2815, 2822, 2827, 2833, 2838, 2842, 2847, 2849, 2850, 2863, 2866, 2872, 2874, 2877, 2880, 2885, 2886, 2888, 2891, 2898, 2900, 2902, 2903, 2906, 2908, 2915, 2918, 2919, 2924, 2928, 2929, 2930, 2933, 2943, 2963, 2965, 2967, 2970, 2975, 2976, 2978, 2983, 2986, 2987, 2989, 2990, 2993, 2997, 3000, 3003, 3005, 3008, 3014, 3015, 3018, 3020, 3022, 3024, 3025, 3029, 3032, 3037, 3038, 3042, 3046, 3047, 3050, 3053, 3059, 3062, 3067, 3068, 3070, 3075, 3080, 3085, 3088, 3092, 3094, 3097, 3102, 3104, 3105, 3106, 3113, 3117, 3118, 3119, 3120, 3122, 3123, 3125, 3126, 3128, 3132, 3134, 3136, 3140, 3146, 3148, 3151, 3153, 3158, 3162, 3163, 3166, 3176, 3177, 3178, 3182, 3188, 3189, 3191, 3195, 3196, 3204, 3206, 3211, 3215, 3217, 3220, 3221, 3225, 3227, 3228, 3230, 3237, 3245, 3246, 3249, 3250, 3255, 3258, 3260, 3262, 3263, 3264, 3273, 3275, 3283, 3284, 3285, 3286, 3289, 3292, 3293, 3294, 3297, 3298, 3302, 3303, 3304, 3305, 3307, 3311, 3313, 3314, 3315, 3316, 3317, 3321, 3325, 3326, 3328, 3329, 3330, 3334, 3335, 3337, 3338, 3339, 3345, 3346, 3350, 3351, 3354, 3359, 3363, 3364, 3365, 3367, 3368, 3369, 3371, 3373, 3374, 3376, 3378, 3380, 3381, 3382, 3384, 3385, 3389, 3392, 3393, 3394, 3397, 3401, 3406, 3407, 3408, 3409, 3410, 3413, 3417, 3418, 3419, 3423, 3425, 3426, 3427, 3428, 3430, 3431, 3434, 3436, 3437, 3438, 3440, 3443, 3452, 3453, 3454, 3455, 3456, 3466, 3479, 3481, 3521, 3528, 3530, 3537, 3556, 3562, 3584, 3586, 3596, 3615, 3624, 3628, 3631, 3633, 3636, 3640, 3648, 3649, 3650, 3652, 3679, 3682, 3691, 3723, 3724, 3727, 3735, 3740, 3751, 3762, 3764, 3766, 3780, 3783, 3792, 3796, 3801, 3805, 3819, 3832, 3838, 3840, 3841, 3860, 3864, 3866, 3868, 3889, 3904, 3925, 3929, 3943, 3945, 3950, 3959, 3980, 3985, 3996, 4000, 4008, 4020, 4025, 4030, 4032, 4034, 4037, 4060, 4063, 4069, 4071, 4082, 4087, 4095, 4098, 4100, 4106, 4112, 4113, 4135, 4144, 4151, 4155, 4160, 4162, 4168, 4169, 4175, 4176, 4178, 4182, 4195, 4196, 4202, 4205, 4208, 4209, 4211, 4217, 4219, 4220, 4223, 4229, 4233, 4236, 4241, 4247, 4265, 4270, 4272, 4275, 4282, 4287, 4290, 4298, 4311, 4315, 4330, 4333, 4344, 4351, 4353, 4360, 4363, 4366, 4367, 4373, 4389, 4396, 4416, 4422, 4431, 4435, 4442, 4454, 4463, 4466, 4470, 4481, 4499, 4533, 4542, 4546, 4548, 4564, 4565, 4580, 4607, 4613, 4619, 4632, 4634, 4728, 4729, 4743, 4756, 4768, 4769, 4773, 4776, 4800, 4804, 4844, 4849, 4850, 4882, 4893, 4907, 4925, 4938, 4941, 4946, 4949, 4953, 4961, 4969, 4971, 4972, 4975, 4976, 4978, 4979, 4981, 4982, 4986, 4988, 4993, 4998, 5004, 5010, 5016, 5017, 5019, 5020, 5023, 5032, 5045, 5048, 5051, 5053, 5055, 5057, 5060, 5064, 5066, 5077, 5079, 5086, 5092, 5095, 5101, 5113, 5116, 5124, 5128, 5140, 5148, 5155, 5157, 5163, 5165, 5166, 5174, 5175, 5192, 5197, 5211, 5213, 5215, 5216, 5224, 5225, 5227, 5307, 5361, 5363, 5372, 5376, 5378, 5379, 5429, 5445, 5489, 5522]\n",
            "1333\n",
            "5646\n",
            "4313\n"
          ],
          "name": "stdout"
        }
      ]
    },
    {
      "cell_type": "markdown",
      "metadata": {
        "id": "exVPVPfcRPcS"
      },
      "source": [
        "여기서 겹치는 문제가 없는지 검증"
      ]
    },
    {
      "cell_type": "code",
      "metadata": {
        "colab": {
          "base_uri": "https://localhost:8080/"
        },
        "id": "Ngv7Zke9RO_3",
        "outputId": "b49e03e9-48a2-401b-c79b-d32b7fa7aba1"
      },
      "source": [
        "print(df[\"id\"])\n",
        "print(len(df[\"id\"]))\n",
        "print(len(set(df[\"id\"])))"
      ],
      "execution_count": 122,
      "outputs": [
        {
          "output_type": "stream",
          "text": [
            "13       2588\n",
            "15       2884\n",
            "23       1546\n",
            "26       4344\n",
            "28       3052\n",
            "        ...  \n",
            "5641    17463\n",
            "5642    20000\n",
            "5643    19620\n",
            "5644    20658\n",
            "5645     1386\n",
            "Name: id, Length: 4313, dtype: int64\n",
            "4313\n",
            "4313\n"
          ],
          "name": "stdout"
        }
      ]
    },
    {
      "cell_type": "code",
      "metadata": {
        "id": "Hgfs7UUGRdpb"
      },
      "source": [
        "'''\n",
        "  얘도 마찬가지로 하나만 선택해서 돌리셈 !\n",
        "\n",
        "'''\n",
        "\n",
        "df.to_csv('/gdrive/My Drive/50625/problem_min.csv')\n",
        "df.to_csv('/gdrive/My Drive/50625/problem_max.csv')"
      ],
      "execution_count": 123,
      "outputs": []
    },
    {
      "cell_type": "markdown",
      "metadata": {
        "id": "-bgRNt3Uak9X"
      },
      "source": [
        "다 끝나고 algo_dict를 다시 count"
      ]
    },
    {
      "cell_type": "code",
      "metadata": {
        "colab": {
          "base_uri": "https://localhost:8080/"
        },
        "id": "4q8WvZCIW5t5",
        "outputId": "faef6f1b-34e6-4199-8251-bbab41679749"
      },
      "source": [
        "algo_dict = dict()\n",
        "for i in range(len(df.index)) :\n",
        "    if df[\"tag\"].iloc[i] in algo_dict :\n",
        "        algo_dict[df[\"tag\"].iloc[i]] += 1\n",
        "    else :\n",
        "        algo_dict[df[\"tag\"].iloc[i]] =  1\n",
        "\n",
        "algo_dict"
      ],
      "execution_count": 124,
      "outputs": [
        {
          "output_type": "execute_result",
          "data": {
            "text/plain": [
              "{'Binary_search': 252,\n",
              " 'Breadth_first_search': 202,\n",
              " 'Bruteforcing': 338,\n",
              " 'Depth_first_search': 147,\n",
              " 'Dijkstras': 139,\n",
              " 'Divide_and_conquer': 120,\n",
              " 'Dynamic_programming': 828,\n",
              " 'Greedy': 362,\n",
              " 'Implementation': 723,\n",
              " 'Mathematics': 819,\n",
              " 'String': 383}"
            ]
          },
          "metadata": {
            "tags": []
          },
          "execution_count": 124
        }
      ]
    }
  ]
}