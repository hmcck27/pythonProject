{
  "nbformat": 4,
  "nbformat_minor": 0,
  "metadata": {
    "colab": {
      "name": "algorithm_preprocessing.pynb",
      "provenance": [],
      "authorship_tag": "ABX9TyMiwmSc2rZ1rmmZn67TiWc0",
      "include_colab_link": true
    },
    "kernelspec": {
      "name": "python3",
      "display_name": "Python 3"
    },
    "language_info": {
      "name": "python"
    }
  },
  "cells": [
    {
      "cell_type": "markdown",
      "metadata": {
        "id": "view-in-github",
        "colab_type": "text"
      },
      "source": [
        "<a href=\"https://colab.research.google.com/github/hmcck27/pythonProject/blob/jk/algorithm_preprocessing_pynb.ipynb\" target=\"_parent\"><img src=\"https://colab.research.google.com/assets/colab-badge.svg\" alt=\"Open In Colab\"/></a>"
      ]
    },
    {
      "cell_type": "markdown",
      "metadata": {
        "id": "EYb7YPo9RnxP"
      },
      "source": [
        "**This is the code for preprocessing corpus of Algorithm dataset**\n",
        "\n",
        "\n",
        "step for preprocessing\n",
        "1. csv 파일을 pandas dataframe으로 변환한다.\n",
        "2. description의 \\n, \\t을 제거\n",
        "3. 각 지문별 길이 파익해서 visualize\n",
        "4. 중복되는 문제 수 파악\n",
        "5. remove english 지문\n",
        "6. 우리가 정한 라벨 이외의 것들은 제거\n",
        "7. 문제들간에 여러 알고리즘을 갖는 문제들이 있는지 체크 -> 이 친구들은 어떻게 해야할지 따로 상의해봐야할듯\n",
        "7. 여러 버전의 전처리 데이터 셋을 만든다.\n",
        "\n",
        "version \n",
        "1. 영어 제거 버전\n",
        "2. 수식 제거 버전 -> 정규식을 이용해서 제거 ( 참고 자료 : [링크 텍스트](https://wikidocs.net/21703))\n",
        "3. 수식을 텍스트로 변환 -> 이건 다양하게 버전을 만들어야 ! 회의 때 어떤 수식이 있는지 조사해 오기\n",
        "\n"
      ]
    },
    {
      "cell_type": "markdown",
      "metadata": {
        "id": "amPt_6tSVDyq"
      },
      "source": [
        "**필요한 라이브러리 import**"
      ]
    },
    {
      "cell_type": "code",
      "metadata": {
        "id": "4VZlZ634VGiv"
      },
      "source": [
        "import pandas as pd\n",
        "import matplotlib.pyplot as plt\n",
        "import numpy as np"
      ],
      "execution_count": 76,
      "outputs": []
    },
    {
      "cell_type": "markdown",
      "metadata": {
        "id": "uOsIvRRbTJeb"
      },
      "source": [
        "**구글 드라이브 마운트**"
      ]
    },
    {
      "cell_type": "code",
      "metadata": {
        "colab": {
          "base_uri": "https://localhost:8080/"
        },
        "id": "znYyjlc3TBzY",
        "outputId": "5826aa38-5be3-4410-bf1f-ed33d9529c29"
      },
      "source": [
        "from google.colab import drive\n",
        "drive.mount(\"/gdrive\", force_remount=True)"
      ],
      "execution_count": 4,
      "outputs": [
        {
          "output_type": "stream",
          "text": [
            "Mounted at /gdrive\n"
          ],
          "name": "stdout"
        }
      ]
    },
    {
      "cell_type": "markdown",
      "metadata": {
        "id": "fW7D6C2sVKeU"
      },
      "source": [
        "**pandas를 이용한 csv를 데이터프레임으로 변환**"
      ]
    },
    {
      "cell_type": "code",
      "metadata": {
        "id": "M6Heh4EfTQO6"
      },
      "source": [
        "df = pd.read_csv('/gdrive/My Drive/50625/problem1_df.csv')"
      ],
      "execution_count": 96,
      "outputs": []
    },
    {
      "cell_type": "code",
      "metadata": {
        "id": "equVpm_90ycL"
      },
      "source": [
        "\n",
        "pd.set_option('display.max_columns',None)\n",
        "pd.set_option('display.max_rows',None)"
      ],
      "execution_count": 12,
      "outputs": []
    },
    {
      "cell_type": "markdown",
      "metadata": {
        "id": "NhF8_nCC1G0v"
      },
      "source": [
        "**description, input, output 에서 엔터,탭 제거**"
      ]
    },
    {
      "cell_type": "code",
      "metadata": {
        "id": "f5ZH1tWk1K7Y"
      },
      "source": [
        "for i in df.index :\n",
        "    df.loc[i,\"description\"] = df.loc[i,\"description\"].replace('\\n',\"\")\n",
        "    df.loc[i,\"description\"] = df.loc[i,\"description\"].replace('\\t',\"\")\n",
        "    df.loc[i,\"input\"] = str(df.loc[i,\"input\"]).replace('\\n',\"\")\n",
        "    df.loc[i,\"input\"] = str(df.loc[i,\"input\"]).replace('\\t',\"\")\n",
        "    df.loc[i,\"output\"] = str(df.loc[i,\"output\"]).replace('\\n',\"\")\n",
        "    df.loc[i,\"output\"] = str(df.loc[i,\"output\"]).replace('\\t',\"\")\n"
      ],
      "execution_count": 97,
      "outputs": []
    },
    {
      "cell_type": "code",
      "metadata": {
        "colab": {
          "base_uri": "https://localhost:8080/",
          "height": 359
        },
        "id": "i-FJjJzT0iRT",
        "outputId": "af73464c-2e1a-4dfa-e928-592810faa73f"
      },
      "source": [
        "df[5000:5010]\n",
        "df[0:10]"
      ],
      "execution_count": 99,
      "outputs": [
        {
          "output_type": "execute_result",
          "data": {
            "text/html": [
              "<div>\n",
              "<style scoped>\n",
              "    .dataframe tbody tr th:only-of-type {\n",
              "        vertical-align: middle;\n",
              "    }\n",
              "\n",
              "    .dataframe tbody tr th {\n",
              "        vertical-align: top;\n",
              "    }\n",
              "\n",
              "    .dataframe thead th {\n",
              "        text-align: right;\n",
              "    }\n",
              "</style>\n",
              "<table border=\"1\" class=\"dataframe\">\n",
              "  <thead>\n",
              "    <tr style=\"text-align: right;\">\n",
              "      <th></th>\n",
              "      <th>tag</th>\n",
              "      <th>id</th>\n",
              "      <th>title</th>\n",
              "      <th>description</th>\n",
              "      <th>input</th>\n",
              "      <th>output</th>\n",
              "    </tr>\n",
              "  </thead>\n",
              "  <tbody>\n",
              "    <tr>\n",
              "      <th>0</th>\n",
              "      <td>Mathematics</td>\n",
              "      <td>1000</td>\n",
              "      <td>A+B</td>\n",
              "      <td>두 정수 A와 B를 입력받은 다음, A+B를 출력하는 프로그램을 작성하시오.</td>\n",
              "      <td>첫째 줄에 A와 B가 주어진다. (0 &lt; A, B &lt; 10)</td>\n",
              "      <td>첫째 줄에 A+B를 출력한다.</td>\n",
              "    </tr>\n",
              "    <tr>\n",
              "      <th>1</th>\n",
              "      <td>Mathematics</td>\n",
              "      <td>1001</td>\n",
              "      <td>A-B</td>\n",
              "      <td>두 정수 A와 B를 입력받은 다음, A-B를 출력하는 프로그램을 작성하시오.</td>\n",
              "      <td>첫째 줄에 A와 B가 주어진다. (0 &lt; A, B &lt; 10)</td>\n",
              "      <td>첫째 줄에 A-B를 출력한다.</td>\n",
              "    </tr>\n",
              "    <tr>\n",
              "      <th>2</th>\n",
              "      <td>Mathematics</td>\n",
              "      <td>10998</td>\n",
              "      <td>A×B</td>\n",
              "      <td>두 정수 A와 B를 입력받은 다음, A×B를 출력하는 프로그램을 작성하시오.</td>\n",
              "      <td>첫째 줄에 A와 B가 주어진다. (0 &lt; A, B &lt; 10)</td>\n",
              "      <td>첫째 줄에 A×B를 출력한다.</td>\n",
              "    </tr>\n",
              "    <tr>\n",
              "      <th>3</th>\n",
              "      <td>Mathematics</td>\n",
              "      <td>10869</td>\n",
              "      <td>사칙연산</td>\n",
              "      <td>두 자연수 A와 B가 주어진다. 이때, A+B, A-B, A*B, A/B(몫), A...</td>\n",
              "      <td>두 자연수 A와 B가 주어진다. (1 ≤ A, B ≤ 10,000)</td>\n",
              "      <td>첫째 줄에 A+B, 둘째 줄에 A-B, 셋째 줄에 A*B, 넷째 줄에 A/B, 다섯...</td>\n",
              "    </tr>\n",
              "    <tr>\n",
              "      <th>4</th>\n",
              "      <td>Mathematics</td>\n",
              "      <td>1008</td>\n",
              "      <td>A/B</td>\n",
              "      <td>두 정수 A와 B를 입력받은 다음, A/B를 출력하는 프로그램을 작성하시오.</td>\n",
              "      <td>첫째 줄에 A와 B가 주어진다. (0 &lt; A, B &lt; 10)</td>\n",
              "      <td>첫째 줄에 A/B를 출력한다. 실제 정답과 출력값의 절대오차 또는 상대오차가 10-...</td>\n",
              "    </tr>\n",
              "    <tr>\n",
              "      <th>5</th>\n",
              "      <td>Mathematics</td>\n",
              "      <td>2739</td>\n",
              "      <td>구구단</td>\n",
              "      <td>N을 입력받은 뒤, 구구단 N단을 출력하는 프로그램을 작성하시오. 출력 형식에 맞춰...</td>\n",
              "      <td>첫째 줄에 N이 주어진다. N은 1보다 크거나 같고, 9보다 작거나 같다.</td>\n",
              "      <td>출력형식과 같게 N*1부터 N*9까지 출력한다.</td>\n",
              "    </tr>\n",
              "    <tr>\n",
              "      <th>6</th>\n",
              "      <td>Mathematics</td>\n",
              "      <td>10430</td>\n",
              "      <td>나머지</td>\n",
              "      <td>(A+B)%C는 ((A%C) + (B%C))%C 와 같을까?(A×B)%C는 ((A%...</td>\n",
              "      <td>첫째 줄에 A, B, C가 순서대로 주어진다. (2 ≤ A, B, C ≤ 10000)</td>\n",
              "      <td>첫째 줄에 (A+B)%C, 둘째 줄에 ((A%C) + (B%C))%C, 셋째 줄에 ...</td>\n",
              "    </tr>\n",
              "    <tr>\n",
              "      <th>7</th>\n",
              "      <td>Mathematics</td>\n",
              "      <td>8393</td>\n",
              "      <td>합</td>\n",
              "      <td>n이 주어졌을 때, 1부터 n까지 합을 구하는 프로그램을 작성하시오.</td>\n",
              "      <td>첫째 줄에 n (1 ≤ n ≤ 10,000)이 주어진다.</td>\n",
              "      <td>1부터 n까지 합을 출력한다.</td>\n",
              "    </tr>\n",
              "    <tr>\n",
              "      <th>8</th>\n",
              "      <td>Mathematics</td>\n",
              "      <td>1330</td>\n",
              "      <td>두 수 비교하기</td>\n",
              "      <td>두 정수 A와 B가 주어졌을 때, A와 B를 비교하는 프로그램을 작성하시오.</td>\n",
              "      <td>첫째 줄에 A와 B가 주어진다. A와 B는 공백 한 칸으로 구분되어져 있다.</td>\n",
              "      <td>첫째 줄에 다음 세 가지 중 하나를 출력한다.A가 B보다 큰 경우에는 '&gt;'를 출력...</td>\n",
              "    </tr>\n",
              "    <tr>\n",
              "      <th>9</th>\n",
              "      <td>Mathematics</td>\n",
              "      <td>10871</td>\n",
              "      <td>X보다 작은 수</td>\n",
              "      <td>정수 N개로 이루어진 수열 A와 정수 X가 주어진다. 이때, A에서 X보다 작은 수...</td>\n",
              "      <td>첫째 줄에 N과 X가 주어진다. (1 ≤ N, X ≤ 10,000)둘째 줄에 수열 ...</td>\n",
              "      <td>X보다 작은 수를 입력받은 순서대로 공백으로 구분해 출력한다. X보다 작은 수는 적...</td>\n",
              "    </tr>\n",
              "  </tbody>\n",
              "</table>\n",
              "</div>"
            ],
            "text/plain": [
              "           tag     id     title  \\\n",
              "0  Mathematics   1000       A+B   \n",
              "1  Mathematics   1001       A-B   \n",
              "2  Mathematics  10998       A×B   \n",
              "3  Mathematics  10869      사칙연산   \n",
              "4  Mathematics   1008       A/B   \n",
              "5  Mathematics   2739       구구단   \n",
              "6  Mathematics  10430       나머지   \n",
              "7  Mathematics   8393         합   \n",
              "8  Mathematics   1330  두 수 비교하기   \n",
              "9  Mathematics  10871  X보다 작은 수   \n",
              "\n",
              "                                         description  \\\n",
              "0         두 정수 A와 B를 입력받은 다음, A+B를 출력하는 프로그램을 작성하시오.   \n",
              "1         두 정수 A와 B를 입력받은 다음, A-B를 출력하는 프로그램을 작성하시오.   \n",
              "2         두 정수 A와 B를 입력받은 다음, A×B를 출력하는 프로그램을 작성하시오.   \n",
              "3  두 자연수 A와 B가 주어진다. 이때, A+B, A-B, A*B, A/B(몫), A...   \n",
              "4         두 정수 A와 B를 입력받은 다음, A/B를 출력하는 프로그램을 작성하시오.   \n",
              "5  N을 입력받은 뒤, 구구단 N단을 출력하는 프로그램을 작성하시오. 출력 형식에 맞춰...   \n",
              "6  (A+B)%C는 ((A%C) + (B%C))%C 와 같을까?(A×B)%C는 ((A%...   \n",
              "7             n이 주어졌을 때, 1부터 n까지 합을 구하는 프로그램을 작성하시오.   \n",
              "8         두 정수 A와 B가 주어졌을 때, A와 B를 비교하는 프로그램을 작성하시오.   \n",
              "9  정수 N개로 이루어진 수열 A와 정수 X가 주어진다. 이때, A에서 X보다 작은 수...   \n",
              "\n",
              "                                               input  \\\n",
              "0                  첫째 줄에 A와 B가 주어진다. (0 < A, B < 10)   \n",
              "1                  첫째 줄에 A와 B가 주어진다. (0 < A, B < 10)   \n",
              "2                  첫째 줄에 A와 B가 주어진다. (0 < A, B < 10)   \n",
              "3              두 자연수 A와 B가 주어진다. (1 ≤ A, B ≤ 10,000)   \n",
              "4                  첫째 줄에 A와 B가 주어진다. (0 < A, B < 10)   \n",
              "5          첫째 줄에 N이 주어진다. N은 1보다 크거나 같고, 9보다 작거나 같다.   \n",
              "6    첫째 줄에 A, B, C가 순서대로 주어진다. (2 ≤ A, B, C ≤ 10000)   \n",
              "7                    첫째 줄에 n (1 ≤ n ≤ 10,000)이 주어진다.   \n",
              "8         첫째 줄에 A와 B가 주어진다. A와 B는 공백 한 칸으로 구분되어져 있다.   \n",
              "9  첫째 줄에 N과 X가 주어진다. (1 ≤ N, X ≤ 10,000)둘째 줄에 수열 ...   \n",
              "\n",
              "                                              output  \n",
              "0                                   첫째 줄에 A+B를 출력한다.  \n",
              "1                                   첫째 줄에 A-B를 출력한다.  \n",
              "2                                   첫째 줄에 A×B를 출력한다.  \n",
              "3  첫째 줄에 A+B, 둘째 줄에 A-B, 셋째 줄에 A*B, 넷째 줄에 A/B, 다섯...  \n",
              "4  첫째 줄에 A/B를 출력한다. 실제 정답과 출력값의 절대오차 또는 상대오차가 10-...  \n",
              "5                         출력형식과 같게 N*1부터 N*9까지 출력한다.  \n",
              "6  첫째 줄에 (A+B)%C, 둘째 줄에 ((A%C) + (B%C))%C, 셋째 줄에 ...  \n",
              "7                                   1부터 n까지 합을 출력한다.  \n",
              "8  첫째 줄에 다음 세 가지 중 하나를 출력한다.A가 B보다 큰 경우에는 '>'를 출력...  \n",
              "9  X보다 작은 수를 입력받은 순서대로 공백으로 구분해 출력한다. X보다 작은 수는 적...  "
            ]
          },
          "metadata": {
            "tags": []
          },
          "execution_count": 99
        }
      ]
    },
    {
      "cell_type": "markdown",
      "metadata": {
        "id": "KQYxH3oc0OpU"
      },
      "source": [
        "**지문 길이 체크**\n",
        "\n",
        "- 여기서는 전체 지문의 길이를 체크한다.\n",
        "- 숫자가 많아서 지문이 길거나, 영어 지문 때문에 이렇게 길게 체크 되는듯.\n",
        "- 나중에 영어 지문 제외하고 다시 돌려보자"
      ]
    },
    {
      "cell_type": "code",
      "metadata": {
        "colab": {
          "base_uri": "https://localhost:8080/",
          "height": 279
        },
        "id": "cZw5noQf0RYc",
        "outputId": "9eab7cc7-1320-47b2-d372-3a867ce90680"
      },
      "source": [
        "X_data = list()\n",
        "len(df.index)\n",
        "for x in range(len(df.index)) :\n",
        "    X_data.append(len(df[\"description\"].iloc[x]))\n",
        "\n",
        "plt.hist([int(s/10)*10 for s in X_data], bins=50)\n",
        "plt.xlabel('length of samples')\n",
        "plt.ylabel('number of samples')\n",
        "plt.show()"
      ],
      "execution_count": 101,
      "outputs": [
        {
          "output_type": "display_data",
          "data": {
            "image/png": "[encoded data removed]",
            "text/plain": [
              "<Figure size 432x288 with 1 Axes>"
            ]
          },
          "metadata": {
            "tags": [],
            "needs_background": "light"
          }
        }
      ]
    },
    {
      "cell_type": "markdown",
      "metadata": {
        "id": "quiVXd_xj7GX"
      },
      "source": [
        "**중복 지문 체크**\n",
        "\n",
        "약 14158개의 지문이 중복된다. 즉 순수하게 하나만 존재하는 지문은 약 7000개 정도"
      ]
    },
    {
      "cell_type": "code",
      "metadata": {
        "colab": {
          "base_uri": "https://localhost:8080/"
        },
        "id": "yPDe_29ylc0S",
        "outputId": "c7974ce4-c61e-4a37-e12c-99edbc06a209"
      },
      "source": [
        "df_temp = pd.DataFrame(df[\"id\"])\n",
        "dup_data = df_temp.duplicated([\"id\"])\n",
        "count = 0\n",
        "for i in dup_data :\n",
        "    if (i is True) :\n",
        "        count+=1\n",
        "print(count)\n",
        "\n"
      ],
      "execution_count": 26,
      "outputs": [
        {
          "output_type": "stream",
          "text": [
            "14158\n"
          ],
          "name": "stdout"
        }
      ]
    },
    {
      "cell_type": "markdown",
      "metadata": {
        "id": "xpiXdbPwjsi6"
      },
      "source": [
        "**영어 지문 제거 코드**\n",
        "1. iterate하면서 description column이 영어로 이루어져 있는 항목 제거"
      ]
    },
    {
      "cell_type": "code",
      "metadata": {
        "colab": {
          "base_uri": "https://localhost:8080/"
        },
        "id": "ii2OyGJFjvh-",
        "outputId": "3447aaa5-2722-4158-ac23-b387236779b0"
      },
      "source": [
        "import re\n",
        "\n",
        "def check_korean(check_string) :\n",
        "    hanCount = len(re.findall(u'[\\u3130-\\u318F\\uAC00-\\uD7A3]+', check_string))\n",
        "    return hanCount > 0\n",
        "\n",
        "only_english_list = []\n",
        "\n",
        "for i in df.index :\n",
        "    if not check_korean(df.loc[i,\"description\"]) :\n",
        "        only_english_list.append(i)\n",
        "\n",
        "print(only_english_list)\n",
        "df.index\n",
        "df_drop_english = df.drop(only_english_list)\n",
        "df_drop_english.set_index('id', inplace=True)\n",
        "# df_drop_english.loc[255,\"description\"]"
      ],
      "execution_count": 48,
      "outputs": [
        {
          "output_type": "stream",
          "text": [
            "[255, 274, 292, 306, 361, 372, 373, 377, 384, 410, 414, 423, 424, 433, 441, 443, 444, 487, 504, 505, 510, 519, 525, 526, 529, 545, 546, 548, 551, 560, 571, 587, 591, 593, 603, 613, 617, 620, 624, 626, 629, 637, 641, 643, 646, 647, 648, 655, 663, 675, 677, 687, 688, 690, 701, 707, 708, 712, 719, 720, 735, 743, 744, 749, 750, 751, 755, 765, 766, 767, 772, 781, 782, 788, 790, 792, 794, 799, 800, 815, 817, 820, 828, 830, 834, 841, 842, 845, 850, 851, 852, 853, 869, 873, 874, 880, 884, 893, 894, 899, 906, 907, 909, 912, 920, 922, 924, 925, 926, 935, 936, 937, 939, 940, 941, 942, 945, 948, 953, 954, 958, 964, 965, 966, 972, 973, 979, 980, 995, 997, 1006, 1008, 1009, 1010, 1012, 1013, 1018, 1019, 1020, 1024, 1025, 1028, 1031, 1035, 1036, 1038, 1043, 1055, 1057, 1060, 1064, 1066, 1067, 1069, 1070, 1072, 1073, 1074, 1076, 1081, 1082, 1087, 1088, 1093, 1097, 1098, 1103, 1105, 1107, 1114, 1119, 1124, 1125, 1127, 1129, 1132, 1135, 1136, 1138, 1140, 1141, 1145, 1149, 1153, 1157, 1158, 1159, 1160, 1166, 1167, 1168, 1180, 1181, 1182, 1183, 1185, 1186, 1188, 1190, 1193, 1196, 1197, 1207, 1209, 1210, 1215, 1216, 1218, 1222, 1223, 1227, 1230, 1233, 1239, 1243, 1244, 1251, 1254, 1256, 1257, 1258, 1259, 1261, 1262, 1263, 1264, 1265, 1266, 1270, 1271, 1272, 1273, 1274, 1277, 1278, 1279, 1282, 1284, 1285, 1286, 1288, 1291, 1292, 1295, 1296, 1297, 1300, 1302, 1304, 1308, 1309, 1312, 1316, 1317, 1319, 1323, 1325, 1328, 1329, 1332, 1334, 1338, 1339, 1340, 1344, 1348, 1350, 1351, 1352, 1353, 1356, 1358, 1359, 1361, 1363, 1368, 1369, 1372, 1373, 1375, 1378, 1381, 1389, 1391, 1392, 1394, 1400, 1402, 1403, 1405, 1408, 1410, 1412, 1413, 1414, 1417, 1419, 1422, 1423, 1424, 1425, 1428, 1429, 1430, 1431, 1435, 1436, 1437, 1440, 1446, 1447, 1448, 1449, 1450, 1453, 1455, 1457, 1458, 1460, 1461, 1464, 1465, 1469, 1470, 1472, 1473, 1474, 1478, 1479, 1481, 1482, 1483, 1484, 1485, 1486, 1487, 1493, 1494, 1495, 1499, 1500, 1501, 1503, 1506, 1508, 1511, 1512, 1513, 1514, 1518, 1522, 1523, 1524, 1525, 1526, 1527, 1528, 1529, 1530, 1531, 1536, 1540, 1544, 1545, 1555, 1556, 1557, 1558, 1561, 1562, 1564, 1565, 1566, 1574, 1575, 1576, 1577, 1578, 1580, 1583, 1586, 1587, 1590, 1593, 1594, 1595, 1598, 1599, 1605, 1606, 1608, 1609, 1611, 1612, 1613, 1614, 1615, 1616, 1617, 1618, 1620, 1622, 1625, 1630, 1632, 1633, 1634, 1635, 1636, 1637, 1638, 1639, 1640, 1641, 1642, 1647, 1648, 1649, 1650, 1651, 1652, 1656, 1657, 1658, 1659, 1660, 1666, 1669, 1670, 1671, 1673, 1675, 1677, 1678, 1684, 1685, 1686, 1687, 1688, 1689, 1690, 1691, 1696, 1697, 1698, 1699, 1701, 1702, 1704, 1705, 1706, 1708, 1709, 1711, 1712, 1717, 1719, 1720, 1721, 1722, 1723, 1727, 1728, 1734, 1735, 1736, 1737, 1738, 1739, 1740, 1742, 1743, 1744, 1745, 1749, 1752, 1755, 1756, 1757, 1758, 1759, 1762, 1763, 1764, 1765, 1766, 1767, 1768, 1775, 1777, 1778, 1779, 1781, 1782, 1783, 1784, 1785, 1786, 1787, 1788, 1789, 1790, 1793, 1794, 1795, 1796, 1797, 1799, 1800, 1801, 1802, 1803, 1804, 1807, 1808, 1811, 1813, 1815, 1816, 1817, 1824, 1826, 1828, 1829, 1831, 1832, 1833, 1834, 1835, 1836, 1838, 1839, 1840, 1841, 1843, 1844, 1847, 1848, 1849, 1850, 1851, 1852, 1853, 1854, 1855, 1856, 1857, 1858, 1861, 1864, 1865, 1866, 1867, 1868, 1871, 1872, 1875, 1877, 1878, 1879, 1880, 1881, 1882, 1883, 1884, 1885, 1886, 1887, 1888, 1889, 1890, 1893, 1895, 1896, 1897, 1898, 1899, 1900, 1901, 1903, 1904, 1907, 1909, 1910, 1913, 1914, 1915, 1916, 1918, 1919, 1920, 1922, 1924, 1925, 1926, 1927, 1928, 1929, 1931, 1932, 1934, 1935, 1936, 1937, 1939, 1940, 1941, 1942, 1943, 1944, 1945, 1946, 1947, 1948, 1949, 1950, 1951, 1952, 1953, 1954, 1955, 1957, 1958, 1959, 1961, 1962, 1963, 1964, 1965, 1966, 1967, 1969, 1970, 1972, 1973, 1974, 1975, 1976, 1977, 1978, 1980, 1981, 1982, 1983, 1984, 1985, 1986, 1987, 1988, 1989, 1993, 1994, 1995, 1996, 1997, 1998, 2000, 2001, 2003, 2004, 2005, 2006, 2008, 2009, 2011, 2012, 2013, 2014, 2015, 2016, 2017, 2018, 2020, 2021, 2022, 2023, 2024, 2025, 2026, 2027, 2029, 2030, 2031, 2033, 2034, 2035, 2037, 2038, 2039, 2040, 2041, 2043, 2044, 2045, 2046, 2049, 2050, 2051, 2052, 2053, 2054, 2056, 2057, 2058, 2059, 2060, 2061, 2062, 2063, 2064, 2065, 2066, 2067, 2068, 2069, 2070, 2071, 2073, 2074, 2075, 2077, 2078, 2079, 2080, 2081, 2083, 2084, 2085, 2086, 2087, 2088, 2090, 2091, 2093, 2094, 2095, 2097, 2098, 2099, 2100, 2101, 2102, 2103, 2104, 2105, 2106, 2107, 2108, 2109, 2110, 2111, 2112, 2113, 2114, 2115, 2116, 2117, 2118, 2119, 2122, 2123, 2124, 2125, 2126, 2127, 2128, 2129, 2130, 2131, 2132, 2133, 2134, 2135, 2138, 2140, 2141, 2142, 2143, 2144, 2145, 2147, 2148, 2151, 2152, 2153, 2154, 2155, 2156, 2157, 2158, 2161, 2162, 2163, 2164, 2165, 2166, 2167, 2168, 2169, 2170, 2171, 2172, 2174, 2176, 2177, 2178, 2179, 2180, 2181, 2182, 2183, 2184, 2185, 2186, 2187, 2188, 2189, 2190, 2191, 2192, 2193, 2194, 2195, 2196, 2198, 2199, 2200, 2201, 2202, 2203, 2204, 2205, 2206, 2207, 2208, 2209, 2210, 2211, 2212, 2213, 2214, 2215, 2216, 2217, 2218, 2219, 2220, 2221, 2222, 2223, 2224, 2225, 2226, 2227, 2228, 2229, 2230, 2231, 2233, 2234, 2235, 2236, 2237, 2238, 2239, 2240, 2241, 2242, 2245, 2246, 2247, 2248, 2249, 2250, 2251, 2252, 2253, 2254, 2255, 2256, 2257, 2258, 2259, 2260, 2261, 2262, 2263, 2264, 2265, 2266, 2267, 2268, 2269, 2270, 2271, 2272, 2273, 2274, 2275, 2276, 2277, 2278, 2279, 2280, 2281, 2546, 2557, 2599, 2611, 2636, 2675, 2683, 2704, 2707, 2717, 2727, 2730, 2741, 2748, 2750, 2763, 2768, 2769, 2776, 2788, 2797, 2799, 2801, 2814, 2823, 2835, 2839, 2844, 2863, 2870, 2873, 2877, 2885, 2887, 2895, 2899, 2901, 2902, 2905, 2913, 2914, 2916, 2921, 2922, 2924, 2928, 2930, 2936, 2944, 2945, 2950, 2952, 2960, 2965, 2968, 2970, 2979, 2982, 2983, 2986, 2989, 2992, 2999, 3003, 3004, 3005, 3013, 3014, 3019, 3021, 3027, 3028, 3029, 3031, 3040, 3041, 3043, 3044, 3045, 3046, 3048, 3049, 3050, 3058, 3059, 3061, 3062, 3064, 3066, 3071, 3072, 3076, 3081, 3084, 3087, 3095, 3096, 3100, 3101, 3102, 3103, 3105, 3106, 3111, 3113, 3114, 3116, 3119, 3120, 3122, 3123, 3128, 3130, 3131, 3133, 3134, 3135, 3137, 3140, 3141, 3146, 3147, 3149, 3151, 3153, 3154, 3156, 3162, 3163, 3164, 3166, 3168, 3175, 3177, 3179, 3183, 3188, 3189, 3190, 3191, 3194, 3199, 3202, 3207, 3208, 3210, 3212, 3215, 3217, 3219, 3220, 3221, 3224, 3225, 3229, 3233, 3234, 3235, 3237, 3239, 3241, 3242, 3246, 3249, 3253, 3254, 3264, 3266, 3268, 3269, 3270, 3271, 3272, 3273, 3274, 3276, 3277, 3279, 3281, 3283, 3286, 3287, 3288, 3289, 3292, 3293, 3298, 3299, 3300, 3301, 3302, 3303, 3304, 3305, 3307, 3308, 3309, 3310, 3316, 3317, 3318, 3319, 3320, 3325, 3326, 3327, 3329, 3337, 3338, 3339, 3340, 3341, 3342, 3343, 3345, 3346, 3350, 3352, 3355, 3356, 3357, 3358, 3361, 3365, 3366, 3370, 3371, 3372, 3373, 3375, 3376, 3389, 3390, 3392, 3394, 3395, 3396, 3397, 3399, 3401, 3403, 3405, 3406, 3411, 3412, 3413, 3414, 3415, 3416, 3417, 3419, 3420, 3421, 3422, 3426, 3427, 3428, 3430, 3432, 3433, 3434, 3435, 3436, 3438, 3440, 3441, 3443, 3444, 3446, 3447, 3449, 3451, 3453, 3454, 3457, 3459, 3460, 3461, 3462, 3463, 3464, 3466, 3467, 3468, 3471, 3473, 3474, 3482, 3484, 3485, 3488, 3491, 3492, 3493, 3494, 3495, 3496, 3498, 3499, 3500, 3502, 3503, 3504, 3506, 3507, 3509, 3510, 3511, 3512, 3519, 3521, 3522, 3524, 3526, 3527, 3528, 3530, 3531, 3532, 3533, 3534, 3535, 3537, 3538, 3539, 3540, 3541, 3542, 3543, 3544, 3545, 3546, 3547, 3548, 3550, 3552, 3559, 3561, 3562, 3563, 3566, 3567, 3569, 3570, 3572, 3573, 3575, 3577, 3579, 3580, 3581, 3582, 3583, 3584, 3585, 3586, 3589, 3590, 3591, 3593, 3594, 3595, 3598, 3599, 3601, 3602, 3603, 3604, 3608, 3609, 3610, 3611, 3612, 3614, 3616, 3617, 3618, 3620, 3621, 3622, 3623, 3624, 3625, 3626, 3627, 3632, 3634, 3635, 3636, 3638, 3640, 3643, 3644, 3646, 3647, 3648, 3649, 3650, 3652, 3653, 3654, 3657, 3658, 3659, 3660, 3661, 3662, 3663, 3664, 3667, 3668, 3669, 3670, 3671, 3672, 3673, 3674, 3675, 3676, 3677, 3678, 3679, 3680, 3681, 3682, 3683, 3684, 3685, 3686, 3687, 3688, 3691, 3693, 3695, 3696, 3698, 3699, 3700, 3703, 3704, 3705, 3708, 3709, 3710, 3713, 3714, 3715, 3716, 3717, 3718, 3719, 3721, 3722, 3723, 3724, 3726, 3727, 3728, 3729, 3730, 3731, 3732, 3735, 3736, 3737, 3738, 3739, 3740, 3741, 3742, 3743, 3744, 3745, 3746, 3747, 3748, 3752, 3753, 3758, 3760, 3761, 3762, 3763, 3764, 3766, 3767, 3768, 3769, 3770, 3772, 3773, 3774, 3775, 3776, 3777, 3778, 3779, 3780, 3781, 3782, 3783, 3784, 3785, 3786, 3787, 3788, 3791, 3792, 3793, 3798, 3799, 3800, 3801, 3802, 3803, 3804, 3805, 3806, 3807, 3808, 3811, 3812, 3814, 3816, 3817, 3818, 3819, 3820, 3821, 3822, 3823, 3824, 3825, 3826, 3827, 3828, 3831, 3832, 3833, 3834, 3835, 3836, 3837, 3838, 3839, 3841, 3842, 3843, 3844, 3845, 3846, 3847, 3848, 3849, 3850, 3851, 3852, 3853, 3854, 3855, 3857, 3858, 3859, 3860, 3861, 3862, 3863, 3864, 3865, 3866, 3867, 3868, 3869, 3870, 3871, 3872, 3873, 3874, 3875, 3876, 3877, 3878, 3879, 3880, 3881, 3882, 3884, 3886, 3887, 3888, 3889, 3890, 3891, 3892, 3893, 3894, 3897, 3899, 3900, 3901, 3902, 3903, 3904, 3905, 3906, 3907, 3908, 3909, 3910, 3911, 3912, 3913, 3914, 3915, 3916, 3917, 3918, 3919, 3920, 3921, 3922, 3923, 3924, 3925, 3927, 3928, 3929, 3930, 3931, 3932, 3933, 3934, 3935, 3936, 3937, 3938, 3939, 3940, 3941, 3942, 3943, 3944, 3945, 3946, 3947, 3948, 3949, 3950, 3951, 3952, 3953, 3954, 3955, 3956, 3957, 3958, 3959, 3960, 3961, 3962, 3963, 3964, 3965, 3966, 3967, 3968, 3969, 3970, 3971, 3973, 3974, 3975, 3976, 3977, 3978, 3979, 3980, 3981, 3982, 3983, 4345, 4356, 4403, 4420, 4423, 4481, 4488, 4494, 4502, 4505, 4506, 4514, 4515, 4526, 4540, 4550, 4555, 4559, 4566, 4567, 4568, 4575, 4578, 4579, 4580, 4592, 4598, 4602, 4607, 4610, 4612, 4614, 4616, 4620, 4626, 4627, 4636, 4637, 4639, 4646, 4647, 4651, 4653, 4655, 4657, 4669, 4680, 4692, 4695, 4699, 4703, 4705, 4706, 4707, 4708, 4711, 4713, 4718, 4725, 4731, 4733, 4741, 4745, 4747, 4749, 4753, 4754, 4759, 4761, 4768, 4769, 4771, 4774, 4777, 4778, 4781, 4782, 4785, 4792, 4800, 4802, 4810, 4815, 4816, 4817, 4818, 4820, 4824, 4825, 4827, 4829, 4830, 4834, 4839, 4842, 4849, 4851, 4852, 4855, 4859, 4866, 4871, 4872, 4876, 4880, 4882, 4887, 4894, 4895, 4900, 4902, 4905, 4907, 4912, 4913, 4917, 4920, 4922, 4929, 4933, 4934, 4936, 4937, 4939, 4949, 4954, 4956, 4957, 4961, 4962, 4964, 4965, 4967, 4969, 4975, 4978, 4979, 4983, 4988, 4989, 4990, 4991, 4992, 4997, 4998, 5005, 5006, 5008, 5009, 5010, 5011, 5012, 5017, 5019, 5021, 5022, 5023, 5024, 5026, 5028, 5029, 5031, 5032, 5033, 5034, 5039, 5041, 5042, 5043, 5044, 5047, 5048, 5051, 5053, 5055, 5056, 5058, 5059, 5060, 5065, 5067, 5069, 5070, 5075, 5079, 5081, 5082, 5083, 5085, 5086, 5088, 5089, 5091, 5092, 5094, 5095, 5096, 5097, 5098, 5100, 5101, 5102, 5103, 5104, 5105, 5106, 5110, 5113, 5114, 5119, 5120, 5121, 5122, 5123, 5124, 5127, 5131, 5132, 5133, 5134, 5135, 5136, 5137, 5138, 5139, 5140, 5143, 5145, 5146, 5147, 5148, 5149, 5150, 5151, 5154, 5156, 5162, 5163, 5164, 5165, 5166, 5168, 5169, 5173, 5174, 5175, 5176, 5177, 5178, 5179, 5180, 5181, 5184, 5186, 5188, 5189, 5190, 5193, 5194, 5195, 5196, 5198, 5199, 5200, 5201, 5202, 5203, 5204, 5207, 5210, 5211, 5213, 5214, 5215, 5217, 5218, 5220, 5221, 5223, 5227, 5228, 5230, 5231, 5232, 5233, 5234, 5235, 5237, 5239, 5240, 5242, 5243, 5245, 5246, 5247, 5248, 5250, 5252, 5253, 5254, 5256, 5257, 5260, 5263, 5264, 5265, 5266, 5267, 5268, 5269, 5270, 5274, 5275, 5276, 5277, 5278, 5279, 5280, 5282, 5283, 5284, 5285, 5287, 5289, 5290, 5291, 5294, 5295, 5296, 5297, 5298, 5301, 5302, 5303, 5305, 5313, 5314, 5315, 5316, 5317, 5318, 5319, 5320, 5322, 5324, 5329, 5330, 5331, 5333, 5334, 5336, 5338, 5339, 5340, 5341, 5342, 5343, 5344, 5345, 5346, 5347, 5348, 5349, 5350, 5351, 5352, 5353, 5354, 5355, 5356, 5358, 5363, 5364, 5365, 5366, 5367, 5368, 5370, 5372, 5373, 5374, 5375, 5376, 5378, 5379, 5383, 5384, 5385, 5386, 5387, 5388, 5389, 5390, 5391, 5392, 5393, 5394, 5395, 5396, 5399, 5400, 5402, 5403, 5404, 5405, 5406, 5408, 5409, 5410, 5411, 5414, 5415, 5416, 5417, 5418, 5419, 5420, 5421, 5422, 5423, 5424, 5425, 5426, 5428, 5429, 5430, 5431, 5432, 5433, 5435, 5439, 5440, 5441, 5442, 5443, 5444, 5445, 5446, 5449, 5450, 5452, 5453, 5456, 5459, 5460, 5461, 5462, 5463, 5464, 5465, 5466, 5467, 5468, 5469, 5470, 5471, 5472, 5473, 5474, 5476, 5477, 5480, 5481, 5482, 5484, 5485, 5486, 5487, 5488, 5489, 5490, 5491, 5492, 5495, 5497, 5498, 5499, 5501, 5502, 5507, 5508, 5509, 5510, 5511, 5512, 5513, 5514, 5515, 5516, 5517, 5518, 5519, 5520, 5521, 5522, 5523, 5524, 5525, 5526, 5527, 5528, 5529, 5530, 5531, 5533, 5534, 5535, 5537, 5538, 5539, 5542, 5543, 5544, 5546, 5547, 5548, 5549, 5552, 5554, 5555, 5556, 5557, 5558, 5559, 5560, 5561, 5562, 5564, 5565, 5566, 5567, 5568, 5569, 5570, 5571, 5572, 5574, 5575, 5576, 5577, 5578, 5579, 5580, 5581, 5582, 5583, 5584, 5585, 5586, 5587, 5589, 5590, 5592, 5593, 5594, 5595, 5596, 5597, 5598, 5599, 5600, 5601, 5602, 5603, 5604, 5606, 5607, 5608, 5609, 5610, 5612, 5613, 5614, 5615, 5616, 5617, 5618, 5619, 5620, 5621, 5622, 5839, 5886, 5910, 5911, 5952, 5953, 5960, 5962, 5969, 5973, 5978, 5984, 5987, 5989, 5999, 6000, 6002, 6016, 6021, 6024, 6030, 6049, 6066, 6070, 6077, 6088, 6090, 6091, 6096, 6102, 6103, 6105, 6107, 6116, 6119, 6120, 6121, 6122, 6126, 6128, 6129, 6136, 6139, 6142, 6144, 6145, 6146, 6147, 6149, 6151, 6155, 6157, 6159, 6165, 6168, 6170, 6171, 6173, 6179, 6183, 6184, 6185, 6187, 6188, 6192, 6194, 6197, 6202, 6204, 6206, 6207, 6211, 6215, 6216, 6219, 6226, 6227, 6232, 6233, 6234, 6235, 6238, 6240, 6245, 6248, 6252, 6256, 6257, 6258, 6260, 6261, 6262, 6263, 6264, 6265, 6271, 6275, 6278, 6279, 6280, 6285, 6287, 6289, 6292, 6293, 6294, 6296, 6297, 6299, 6302, 6305, 6308, 6309, 6312, 6313, 6314, 6315, 6325, 6328, 6330, 6338, 6339, 6344, 6345, 6351, 6352, 6355, 6356, 6358, 6365, 6366, 6367, 6368, 6369, 6370, 6371, 6375, 6377, 6378, 6385, 6386, 6388, 6389, 6392, 6393, 6394, 6397, 6400, 6401, 6402, 6403, 6406, 6407, 6408, 6412, 6413, 6416, 6419, 6422, 6423, 6424, 6425, 6426, 6428, 6429, 6432, 6433, 6434, 6435, 6436, 6437, 6438, 6439, 6440, 6441, 6442, 6449, 6451, 6454, 6455, 6456, 6460, 6461, 6464, 6465, 6468, 6471, 6472, 6473, 6474, 6476, 6477, 6478, 6482, 6484, 6485, 6486, 6488, 6493, 6494, 6495, 6497, 6498, 6499, 6500, 6501, 6503, 6505, 6506, 6507, 6508, 6509, 6511, 6513, 6515, 6516, 6517, 6518, 6519, 6520, 6521, 6522, 6523, 6524, 6529, 6530, 6531, 6532, 6533, 6536, 6538, 6542, 6547, 6548, 6549, 6550, 6551, 6552, 6553, 6554, 6555, 6557, 6558, 6564, 6565, 6566, 6567, 6568, 6569, 6570, 6571, 6572, 6574, 6575, 6577, 6578, 6579, 6584, 6585, 6587, 6588, 6589, 6590, 6591, 6592, 6594, 6597, 6599, 6600, 6601, 6602, 6603, 6610, 6611, 6612, 6614, 6615, 6616, 6617, 6619, 6620, 6621, 6622, 6623, 6624, 6625, 6631, 6632, 6633, 6634, 6635, 6636, 6637, 6638, 6639, 6642, 6643, 6644, 6647, 6648, 6649, 6650, 6651, 6652, 6653, 6656, 6657, 6658, 6659, 6660, 6661, 6662, 6663, 6664, 6665, 6666, 6667, 6670, 6672, 6673, 6674, 6675, 6676, 6677, 6683, 6684, 6685, 6686, 6687, 6688, 6689, 6690, 6691, 6694, 6695, 6696, 6702, 6704, 6705, 6706, 6707, 6708, 6709, 6710, 6711, 6712, 6714, 6715, 6716, 6718, 6719, 6722, 6723, 6724, 6725, 6728, 6729, 6735, 6736, 6737, 6740, 6741, 6742, 6743, 6744, 6745, 6747, 6748, 6749, 6750, 6752, 6753, 6756, 6760, 6761, 6762, 6763, 6764, 6765, 6766, 6767, 6768, 6769, 6770, 6772, 6773, 6774, 6775, 6776, 6778, 6781, 6783, 6784, 6785, 6786, 6787, 6789, 6791, 6792, 6793, 6794, 6797, 6798, 6799, 6800, 6801, 6802, 6803, 6804, 6805, 6806, 6807, 6808, 6809, 6810, 6811, 6812, 6815, 6817, 6819, 6823, 6824, 6825, 6826, 6827, 6829, 6833, 6836, 6837, 6838, 6839, 6840, 6841, 6842, 6843, 6844, 6845, 6846, 6847, 6848, 6849, 6850, 6852, 6853, 6855, 6856, 6857, 6859, 6860, 6861, 6862, 6865, 6866, 6867, 6868, 6869, 6870, 6871, 6872, 6875, 6877, 6878, 6880, 6881, 6882, 6884, 6887, 6888, 6890, 6891, 6892, 6893, 6895, 6896, 6897, 6898, 6899, 6900, 6901, 6902, 6903, 6904, 6905, 6906, 6907, 6908, 6910, 6911, 6912, 6913, 6914, 6916, 6917, 6919, 6922, 6923, 6924, 6925, 6926, 6927, 6928, 6929, 6930, 6931, 6932, 6933, 6934, 6935, 6936, 6937, 6940, 6941, 6942, 6943, 6944, 6945, 6946, 6947, 6952, 6953, 6956, 6957, 6958, 6959, 6960, 6961, 6962, 6963, 6964, 6965, 6967, 6968, 6969, 6970, 6971, 6972, 6973, 6974, 6977, 6978, 6979, 6980, 6982, 6983, 6984, 6985, 6986, 6987, 6988, 6989, 6990, 6991, 6992, 6993, 6994, 6996, 6997, 6998, 6999, 7000, 7002, 7003, 7005, 7006, 7007, 7008, 7009, 7010, 7012, 7013, 7014, 7018, 7019, 7020, 7021, 7022, 7023, 7024, 7025, 7026, 7027, 7028, 7029, 7030, 7031, 7032, 7033, 7034, 7038, 7039, 7040, 7041, 7042, 7043, 7044, 7046, 7047, 7048, 7050, 7051, 7053, 7054, 7055, 7056, 7057, 7058, 7059, 7060, 7061, 7062, 7063, 7064, 7065, 7067, 7068, 7069, 7071, 7072, 7073, 7074, 7077, 7078, 7079, 7080, 7081, 7082, 7083, 7084, 7085, 7086, 7087, 7088, 7089, 7090, 7091, 7092, 7093, 7094, 7095, 7096, 7097, 7098, 7099, 7100, 7101, 7102, 7103, 7104, 7105, 7106, 7107, 7108, 7109, 7110, 7111, 7112, 7113, 7114, 7115, 7116, 7117, 7118, 7119, 7120, 7121, 7122, 7123, 7124, 7125, 7126, 7127, 7128, 7129, 7130, 7131, 7132, 7133, 7134, 7135, 7137, 7138, 7139, 7140, 7141, 7142, 7143, 7144, 7145, 7146, 7147, 7148, 7149, 7150, 7151, 7305, 7339, 7361, 7366, 7388, 7390, 7392, 7422, 7424, 7433, 7434, 7439, 7441, 7442, 7456, 7459, 7465, 7472, 7478, 7489, 7492, 7494, 7495, 7507, 7508, 7510, 7514, 7515, 7518, 7524, 7526, 7531, 7533, 7534, 7541, 7544, 7545, 7558, 7562, 7563, 7565, 7566, 7571, 7573, 7574, 7576, 7579, 7581, 7585, 7605, 7608, 7609, 7613, 7614, 7615, 7617, 7629, 7633, 7634, 7636, 7639, 7640, 7641, 7651, 7655, 7656, 7663, 7665, 7669, 7674, 7677, 7686, 7690, 7692, 7695, 7696, 7705, 7706, 7708, 7714, 7717, 7719, 7725, 7728, 7730, 7733, 7736, 7737, 7738, 7741, 7742, 7743, 7745, 7748, 7752, 7756, 7761, 7763, 7764, 7766, 7768, 7769, 7771, 7775, 7776, 7779, 7782, 7784, 7785, 7786, 7787, 7788, 7789, 7790, 7792, 7796, 7797, 7802, 7803, 7804, 7810, 7815, 7818, 7820, 7821, 7822, 7824, 7827, 7828, 7829, 7830, 7831, 7835, 7836, 7837, 7838, 7839, 7840, 7842, 7844, 7845, 7846, 7848, 7850, 7851, 7852, 7853, 7860, 7861, 7864, 7865, 7868, 7869, 7872, 7873, 7874, 7875, 7878, 7880, 7882, 7883, 7884, 7886, 7887, 7888, 7890, 7894, 7895, 7896, 7897, 7899, 7901, 7902, 7903, 7904, 7911, 7913, 7914, 7915, 7916, 7918, 7922, 7923, 7924, 7929, 7930, 7931, 7932, 7933, 7934, 7936, 7937, 7938, 7939, 7941, 7944, 7945, 7949, 7950, 7952, 7953, 7955, 7956, 7957, 7959, 7960, 7963, 7964, 7965, 7966, 7968, 7969, 7970, 7971, 7972, 7973, 7976, 7978, 7980, 7982, 7983, 7984, 7986, 7987, 7988, 7989, 7992, 7993, 7995, 7996, 7998, 7999, 8002, 8003, 8004, 8005, 8007, 8009, 8010, 8011, 8012, 8014, 8016, 8017, 8023, 8024, 8025, 8026, 8027, 8028, 8030, 8031, 8034, 8035, 8036, 8037, 8038, 8039, 8041, 8044, 8045, 8049, 8050, 8052, 8053, 8054, 8055, 8056, 8057, 8058, 8059, 8060, 8061, 8062, 8063, 8064, 8066, 8068, 8069, 8070, 8072, 8075, 8077, 8078, 8079, 8080, 8086, 8088, 8089, 8090, 8091, 8092, 8093, 8094, 8096, 8097, 8099, 8100, 8101, 8102, 8103, 8105, 8107, 8109, 8110, 8111, 8112, 8113, 8114, 8115, 8116, 8117, 8118, 8121, 8124, 8125, 8126, 8127, 8130, 8134, 8135, 8136, 8138, 8139, 8140, 8142, 8143, 8145, 8146, 8147, 8148, 8149, 8151, 8152, 8153, 8154, 8157, 8158, 8160, 8161, 8163, 8164, 8168, 8169, 8170, 8171, 8172, 8173, 8174, 8175, 8178, 8181, 8182, 8183, 8185, 8186, 8189, 8190, 8191, 8192, 8193, 8194, 8199, 8201, 8203, 8204, 8206, 8207, 8208, 8209, 8212, 8213, 8214, 8215, 8216, 8217, 8218, 8219, 8220, 8221, 8222, 8224, 8228, 8229, 8230, 8231, 8233, 8234, 8236, 8237, 8238, 8239, 8240, 8243, 8245, 8246, 8247, 8248, 8250, 8251, 8252, 8253, 8254, 8256, 8257, 8258, 8259, 8261, 8262, 8263, 8264, 8265, 8267, 8268, 8269, 8270, 8271, 8273, 8274, 8276, 8277, 8278, 8279, 8281, 8284, 8285, 8286, 8287, 8288, 8289, 8291, 8292, 8293, 8296, 8298, 8299, 8301, 8302, 8303, 8304, 8306, 8307, 8308, 8310, 8311, 8312, 8313, 8314, 8315, 8316, 8319, 8320, 8321, 8323, 8324, 8325, 8326, 8328, 8329, 8330, 8331, 8332, 8334, 8335, 8336, 8337, 8338, 8340, 8341, 8342, 8344, 8345, 8346, 8347, 8348, 8349, 8350, 8351, 8354, 8355, 8357, 8358, 8359, 8360, 8361, 8362, 8363, 8364, 8365, 8366, 8367, 8368, 8369, 8372, 8373, 8377, 8378, 8379, 8380, 8381, 8382, 8383, 8384, 8385, 8386, 8387, 8388, 8390, 8392, 8393, 8395, 8396, 8397, 8398, 8399, 8400, 8401, 8402, 8403, 8406, 8407, 8408, 8409, 8410, 8414, 8415, 8416, 8417, 8418, 8419, 8420, 8421, 8422, 8425, 8427, 8428, 8429, 8430, 8431, 8432, 8434, 8435, 8436, 8438, 8439, 8440, 8441, 8442, 8443, 8444, 8445, 8448, 8449, 8450, 8451, 8452, 8453, 8454, 8455, 8456, 8457, 8458, 8459, 8460, 8461, 8462, 8464, 8465, 8467, 8468, 8469, 8470, 8471, 8472, 8473, 8474, 8475, 8476, 8477, 8478, 8480, 8481, 8483, 8484, 8485, 8486, 8487, 8488, 8489, 8490, 8492, 8493, 8494, 8495, 8496, 8497, 8498, 8499, 8500, 8501, 8502, 8503, 8504, 8505, 8506, 8507, 8508, 8509, 8510, 8511, 8512, 8513, 8514, 8515, 8516, 8517, 8518, 8519, 8520, 8521, 8522, 8523, 8524, 8525, 8526, 8527, 8528, 8529, 8530, 8531, 8532, 8533, 8534, 8535, 8537, 8538, 8540, 8541, 8542, 8543, 8544, 8545, 8547, 8548, 8549, 8550, 8551, 8552, 8553, 8554, 8555, 8556, 8617, 8657, 8666, 8692, 8712, 8717, 8720, 8721, 8723, 8729, 8744, 8749, 8750, 8755, 8763, 8764, 8767, 8770, 8775, 8777, 8784, 8785, 8787, 8795, 8799, 8803, 8806, 8810, 8813, 8817, 8827, 8834, 8838, 8844, 8845, 8851, 8852, 8853, 8858, 8859, 8861, 8862, 8863, 8866, 8867, 8869, 8872, 8874, 8878, 8879, 8880, 8882, 8883, 8885, 8887, 8888, 8889, 8890, 8898, 8899, 8900, 8901, 8911, 8913, 8915, 8919, 8924, 8925, 8926, 8927, 8933, 8934, 8938, 8939, 8940, 8944, 8948, 8949, 8951, 8956, 8957, 8958, 8961, 8963, 8967, 8968, 8969, 8972, 8973, 8974, 8975, 8976, 8977, 8979, 8982, 8984, 8985, 8986, 8988, 8989, 8994, 8995, 8996, 8997, 8998, 8999, 9000, 9001, 9002, 9003, 9004, 9005, 9006, 9007, 9008, 9011, 9012, 9014, 9015, 9016, 9017, 9018, 9020, 9021, 9023, 9026, 9029, 9030, 9031, 9032, 9033, 9034, 9035, 9039, 9040, 9041, 9042, 9043, 9044, 9045, 9046, 9051, 9052, 9053, 9054, 9055, 9056, 9057, 9058, 9060, 9061, 9062, 9065, 9066, 9067, 9068, 9069, 9074, 9075, 9076, 9077, 9079, 9080, 9085, 9086, 9087, 9088, 9089, 9090, 9091, 9092, 9093, 9098, 9099, 9100, 9101, 9103, 9104, 9105, 9106, 9110, 9111, 9112, 9113, 9114, 9115, 9116, 9117, 9118, 9121, 9122, 9125, 9126, 9127, 9128, 9129, 9130, 9131, 9132, 9135, 9136, 9138, 9140, 9142, 9144, 9145, 9146, 9147, 9149, 9151, 9153, 9154, 9155, 9156, 9157, 9158, 9159, 9160, 9161, 9164, 9165, 9166, 9167, 9168, 9169, 9170, 9171, 9172, 9173, 9174, 9175, 9176, 9177, 9178, 9179, 9181, 9184, 9185, 9186, 9187, 9188, 9189, 9190, 9191, 9192, 9193, 9194, 9195, 9196, 9197, 9198, 9199, 9200, 9201, 9202, 9205, 9206, 9207, 9208, 9209, 9210, 9211, 9212, 9213, 9215, 9216, 9218, 9219, 9220, 9221, 9222, 9224, 9225, 9226, 9227, 9228, 9229, 9230, 9231, 9232, 9234, 9235, 9237, 9238, 9239, 9240, 9241, 9242, 9245, 9246, 9248, 9249, 9250, 9251, 9252, 9253, 9254, 9255, 9256, 9259, 9261, 9262, 9263, 9264, 9265, 9266, 9267, 9268, 9269, 9273, 9274, 9277, 9278, 9279, 9280, 9281, 9282, 9284, 9286, 9287, 9288, 9289, 9290, 9291, 9292, 9293, 9294, 9295, 9296, 9297, 9298, 9299, 9300, 9301, 9302, 9303, 9305, 9306, 9307, 9308, 9309, 9310, 9311, 9312, 9313, 9314, 9315, 9316, 9317, 9318, 9319, 9320, 9321, 9322, 9323, 9324, 9325, 9326, 9327, 9328, 9329, 9330, 9331, 9332, 9333, 9334, 9335, 9336, 9337, 9338, 9339, 9340, 9341, 9342, 9343, 9344, 9345, 9346, 9347, 9348, 9349, 9350, 9351, 9352, 9472, 9528, 9534, 9536, 9538, 9556, 9558, 9571, 9572, 9584, 9593, 9595, 9596, 9603, 9610, 9613, 9621, 9630, 9632, 9636, 9642, 9643, 9647, 9651, 9656, 9659, 9662, 9667, 9671, 9678, 9681, 9686, 9688, 9691, 9694, 9697, 9698, 9701, 9704, 9705, 9706, 9708, 9709, 9711, 9713, 9714, 9718, 9719, 9721, 9724, 9725, 9726, 9727, 9729, 9740, 9741, 9743, 9745, 9746, 9748, 9749, 9752, 9756, 9757, 9758, 9759, 9760, 9764, 9767, 9768, 9770, 9772, 9773, 9775, 9776, 9778, 9779, 9780, 9781, 9783, 9784, 9787, 9793, 9795, 9796, 9797, 9798, 9799, 9801, 9802, 9804, 9805, 9806, 9810, 9814, 9815, 9819, 9820, 9821, 9825, 9827, 9828, 9829, 9831, 9832, 9833, 9834, 9837, 9840, 9841, 9842, 9846, 9850, 9851, 9853, 9854, 9855, 9856, 9857, 9859, 9861, 9863, 9866, 9869, 9870, 9871, 9872, 9873, 9874, 9876, 9877, 9878, 9879, 9881, 9882, 9883, 9884, 9885, 9886, 9890, 9892, 9894, 9895, 9897, 9898, 9899, 9900, 9901, 9902, 9903, 9904, 9906, 9907, 9910, 9912, 9914, 9917, 9923, 9924, 9925, 9926, 9928, 9929, 9930, 9931, 9932, 9933, 9937, 9938, 9940, 9941, 9944, 9945, 9946, 9949, 9950, 9951, 9952, 9953, 9954, 9955, 9956, 9957, 9959, 9960, 9961, 9962, 9963, 9964, 9970, 9971, 9972, 9973, 9974, 9975, 9977, 9980, 9981, 9982, 9983, 9984, 9985, 9986, 9987, 9988, 9989, 9990, 9991, 9992, 9993, 9994, 9995, 9996, 9997, 9998, 9999, 10002, 10004, 10006, 10007, 10008, 10009, 10010, 10011, 10012, 10013, 10014, 10015, 10016, 10017, 10018, 10019, 10020, 10021, 10022, 10024, 10025, 10026, 10029, 10031, 10032, 10033, 10034, 10036, 10037, 10038, 10039, 10040, 10041, 10042, 10043, 10044, 10045, 10046, 10049, 10050, 10051, 10053, 10054, 10055, 10056, 10057, 10058, 10059, 10060, 10063, 10064, 10065, 10066, 10067, 10068, 10070, 10071, 10072, 10073, 10074, 10075, 10076, 10077, 10078, 10079, 10080, 10081, 10082, 10083, 10084, 10085, 10086, 10088, 10089, 10090, 10091, 10092, 10093, 10094, 10095, 10097, 10098, 10099, 10100, 10102, 10103, 10104, 10105, 10106, 10107, 10108, 10109, 10110, 10111, 10113, 10115, 10116, 10117, 10118, 10119, 10120, 10122, 10123, 10124, 10125, 10126, 10127, 10280, 10309, 10343, 10344, 10348, 10355, 10360, 10361, 10363, 10378, 10381, 10383, 10387, 10408, 10410, 10413, 10421, 10423, 10428, 10429, 10430, 10435, 10436, 10437, 10441, 10442, 10445, 10447, 10449, 10451, 10453, 10456, 10460, 10463, 10464, 10466, 10468, 10471, 10473, 10475, 10476, 10482, 10487, 10491, 10492, 10495, 10500, 10503, 10504, 10505, 10506, 10509, 10512, 10514, 10515, 10518, 10519, 10521, 10522, 10523, 10525, 10526, 10530, 10531, 10532, 10533, 10536, 10541, 10545, 10547, 10551, 10552, 10553, 10554, 10555, 10557, 10558, 10561, 10562, 10568, 10571, 10573, 10574, 10575, 10578, 10582, 10583, 10584, 10585, 10586, 10588, 10589, 10592, 10593, 10595, 10596, 10598, 10601, 10602, 10603, 10604, 10606, 10612, 10613, 10614, 10616, 10617, 10618, 10620, 10621, 10623, 10624, 10625, 10626, 10627, 10630, 10631, 10632, 10635, 10636, 10637, 10638, 10639, 10642, 10643, 10644, 10645, 10646, 10648, 10649, 10650, 10653, 10654, 10656, 10657, 10658, 10659, 10661, 10662, 10666, 10667, 10669, 10670, 10671, 10672, 10674, 10675, 10676, 10677, 10678, 10679, 10680, 10682, 10683, 10686, 10687, 10688, 10689, 10692, 10693, 10694, 10695, 10696, 10698, 10699, 10700, 10701, 10702, 10704, 10708, 10709, 10710, 10711, 10712, 10713, 10714, 10715, 10718, 10719, 10723, 10724, 10725, 10726, 10728, 10729, 10730, 10732, 10733, 10734, 10735, 10736, 10737, 10738, 10739, 10742, 10743, 10744, 10745, 10746, 10747, 10750, 10751, 10752, 10753, 10754, 10755, 10756, 10757, 10758, 10759, 10760, 10762, 10765, 10768, 10769, 10770, 10772, 10774, 10775, 10776, 10777, 10779, 10780, 10781, 10783, 10784, 10785, 10786, 10788, 10790, 10791, 10792, 10793, 10794, 10796, 10797, 10798, 10799, 10800, 10801, 10803, 10805, 10806, 10807, 10808, 10809, 10810, 10812, 10813, 10815, 10816, 10817, 10818, 10819, 10820, 10821, 10822, 10824, 10825, 10827, 10828, 10831, 10832, 10833, 10834, 10835, 10836, 10837, 10838, 10839, 10840, 10842, 10843, 10844, 10845, 10846, 10847, 10848, 10849, 10850, 10851, 10852, 10853, 10854, 10857, 10858, 10859, 10860, 10861, 10862, 10863, 10864, 10865, 10866, 10867, 10868, 10869, 10870, 10871, 10872, 10873, 10874, 10875, 10876, 10877, 10878, 10879, 10880, 10881, 10882, 10883, 10885, 10886, 10887, 10888, 10889, 10890, 10999, 11047, 11056, 11072, 11079, 11081, 11084, 11085, 11090, 11102, 11107, 11113, 11116, 11119, 11120, 11125, 11130, 11136, 11138, 11140, 11145, 11148, 11150, 11154, 11156, 11158, 11161, 11162, 11167, 11170, 11173, 11175, 11176, 11178, 11185, 11198, 11204, 11208, 11209, 11210, 11211, 11216, 11217, 11218, 11223, 11227, 11229, 11230, 11231, 11233, 11236, 11237, 11238, 11239, 11241, 11242, 11243, 11245, 11247, 11249, 11250, 11255, 11256, 11258, 11262, 11263, 11264, 11265, 11266, 11271, 11273, 11276, 11278, 11282, 11283, 11284, 11287, 11288, 11292, 11293, 11297, 11298, 11300, 11302, 11305, 11307, 11309, 11311, 11312, 11313, 11314, 11315, 11316, 11318, 11320, 11323, 11324, 11326, 11327, 11328, 11332, 11333, 11334, 11335, 11336, 11338, 11339, 11340, 11341, 11342, 11343, 11345, 11347, 11348, 11349, 11350, 11351, 11352, 11354, 11355, 11356, 11358, 11359, 11360, 11367, 11368, 11371, 11372, 11373, 11374, 11375, 11377, 11378, 11379, 11380, 11381, 11384, 11385, 11387, 11388, 11389, 11391, 11392, 11393, 11394, 11395, 11396, 11397, 11399, 11400, 11401, 11402, 11403, 11404, 11405, 11406, 11407, 11408, 11409, 11411, 11412, 11413, 11414, 11418, 11419, 11420, 11421, 11425, 11427, 11428, 11429, 11430, 11431, 11432, 11433, 11435, 11436, 11437, 11438, 11439, 11440, 11441, 11442, 11443, 11444, 11446, 11447, 11448, 11449, 11450, 11451, 11452, 11453, 11454, 11455, 11457, 11458, 11459, 11460, 11461, 11462, 11463, 11464, 11465, 11466, 11467, 11468, 11469, 11470, 11471, 11473, 11474, 11475, 11476, 11477, 11478, 11479, 11480, 11481, 11482, 11483, 11485, 11486, 11487, 11488, 11489, 11490, 11491, 11492, 11493, 11494, 11495, 11496, 11497, 11498, 11499, 11500, 11501, 11502, 11503, 11504, 11505, 11506, 11507, 11508, 11509, 11510, 11511, 11512, 11513, 11514, 11515, 11516, 11555, 11582, 11603, 11606, 11614, 11621, 11623, 11627, 11628, 11629, 11640, 11641, 11644, 11645, 11647, 11656, 11659, 11660, 11661, 11671, 11674, 11675, 11676, 11681, 11683, 11684, 11693, 11695, 11700, 11702, 11708, 11710, 11714, 11716, 11722, 11724, 11726, 11727, 11729, 11730, 11731, 11733, 11737, 11744, 11748, 11749, 11750, 11754, 11756, 11757, 11758, 11762, 11766, 11768, 11770, 11773, 11774, 11775, 11777, 11778, 11779, 11782, 11784, 11785, 11788, 11789, 11791, 11792, 11794, 11795, 11799, 11800, 11803, 11805, 11807, 11809, 11810, 11815, 11816, 11817, 11818, 11819, 11820, 11821, 11827, 11828, 11829, 11831, 11832, 11833, 11834, 11835, 11838, 11840, 11841, 11842, 11843, 11844, 11845, 11847, 11849, 11850, 11856, 11857, 11859, 11860, 11862, 11864, 11867, 11868, 11870, 11871, 11872, 11873, 11874, 11876, 11878, 11879, 11882, 11883, 11884, 11887, 11888, 11889, 11892, 11893, 11895, 11898, 11899, 11900, 11902, 11903, 11904, 11905, 11907, 11909, 11910, 11911, 11913, 11914, 11915, 11917, 11918, 11919, 11920, 11923, 11926, 11928, 11929, 11930, 11933, 11934, 11936, 11938, 11939, 11940, 11943, 11944, 11945, 11946, 11947, 11948, 11949, 11950, 11951, 11952, 11953, 11954, 11955, 11957, 11958, 11960, 11961, 11963, 11964, 11965, 11966, 11969, 11970, 11971, 11973, 11974, 11975, 11977, 11978, 11979, 11981, 11983, 11985, 11988, 11989, 11990, 11991, 11994, 11996, 11997, 11998, 11999, 12000, 12002, 12003, 12004, 12005, 12006, 12008, 12009, 12010, 12012, 12013, 12014, 12016, 12017, 12019, 12021, 12022, 12023, 12024, 12025, 12026, 12027, 12028, 12029, 12030, 12031, 12032, 12035, 12036, 12037, 12038, 12039, 12040, 12041, 12043, 12044, 12045, 12046, 12047, 12048, 12050, 12051, 12052, 12053, 12057, 12058, 12060, 12062, 12063, 12064, 12066, 12067, 12068, 12069, 12070, 12071, 12072, 12073, 12074, 12075, 12076, 12077, 12079, 12081, 12082, 12083, 12084, 12085, 12087, 12088, 12089, 12090, 12091, 12092, 12093, 12094, 12095, 12096, 12097, 12098, 12099, 12100, 12101, 12102, 12103, 12104, 12105, 12106, 12107, 12108, 12109, 12110, 12111, 12112, 12113, 12114, 12115, 12116, 12168, 12190, 12196, 12200, 12203, 12211, 12212, 12220, 12223, 12239, 12249, 12251, 12255, 12257, 12262, 12268, 12271, 12273, 12274, 12275, 12278, 12285, 12286, 12288, 12291, 12292, 12303, 12305, 12308, 12317, 12318, 12319, 12321, 12323, 12324, 12325, 12326, 12327, 12328, 12330, 12334, 12340, 12341, 12343, 12345, 12348, 12349, 12350, 12352, 12354, 12358, 12359, 12360, 12363, 12365, 12366, 12367, 12370, 12371, 12374, 12375, 12376, 12378, 12381, 12382, 12385, 12386, 12387, 12392, 12394, 12397, 12398, 12400, 12402, 12403, 12405, 12406, 12409, 12410, 12411, 12413, 12415, 12416, 12418, 12419, 12420, 12422, 12423, 12425, 12426, 12428, 12430, 12433, 12434, 12435, 12436, 12438, 12440, 12441, 12442, 12444, 12446, 12447, 12448, 12449, 12451, 12453, 12454, 12455, 12460, 12465, 12469, 12470, 12471, 12473, 12475, 12476, 12477, 12478, 12480, 12482, 12484, 12485, 12486, 12487, 12488, 12489, 12490, 12491, 12494, 12495, 12496, 12497, 12498, 12499, 12500, 12501, 12502, 12503, 12506, 12507, 12508, 12509, 12511, 12512, 12515, 12518, 12522, 12523, 12524, 12525, 12526, 12527, 12528, 12530, 12531, 12532, 12533, 12535, 12536, 12537, 12538, 12539, 12540, 12541, 12543, 12544, 12546, 12547, 12549, 12550, 12551, 12552, 12553, 12554, 12555, 12556, 12557, 12558, 12561, 12562, 12564, 12565, 12567, 12568, 12569, 12570, 12571, 12572, 12573, 12574, 12575, 12576, 12577, 12578, 12579, 12580, 12581, 12582, 12583, 12584, 12585, 12586, 12589, 12590, 12591, 12592, 12594, 12598, 12599, 12600, 12601, 12602, 12604, 12605, 12607, 12608, 12609, 12610, 12611, 12614, 12615, 12616, 12617, 12618, 12619, 12620, 12622, 12623, 12624, 12625, 12626, 12629, 12630, 12631, 12632, 12633, 12635, 12637, 12638, 12639, 12640, 12641, 12642, 12643, 12644, 12645, 12646, 12647, 12648, 12649, 12650, 12651, 12652, 12653, 12654, 12655, 12656, 12657, 12658, 12659, 12660, 12661, 12662, 12664, 12665, 12666, 12667, 12669, 12670, 12671, 12672, 12673, 12674, 12761, 12785, 12792, 12797, 12803, 12832, 12836, 12845, 12851, 12854, 12857, 12863, 12864, 12866, 12867, 12869, 12870, 12875, 12880, 12882, 12883, 12886, 12889, 12891, 12893, 12897, 12899, 12903, 12904, 12906, 12910, 12924, 12925, 12928, 12930, 12935, 12938, 12939, 12942, 12946, 12947, 12949, 12951, 12952, 12953, 12954, 12957, 12959, 12962, 12963, 12967, 12969, 12971, 12972, 12973, 12974, 12975, 12979, 12981, 12983, 12984, 12987, 12992, 12993, 12994, 12995, 12996, 13001, 13002, 13004, 13005, 13006, 13008, 13009, 13010, 13011, 13012, 13013, 13015, 13016, 13017, 13019, 13022, 13024, 13025, 13026, 13027, 13029, 13035, 13036, 13037, 13039, 13040, 13042, 13043, 13045, 13047, 13048, 13049, 13051, 13052, 13053, 13054, 13056, 13057, 13059, 13061, 13062, 13064, 13065, 13066, 13068, 13069, 13070, 13071, 13075, 13076, 13077, 13078, 13079, 13080, 13083, 13084, 13085, 13086, 13087, 13091, 13092, 13093, 13094, 13095, 13098, 13099, 13100, 13101, 13102, 13103, 13104, 13105, 13106, 13107, 13109, 13110, 13111, 13112, 13113, 13115, 13116, 13117, 13118, 13119, 13120, 13121, 13122, 13123, 13124, 13125, 13126, 13127, 13128, 13129, 13131, 13133, 13134, 13135, 13136, 13137, 13139, 13140, 13141, 13142, 13143, 13144, 13145, 13146, 13147, 13148, 13149, 13150, 13151, 13152, 13153, 13154, 13155, 13156, 13157, 13158, 13159, 13160, 13161, 13163, 13164, 13165, 13166, 13167, 13168, 13170, 13171, 13172, 13173, 13175, 13176, 13177, 13178, 13179, 13180, 13181, 13182, 13183, 13185, 13186, 13187, 13188, 13189, 13190, 13191, 13192, 13193, 13194, 13195, 13196, 13197, 13198, 13199, 13200, 13201, 13202, 13204, 13205, 13206, 13207, 13208, 13209, 13210, 13211, 13212, 13213, 13214, 13215, 13216, 13217, 13218, 13219, 13220, 13221, 13222, 13296, 13314, 13315, 13320, 13322, 13325, 13330, 13331, 13334, 13335, 13339, 13349, 13353, 13359, 13377, 13381, 13383, 13385, 13386, 13387, 13393, 13396, 13397, 13401, 13405, 13408, 13409, 13412, 13415, 13418, 13420, 13426, 13430, 13432, 13434, 13440, 13444, 13445, 13446, 13447, 13448, 13449, 13454, 13455, 13457, 13459, 13460, 13461, 13462, 13466, 13470, 13473, 13474, 13475, 13478, 13480, 13481, 13482, 13483, 13485, 13486, 13487, 13488, 13491, 13492, 13498, 13499, 13500, 13501, 13503, 13505, 13507, 13509, 13513, 13514, 13515, 13516, 13519, 13523, 13524, 13525, 13526, 13527, 13528, 13530, 13533, 13534, 13537, 13539, 13541, 13542, 13543, 13548, 13549, 13551, 13552, 13553, 13556, 13557, 13558, 13559, 13560, 13561, 13562, 13563, 13565, 13566, 13567, 13568, 13569, 13572, 13573, 13574, 13575, 13578, 13580, 13581, 13582, 13583, 13584, 13586, 13587, 13589, 13590, 13591, 13592, 13595, 13598, 13599, 13600, 13601, 13604, 13605, 13606, 13608, 13609, 13610, 13612, 13613, 13615, 13616, 13617, 13618, 13619, 13620, 13621, 13624, 13627, 13629, 13631, 13632, 13633, 13634, 13636, 13637, 13638, 13640, 13641, 13644, 13647, 13649, 13650, 13651, 13652, 13653, 13654, 13655, 13656, 13657, 13658, 13660, 13661, 13663, 13664, 13665, 13666, 13667, 13668, 13669, 13670, 13671, 13672, 13673, 13674, 13675, 13677, 13678, 13679, 13680, 13681, 13682, 13684, 13685, 13686, 13687, 13689, 13690, 13691, 13692, 13693, 13694, 13695, 13697, 13699, 13700, 13701, 13702, 13703, 13704, 13705, 13706, 13707, 13708, 13709, 13710, 13711, 13712, 13713, 13715, 13716, 13717, 13718, 13719, 13720, 13721, 13722, 13723, 13724, 13725, 13726, 13727, 13728, 13729, 13730, 13731, 13732, 13733, 13734, 13735, 13736, 13737, 13738, 13739, 13740, 13741, 13742, 13743, 13744, 13745, 13746, 13748, 13749, 13750, 13751, 13752, 13753, 13754, 13755, 13793, 13799, 13817, 13818, 13823, 13834, 13837, 13840, 13841, 13844, 13845, 13848, 13849, 13855, 13857, 13862, 13863, 13864, 13867, 13871, 13876, 13878, 13880, 13881, 13883, 13885, 13891, 13892, 13894, 13895, 13896, 13897, 13899, 13900, 13905, 13909, 13911, 13912, 13913, 13914, 13917, 13919, 13922, 13923, 13924, 13927, 13928, 13931, 13932, 13933, 13936, 13937, 13938, 13939, 13941, 13943, 13944, 13946, 13947, 13949, 13952, 13954, 13955, 13956, 13960, 13962, 13963, 13966, 13967, 13969, 13970, 13976, 13979, 13985, 13986, 13988, 13989, 13990, 13991, 13993, 13994, 13995, 13999, 14003, 14005, 14007, 14008, 14012, 14014, 14015, 14016, 14017, 14018, 14019, 14020, 14022, 14023, 14024, 14029, 14030, 14032, 14033, 14035, 14036, 14038, 14040, 14042, 14052, 14053, 14055, 14056, 14057, 14058, 14059, 14060, 14062, 14063, 14064, 14065, 14070, 14071, 14072, 14073, 14075, 14077, 14078, 14079, 14082, 14083, 14084, 14085, 14086, 14087, 14088, 14090, 14091, 14092, 14093, 14094, 14095, 14098, 14100, 14101, 14104, 14105, 14106, 14109, 14110, 14115, 14117, 14118, 14119, 14120, 14121, 14122, 14123, 14124, 14126, 14127, 14128, 14129, 14133, 14134, 14137, 14138, 14139, 14140, 14141, 14142, 14143, 14144, 14145, 14146, 14147, 14148, 14149, 14150, 14151, 14152, 14156, 14158, 14159, 14160, 14161, 14162, 14164, 14165, 14166, 14167, 14170, 14172, 14173, 14174, 14175, 14176, 14178, 14180, 14181, 14182, 14183, 14185, 14186, 14187, 14188, 14189, 14190, 14191, 14195, 14196, 14198, 14199, 14201, 14202, 14203, 14207, 14208, 14209, 14210, 14211, 14212, 14213, 14214, 14215, 14216, 14217, 14218, 14219, 14220, 14221, 14222, 14223, 14224, 14225, 14226, 14227, 14228, 14230, 14231, 14232, 14233, 14234, 14235, 14236, 14237, 14238, 14239, 14240, 14241, 14242, 14244, 14245, 14246, 14247, 14248, 14249, 14250, 14251, 14252, 14253, 14254, 14255, 14256, 14257, 14258, 14259, 14260, 14337, 14367, 14385, 14407, 14409, 14420, 14421, 14432, 14436, 14437, 14439, 14442, 14449, 14450, 14451, 14458, 14459, 14462, 14463, 14464, 14467, 14469, 14471, 14475, 14479, 14480, 14482, 14483, 14484, 14485, 14490, 14493, 14496, 14498, 14499, 14501, 14503, 14508, 14511, 14513, 14514, 14516, 14519, 14522, 14523, 14528, 14529, 14530, 14533, 14539, 14540, 14544, 14550, 14552, 14558, 14559, 14560, 14563, 14567, 14568, 14571, 14572, 14574, 14575, 14576, 14578, 14579, 14580, 14582, 14584, 14585, 14586, 14590, 14599, 14602, 14603, 14605, 14606, 14607, 14609, 14611, 14612, 14613, 14614, 14615, 14616, 14617, 14618, 14619, 14623, 14626, 14627, 14628, 14629, 14630, 14631, 14633, 14634, 14635, 14636, 14637, 14638, 14640, 14642, 14643, 14644, 14645, 14646, 14647, 14648, 14649, 14650, 14651, 14652, 14655, 14656, 14657, 14659, 14660, 14663, 14664, 14665, 14666, 14667, 14669, 14670, 14671, 14673, 14674, 14675, 14677, 14678, 14679, 14681, 14683, 14685, 14686, 14687, 14688, 14689, 14690, 14691, 14692, 14693, 14694, 14695, 14696, 14697, 14700, 14702, 14703, 14704, 14705, 14706, 14707, 14708, 14709, 14710, 14711, 14712, 14713, 14714, 14715, 14716, 14717, 14718, 14719, 14720, 14721, 14722, 14724, 14725, 14726, 14727, 14728, 14729, 14730, 14731, 14732, 14846, 14866, 14886, 14887, 14889, 14897, 14898, 14918, 14920, 14925, 14926, 14928, 14931, 14932, 14933, 14937, 14940, 14941, 14944, 14946, 14948, 14952, 14958, 14959, 14963, 14964, 14966, 14968, 14969, 14971, 14972, 14974, 14975, 14978, 14979, 14980, 14986, 14989, 14990, 14991, 14992, 14994, 14998, 15000, 15002, 15003, 15005, 15006, 15008, 15010, 15011, 15012, 15014, 15019, 15020, 15021, 15022, 15023, 15024, 15025, 15026, 15028, 15029, 15030, 15032, 15033, 15034, 15035, 15037, 15038, 15040, 15041, 15042, 15043, 15044, 15045, 15046, 15047, 15049, 15050, 15051, 15052, 15053, 15055, 15056, 15058, 15059, 15060, 15061, 15065, 15066, 15068, 15071, 15074, 15075, 15076, 15077, 15078, 15079, 15081, 15082, 15085, 15087, 15088, 15089, 15090, 15091, 15093, 15094, 15096, 15098, 15099, 15100, 15101, 15102, 15103, 15104, 15106, 15109, 15110, 15111, 15112, 15113, 15114, 15115, 15116, 15117, 15118, 15119, 15121, 15122, 15123, 15124, 15125, 15126, 15127, 15128, 15129, 15130, 15131, 15132, 15133, 15135, 15136, 15179, 15200, 15202, 15206, 15209, 15214, 15218, 15220, 15221, 15225, 15233, 15234, 15236, 15237, 15238, 15240, 15243, 15245, 15248, 15249, 15250, 15252, 15256, 15258, 15260, 15261, 15262, 15263, 15264, 15265, 15266, 15267, 15270, 15271, 15272, 15273, 15279, 15281, 15283, 15287, 15288, 15293, 15295, 15298, 15299, 15300, 15301, 15302, 15303, 15304, 15305, 15306, 15307, 15309, 15310, 15311, 15312, 15313, 15314, 15316, 15317, 15318, 15319, 15320, 15323, 15324, 15327, 15329, 15330, 15331, 15332, 15335, 15336, 15337, 15338, 15339, 15342, 15343, 15344, 15347, 15349, 15350, 15351, 15353, 15357, 15358, 15359, 15361, 15362, 15363, 15364, 15365, 15366, 15368, 15369, 15370, 15372, 15373, 15374, 15375, 15376, 15377, 15379, 15380, 15381, 15382, 15383, 15384, 15386, 15387, 15388, 15389, 15390, 15391, 15392, 15393, 15394, 15395, 15396, 15397, 15398, 15399, 15400, 15401, 15402, 15403, 15404, 15405, 15406, 15407, 15408, 15409, 15410, 15411, 15412, 15414, 15415, 15416, 15417, 15418, 15419, 15420, 15421, 15422, 15423, 15424, 15425, 15426, 15427, 15535, 15542, 15550, 15555, 15575, 15586, 15588, 15589, 15592, 15597, 15598, 15610, 15614, 15617, 15618, 15621, 15623, 15626, 15628, 15629, 15631, 15632, 15636, 15637, 15638, 15640, 15641, 15642, 15643, 15644, 15645, 15646, 15647, 15649, 15651, 15654, 15655, 15657, 15658, 15660, 15662, 15664, 15665, 15668, 15669, 15670, 15672, 15673, 15674, 15675, 15676, 15678, 15679, 15680, 15681, 15683, 15684, 15685, 15686, 15687, 15688, 15689, 15691, 15692, 15693, 15694, 15696, 15697, 15698, 15699, 15700, 15701, 15702, 15703, 15704, 15705, 15728, 15740, 15746, 15757, 15763, 15767, 15770, 15771, 15778, 15779, 15788, 15792, 15806, 15809, 15811, 15815, 15820, 15821, 15825, 15826, 15828, 15829, 15830, 15837, 15840, 15841, 15848, 15849, 15851, 15855, 15856, 15857, 15860, 15863, 15864, 15866, 15867, 15869, 15870, 15871, 15873, 15874, 15877, 15879, 15881, 15882, 15883, 15885, 15886, 15888, 15890, 15891, 15895, 15897, 15900, 15901, 15903, 15904, 15905, 15906, 15909, 15910, 15911, 15912, 15913, 15915, 15916, 15917, 15919, 15920, 15921, 15924, 15925, 15926, 15928, 15929, 15930, 15931, 15932, 15933, 15934, 15935, 15936, 15937, 15939, 15940, 15941, 15943, 15944, 15945, 15946, 15947, 15948, 15950, 15951, 15952, 15954, 15956, 15957, 15958, 15959, 15960, 15961, 15962, 15963, 15964, 15965, 15966, 15968, 15969, 15970, 15971, 15972, 15973, 15974, 15975, 15976, 15977, 15978, 16040, 16054, 16058, 16059, 16061, 16065, 16075, 16079, 16080, 16083, 16085, 16089, 16090, 16093, 16099, 16101, 16105, 16107, 16110, 16112, 16113, 16114, 16116, 16118, 16119, 16120, 16123, 16127, 16129, 16130, 16131, 16133, 16134, 16135, 16136, 16137, 16138, 16140, 16141, 16143, 16144, 16145, 16148, 16149, 16150, 16153, 16154, 16156, 16157, 16158, 16161, 16163, 16164, 16165, 16168, 16170, 16171, 16172, 16173, 16174, 16175, 16177, 16178, 16179, 16182, 16183, 16185, 16186, 16188, 16189, 16190, 16191, 16192, 16193, 16194, 16195, 16196, 16197, 16198, 16199, 16202, 16204, 16207, 16208, 16209, 16210, 16211, 16213, 16214, 16216, 16217, 16218, 16220, 16222, 16223, 16224, 16225, 16227, 16228, 16229, 16230, 16231, 16232, 16234, 16235, 16238, 16239, 16240, 16241, 16242, 16243, 16244, 16245, 16246, 16311, 16315, 16317, 16321, 16323, 16325, 16329, 16330, 16333, 16335, 16339, 16340, 16344, 16347, 16349, 16352, 16354, 16355, 16356, 16360, 16361, 16369, 16370, 16375, 16379, 16380, 16381, 16382, 16385, 16387, 16388, 16392, 16393, 16397, 16399, 16403, 16404, 16405, 16406, 16407, 16408, 16409, 16411, 16412, 16413, 16414, 16416, 16419, 16424, 16425, 16426, 16428, 16429, 16431, 16432, 16433, 16435, 16436, 16437, 16440, 16441, 16442, 16443, 16446, 16448, 16449, 16450, 16451, 16452, 16453, 16454, 16456, 16457, 16458, 16461, 16462, 16463, 16464, 16465, 16466, 16467, 16468, 16469, 16470, 16472, 16473, 16474, 16475, 16476, 16477, 16478, 16480, 16481, 16482, 16483, 16484, 16486, 16487, 16488, 16489, 16490, 16491, 16492, 16493, 16494, 16495, 16576, 16577, 16582, 16591, 16592, 16594, 16600, 16601, 16602, 16608, 16617, 16619, 16622, 16628, 16631, 16632, 16634, 16638, 16641, 16642, 16644, 16645, 16646, 16648, 16650, 16651, 16652, 16653, 16654, 16655, 16656, 16657, 16658, 16659, 16661, 16662, 16663, 16664, 16666, 16667, 16668, 16669, 16670, 16671, 16674, 16676, 16677, 16678, 16680, 16681, 16683, 16684, 16685, 16686, 16687, 16688, 16692, 16693, 16694, 16695, 16699, 16700, 16701, 16702, 16703, 16704, 16706, 16707, 16708, 16709, 16710, 16711, 16712, 16713, 16714, 16717, 16718, 16719, 16721, 16723, 16724, 16725, 16726, 16727, 16728, 16729, 16730, 16731, 16732, 16733, 16734, 16735, 16736, 16737, 16738, 16739, 16740, 16741, 16785, 16800, 16812, 16821, 16822, 16832, 16833, 16834, 16836, 16837, 16841, 16845, 16846, 16849, 16850, 16852, 16855, 16856, 16863, 16864, 16865, 16869, 16870, 16872, 16873, 16875, 16876, 16877, 16879, 16880, 16882, 16883, 16884, 16886, 16888, 16889, 16892, 16893, 16894, 16895, 16898, 16899, 16900, 16902, 16905, 16907, 16909, 16911, 16912, 16913, 16915, 16916, 16917, 16918, 16919, 16920, 16922, 16923, 16924, 16925, 16928, 16929, 16930, 16931, 16932, 16933, 16934, 16935, 16937, 16939, 16940, 16941, 16942, 16943, 16944, 16945, 16946, 16947, 16948, 16949, 16950, 16951, 16952, 16953, 16954, 16955, 16956, 16958, 16959, 16960, 16961, 16962, 16963, 16965, 16966, 16967, 16968, 16969, 16970, 16971, 16972, 16973, 16974, 16976, 16977, 16978, 16979, 16980, 16981, 16982, 16983, 16984, 17012, 17020, 17030, 17036, 17037, 17041, 17043, 17045, 17048, 17051, 17054, 17055, 17057, 17059, 17064, 17069, 17073, 17077, 17080, 17085, 17086, 17088, 17089, 17090, 17091, 17092, 17093, 17094, 17095, 17096, 17097, 17098, 17099, 17100, 17102, 17103, 17105, 17106, 17108, 17109, 17111, 17112, 17114, 17116, 17119, 17121, 17122, 17123, 17126, 17127, 17128, 17129, 17130, 17131, 17132, 17133, 17134, 17135, 17136, 17139, 17140, 17141, 17142, 17144, 17147, 17148, 17149, 17150, 17152, 17154, 17155, 17156, 17157, 17158, 17160, 17161, 17162, 17163, 17165, 17166, 17167, 17168, 17169, 17170, 17171, 17172, 17173, 17174, 17176, 17177, 17179, 17181, 17182, 17183, 17184, 17185, 17186, 17187, 17189, 17190, 17191, 17192, 17193, 17194, 17195, 17196, 17197, 17198, 17199, 17200, 17201, 17274, 17285, 17293, 17295, 17298, 17300, 17301, 17302, 17303, 17307, 17310, 17311, 17312, 17313, 17315, 17316, 17319, 17321, 17325, 17327, 17328, 17329, 17330, 17332, 17339, 17341, 17342, 17346, 17347, 17349, 17350, 17351, 17352, 17356, 17358, 17360, 17362, 17363, 17364, 17365, 17369, 17370, 17372, 17373, 17375, 17376, 17377, 17379, 17380, 17381, 17384, 17385, 17386, 17388, 17389, 17390, 17391, 17394, 17395, 17396, 17397, 17399, 17401, 17402, 17403, 17404, 17405, 17407, 17408, 17409, 17410, 17411, 17427, 17434, 17449, 17450, 17455, 17465, 17467, 17470, 17473, 17480, 17481, 17485, 17486, 17492, 17496, 17500, 17502, 17503, 17506, 17507, 17508, 17509, 17510, 17512, 17519, 17522, 17523, 17524, 17527, 17530, 17532, 17536, 17537, 17538, 17541, 17542, 17544, 17545, 17546, 17551, 17552, 17553, 17556, 17557, 17558, 17560, 17561, 17562, 17563, 17564, 17567, 17568, 17569, 17574, 17577, 17578, 17579, 17580, 17581, 17582, 17583, 17584, 17585, 17587, 17589, 17592, 17594, 17595, 17596, 17597, 17599, 17600, 17602, 17603, 17604, 17605, 17606, 17607, 17608, 17609, 17610, 17611, 17612, 17614, 17615, 17617, 17618, 17619, 17620, 17636, 17646, 17653, 17663, 17676, 17678, 17679, 17680, 17682, 17688, 17692, 17695, 17699, 17702, 17705, 17708, 17712, 17713, 17714, 17715, 17716, 17717, 17719, 17722, 17723, 17726, 17727, 17729, 17730, 17735, 17736, 17738, 17739, 17740, 17741, 17742, 17743, 17746, 17747, 17749, 17752, 17753, 17755, 17757, 17758, 17759, 17760, 17761, 17762, 17763, 17765, 17767, 17768, 17770, 17771, 17773, 17774, 17777, 17778, 17779, 17780, 17782, 17783, 17785, 17786, 17787, 17788, 17789, 17791, 17792, 17793, 17795, 17796, 17799, 17800, 17801, 17802, 17803, 17804, 17805, 17806, 17807, 17808, 17809, 17810, 17811, 17812, 17813, 17814, 17815, 17816, 17817, 17818, 17819, 17830, 17849, 17850, 17854, 17856, 17858, 17859, 17863, 17867, 17870, 17874, 17875, 17876, 17877, 17880, 17881, 17882, 17883, 17885, 17886, 17887, 17891, 17893, 17894, 17895, 17896, 17897, 17898, 17903, 17904, 17905, 17907, 17908, 17909, 17912, 17913, 17914, 17915, 17916, 17917, 17918, 17919, 17920, 17921, 17923, 17924, 17925, 17926, 17928, 17929, 17930, 17931, 17932, 17933, 17934, 17936, 17937, 17938, 17939, 17941, 17942, 17943, 17945, 17946, 17947, 17948, 17949, 17951, 17952, 17953, 17954, 17957, 17958, 17959, 17960, 17961, 17962, 17963, 17964, 17965, 17966, 17967, 17968, 17969, 17970, 17971, 17972, 17976, 17977, 17978, 17979, 17980, 17981, 17983, 17984, 17985, 17986, 17987, 17988, 17989, 17991, 17993, 17994, 17995, 17996, 17998, 18000, 18001, 18002, 18003, 18004, 18005, 18006, 18007, 18008, 18009, 18010, 18011, 18012, 18013, 18014, 18015, 18016, 18036, 18038, 18039, 18044, 18045, 18054, 18057, 18062, 18063, 18065, 18066, 18067, 18070, 18071, 18072, 18073, 18074, 18075, 18082, 18083, 18084, 18085, 18086, 18088, 18091, 18092, 18093, 18097, 18098, 18099, 18100, 18101, 18102, 18103, 18108, 18110, 18111, 18113, 18114, 18117, 18118, 18119, 18122, 18124, 18125, 18127, 18129, 18130, 18133, 18134, 18135, 18136, 18137, 18138, 18140, 18141, 18144, 18145, 18146, 18147, 18148, 18149, 18150, 18153, 18154, 18157, 18158, 18159, 18161, 18163, 18164, 18165, 18166, 18167, 18168, 18172, 18173, 18174, 18175, 18176, 18177, 18178, 18179, 18180, 18181, 18182, 18183, 18184, 18185, 18186, 18187, 18188, 18189, 18190, 18191, 18235, 18242, 18244, 18245, 18248, 18252, 18255, 18258, 18259, 18260, 18261, 18262, 18267, 18268, 18269, 18271, 18273, 18274, 18277, 18278, 18282, 18283, 18284, 18285, 18286, 18287, 18288, 18289, 18290, 18291, 18292, 18293, 18294, 18295, 18296, 18297, 18299, 18302, 18303, 18306, 18307, 18308, 18309, 18310, 18312, 18313, 18314, 18315, 18316, 18320, 18321, 18323, 18324, 18325, 18326, 18328, 18329, 18330, 18331, 18332, 18333, 18334, 18335, 18337, 18338, 18339, 18340, 18341, 18342, 18343, 18345, 18375, 18376, 18377, 18385, 18386, 18388, 18397, 18402, 18404, 18406, 18410, 18417, 18418, 18420, 18422, 18423, 18424, 18426, 18427, 18428, 18429, 18430, 18432, 18433, 18435, 18437, 18439, 18441, 18444, 18446, 18448, 18449, 18453, 18454, 18455, 18458, 18459, 18460, 18461, 18462, 18463, 18464, 18465, 18466, 18467, 18469, 18470, 18472, 18473, 18475, 18476, 18478, 18479, 18480, 18483, 18484, 18485, 18486, 18487, 18488, 18489, 18491, 18492, 18493, 18494, 18495, 18496, 18498, 18510, 18512, 18524, 18529, 18532, 18533, 18534, 18538, 18539, 18543, 18544, 18546, 18547, 18549, 18552, 18555, 18558, 18559, 18561, 18562, 18564, 18567, 18568, 18572, 18574, 18577, 18579, 18580, 18582, 18584, 18585, 18587, 18589, 18590, 18591, 18593, 18595, 18596, 18597, 18598, 18600, 18601, 18602, 18605, 18606, 18607, 18609, 18611, 18612, 18613, 18614, 18616, 18618, 18619, 18620, 18621, 18622, 18623, 18624, 18625, 18626, 18632, 18633, 18634, 18635, 18636, 18637, 18638, 18639, 18641, 18642, 18643, 18644, 18645, 18646, 18647, 18648, 18649, 18650, 18676, 18689, 18692, 18699, 18704, 18711, 18714, 18716, 18717, 18720, 18724, 18727, 18728, 18730, 18731, 18735, 18736, 18737, 18739, 18740, 18741, 18743, 18744, 18748, 18749, 18750, 18753, 18755, 18756, 18760, 18761, 18762, 18765, 18767, 18769, 18770, 18771, 18772, 18773, 18774, 18775, 18776, 18778, 18779, 18780, 18781, 18782, 18783, 18784, 18786, 18787, 18788, 18789, 18790, 18791, 18792, 18793, 18794, 18795, 18796, 18797, 18798, 18802, 18816, 18821, 18822, 18823, 18832, 18837, 18838, 18844, 18846, 18849, 18856, 18858, 18862, 18868, 18869, 18871, 18874, 18875, 18876, 18877, 18878, 18879, 18881, 18885, 18887, 18890, 18892, 18893, 18895, 18896, 18898, 18900, 18901, 18902, 18904, 18905, 18906, 18907, 18908, 18909, 18910, 18914, 18915, 18917, 18918, 18919, 18920, 18921, 18922, 18923, 18924, 18925, 18926, 18927, 18928, 18929, 18930, 18931, 18932, 18933, 18934, 18935, 18936, 18938, 18939, 18940, 18941, 18942, 18943, 18952, 18968, 18971, 18972, 18976, 18978, 18982, 18992, 18994, 18998, 18999, 19000, 19001, 19002, 19003, 19004, 19008, 19009, 19011, 19014, 19016, 19017, 19020, 19021, 19022, 19027, 19030, 19031, 19032, 19033, 19034, 19035, 19036, 19037, 19038, 19039, 19041, 19042, 19044, 19046, 19047, 19048, 19049, 19050, 19051, 19053, 19055, 19056, 19057, 19058, 19059, 19060, 19062, 19063, 19064, 19065, 19066, 19067, 19068, 19069, 19070, 19072, 19073, 19075, 19076, 19077, 19078, 19079, 19081, 19082, 19083, 19084, 19085, 19086, 19101, 19107, 19111, 19113, 19114, 19118, 19128, 19132, 19134, 19137, 19139, 19141, 19142, 19144, 19145, 19146, 19147, 19149, 19150, 19151, 19152, 19156, 19157, 19159, 19160, 19161, 19163, 19164, 19167, 19169, 19170, 19172, 19173, 19177, 19179, 19181, 19182, 19183, 19184, 19185, 19186, 19187, 19189, 19191, 19192, 19194, 19195, 19198, 19199, 19200, 19203, 19204, 19205, 19206, 19207, 19208, 19209, 19210, 19213, 19214, 19216, 19217, 19218, 19219, 19220, 19221, 19245, 19249, 19256, 19262, 19266, 19269, 19273, 19274, 19275, 19278, 19279, 19288, 19289, 19294, 19295, 19296, 19297, 19299, 19300, 19303, 19307, 19309, 19310, 19311, 19312, 19313, 19315, 19316, 19317, 19322, 19323, 19324, 19326, 19327, 19328, 19329, 19330, 19331, 19333, 19334, 19335, 19336, 19337, 19338, 19339, 19340, 19341, 19343, 19344, 19345, 19346, 19347, 19348, 19349, 19350, 19351, 19352, 19353, 19354, 19355, 19356, 19379, 19391, 19395, 19398, 19401, 19402, 19404, 19408, 19409, 19413, 19415, 19417, 19419, 19420, 19422, 19423, 19425, 19426, 19428, 19431, 19432, 19435, 19436, 19438, 19440, 19441, 19442, 19443, 19444, 19445, 19446, 19447, 19450, 19451, 19452, 19453, 19454, 19455, 19456, 19459, 19460, 19461, 19462, 19463, 19464, 19465, 19466, 19467, 19468, 19469, 19470, 19471, 19472, 19473, 19474, 19475, 19476, 19477, 19479, 19480, 19481, 19482, 19483, 19484, 19504, 19510, 19513, 19516, 19517, 19519, 19522, 19524, 19529, 19530, 19531, 19533, 19534, 19535, 19536, 19539, 19543, 19544, 19553, 19554, 19555, 19556, 19557, 19558, 19559, 19561, 19564, 19567, 19568, 19569, 19570, 19571, 19572, 19573, 19574, 19576, 19577, 19578, 19579, 19580, 19581, 19582, 19583, 19584, 19589, 19590, 19591, 19592, 19593, 19594, 19595, 19596, 19597, 19598, 19599, 19600, 19601, 19602, 19603, 19604, 19605, 19606, 19667, 19672, 19673, 19677, 19680, 19683, 19685, 19687, 19689, 19690, 19691, 19693, 19695, 19697, 19698, 19699, 19700, 19703, 19704, 19708, 19710, 19711, 19712, 19713, 19714, 19716, 19717, 19719, 19720, 19721, 19723, 19724, 19753, 19754, 19776, 19778, 19783, 19785, 19791, 19792, 19794, 19796, 19797, 19798, 19802, 19803, 19807, 19809, 19810, 19814, 19816, 19818, 19819, 19820, 19821, 19823, 19824, 19825, 19826, 19827, 19828, 19829, 19831, 19832, 19833, 19834, 19835, 19836, 19837, 19838, 19839, 19840, 19841, 19858, 19860, 19879, 19883, 19884, 19894, 19895, 19896, 19907, 19909, 19910, 19913, 19919, 19921, 19922, 19923, 19930, 19933, 19934, 19935, 19936, 19937, 19938, 19939, 19940, 19941, 19942, 19943, 19944, 19945, 19946, 19947, 19949, 19950, 19952, 19953, 19954, 19955, 19956, 19969, 19977, 19978, 19980, 19983, 19991, 19992, 19998, 20001, 20004, 20005, 20008, 20009, 20010, 20011, 20013, 20015, 20016, 20017, 20019, 20021, 20025, 20026, 20028, 20031, 20032, 20033, 20034, 20035, 20036, 20039, 20040, 20042, 20047, 20048, 20049, 20050, 20051, 20052, 20053, 20054, 20056, 20057, 20058, 20059, 20060, 20061, 20062, 20063, 20064, 20066, 20067, 20095, 20105, 20106, 20108, 20112, 20117, 20118, 20122, 20123, 20128, 20129, 20130, 20132, 20133, 20134, 20136, 20137, 20138, 20141, 20142, 20143, 20144, 20145, 20146, 20147, 20148, 20150, 20151, 20153, 20155, 20156, 20157, 20158, 20160, 20161, 20162, 20163, 20164, 20165, 20166, 20167, 20168, 20191, 20192, 20193, 20199, 20203, 20204, 20205, 20206, 20211, 20213, 20215, 20216, 20218, 20219, 20221, 20223, 20224, 20226, 20228, 20229, 20230, 20231, 20232, 20233, 20236, 20237, 20239, 20241, 20242, 20243, 20244, 20246, 20247, 20248, 20249, 20250, 20252, 20253, 20254, 20255, 20256, 20257, 20259, 20260, 20261, 20262, 20263, 20283, 20300, 20303, 20304, 20307, 20308, 20310, 20311, 20312, 20314, 20318, 20322, 20327, 20328, 20330, 20332, 20334, 20337, 20339, 20340, 20342, 20343, 20344, 20345, 20346, 20347, 20348, 20349, 20350, 20351, 20352, 20353, 20354, 20356, 20357, 20379, 20383, 20385, 20387, 20396, 20397, 20398, 20401, 20402, 20403, 20404, 20405, 20406, 20408, 20409, 20410, 20413, 20414, 20415, 20416, 20418, 20419, 20420, 20421, 20422, 20423, 20424, 20425, 20426, 20427, 20429, 20431, 20432, 20433, 20434, 20435, 20436, 20437, 20438, 20439, 20440, 20441, 20444, 20445, 20446, 20447, 20463, 20466, 20468, 20473, 20474, 20475, 20478, 20479, 20483, 20485, 20488, 20489, 20491, 20492, 20494, 20495, 20498, 20500, 20501, 20502, 20503, 20505, 20508, 20511, 20512, 20513, 20514, 20515, 20516, 20517, 20518, 20519, 20520, 20521, 20522, 20523, 20524, 20525, 20526, 20527, 20528, 20529, 20530, 20531, 20532, 20533, 20564, 20572, 20574, 20576, 20579, 20580, 20582, 20584, 20589, 20590, 20593, 20597, 20600, 20603, 20604, 20607, 20608, 20609, 20610, 20611, 20612, 20613, 20614, 20615, 20616, 20617, 20618, 20666, 20669, 20671, 20672, 20673, 20675, 20676, 20677, 20679, 20681, 20683, 20684, 20685, 20686, 20689, 20690, 20693, 20695, 20696, 20697, 20698, 20700, 20701, 20717, 20725, 20737, 20739, 20740, 20746, 20747, 20748, 20749, 20750, 20752, 20754, 20755, 20757, 20759, 20760, 20763, 20764, 20765, 20770, 20771, 20772, 20773, 20774, 20775, 20776, 20777, 20779, 20780, 20781, 20782, 20783, 20805, 20807, 20808, 20809, 20823, 20825, 20826, 20828, 20829, 20834, 20836, 20837, 20838, 20839, 20842, 20845, 20846, 20847, 20848, 20849, 20850, 20851, 20852, 20854, 20855, 20856, 20857, 20859, 20860, 20861, 20862, 20863, 20864, 20892, 20898, 20899, 20900, 20904, 20905, 20908, 20909, 20910, 20911, 20912, 20913, 20916, 20918, 20919, 20921, 20922, 20923, 20926, 20927, 20928, 20929, 20931, 20932, 20933, 20936, 20937, 20938, 20939, 20940, 20954, 20960, 20963, 20966, 20968, 20970, 20972, 20974, 20975, 20978, 20979, 20980, 20982, 20984, 20985, 20986, 20989, 20990, 20991, 20992, 20993, 20994, 20997, 21000, 21003, 21004, 21006, 21007, 21008, 21009, 21010, 21011, 21012, 21013, 21014, 21016, 21018, 21024, 21025, 21027, 21033, 21034, 21046, 21047, 21048, 21050, 21051, 21054, 21057, 21059, 21061, 21067, 21068, 21070, 21071, 21072, 21073, 21074, 21075, 21076, 21077, 21079, 21080, 21081, 21083, 21084, 21085, 21086, 21087, 21091, 21108, 21109, 21112, 21114, 21115, 21117, 21118, 21119, 21120, 21123, 21124, 21130, 21131, 21134, 21136, 21138, 21141, 21142, 21143, 21145, 21146, 21147, 21150, 21152, 21153, 21154, 21155, 21156, 21157, 21158, 21161, 21167, 21175, 21177, 21178, 21179, 21181, 21185, 21187, 21188, 21189, 21191, 21193, 21194, 21195, 21196, 21199, 21201, 21202, 21203, 21205, 21207, 21208, 21209, 21210, 21211, 21212, 21214, 21215, 21217, 21218, 21219, 21223, 21225, 21226, 21227, 21228, 21229, 21249, 21253, 21256, 21261, 21262, 21263, 21264, 21265, 21266, 21268, 21269, 21271, 21272, 21275, 21276, 21277, 21278, 21279, 21280, 21281, 21282, 21283, 21284, 21285, 21286, 21287, 21288, 21289, 21291, 21293, 21294, 21300, 21302, 21310, 21314, 21315, 21317, 21325, 21334, 21335, 21337, 21338, 21339, 21340, 21341, 21342, 21345, 21346, 21348, 21350, 21351, 21352, 21353, 21354, 21355, 21356, 21357, 21365, 21373, 21379, 21380, 21382, 21384, 21387, 21391, 21392, 21395, 21400, 21403, 21404, 21405, 21406, 21407, 21408, 21409, 21410, 21412, 21413, 21419, 21424, 21426, 21427, 21429, 21430, 21431, 21433, 21435, 21436, 21442, 21444, 21445, 21447, 21448, 21449, 21450, 21451, 21452, 21455, 21456, 21457, 21459, 21460, 21461, 21462, 21463, 21464, 21465, 21466, 21467, 21487, 21488, 21494, 21497, 21498, 21499, 21500, 21501, 21503, 21505, 21506, 21508, 21509, 21511, 21515, 21516, 21517, 21519, 21542, 21545, 21546, 21547, 21548, 21549, 21550, 21551, 21552, 21553, 21555, 21557, 21558, 21559, 21560, 21561, 21563, 21566, 21567, 21568, 21569, 21570, 21571, 21581, 21582, 21585, 21586, 21588, 21590, 21592, 21593, 21595, 21596, 21600, 21603, 21604, 21605, 21606, 21609, 21612, 21613, 21614, 21615, 21616, 21617, 21618, 21620, 21621, 21622, 21633, 21636, 21641, 21643, 21646, 21647, 21648, 21649, 21652, 21654, 21655, 21656, 21657, 21659, 21660, 21662, 21663, 21666, 21667, 21668, 21669, 21670, 21671, 21672, 21686, 21687, 21689, 21691, 21692, 21695, 21696, 21697, 21698, 21700, 21702, 21706, 21707, 21708, 21709, 21710, 21712, 21716, 21717, 21718, 21719, 21720, 21721, 21727, 21729, 21731, 21732, 21733, 21734, 21735, 21736, 21737, 21738, 21740, 21741, 21745, 21746, 21747, 21749, 21751, 21753, 21754, 21756, 21757, 21758, 21759, 21760, 21761, 21763, 21764, 21765, 21766, 21767, 21768, 21769, 21770, 21780, 21789, 21792, 21793, 21795, 21796, 21797, 21798, 21799, 21800, 21802, 21803, 21804, 21806, 21809, 21810, 21811, 21813, 21816, 21817, 21818, 21825, 21829, 21830, 21831, 21832, 21834, 21836, 21838, 21840, 21841, 21842, 21846, 21847, 21849, 21850, 21851, 21852, 21853, 21854, 21855, 21856, 21857, 21858, 21859, 21861, 21862, 21863, 21864, 21883, 21884, 21887, 21890, 21891, 21894, 21895, 21897, 21899, 21900, 21901, 21902, 21903, 21904, 21905, 21906, 21907, 21908, 21909, 21910, 21919, 21931, 21938, 21940, 21941, 21942, 21946, 21947, 21948, 21949, 21950, 21952, 21953, 21954, 21955, 21980, 21981, 21983, 21984, 21985, 21989, 21992, 21995, 21996, 21997, 22016, 22017, 22020, 22021, 22023, 22024, 22025, 22027, 22028, 22029, 22030, 22031, 22032, 22034, 22035, 22036, 22037, 22038, 22039, 22051, 22052, 22055, 22058, 22059, 22062, 22063, 22065, 22068, 22069, 22070, 22072, 22074, 22075, 22076, 22078, 22079, 22080, 22081, 22089, 22098, 22099, 22102, 22103, 22108, 22109, 22111, 22112, 22116, 22117, 22118, 22119, 22120, 22122, 22127, 22128, 22130, 22132, 22135, 22139, 22142, 22143, 22144, 22145, 22146, 22149, 22151, 22152, 22153, 22154, 22156, 22157, 22158, 22159, 22160, 22161, 22162, 22163, 22170, 22171, 22172, 22175, 22179, 22181, 22182, 22183, 22184, 22187, 22188, 22189, 22191, 22192, 22193, 22195, 22196, 22197, 22198, 22200, 22203, 22208, 22209, 22210, 22213, 22215, 22216, 22220, 22221, 22222, 22223, 22226, 22227, 22229, 22230, 22231, 22233, 22234, 22235, 22236, 22237, 22238, 22239, 22241, 22242, 22251, 22252, 22253, 22256, 22259, 22260, 22262, 22265, 22266, 22268, 22269, 22270, 22271, 22275, 22277, 22278, 22279, 22293, 22297, 22299, 22301, 22302, 22303, 22304, 22305, 22308, 22309, 22311, 22312, 22313, 22321, 22327, 22334, 22335, 22341, 22342, 22346, 22347, 22348, 22349, 22350, 22360, 22370, 22371, 22373, 22374, 22377, 22380, 22383, 22384, 22385, 22386, 22392, 22393, 22397, 22399, 22400, 22401, 22402, 22404, 22406, 22407, 22408, 22409, 22410, 22411, 22412, 22413, 22414, 22415, 22416, 22417, 22418, 22419, 22420, 22421, 22426, 22427, 22430, 22431, 22432, 22434, 22437, 22438, 22440, 22441, 22442, 22444, 22445, 22446, 22447, 22448, 22449, 22450, 22452, 22453, 22454, 22455, 22456, 22460, 22465, 22467, 22468, 22470, 22471, 22472, 22473, 22474, 22477, 22478, 22480, 22481, 22483, 22484, 22485, 22487, 22488, 22498, 22499, 22500, 22503, 22504, 22505, 22508, 22509, 22510, 22511, 22512, 22515, 22516, 22517, 22518, 22519, 22520, 22521, 22530, 22531, 22535, 22541, 22542, 22544, 22545, 22547, 22549, 22550, 22551, 22552, 22553, 22554, 22555, 22561, 22564, 22567, 22569, 22572, 22573, 22576, 22579, 22580, 22582, 22583, 22584, 22585, 22586, 22591, 22599, 22601, 22603, 22604, 22606, 22607, 22608, 22609, 22611, 22615, 22616, 22617, 22620, 22624, 22625, 22626, 22627, 22628, 22631, 22632, 22633, 22634, 22636, 22637, 22638, 22639, 22640, 22641, 22643, 22644, 22645, 22646, 22647, 22648, 22656, 22657, 22658, 22659, 22660, 22663, 22665, 22667, 22668, 22669, 22671, 22672, 22673, 22674, 22676, 22677, 22685, 22687, 22688, 22689, 22692, 22693, 22694, 22695, 22698, 22699, 22700, 22701, 22702, 22703, 22704, 22705, 22706, 22727, 22728, 22729, 22730, 22731, 22732, 22733, 22744, 22745, 22746, 22748, 22750, 22751, 22753, 22754, 22755, 22756, 22757, 22758, 22760, 22765, 22767, 22771, 22772, 22775, 22776, 22778, 22782, 22783, 22784, 22785, 22786, 22787, 22795, 22797, 22800, 22801, 22802, 22803, 22805, 22806, 22807, 22809, 22811, 22812, 22813, 22818, 22821, 22822, 22827, 22833, 22834, 22835, 22837, 22838, 22839, 22849, 22850, 22857, 22858, 22860, 22861, 22862, 22867, 22869, 22871, 22875, 22878, 22880, 22881, 22882, 22883, 22887, 22889, 22890, 22892, 22894, 22896, 22898, 22899, 22900, 22901, 22902, 22903, 22904, 22912, 22913, 22916, 22918, 22920, 22922, 22923, 22924, 22927, 22932, 22934, 22935, 22937, 22941, 22942, 22943, 22951, 22953, 22961, 22963, 22965, 22966, 22967, 22970, 22975, 22976, 22977, 22978, 22979, 22980, 22981, 22982, 22989, 22991, 22992, 22993, 22994, 22996, 22997, 22998, 22999, 23000, 23007, 23009, 23010, 23011, 23013, 23015, 23016, 23017, 23018, 23023, 23025, 23028, 23030, 23031, 23032, 23034, 23035, 23042, 23043, 23044, 23045, 23047, 23049, 23051, 23052, 23057, 23062, 23063, 23064, 23066, 23067, 23068, 23069, 23077, 23078, 23079, 23080, 23083, 23085, 23090, 23091, 23092, 23095, 23096, 23097, 23098, 23100, 23101, 23104, 23106, 23107, 23108, 23109, 23110, 23111, 23112, 23113, 23115, 23116, 23117, 23120, 23121, 23122, 23123, 23125, 23128, 23129, 23131, 23132, 23133, 23145, 23146, 23147, 23148, 23149, 23151, 23152, 23158, 23159, 23161, 23162, 23163, 23170, 23173, 23175, 23176, 23177, 23180, 23185, 23187, 23188, 23191, 23194, 23197, 23198, 23200, 23201, 23203, 23204, 23205, 23211, 23212, 23214, 23216, 23217, 23218, 23224, 23225, 23228, 23229, 23230, 23231, 23235, 23236, 23238, 23239, 23240, 23241, 23242, 23243, 23244, 23249, 23254, 23256, 23257, 23260, 23264, 23266, 23267, 23268, 23269, 23270, 23279, 23280, 23281, 23282, 23288, 23289, 23290, 23291, 23292, 23293, 23294, 23299, 23300, 23301, 23303, 23304, 23305, 23306, 23310, 23313, 23314, 23316, 23317, 23318, 23320, 23321, 23324, 23325, 23326, 23327, 23328, 23329, 23330, 23331, 23332, 23333, 23334, 23335, 23336, 23337, 23338, 23343, 23344, 23345, 23346, 23347, 23349, 23351, 23352, 23355, 23357, 23360, 23364, 23365, 23366, 23369, 23372, 23373, 23374, 23375, 23378, 23379, 23380, 23381, 23382, 23383, 23384, 23385, 23386, 23388, 23389, 23390, 23392, 23396, 23397, 23398, 23400, 23402, 23404, 23405, 23406, 23407, 23408, 23413, 23414, 23415, 23416, 23417, 23418, 23420, 23421, 23423, 23425, 23428, 23429, 23430, 23434, 23436, 23437, 23441, 23442, 23450, 23455, 23457, 23463, 23464, 23465, 23466, 23467, 23469, 23470, 23471, 23473, 23475, 23477, 23480, 23481, 23482, 23483, 23487, 23488, 23492, 23493, 23494, 23497, 23498, 23507, 23508, 23509, 23510, 23511, 23512, 23513, 23518, 23522, 23523, 23526, 23527, 23529, 23530, 23533, 23534, 23535, 23537, 23539, 23540, 23541, 23542, 23547, 23550, 23552, 23559, 23561]\n"
          ],
          "name": "stdout"
        }
      ]
    },
    {
      "cell_type": "code",
      "metadata": {
        "colab": {
          "base_uri": "https://localhost:8080/"
        },
        "id": "XmnKJrz1D2Rx",
        "outputId": "fdf628b2-0275-4f79-bca5-14889f9c93ec"
      },
      "source": [
        "df_drop_english.index"
      ],
      "execution_count": 62,
      "outputs": [
        {
          "output_type": "execute_result",
          "data": {
            "text/plain": [
              "Int64Index([ 1000,  1001, 10998, 10869,  1008,  2739, 10430,  8393,  1330,\n",
              "            10871,\n",
              "            ...\n",
              "            18831, 19552, 16994,  3763, 19998,  3763, 19998, 20846, 14436,\n",
              "            17936],\n",
              "           dtype='int64', name='id', length=13296)"
            ]
          },
          "metadata": {
            "tags": []
          },
          "execution_count": 62
        }
      ]
    },
    {
      "cell_type": "code",
      "metadata": {
        "id": "5n4v1I568F1F"
      },
      "source": [
        "df_drop_english.to_csv('/gdrive/My Drive/50625/problem_drop_english.csv')"
      ],
      "execution_count": 49,
      "outputs": []
    },
    {
      "cell_type": "markdown",
      "metadata": {
        "id": "prwd1zOC_8Tq"
      },
      "source": [
        "**외국어 지문만 있는 dataset 생성**\n",
        "1. iterate하면서, 외국어로만 이루어져 있는 지문만 남긴다."
      ]
    },
    {
      "cell_type": "code",
      "metadata": {
        "id": "vqaguaA0-zI7"
      },
      "source": [
        "only_english_list = []\n",
        "\n",
        "for i in df.index :\n",
        "    if check_korean(df.loc[i,\"description\"]) :\n",
        "        only_english_list.append(i)\n",
        "\n",
        "df_only_english = df.drop(only_english_list)\n",
        "df_only_english.set_index('id', inplace=True)\n",
        "\n",
        "df_only_english.to_csv('/gdrive/My Drive/50625/problem_only_english.csv')"
      ],
      "execution_count": 51,
      "outputs": []
    },
    {
      "cell_type": "markdown",
      "metadata": {
        "id": "rWULfmI-AfYe"
      },
      "source": [
        "**외국어 지문 제외한 df_drop_english에서 다시 지문 길이 세기**"
      ]
    },
    {
      "cell_type": "code",
      "metadata": {
        "colab": {
          "base_uri": "https://localhost:8080/"
        },
        "id": "C444SQLCBOTd",
        "outputId": "c6131878-36ae-4870-b655-d285ec9cda25"
      },
      "source": [
        "df_drop_english.index"
      ],
      "execution_count": 74,
      "outputs": [
        {
          "output_type": "execute_result",
          "data": {
            "text/plain": [
              "Int64Index([ 1000,  1001, 10998, 10869,  1008,  2739, 10430,  8393,  1330,\n",
              "            10871,\n",
              "            ...\n",
              "            18831, 19552, 16994,  3763, 19998,  3763, 19998, 20846, 14436,\n",
              "            17936],\n",
              "           dtype='int64', name='id', length=13296)"
            ]
          },
          "metadata": {
            "tags": []
          },
          "execution_count": 74
        }
      ]
    },
    {
      "cell_type": "code",
      "metadata": {
        "colab": {
          "base_uri": "https://localhost:8080/",
          "height": 313
        },
        "id": "mOE-e79t_mjU",
        "outputId": "0425a74b-73d6-4716-ff5c-639ad707da30"
      },
      "source": [
        "X_data = list()\n",
        "for x in range(len(df_drop_english.index)) :\n",
        "    X_data.append(len(df_drop_english[\"description\"].iloc[x]))\n",
        "\n",
        "\n",
        "plt.hist([int(s/10)*10 for s in X_data], bins=300)\n",
        "plt.xlim(0,4000)\n",
        "plt.xlabel('length of samples')\n",
        "plt.ylabel('number of samples')\n",
        "plt.show()\n",
        "\n",
        "np_length_list = np.array(X_data)\n",
        "\n",
        "\n",
        "print('average length : ', np.mean(np_length_list))\n",
        "print('median length : ', np.median(np_length_list))"
      ],
      "execution_count": 104,
      "outputs": [
        {
          "output_type": "display_data",
          "data": {
            "image/png": "[encoded data removed]",
            "text/plain": [
              "<Figure size 432x288 with 1 Axes>"
            ]
          },
          "metadata": {
            "tags": [],
            "needs_background": "light"
          }
        },
        {
          "output_type": "stream",
          "text": [
            "average length :  485.81580926594467\n",
            "median length :  417.0\n"
          ],
          "name": "stdout"
        }
      ]
    },
    {
      "cell_type": "markdown",
      "metadata": {
        "id": "unMXav5GLL0A"
      },
      "source": [
        "**총 몇개의 알고리즘이 있는지 체크**\n",
        "\n",
        "1. 총 167개의 알고리즘이 있다.\n",
        "2. 이중에서 우리가 찾는 알고리즘이 있는지 ?"
      ]
    },
    {
      "cell_type": "code",
      "metadata": {
        "colab": {
          "base_uri": "https://localhost:8080/"
        },
        "id": "S6gTdT9vLOTK",
        "outputId": "31f2f291-2aeb-4e1e-aabf-87dae9ec1da6"
      },
      "source": [
        "temp = list(df_drop_english[\"tag\"])\n",
        "algo_dict = dict()\n",
        "for tmp in temp :\n",
        "    if tmp in algo_dict :\n",
        "        algo_dict[tmp] += 1\n",
        "    else :\n",
        "        algo_dict[tmp] = 1\n",
        "\n",
        "print(\"(알고리즘 이름,\",\"문제 개수)\")\n",
        "for item in algo_dict.items() :\n",
        "    print(item)\n",
        "\n",
        "print(len(set(temp)))\n",
        "\n",
        "# mathmatic"
      ],
      "execution_count": 114,
      "outputs": [
        {
          "output_type": "stream",
          "text": [
            "(알고리즘 이름, 문제 개수)\n",
            "('Mathematics', 1377)\n",
            "('Dynamic programming', 1022)\n",
            "('Implementation', 1058)\n",
            "('Graph theory', 835)\n",
            "('Data structures', 753)\n",
            "('Greedy', 412)\n",
            "('String', 452)\n",
            "('Graph traversal', 446)\n",
            "('Bruteforcing', 373)\n",
            "('Segment tree', 304)\n",
            "('Tree', 284)\n",
            "('Sorting', 302)\n",
            "('Binary search', 275)\n",
            "('Geometry', 239)\n",
            "('Number theory', 293)\n",
            "('Breadth-first search', 260)\n",
            "('Combinatorics', 142)\n",
            "('Arithmetic', 202)\n",
            "('Prefix sum', 154)\n",
            "('Depth-first search', 154)\n",
            "(\"Dijkstra's\", 143)\n",
            "('Simulation', 148)\n",
            "('Bitmask', 131)\n",
            "('Disjoint set', 106)\n",
            "('Backtracking', 138)\n",
            "('Divide and conquer', 120)\n",
            "('Ad-Hoc', 105)\n",
            "('Constructive', 74)\n",
            "('Sweeping', 80)\n",
            "('Stack', 83)\n",
            "('Maximum flow', 85)\n",
            "('Dynamic programming on trees', 73)\n",
            "('Priority queue', 86)\n",
            "('Case work', 75)\n",
            "('Parsing', 69)\n",
            "('Segment tree with lazy propagation', 69)\n",
            "('Two-pointer', 74)\n",
            "('Dynamic programming using bitfield', 64)\n",
            "('Set / Map by trees', 60)\n",
            "('Primality test', 86)\n",
            "('Game theory', 77)\n",
            "('Exponentiation by squaring', 75)\n",
            "('Offline queries', 59)\n",
            "('Bipartite matching', 59)\n",
            "('Minimum spanning tree', 48)\n",
            "('Arbitrary precision / Big integers', 59)\n",
            "('Lowest common ancestor', 44)\n",
            "('Hashing', 40)\n",
            "('Recursion', 58)\n",
            "('Sieve of Eratosthenes', 60)\n",
            "('Strongly connected component', 50)\n",
            "('Set / Map by hashing', 48)\n",
            "('Floyd–Warshall', 46)\n",
            "('Topological sorting', 39)\n",
            "('Fast Fourier transform', 39)\n",
            "('Convex hull', 40)\n",
            "('Linear algebra', 33)\n",
            "('Trie', 34)\n",
            "('Inclusion and exclusion', 37)\n",
            "('Value / coordinate compression', 35)\n",
            "('Convex hull trick', 23)\n",
            "('Knuth–Morris–Pratt', 34)\n",
            "('Knapsack', 29)\n",
            "('Suffix array and LCP array', 25)\n",
            "('Minimum cost maximum flow', 26)\n",
            "('Square root decomposition', 26)\n",
            "('Smaller to larger technique', 16)\n",
            "('Sparse table', 27)\n",
            "('Probability theory', 18)\n",
            "('Deque', 26)\n",
            "('Sprague–Grundy theorem', 30)\n",
            "('Euclidean algorithm', 32)\n",
            "('Longest increasing sequence in O(n log n)', 23)\n",
            "('Meet in the middle', 23)\n",
            "('Line segment intersection check', 26)\n",
            "('Parametric search', 17)\n",
            "('Heavy-light decomposition', 19)\n",
            "('Precomputation', 15)\n",
            "('Centroid decomposition', 20)\n",
            "('Euler tour technique', 23)\n",
            "('2-SAT', 24)\n",
            "('Sliding window', 25)\n",
            "('Randomization', 11)\n",
            "('Calculus', 12)\n",
            "('Gaussian elimination', 14)\n",
            "('Ternary search', 15)\n",
            "('Heuristics', 19)\n",
            "('Persistent segment tree', 17)\n",
            "('Max-flow min-cut theorem', 19)\n",
            "('Geometry; 3D', 8)\n",
            "('Articulation points and bridges', 13)\n",
            "('Cactus', 12)\n",
            "('Queue', 20)\n",
            "('Eulerian path / circuit', 14)\n",
            "('Bit set', 14)\n",
            "('Chinese remainder theorem', 13)\n",
            "('Divide and conquer optimization', 16)\n",
            "(\"Mo's\", 16)\n",
            "('Parallel binary search', 12)\n",
            "('Euler characteristic (χ=V-E+F)', 8)\n",
            "('Bellman–Ford', 12)\n",
            "('Splay tree', 12)\n",
            "('Multidimensional segment tree', 15)\n",
            "('Planar graph', 7)\n",
            "('Aho-Corasick', 8)\n",
            "('Berlekamp–Massey', 9)\n",
            "('Rabin–Karp', 9)\n",
            "('Merge sort tree', 9)\n",
            "('Permutation cycle decomposition', 9)\n",
            "('Extended Euclidean algorithm', 10)\n",
            "('Rotating calipers', 7)\n",
            "('Physics', 4)\n",
            "('Biconnected component', 6)\n",
            "(\"Fermat's little theorem\", 11)\n",
            "('Möbius inversion', 7)\n",
            "('Regular Expression', 9)\n",
            "('Link/cut tree', 9)\n",
            "('Dynamic programming using connection profile', 6)\n",
            "(\"Manacher's\", 7)\n",
            "('Point in convex polygon check', 7)\n",
            "('Dynamic programming using a deque', 4)\n",
            "('Euler totient function', 9)\n",
            "('0-1 BFS', 6)\n",
            "('Numerical analysis', 8)\n",
            "('Travelling salesman problem', 5)\n",
            "('Slope trick', 5)\n",
            "('Linked list', 6)\n",
            "(\"Alien's trick\", 3)\n",
            "('Linearity of expectation', 4)\n",
            "('Area of a polygon', 5)\n",
            "('Offline dynamic connectivity', 5)\n",
            "('Pollard rho', 4)\n",
            "('Linear programming', 2)\n",
            "(\"Burnside's lemma\", 2)\n",
            "('Point in non-convex polygon check', 4)\n",
            "('Tree isomorphism', 2)\n",
            "('Modular multiplicative inverse', 4)\n",
            "(\"Hall's theorem\", 2)\n",
            "('Hungarian', 3)\n",
            "('Miller–Rabin', 4)\n",
            "('Pythagoras theorem', 5)\n",
            "('Kitamasa', 6)\n",
            "('Discrete logarithm', 5)\n",
            "('Minimum enclosing circle', 4)\n",
            "('Dominator tree', 1)\n",
            "('Monotone queue optimization', 3)\n",
            "('Duality', 2)\n",
            "('General matching', 3)\n",
            "('Palindrome tree', 3)\n",
            "('Stoer–Wagner', 2)\n",
            "('Z', 5)\n",
            "('Knuth optimization', 3)\n",
            "('Lucas theorem', 4)\n",
            "('Dual graph', 3)\n",
            "('Bidirectional search', 2)\n",
            "('Directed minimum spanning tree', 1)\n",
            "('Voronoi diagram', 2)\n",
            "('Geometry; hyperdimensional', 1)\n",
            "('Discrete square root', 1)\n",
            "(\"Hirschberg's\", 3)\n",
            "('Statistics', 2)\n",
            "('Delaunay triangulation', 1)\n",
            "('Rope', 1)\n",
            "('Dancing links', 2)\n",
            "(\"Knuth's X\", 2)\n",
            "('Suffix tree', 2)\n",
            "('Top tree', 1)\n",
            "167\n"
          ],
          "name": "stdout"
        }
      ]
    },
    {
      "cell_type": "markdown",
      "metadata": {
        "id": "b6pdbTtPLEYs"
      },
      "source": [
        "**우리가 정한 라벨 이외의 알고리즘 문제들을 제거**\n",
        "\n",
        "1. bruteforcing\n",
        "2. 구현\n",
        "3. greedy\n",
        "4. binary search\n",
        "5. DFS\n",
        "6. BFS\n",
        "7. dijkstra\n",
        "8. mathmatics - 애매한 문제 → 너무 포괄적 \n",
        "9. string\n",
        "10. dynamic programming\n",
        "11. divide and conquer"
      ]
    },
    {
      "cell_type": "code",
      "metadata": {
        "id": "coFeVwFsAudV"
      },
      "source": [
        "label_list = ['bruteforcing','greedy','binary search','Breadth-first search','Implementation','String','Dynamic programming']"
      ],
      "execution_count": null,
      "outputs": []
    }
  ]
}